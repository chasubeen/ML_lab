{
  "nbformat": 4,
  "nbformat_minor": 0,
  "metadata": {
    "colab": {
      "provenance": [],
      "authorship_tag": "ABX9TyOKk8jfLjD+9coRQvObq9Gf",
      "include_colab_link": true
    },
    "kernelspec": {
      "name": "python3",
      "display_name": "Python 3"
    },
    "language_info": {
      "name": "python"
    }
  },
  "cells": [
    {
      "cell_type": "markdown",
      "metadata": {
        "id": "view-in-github",
        "colab_type": "text"
      },
      "source": [
        "<a href=\"https://colab.research.google.com/github/chasubeen/ML_lab/blob/main/3_HMM_viterbi.ipynb\" target=\"_parent\"><img src=\"https://colab.research.google.com/assets/colab-badge.svg\" alt=\"Open In Colab\"/></a>"
      ]
    },
    {
      "cell_type": "code",
      "source": [
        "import os\n",
        "import re\n",
        "import numpy as np\n",
        "import matplotlib.pyplot as plt"
      ],
      "metadata": {
        "id": "0c5QVs-_FwjX"
      },
      "execution_count": 18,
      "outputs": []
    },
    {
      "cell_type": "markdown",
      "source": [
        "# **1. Preprocessing**"
      ],
      "metadata": {
        "id": "90ZRKh3dERdU"
      }
    },
    {
      "cell_type": "markdown",
      "source": [
        "## **1-1. Load data**\n",
        "- CoNLL-2000 file을 읽어와 word($\\mathbf x$)와 tag($\\mathbf z$) 처리"
      ],
      "metadata": {
        "id": "_Gx_9utFkNiN"
      }
    },
    {
      "cell_type": "code",
      "source": [
        "from google.colab import drive\n",
        "drive.mount('/content/drive')"
      ],
      "metadata": {
        "id": "cUa6BHK3j0_6",
        "colab": {
          "base_uri": "https://localhost:8080/"
        },
        "outputId": "2cf801fa-fe4b-4b5a-e8fb-f0074419e184"
      },
      "execution_count": 19,
      "outputs": [
        {
          "output_type": "stream",
          "name": "stdout",
          "text": [
            "Drive already mounted at /content/drive; to attempt to forcibly remount, call drive.mount(\"/content/drive\", force_remount=True).\n"
          ]
        }
      ]
    },
    {
      "cell_type": "code",
      "source": [
        "# data path\n",
        "\n",
        "train_path = \"/content/drive/MyDrive/ML_lab/3_HMM/data/train.txt\"\n",
        "test_path = \"/content/drive/MyDrive/ML_lab/3_HMM/data/test.txt\""
      ],
      "metadata": {
        "id": "TfZ8ZwHjjw6t"
      },
      "execution_count": 20,
      "outputs": []
    },
    {
      "cell_type": "code",
      "source": [
        "### Read file\n",
        "\n",
        "def read_file(path):\n",
        "  raw = open(path, 'r').read().strip().split('\\n\\n')  # 빈 줄로 구분된 각 문장 처리\n",
        "  words, tags = [], []\n",
        "\n",
        "  for sentence in raw:\n",
        "    lines = sentence.strip().split('\\n')  # 문장 내의 각 라인(단어) 처리\n",
        "    for line in lines:\n",
        "      parts = line.split()  # 열 분할\n",
        "\n",
        "      if len(parts) == 3:\n",
        "        word, pos, chunk = parts\n",
        "        words.append(word.lower())  # 소문자로 변환\n",
        "        tags.append(pos)\n",
        "\n",
        "    # 문장의 끝이라면(단어가 없다면) EOS 태그 추가\n",
        "    if words:\n",
        "      words.append('eos')\n",
        "      tags.append('<EOS>')\n",
        "\n",
        "  return words, tags"
      ],
      "metadata": {
        "id": "yLrEXl2J0qSU"
      },
      "execution_count": 21,
      "outputs": []
    },
    {
      "cell_type": "code",
      "source": [
        "train_words, train_tags = read_file(train_path)\n",
        "test_words, test_tags = read_file(test_path)"
      ],
      "metadata": {
        "id": "gtY4NX2UJ9wP"
      },
      "execution_count": 22,
      "outputs": []
    },
    {
      "cell_type": "markdown",
      "source": [
        "## **1-2. Preprocess Data**"
      ],
      "metadata": {
        "id": "BkJqEkdx3zsO"
      }
    },
    {
      "cell_type": "markdown",
      "source": [
        "### **a) 특수 문자 처리**\n",
        "- 숫자 태그를 'NUM'으로 변경\n",
        "- 빈 문자열 제거"
      ],
      "metadata": {
        "id": "7PYmlGNBfy6X"
      }
    },
    {
      "cell_type": "code",
      "source": [
        "def preprocessing(words, tags):\n",
        "  processed_words = []\n",
        "  processed_tags = []\n",
        "\n",
        "  for word, tag in zip(words, tags):\n",
        "\n",
        "    # 모든 숫자의 tag는 'NUM'으로 대체\n",
        "    if re.match(r'^[0-9]*$', word):\n",
        "      tag = 'NUM'\n",
        "\n",
        "    # 빈 문자열이 아닌 경우에만 추가\n",
        "    if word.strip():\n",
        "      processed_words.append(word.lower())  # 소문자 변환\n",
        "      processed_tags.append(tag)\n",
        "\n",
        "  return processed_words, processed_tags"
      ],
      "metadata": {
        "id": "2A5prIu3f6G2"
      },
      "execution_count": 23,
      "outputs": []
    },
    {
      "cell_type": "code",
      "source": [
        "train_words, train_tags = preprocessing(train_words, train_tags)\n",
        "test_words, test_tags = preprocessing(test_words, test_tags)"
      ],
      "metadata": {
        "id": "BQD1CU3HgQaS"
      },
      "execution_count": 24,
      "outputs": []
    },
    {
      "cell_type": "markdown",
      "source": [
        "### **b) POS Tag 통합**\n",
        "- 영어의 대표적인 **8품사(+ 접속사, 숫자)**만 남기고, 나머지는 기타로 처리"
      ],
      "metadata": {
        "id": "3RLlPdyogbSA"
      }
    },
    {
      "cell_type": "code",
      "source": [
        "def modify_tags(tags):\n",
        "  modified_tags = []\n",
        "\n",
        "  for tag in tags:\n",
        "    if tag in ['NN', 'NNS', 'NNP', 'NNPS']:\n",
        "      modified_tags.append('N')\n",
        "\n",
        "    elif tag in ['VB', 'VBD', 'VBG', 'VBN', 'VBP', 'VBZ']:\n",
        "      modified_tags.append('V')\n",
        "\n",
        "    elif tag in ['PRP', 'PRP$']:\n",
        "      modified_tags.append('PN')\n",
        "\n",
        "    elif tag in ['IN']:\n",
        "      modified_tags.append('PP')\n",
        "\n",
        "    elif tag in ['RB', 'RBR', 'RBS', 'WRB']:\n",
        "      modified_tags.append('AD')\n",
        "\n",
        "    elif tag in ['CC']:\n",
        "      modified_tags.append('CONJ')\n",
        "\n",
        "    elif tag in ['DT', 'PDT']:\n",
        "      modified_tags.append('ART')\n",
        "\n",
        "    elif tag in ['JJ', 'JJR', 'JJS']:\n",
        "      modified_tags.append('AdJ')\n",
        "\n",
        "    elif tag in ['NUM']:\n",
        "      modified_tags.append('NUM')\n",
        "    elif tag in ['<EOS>']:\n",
        "      modified_tags.append('<EOS>')\n",
        "    else:\n",
        "      modified_tags.append('ETC')\n",
        "\n",
        "  return modified_tags"
      ],
      "metadata": {
        "id": "IKYQMZudgjor"
      },
      "execution_count": 25,
      "outputs": []
    },
    {
      "cell_type": "code",
      "source": [
        "train_tags = modify_tags(train_tags)\n",
        "test_tags = modify_tags(test_tags)"
      ],
      "metadata": {
        "id": "KPe5fAKwg2rM"
      },
      "execution_count": 26,
      "outputs": []
    },
    {
      "cell_type": "code",
      "source": [
        "print(len(set(train_tags)))\n",
        "print(len(set(test_tags)))"
      ],
      "metadata": {
        "colab": {
          "base_uri": "https://localhost:8080/"
        },
        "id": "zeSrgZXlaMgY",
        "outputId": "dbbe32d1-7093-4f62-aa44-d527f38aaa81"
      },
      "execution_count": 27,
      "outputs": [
        {
          "output_type": "stream",
          "name": "stdout",
          "text": [
            "11\n",
            "11\n"
          ]
        }
      ]
    },
    {
      "cell_type": "markdown",
      "source": [
        "> **11**개의 tag(품사)로 잘 정리된 것을 확인할 수 있다."
      ],
      "metadata": {
        "id": "JsGSEZaSbfaa"
      }
    },
    {
      "cell_type": "markdown",
      "source": [
        "### **c) 단어 사전 생성**\n",
        "- 태그와 단어들을 인덱스로 매핑하는 사전 생성"
      ],
      "metadata": {
        "id": "wXFMcgL1qkhb"
      }
    },
    {
      "cell_type": "code",
      "source": [
        "def make_dict(tags, words):\n",
        "  tag_to_index = {tag: idx for idx, tag in enumerate(set(tags))}\n",
        "  word_to_index = {word: idx for idx, word in enumerate(set(words))}\n",
        "  return tag_to_index, word_to_index"
      ],
      "metadata": {
        "id": "6S5GSVY8W2Bk"
      },
      "execution_count": 28,
      "outputs": []
    },
    {
      "cell_type": "code",
      "source": [
        "tag_to_index, vocab_to_index = make_dict(train_tags, train_words)"
      ],
      "metadata": {
        "id": "RrtSlN6qXChV"
      },
      "execution_count": 29,
      "outputs": []
    },
    {
      "cell_type": "code",
      "source": [
        "# UNK(Unknown) 추가\n",
        "vocab_to_index['UNK'] = len(vocab_to_index)"
      ],
      "metadata": {
        "id": "w8mlZByQXEwx"
      },
      "execution_count": 30,
      "outputs": []
    },
    {
      "cell_type": "markdown",
      "source": [
        "### **d) index 변환**"
      ],
      "metadata": {
        "id": "eDANFZv6-umk"
      }
    },
    {
      "cell_type": "code",
      "source": [
        "def to_indices(objs, obj_to_idx):\n",
        "  return [obj_to_idx.get(obj, obj_to_idx['UNK']) for obj in objs]"
      ],
      "metadata": {
        "id": "CG12CcIzt8fJ"
      },
      "execution_count": 31,
      "outputs": []
    },
    {
      "cell_type": "code",
      "source": [
        "train_data_idx = to_indices(train_words, vocab_to_index)\n",
        "train_tag_idx = [tag_to_index[tag] for tag in train_tags]"
      ],
      "metadata": {
        "id": "Hkc5WtCbuDor"
      },
      "execution_count": 32,
      "outputs": []
    },
    {
      "cell_type": "code",
      "source": [
        "test_data_idx = to_indices(test_words, vocab_to_index)\n",
        "test_tag_idx = [tag_to_index[tag] for tag in test_tags]"
      ],
      "metadata": {
        "id": "YdgsgdbVuEpN"
      },
      "execution_count": 33,
      "outputs": []
    },
    {
      "cell_type": "markdown",
      "source": [
        "## **1-3. 최종 데이터 확인**"
      ],
      "metadata": {
        "id": "QdxBUoO4lUSL"
      }
    },
    {
      "cell_type": "code",
      "source": [
        "print(train_tags[:40])\n",
        "print()\n",
        "print(train_words[:40])"
      ],
      "metadata": {
        "id": "NOnADvaClXam",
        "colab": {
          "base_uri": "https://localhost:8080/"
        },
        "outputId": "1aec3303-d95f-4b40-9889-dd2574a45806"
      },
      "execution_count": 34,
      "outputs": [
        {
          "output_type": "stream",
          "name": "stdout",
          "text": [
            "['N', 'PP', 'ART', 'N', 'V', 'AD', 'V', 'ETC', 'V', 'ART', 'AdJ', 'N', 'PP', 'N', 'N', 'PP', 'N', 'ETC', 'AdJ', 'PP', 'N', 'N', 'ETC', 'V', 'ETC', 'V', 'ART', 'AdJ', 'N', 'PP', 'N', 'CONJ', 'N', 'ETC', 'AdJ', 'N', 'ETC', '<EOS>', 'N', 'PP']\n",
            "\n",
            "['confidence', 'in', 'the', 'pound', 'is', 'widely', 'expected', 'to', 'take', 'another', 'sharp', 'dive', 'if', 'trade', 'figures', 'for', 'september', ',', 'due', 'for', 'release', 'tomorrow', ',', 'fail', 'to', 'show', 'a', 'substantial', 'improvement', 'from', 'july', 'and', 'august', \"'s\", 'near-record', 'deficits', '.', 'eos', 'chancellor', 'of']\n"
          ]
        }
      ]
    },
    {
      "cell_type": "markdown",
      "source": [
        "# **2. Modeling**"
      ],
      "metadata": {
        "id": "FmuTQoGqmta5"
      }
    },
    {
      "cell_type": "code",
      "source": [
        "class HMM_viterbi:\n",
        "  def __init__(self, num_states, vocab_size, tag_size):\n",
        "    self.num_states = num_states  # Hidden 상태의 개수(POS 태그 개수)\n",
        "    self.vocab_size = vocab_size  # 가능한 단어(x) 목록 크기\n",
        "    self.tag_size = tag_size  # 가능한 POS(z) 목록 크기\n",
        "\n",
        "  def fit(self, X, Z, smoothing=1.0):\n",
        "    # pi 추정\n",
        "    self.pi = np.zeros(self.num_states)  # initial state probabilities\n",
        "    for z in Z:\n",
        "      self.pi[z[0]] += 1\n",
        "    self.pi = (self.pi + smoothing) / (len(Z) + smoothing * self.num_states)\n",
        "\n",
        "    # A 추정(transition probabilities matrix)\n",
        "    self.A = np.zeros((self.num_states, self.num_states))\n",
        "    for z in Z:\n",
        "      for i in range(len(z) - 1):\n",
        "        self.A[z[i], z[i + 1]] += 1\n",
        "    self.A = (self.A + smoothing) / (self.A.sum(axis=1, keepdims=True) + smoothing * self.num_states)\n",
        "\n",
        "    # B 추정(emission probabilities matrix)\n",
        "    self.B = np.zeros((self.num_states, self.vocab_size))\n",
        "    for x, z in zip(X, Z):\n",
        "      for xj, zi in zip(x, z):\n",
        "        self.B[zi, xj] += 1\n",
        "    self.B = (self.B + smoothing) / (self.B.sum(axis=1, keepdims=True) + smoothing * self.vocab_size)\n",
        "\n",
        "  def calculate_likelihood(self, V, t, j, word_idx):\n",
        "    return V[t - 1] + np.log(self.A[:, j]) + np.log(self.B[j, word_idx])\n",
        "\n",
        "  def update_state(self, V, t, j):\n",
        "    return np.argmax(V[t - 1] + np.log(self.A[:, j]))\n",
        "\n",
        "  def get_latent_path(self, X, num_words):\n",
        "    V = np.zeros((num_words, self.num_states))\n",
        "    state_idx = np.zeros((num_words, self.num_states), dtype=int)\n",
        "\n",
        "    # Initialization\n",
        "    V[0] = np.log(self.pi) + np.log(self.B[:, X[0]])\n",
        "\n",
        "    # Recursion\n",
        "    for t in range(1, num_words):\n",
        "      for j in range(self.num_states):\n",
        "        word_idx = X[t]\n",
        "        likelihoods = self.calculate_likelihood(V, t, j, word_idx)\n",
        "        state_idx[t, j] = self.update_state(V, t, j)\n",
        "        V[t, j] = likelihoods[state_idx[t, j]]\n",
        "\n",
        "    # Traceback\n",
        "    z = np.zeros(num_words, dtype=int)\n",
        "    z[-1] = np.argmax(V[-1])\n",
        "    for t in range(num_words - 2, -1, -1):\n",
        "      z[t] = state_idx[t + 1, z[t + 1]]\n",
        "\n",
        "    return z\n",
        "\n",
        "  def predict(self, X):\n",
        "    num_words = len(X)\n",
        "    return self.get_latent_path(X, num_words)\n",
        "\n",
        "  def accuracy(self, z_pred, z_true):\n",
        "    return np.mean(z_pred == z_true)"
      ],
      "metadata": {
        "id": "DNrb5c56nmIf"
      },
      "execution_count": 35,
      "outputs": []
    },
    {
      "cell_type": "markdown",
      "source": [
        "# **3. Training**"
      ],
      "metadata": {
        "id": "fWvmMRgjnobu"
      }
    },
    {
      "cell_type": "code",
      "source": [
        "num_states = len(tag_to_index)\n",
        "vocab_size = len(vocab_to_index) # 가능한 전체 단어의 경우의 수"
      ],
      "metadata": {
        "id": "fEqaXqPquzpE"
      },
      "execution_count": 36,
      "outputs": []
    },
    {
      "cell_type": "code",
      "source": [
        "model = HMM_viterbi(num_states=num_states, vocab_size=vocab_size, tag_size=num_states)\n",
        "model.fit([train_data_idx], [train_tag_idx], smoothing=1.0)"
      ],
      "metadata": {
        "id": "zA8skjDuXrVr"
      },
      "execution_count": 37,
      "outputs": []
    },
    {
      "cell_type": "code",
      "source": [
        "train_pred_idx = model.predict(train_data_idx)\n",
        "train_accuracy = model.accuracy(train_pred_idx, train_tag_idx)\n",
        "print(f\"Train Accuracy: {train_accuracy:.4f}\")"
      ],
      "metadata": {
        "colab": {
          "base_uri": "https://localhost:8080/"
        },
        "id": "t3ueMRalvUoy",
        "outputId": "63b5517b-900d-4590-b0b4-9b5cff1ea231"
      },
      "execution_count": 38,
      "outputs": [
        {
          "output_type": "stream",
          "name": "stdout",
          "text": [
            "Train Accuracy: 0.9414\n"
          ]
        }
      ]
    },
    {
      "cell_type": "markdown",
      "source": [
        "# **4. Testing**"
      ],
      "metadata": {
        "id": "7Stw8cxCBKAP"
      }
    },
    {
      "cell_type": "code",
      "source": [
        "test_pred_idx = model.predict(test_data_idx)\n",
        "test_accuracy = model.accuracy(test_pred_idx, test_tag_idx)\n",
        "print(f\"Test Accuracy: {test_accuracy:.4f}\")"
      ],
      "metadata": {
        "colab": {
          "base_uri": "https://localhost:8080/"
        },
        "id": "-07gHlNhvYnf",
        "outputId": "676842d1-b345-4d9b-8bc1-18869f8a2093"
      },
      "execution_count": 39,
      "outputs": [
        {
          "output_type": "stream",
          "name": "stdout",
          "text": [
            "Test Accuracy: 0.9138\n"
          ]
        }
      ]
    },
    {
      "cell_type": "markdown",
      "source": [
        "# **5. Results**"
      ],
      "metadata": {
        "id": "Z097XxNtCAd7"
      }
    },
    {
      "cell_type": "code",
      "source": [
        "def compare_result(words, true_tags, pred_indices, tag_to_idx):\n",
        "  # 1. 인덱스를 태그 이름으로 변환\n",
        "  idx_to_tag = {idx: tag for tag, idx in tag_to_idx.items()}\n",
        "\n",
        "  # 2. 예측 결과 출력\n",
        "  for word, true_tag, pred_idx in zip(words, true_tags, pred_indices):\n",
        "    true_tag_label = true_tag if isinstance(true_tag, str) else idx_to_tag[true_tag]\n",
        "    pred_tag_label = idx_to_tag[pred_idx]\n",
        "    print(f\"Word: {word:15} True Tag: {true_tag_label:10} Pred Tag: {pred_tag_label:10}\")"
      ],
      "metadata": {
        "id": "kFOUd39PlEQQ"
      },
      "execution_count": 40,
      "outputs": []
    },
    {
      "cell_type": "code",
      "source": [
        "compare_result(train_words[:20], train_tags[:20], train_pred_idx[:20], tag_to_index)"
      ],
      "metadata": {
        "colab": {
          "base_uri": "https://localhost:8080/"
        },
        "id": "kPKjwoM0le7y",
        "outputId": "ba8ca2f3-434c-44f1-f043-3ceeafd3ce67"
      },
      "execution_count": 41,
      "outputs": [
        {
          "output_type": "stream",
          "name": "stdout",
          "text": [
            "Word: confidence      True Tag: N          Pred Tag: N         \n",
            "Word: in              True Tag: PP         Pred Tag: PP        \n",
            "Word: the             True Tag: ART        Pred Tag: ART       \n",
            "Word: pound           True Tag: N          Pred Tag: N         \n",
            "Word: is              True Tag: V          Pred Tag: V         \n",
            "Word: widely          True Tag: AD         Pred Tag: AD        \n",
            "Word: expected        True Tag: V          Pred Tag: V         \n",
            "Word: to              True Tag: ETC        Pred Tag: ETC       \n",
            "Word: take            True Tag: V          Pred Tag: V         \n",
            "Word: another         True Tag: ART        Pred Tag: ART       \n",
            "Word: sharp           True Tag: AdJ        Pred Tag: AdJ       \n",
            "Word: dive            True Tag: N          Pred Tag: N         \n",
            "Word: if              True Tag: PP         Pred Tag: PP        \n",
            "Word: trade           True Tag: N          Pred Tag: N         \n",
            "Word: figures         True Tag: N          Pred Tag: N         \n",
            "Word: for             True Tag: PP         Pred Tag: PP        \n",
            "Word: september       True Tag: N          Pred Tag: N         \n",
            "Word: ,               True Tag: ETC        Pred Tag: ETC       \n",
            "Word: due             True Tag: AdJ        Pred Tag: AdJ       \n",
            "Word: for             True Tag: PP         Pred Tag: PP        \n"
          ]
        }
      ]
    },
    {
      "cell_type": "code",
      "source": [
        "compare_result(test_words[:20], test_tags[:20], test_pred_idx[:20], tag_to_index)"
      ],
      "metadata": {
        "colab": {
          "base_uri": "https://localhost:8080/"
        },
        "id": "r3TqdZmXBh_j",
        "outputId": "d73dfbac-b094-42cb-d74f-9ff9bfc2e8c8"
      },
      "execution_count": 42,
      "outputs": [
        {
          "output_type": "stream",
          "name": "stdout",
          "text": [
            "Word: rockwell        True Tag: N          Pred Tag: AdJ       \n",
            "Word: international   True Tag: N          Pred Tag: N         \n",
            "Word: corp.           True Tag: N          Pred Tag: N         \n",
            "Word: 's              True Tag: ETC        Pred Tag: ETC       \n",
            "Word: tulsa           True Tag: N          Pred Tag: <EOS>     \n",
            "Word: unit            True Tag: N          Pred Tag: N         \n",
            "Word: said            True Tag: V          Pred Tag: V         \n",
            "Word: it              True Tag: PN         Pred Tag: PN        \n",
            "Word: signed          True Tag: V          Pred Tag: V         \n",
            "Word: a               True Tag: ART        Pred Tag: ART       \n",
            "Word: tentative       True Tag: AdJ        Pred Tag: AdJ       \n",
            "Word: agreement       True Tag: N          Pred Tag: N         \n",
            "Word: extending       True Tag: V          Pred Tag: PP        \n",
            "Word: its             True Tag: PN         Pred Tag: PN        \n",
            "Word: contract        True Tag: N          Pred Tag: N         \n",
            "Word: with            True Tag: PP         Pred Tag: PP        \n",
            "Word: boeing          True Tag: N          Pred Tag: ART       \n",
            "Word: co.             True Tag: N          Pred Tag: N         \n",
            "Word: to              True Tag: ETC        Pred Tag: ETC       \n",
            "Word: provide         True Tag: V          Pred Tag: V         \n"
          ]
        }
      ]
    }
  ]
}