{
  "nbformat": 4,
  "nbformat_minor": 0,
  "metadata": {
    "colab": {
      "provenance": [],
      "include_colab_link": true
    },
    "kernelspec": {
      "name": "python3",
      "display_name": "Python 3"
    },
    "language_info": {
      "name": "python"
    }
  },
  "cells": [
    {
      "cell_type": "markdown",
      "metadata": {
        "id": "view-in-github",
        "colab_type": "text"
      },
      "source": [
        "<a href=\"https://colab.research.google.com/github/chasubeen/ML_lab/blob/main/2_Variational_Inference.ipynb\" target=\"_parent\"><img src=\"https://colab.research.google.com/assets/colab-badge.svg\" alt=\"Open In Colab\"/></a>"
      ]
    },
    {
      "cell_type": "code",
      "source": [
        "import time\n",
        "import os\n",
        "import re\n",
        "import numpy as np\n",
        "import matplotlib.pyplot as plt\n",
        "import copy\n",
        "from collections import defaultdict\n",
        "from scipy.special import digamma, polygamma, loggamma"
      ],
      "metadata": {
        "id": "SpkcsGAvAsYi"
      },
      "execution_count": 1,
      "outputs": []
    },
    {
      "cell_type": "markdown",
      "source": [
        "# **1. Preprocessing**"
      ],
      "metadata": {
        "id": "badhYe8TjrpX"
      }
    },
    {
      "cell_type": "markdown",
      "source": [
        "## **1-1. Load data**"
      ],
      "metadata": {
        "id": "_Gx_9utFkNiN"
      }
    },
    {
      "cell_type": "code",
      "source": [
        "from google.colab import drive\n",
        "drive.mount('/content/drive')"
      ],
      "metadata": {
        "colab": {
          "base_uri": "https://localhost:8080/"
        },
        "id": "cUa6BHK3j0_6",
        "outputId": "9bf12428-a6b6-4710-c731-1bd480353d48"
      },
      "execution_count": 2,
      "outputs": [
        {
          "output_type": "stream",
          "name": "stdout",
          "text": [
            "Drive already mounted at /content/drive; to attempt to forcibly remount, call drive.mount(\"/content/drive\", force_remount=True).\n"
          ]
        }
      ]
    },
    {
      "cell_type": "code",
      "source": [
        "# data path\n",
        "\n",
        "train_path = \"/content/drive/MyDrive/ML_lab/2_LDA/data/pos_tag/train.txt\"\n",
        "test_path = \"/content/drive/MyDrive/ML_lab/2_LDA/data/pos_tag/test.txt\""
      ],
      "metadata": {
        "id": "TfZ8ZwHjjw6t"
      },
      "execution_count": 3,
      "outputs": []
    },
    {
      "cell_type": "code",
      "source": [
        "def read_file(path):\n",
        "  raw = open(path, 'r').read().split('\\n') # 파일을 읽어와 줄마다 나누기\n",
        "  data, doc = list(), list()\n",
        "\n",
        "  for i, line in enumerate(raw):\n",
        "    if line.strip(): # 빈 줄이 아니면\n",
        "      word = line.split(' ')[0].lower() # 단어를 얻어온 후 소문자로 변환\n",
        "      doc.append(word)\n",
        "    else:\n",
        "      data.append(doc) # EOD(End Of Document)\n",
        "      doc = list()\n",
        "  data.append(doc) # 맨 마지막 문서 추가\n",
        "\n",
        "  return data"
      ],
      "metadata": {
        "id": "rbh73TnykXzf"
      },
      "execution_count": 4,
      "outputs": []
    },
    {
      "cell_type": "code",
      "source": [
        "# 데이터 불러오기\n",
        "org_train_data = read_file(train_path)\n",
        "org_test_data = read_file(test_path)\n",
        "\n",
        "# 맨 마지막 문서는 제거\n",
        "del org_train_data[-1], org_test_data[-1]"
      ],
      "metadata": {
        "id": "PrbMLqzHkn_y"
      },
      "execution_count": 5,
      "outputs": []
    },
    {
      "cell_type": "markdown",
      "source": [
        "## **1-2. Preprocess Data**"
      ],
      "metadata": {
        "id": "gPInqBrgmRB5"
      }
    },
    {
      "cell_type": "code",
      "source": [
        "# some words that we do not want to consider\n",
        "stopwords = [\"\", \" \", 'the', 'to', 'of', 'a', 'and', 'in', 'for', \"s\", 'that', 'is', 'said', 'mr', 'on', 'by',\n",
        "             'it', 'as', 'was', 'at', 'with', 'from', 'its', 'an', 'has', 'he', 'be', 'but', 'are', 'will',\n",
        "             'have', 'or', \"nt\", 'his', 'they', 'were', 'this', 'which', 'would', 'about', 'year', 'had', 'been',\n",
        "             'more', 'than', 'who', 'up', 'also', 'other', 'after', 'we', 'says', 'their', 'one', 'two', 'lrb',\n",
        "             'rrb', 'years', 'when', 'some', 'may', 'could', 'quarter', 'yesterday', 'most', 'not', 'if',\n",
        "             'because', 'there', 'first', 'i', 'any', 'last', 'monday', 'tuesday', 'wednesday', 'thursday', 'friday',\n",
        "             'saturday', 'sunday', 'before', 'no', 'week', 'much', 'so', 'such', 'can', 'while', 'into', 'do',\n",
        "             'then', 'many', 'out', 'less', 'against', 'even', 'under', 'only', 'since', 'however', 'over', 'among',\n",
        "             'between', 'them', 'him', 'those', 'did', 'you', 'still', 'these', 'three', 'own', 'second', 'off',\n",
        "             'all', 'what', 'both', 'day', 'now', 'yet', 'during', 'according', 'including', 'she', 'my', 'days',\n",
        "             'due', 'your', 'her', 'another', 'just', 'does', 'our', 'how', 'through', 'where', 'too', 'very', 'each',\n",
        "             'days', 'month', 'months', 'should', 'several', 'few', 'ago']"
      ],
      "metadata": {
        "id": "HG_s50dnmZnF"
      },
      "execution_count": 6,
      "outputs": []
    },
    {
      "cell_type": "code",
      "source": [
        "## remove numbers, special characters, etc.\n",
        "# only consider words with alphabet\n",
        "\n",
        "def only_alphabet(corpus, stopword_list=stopwords):\n",
        "    pattern = re.compile('[^a-z]')\n",
        "    # non-alphabet 문자 제거(=> 정규표현식 활용)\n",
        "    return [\n",
        "        [pattern.sub('', word) for word in doc if pattern.sub('', word) not in stopword_list] for doc in corpus\n",
        "    ]"
      ],
      "metadata": {
        "id": "NvEnFdubuMMz"
      },
      "execution_count": 7,
      "outputs": []
    },
    {
      "cell_type": "code",
      "source": [
        "train_data = only_alphabet(org_train_data)\n",
        "test_data = only_alphabet(org_test_data)"
      ],
      "metadata": {
        "id": "6Cgy8v8ompb8"
      },
      "execution_count": 8,
      "outputs": []
    },
    {
      "cell_type": "code",
      "source": [
        "## count word occurrence in corpus\n",
        "\n",
        "def count_vocab(corpus):\n",
        "  vocab = defaultdict(int) # dictionary 형태로 word occurence를 기록\n",
        "  for doc in corpus:\n",
        "    for word in doc:\n",
        "      vocab[word] += 1\n",
        "\n",
        "  return vocab"
      ],
      "metadata": {
        "id": "vTT8x1YImv8S"
      },
      "execution_count": 9,
      "outputs": []
    },
    {
      "cell_type": "code",
      "source": [
        "vocab_count = count_vocab(train_data)"
      ],
      "metadata": {
        "id": "7y76zEHArmov"
      },
      "execution_count": 10,
      "outputs": []
    },
    {
      "cell_type": "code",
      "source": [
        "## 특정 빈도수 이상인 단어들만 고려\n",
        "# sparse한 단어는 무시\n",
        "\n",
        "def vocab_top(vocab,cnt):\n",
        "  return {voca: count for voca, count in vocab.items() if count > cnt}"
      ],
      "metadata": {
        "id": "ggNlOiM1rqgE"
      },
      "execution_count": 11,
      "outputs": []
    },
    {
      "cell_type": "code",
      "source": [
        "vocab_count = vocab_top(vocab_count,cnt = 5)"
      ],
      "metadata": {
        "id": "Biqdzl-8sbsi"
      },
      "execution_count": 12,
      "outputs": []
    },
    {
      "cell_type": "code",
      "source": [
        "## filter out low-occurrence words\n",
        "\n",
        "def filter_vocab(corpus, vocab):\n",
        "    vocab_set = set(vocab)\n",
        "    return [\n",
        "        [word for word in doc if word in vocab_set] for doc in corpus\n",
        "    ]"
      ],
      "metadata": {
        "id": "QKFK8zuwsg9t"
      },
      "execution_count": 13,
      "outputs": []
    },
    {
      "cell_type": "code",
      "source": [
        "train_data = filter_vocab(train_data,vocab_count)\n",
        "test_data = filter_vocab(test_data,vocab_count)"
      ],
      "metadata": {
        "id": "d1PgDw-Ds5OL"
      },
      "execution_count": 14,
      "outputs": []
    },
    {
      "cell_type": "code",
      "source": [
        "## construct voca-index-matching dictionary\n",
        "\n",
        "def voca_index(vocab):\n",
        "  vocab_to_index = {voca: i for i, voca in enumerate(vocab.keys())}\n",
        "  index_to_vocab = {i: voca for i, voca in enumerate(vocab.keys())}\n",
        "\n",
        "  return vocab_to_index, index_to_vocab"
      ],
      "metadata": {
        "id": "pl9QYCl0s82P"
      },
      "execution_count": 15,
      "outputs": []
    },
    {
      "cell_type": "code",
      "source": [
        "v_t_i, i_t_v = voca_index(vocab_count)"
      ],
      "metadata": {
        "id": "4nJ2IzIttOtX"
      },
      "execution_count": 16,
      "outputs": []
    },
    {
      "cell_type": "code",
      "source": [
        "## convert corpus-with-words to corpus-with-index\n",
        "\n",
        "def corpus_to_index(corpus,vocab_to_index):\n",
        "  return [[vocab_to_index[word] for word in doc] for doc in corpus]"
      ],
      "metadata": {
        "id": "bbbnUBVQtRba"
      },
      "execution_count": 17,
      "outputs": []
    },
    {
      "cell_type": "code",
      "source": [
        "train_data_idx = corpus_to_index(train_data,v_t_i)\n",
        "test_data_idx = corpus_to_index(test_data,v_t_i)"
      ],
      "metadata": {
        "id": "ZlpCKhKvuR9j"
      },
      "execution_count": 18,
      "outputs": []
    },
    {
      "cell_type": "markdown",
      "source": [
        "# **2. Modeling**"
      ],
      "metadata": {
        "id": "JLLADECRuh36"
      }
    },
    {
      "cell_type": "code",
      "source": [
        "class LDA_VI:\n",
        "  def __init__(self,docs, num_topic=10, vocab = None, alpha=1.,num_iter=100,lr=1e-3):\n",
        "    self.docs = docs\n",
        "    self.num_topic = num_topic\n",
        "    self.vocab = vocab\n",
        "    self.num_vocab = len(self.vocab)\n",
        "    self.num_docs = len(self.docs)\n",
        "\n",
        "    # Initialize alpha and beta\n",
        "    self.alpha = np.ones(self.num_topic)*(1/self.num_topic)\n",
        "    self.beta = np.ones((self.num_topic, self.num_vocab))*(1/self.num_vocab)\n",
        "    # beta 초기값 업데이트\n",
        "    self.beta += np.random.rand(self.num_topic, self.num_vocab) * 0.01\n",
        "    self.beta /= np.sum(self.beta, axis=1)[:, np.newaxis]\n",
        "\n",
        "    # Initialize gamma and phi\n",
        "    self.gamma = np.ones((self.num_docs,self.num_topic))*(1/self.num_topic)\n",
        "    self.phi = np.ones((self.num_docs, self.num_vocab, self.num_topic))*(1/self.num_topic)\n",
        "\n",
        "    # Initialize z (topic assignments for words in documents)\n",
        "    self.z = [[np.random.randint(0, self.num_topic) for _ in range(len(doc))] for doc in self.docs]\n",
        "\n",
        "    # Initialize parameters for variational inference\n",
        "    self.num_iter = num_iter\n",
        "    self.lr = lr\n",
        "\n",
        "    self.elbo_list = []  # ELBO 값을 저장할 리스트\n",
        "    self.perp_list = []  # perplexity 값을 저장할 리스트\n",
        "    self.coherence_list = [] # coherence 값을 저장할 리스트\n",
        "\n",
        "  def update_gamma(self):\n",
        "    ## Update gamma (document-topic distributions)\n",
        "    self.gamma = self.alpha + np.sum(self.phi, axis = 1)\n",
        "\n",
        "  def update_phi(self):\n",
        "    ## Update phi (topic-word distributions)\n",
        "    for d in range(self.num_docs):\n",
        "      for n in range(len(self.docs[d])):\n",
        "        word_idx = self.docs[d][n]\n",
        "        self.phi[d, n] = self.beta[:, word_idx] * np.exp(digamma(self.gamma[d]))\n",
        "    # phi 정규화(topic에 대해 정규화)\n",
        "    self.phi /= np.sum(self.phi, axis = 2)[:, :, np.newaxis]\n",
        "\n",
        "  def update_beta(self):\n",
        "    ## Update beta(topic-word prior)\n",
        "    for d in range(self.num_docs):\n",
        "      for n in range(len(self.docs[d])):\n",
        "        word_idx = self.docs[d][n]\n",
        "        self.beta[:, word_idx] += self.phi[d, n]\n",
        "    # beta 정규화(word에 대해 정규화)\n",
        "    self.beta /= np.sum(self.beta, axis = 1)[:, np.newaxis]\n",
        "\n",
        "  def update_alpha(self):\n",
        "    ## Update alpha(document-topic prior)\n",
        "    M = self.num_docs\n",
        "    g = np.zeros(self.num_topic) # gradient\n",
        "    H = np.zeros((self.num_topic, self.num_topic)) # Hessian matrix\n",
        "\n",
        "    for i in range(self.num_topic):\n",
        "      g[i] = M * ( digamma(np.sum(self.alpha)) - digamma(self.alpha[i]) )\n",
        "      for d in range(M):\n",
        "        g[i] += ( digamma(self.gamma[d, i]) - digamma(np.sum(self.gamma[d])) )\n",
        "      for j in range(self.num_topic):\n",
        "        H[i, j] = 0\n",
        "        if i == j:\n",
        "          H[i, j] -= M * polygamma(1, self.alpha[i])\n",
        "        H[i, j] += M * (polygamma(1, np.sum(self.alpha)))\n",
        "\n",
        "    # alpha 업데이트(=> Newton-Raphson)\n",
        "    deltaAlpha = np.dot(np.linalg.inv(H), g)\n",
        "    self.alpha -= deltaAlpha\n",
        "\n",
        "  def e_step(self):\n",
        "    ## Perform E-step of the variational inference\n",
        "    self.update_phi()\n",
        "    self.update_gamma()\n",
        "\n",
        "  def m_step(self):\n",
        "    ## Perform M-step of the variational inference\n",
        "    self.update_beta()\n",
        "    self.update_alpha()\n",
        "\n",
        "  def compute_elbo(self):\n",
        "    ## Compute Evidence Lower Bound (ELBO)\n",
        "\n",
        "    # 필요한 파라미터 정의\n",
        "    elbo = 0\n",
        "    M = self.num_docs\n",
        "    k = self.num_topic\n",
        "\n",
        "    # 1번 수식\n",
        "    for d in range(M): # document\n",
        "      for n in range(len(self.docs[d])):\n",
        "        j = self.docs[d][n] # word idx\n",
        "        for i in range(k): # topic\n",
        "          elbo += self.phi[d, n, i] * np.log(self.beta[i, j])\n",
        "\n",
        "    # 2번 수식\n",
        "    for d in range(M):\n",
        "      for n in range(len(self.docs[d])):\n",
        "        for i in range(k):\n",
        "          elbo += self.phi[d, n, i] * (digamma(self.gamma[d, i]) - digamma(np.sum(self.gamma[d])))\n",
        "\n",
        "    # 3번 수식\n",
        "    for d in range(M):\n",
        "      elbo += loggamma(np.sum(self.alpha))\n",
        "      for i in range(k):\n",
        "        elbo -= loggamma(self.alpha[i])\n",
        "        elbo += (self.alpha[i] - 1) * (digamma(self.gamma[d, i]) - digamma(np.sum(self.gamma[d])))\n",
        "\n",
        "    # 4번, 5번 수식\n",
        "    for d in range(M):\n",
        "      elbo -= loggamma(np.sum(self.gamma[d]))\n",
        "      for i in range(k):\n",
        "        elbo += loggamma(np.sum(self.gamma[d, i]))\n",
        "        elbo -= (self.gamma[d, i] - 1)*( digamma(self.gamma[d, i]) - digamma(np.sum(self.gamma[d])) )\n",
        "        for n in range(len(self.docs[d])):\n",
        "          elbo -= self.phi[d, n, i] * np.log(self.phi[d, n, i])\n",
        "\n",
        "    return elbo\n",
        "\n",
        "  def compute_perplexity(self, elbo):\n",
        "    # 분모\n",
        "    N = sum(len(doc) for doc in self.docs)\n",
        "\n",
        "    perplexity = np.exp(-elbo / N)\n",
        "    return perplexity\n",
        "\n",
        "  def compute_topic_coherence(self, top_n=10):\n",
        "    coherence = 0.0\n",
        "\n",
        "    # 모든 주제에 대해 계산\n",
        "    for k in range(self.num_topic):\n",
        "      # 각 주제에서 상위 top_n 단어 추출\n",
        "      top_words = np.argsort(self.beta[k, :])[-top_n:]\n",
        "\n",
        "      # 상위 단어 쌍의 coherence 계산\n",
        "      for i in range(top_n):\n",
        "        for j in range(i + 1, top_n):\n",
        "          word_i = top_words[i]\n",
        "          word_j = top_words[j]\n",
        "\n",
        "          # Coherence 계산: log((P(word_j | topic_k) + 1) / sum(P(word_j | 모든 주제)))\n",
        "          # P(word_j | topic_k)는 self.beta[k, word_j]로 표현됨\n",
        "          word_j_given_topic_k = self.beta[k, word_j]\n",
        "          word_j_given_all_topics = self.beta[:, word_j].sum()\n",
        "\n",
        "          coherence += np.log((word_j_given_topic_k + 1e-12) / word_j_given_all_topics)\n",
        "\n",
        "    # 주제 수로 나누어 평균 coherence 계산\n",
        "    return coherence / self.num_topic\n",
        "\n",
        "  def run(self):\n",
        "    start_time = time.time()\n",
        "\n",
        "    ## Run the variational inference algorithm\n",
        "    for iter in range(self.num_iter):\n",
        "      print(f\"=== Iteration: {iter + 1} ===\")\n",
        "      print(f\"start time: {round(time.time() - start_time, 2)}\")\n",
        "      self.e_step()\n",
        "      self.m_step()\n",
        "\n",
        "      elbo = self.compute_elbo()\n",
        "      print(f\"ELBO: {elbo}\")\n",
        "      self.elbo_list.append(elbo)\n",
        "\n",
        "      perplexity = self.compute_perplexity(elbo)\n",
        "      print(f\"Perplexity: {perplexity}\")\n",
        "      self.perp_list.append(perplexity)\n",
        "\n",
        "      coherence = self.compute_topic_coherence()\n",
        "      print(f\"Coherence: {coherence}\")\n",
        "      self.coherence_list.append(coherence)\n",
        "\n",
        "      print()\n",
        "\n",
        "    print(\"EM Algorithm 끝!\")\n",
        "\n",
        "  def plot_result(self):\n",
        "    plt.figure(figsize = (18, 6))\n",
        "\n",
        "    # ELBO 시각화\n",
        "    plt.subplot(1, 3, 1)\n",
        "    plt.plot(self.elbo_list, color = 'blue')\n",
        "    plt.title('ELBO')\n",
        "    plt.xlabel('Iteration')\n",
        "    plt.ylabel('ELBO')\n",
        "    plt.grid(True)\n",
        "\n",
        "    # perplexity 시각화\n",
        "    plt.subplot(1, 3, 2)\n",
        "    plt.plot(self.perp_list, color='orange')\n",
        "    plt.title('Perplexity')\n",
        "    plt.xlabel('Iteration')\n",
        "    plt.ylabel('Perplexity')\n",
        "    plt.grid(True)\n",
        "\n",
        "    # Coherence 시각화\n",
        "    plt.subplot(1, 3, 3)\n",
        "    plt.plot(self.coherence_list, color='green')\n",
        "    plt.title('Topic Coherence')\n",
        "    plt.xlabel('Iteration')\n",
        "    plt.ylabel('Coherence')\n",
        "    plt.grid(True)\n",
        "\n",
        "    plt.tight_layout()\n",
        "    plt.show()"
      ],
      "metadata": {
        "id": "Iu7yyF62usdk"
      },
      "execution_count": 21,
      "outputs": []
    },
    {
      "cell_type": "markdown",
      "source": [
        "# **3. Run!!**"
      ],
      "metadata": {
        "id": "2EDzPY7kwXkd"
      }
    },
    {
      "cell_type": "code",
      "source": [
        "lda_vi = LDA_VI(train_data_idx,num_topic = 10, vocab = v_t_i, alpha = 1.,num_iter = 100)\n",
        "lda_vi.run()"
      ],
      "metadata": {
        "id": "zNeY3GcVwdap",
        "colab": {
          "base_uri": "https://localhost:8080/"
        },
        "outputId": "f3796c50-2d05-4f0e-ec30-fa8daaa567c4"
      },
      "execution_count": 22,
      "outputs": [
        {
          "output_type": "stream",
          "name": "stdout",
          "text": [
            "=== Iteration: 1 ===\n",
            "start time: 0.0\n",
            "ELBO: -869373.0372829771\n",
            "Perplexity: 79792.71018575675\n",
            "Coherence: -87.3773599333647\n",
            "\n",
            "=== Iteration: 2 ===\n",
            "start time: 16.38\n",
            "ELBO: -833092.7049986526\n",
            "Perplexity: 49819.16257507203\n",
            "Coherence: -87.38745937716732\n",
            "\n",
            "=== Iteration: 3 ===\n",
            "start time: 30.98\n",
            "ELBO: -800747.2250774894\n",
            "Perplexity: 32735.298849529023\n",
            "Coherence: -87.38448496630271\n",
            "\n",
            "=== Iteration: 4 ===\n",
            "start time: 46.02\n",
            "ELBO: -771041.8834446523\n",
            "Perplexity: 22259.870168077334\n",
            "Coherence: -87.38159522834862\n",
            "\n",
            "=== Iteration: 5 ===\n",
            "start time: 60.75\n",
            "ELBO: -742763.9275965017\n",
            "Perplexity: 15419.747568677089\n",
            "Coherence: -87.37871120284781\n",
            "\n",
            "=== Iteration: 6 ===\n",
            "start time: 77.19\n",
            "ELBO: -715230.2299343786\n",
            "Perplexity: 10785.204987258543\n",
            "Coherence: -87.35191284278926\n",
            "\n",
            "=== Iteration: 7 ===\n",
            "start time: 91.98\n",
            "ELBO: -688347.5526124485\n",
            "Perplexity: 7607.646500705325\n",
            "Coherence: -87.34902914096095\n",
            "\n",
            "=== Iteration: 8 ===\n",
            "start time: 107.07\n",
            "ELBO: -662479.5152913114\n",
            "Perplexity: 5437.425209083983\n",
            "Coherence: -87.34616403193363\n",
            "\n",
            "=== Iteration: 9 ===\n",
            "start time: 121.46\n",
            "ELBO: -638422.6488703168\n",
            "Perplexity: 3978.7675059544736\n",
            "Coherence: -87.34333514399225\n",
            "\n",
            "=== Iteration: 10 ===\n",
            "start time: 135.87\n",
            "ELBO: -617445.3494161298\n",
            "Perplexity: 3030.176869691997\n",
            "Coherence: -87.34057486731594\n",
            "\n",
            "=== Iteration: 11 ===\n",
            "start time: 150.31\n",
            "ELBO: -601071.1150222615\n",
            "Perplexity: 2449.862980108838\n",
            "Coherence: -87.33793797047993\n",
            "\n",
            "=== Iteration: 12 ===\n",
            "start time: 167.74\n",
            "ELBO: -590270.5297139349\n",
            "Perplexity: 2129.3284330639844\n",
            "Coherence: -87.28036201344398\n",
            "\n",
            "=== Iteration: 13 ===\n",
            "start time: 183.58\n",
            "ELBO: -584509.1468834431\n",
            "Perplexity: 1975.864116133688\n",
            "Coherence: -87.27820699584808\n",
            "\n",
            "=== Iteration: 14 ===\n",
            "start time: 198.27\n",
            "ELBO: -582003.6666867908\n",
            "Perplexity: 1912.6253793894816\n",
            "Coherence: -87.27640134806435\n",
            "\n",
            "=== Iteration: 15 ===\n",
            "start time: 213.02\n",
            "ELBO: -581047.8980205004\n",
            "Perplexity: 1889.0384989037134\n",
            "Coherence: -87.27494084220108\n",
            "\n",
            "=== Iteration: 16 ===\n",
            "start time: 229.31\n",
            "ELBO: -580694.1364365902\n",
            "Perplexity: 1880.382163265447\n",
            "Coherence: -87.15528682458964\n",
            "\n",
            "=== Iteration: 17 ===\n",
            "start time: 243.92\n",
            "ELBO: -580556.7127556166\n",
            "Perplexity: 1877.0301950206806\n",
            "Coherence: -87.15432926326181\n",
            "\n",
            "=== Iteration: 18 ===\n",
            "start time: 258.55\n",
            "ELBO: -580498.3925491921\n",
            "Perplexity: 1875.6094849060767\n",
            "Coherence: -87.15354372635042\n",
            "\n",
            "=== Iteration: 19 ===\n",
            "start time: 273.19\n",
            "ELBO: -580471.0193464605\n",
            "Perplexity: 1874.9430305140154\n",
            "Coherence: -87.1528863911059\n",
            "\n",
            "=== Iteration: 20 ===\n",
            "start time: 287.98\n",
            "ELBO: -580456.837414066\n",
            "Perplexity: 1874.5978366437553\n",
            "Coherence: -87.15232590620725\n",
            "\n",
            "=== Iteration: 21 ===\n",
            "start time: 302.83\n",
            "ELBO: -580448.7923108488\n",
            "Perplexity: 1874.4020438872244\n",
            "Coherence: -87.15184001483934\n",
            "\n",
            "=== Iteration: 22 ===\n",
            "start time: 317.53\n",
            "ELBO: -580443.8471860073\n",
            "Perplexity: 1874.2817050980073\n",
            "Coherence: -87.15141275052754\n",
            "\n",
            "=== Iteration: 23 ===\n",
            "start time: 332.25\n",
            "ELBO: -580440.5897458744\n",
            "Perplexity: 1874.2024400558114\n",
            "Coherence: -87.1510324568808\n",
            "\n",
            "=== Iteration: 24 ===\n",
            "start time: 346.78\n",
            "ELBO: -580438.3147279369\n",
            "Perplexity: 1874.1470828092733\n",
            "Coherence: -87.1506904563355\n",
            "\n",
            "=== Iteration: 25 ===\n",
            "start time: 361.23\n",
            "ELBO: -580436.6465101821\n",
            "Perplexity: 1874.106491666613\n",
            "Coherence: -87.1503801631456\n",
            "\n",
            "=== Iteration: 26 ===\n",
            "start time: 377.45\n",
            "ELBO: -580435.3731149295\n",
            "Perplexity: 1874.0755079528935\n",
            "Coherence: -87.15009648779015\n",
            "\n",
            "=== Iteration: 27 ===\n",
            "start time: 391.81\n",
            "ELBO: -580434.368557074\n",
            "Perplexity: 1874.0510658382436\n",
            "Coherence: -87.14983543113932\n",
            "\n",
            "=== Iteration: 28 ===\n",
            "start time: 406.14\n",
            "ELBO: -580433.5544137005\n",
            "Perplexity: 1874.0312569734476\n",
            "Coherence: -87.14959380308092\n",
            "\n",
            "=== Iteration: 29 ===\n",
            "start time: 420.67\n",
            "ELBO: -580432.8798156347\n",
            "Perplexity: 1874.0148435342805\n",
            "Coherence: -87.14936902392671\n",
            "\n",
            "=== Iteration: 30 ===\n",
            "start time: 434.91\n",
            "ELBO: -580432.3105231032\n",
            "Perplexity: 1874.0009923637008\n",
            "Coherence: -87.14915898176979\n",
            "\n",
            "=== Iteration: 31 ===\n",
            "start time: 449.31\n",
            "ELBO: -580431.8227364981\n",
            "Perplexity: 1873.9891243543063\n",
            "Coherence: -87.1489619283227\n",
            "\n",
            "=== Iteration: 32 ===\n",
            "start time: 463.92\n",
            "ELBO: -580431.3994187865\n",
            "Perplexity: 1873.9788249553255\n",
            "Coherence: -87.14877640166169\n",
            "\n",
            "=== Iteration: 33 ===\n",
            "start time: 478.51\n",
            "ELBO: -580431.0280593064\n",
            "Perplexity: 1873.9697897564324\n",
            "Coherence: -87.14860116809213\n",
            "\n",
            "=== Iteration: 34 ===\n",
            "start time: 493.25\n",
            "ELBO: -580430.6992615225\n",
            "Perplexity: 1873.9617901225697\n",
            "Coherence: -87.14843517782192\n",
            "\n",
            "=== Iteration: 35 ===\n",
            "start time: 508.22\n",
            "ELBO: -580430.4058231878\n",
            "Perplexity: 1873.9546508112014\n",
            "Coherence: -87.14827753073361\n",
            "\n",
            "=== Iteration: 36 ===\n",
            "start time: 524.72\n",
            "ELBO: -580430.1421195022\n",
            "Perplexity: 1873.9482349626612\n",
            "Coherence: -87.14812744965863\n",
            "\n",
            "=== Iteration: 37 ===\n",
            "start time: 539.46\n",
            "ELBO: -580429.9036979384\n",
            "Perplexity: 1873.9424342410969\n",
            "Coherence: -87.14798425928335\n",
            "\n",
            "=== Iteration: 38 ===\n",
            "start time: 554.06\n",
            "ELBO: -580429.6869694305\n",
            "Perplexity: 1873.9371613203298\n",
            "Coherence: -87.14784736933838\n",
            "\n",
            "=== Iteration: 39 ===\n",
            "start time: 568.73\n",
            "ELBO: -580429.4890182756\n",
            "Perplexity: 1873.9323452582612\n",
            "Coherence: -87.14771626107873\n",
            "\n",
            "=== Iteration: 40 ===\n",
            "start time: 583.36\n",
            "ELBO: -580429.3074432304\n",
            "Perplexity: 1873.9279276304208\n",
            "Coherence: -87.14759047631973\n",
            "\n",
            "=== Iteration: 41 ===\n",
            "start time: 598.17\n",
            "ELBO: -580429.140246573\n",
            "Perplexity: 1873.9238598305992\n",
            "Coherence: -87.14746960847376\n",
            "\n",
            "=== Iteration: 42 ===\n",
            "start time: 613.01\n",
            "ELBO: -580428.985739128\n",
            "Perplexity: 1873.9201007599654\n",
            "Coherence: -87.14735329517012\n",
            "\n",
            "=== Iteration: 43 ===\n",
            "start time: 627.69\n",
            "ELBO: -580428.8425098155\n",
            "Perplexity: 1873.91661608606\n",
            "Coherence: -87.14724121213733\n",
            "\n",
            "=== Iteration: 44 ===\n",
            "start time: 642.43\n",
            "ELBO: -580428.7093446838\n",
            "Perplexity: 1873.9133762727952\n",
            "Coherence: -87.14713306809753\n",
            "\n",
            "=== Iteration: 45 ===\n",
            "start time: 657.21\n",
            "ELBO: -580428.5851980497\n",
            "Perplexity: 1873.9103558782265\n",
            "Coherence: -87.1470286004823\n",
            "\n",
            "=== Iteration: 46 ===\n",
            "start time: 674.01\n",
            "ELBO: -580428.4691755744\n",
            "Perplexity: 1873.9075331427548\n",
            "Coherence: -87.14692757181538\n",
            "\n",
            "=== Iteration: 47 ===\n",
            "start time: 688.25\n",
            "ELBO: -580428.360494561\n",
            "Perplexity: 1873.9048890231293\n",
            "Coherence: -87.14682976664294\n",
            "\n",
            "=== Iteration: 48 ===\n",
            "start time: 702.63\n",
            "ELBO: -580428.2584718968\n",
            "Perplexity: 1873.9024068990525\n",
            "Coherence: -87.14673498891786\n",
            "\n",
            "=== Iteration: 49 ===\n",
            "start time: 717.08\n",
            "ELBO: -580428.1625073733\n",
            "Perplexity: 1873.9000721673542\n",
            "Coherence: -87.14664305975542\n",
            "\n",
            "=== Iteration: 50 ===\n",
            "start time: 731.69\n",
            "ELBO: -580428.0720738801\n",
            "Perplexity: 1873.8978720033804\n",
            "Coherence: -87.14655381550396\n",
            "\n",
            "=== Iteration: 51 ===\n",
            "start time: 746.2\n",
            "ELBO: -580427.9867060722\n",
            "Perplexity: 1873.8957950852532\n",
            "Coherence: -87.14646710607865\n",
            "\n",
            "=== Iteration: 52 ===\n",
            "start time: 760.64\n",
            "ELBO: -580427.905980816\n",
            "Perplexity: 1873.8938311181405\n",
            "Coherence: -87.14638279351061\n",
            "\n",
            "=== Iteration: 53 ===\n",
            "start time: 775.23\n",
            "ELBO: -580427.8295272326\n",
            "Perplexity: 1873.8919710785765\n",
            "Coherence: -87.14630075068925\n",
            "\n",
            "=== Iteration: 54 ===\n",
            "start time: 790.11\n",
            "ELBO: -580427.7570144099\n",
            "Perplexity: 1873.8902069155051\n",
            "Coherence: -87.14622086025982\n",
            "\n",
            "=== Iteration: 55 ===\n",
            "start time: 804.97\n",
            "ELBO: -580427.6881493537\n",
            "Perplexity: 1873.8885315004136\n",
            "Coherence: -87.14614301365637\n",
            "\n",
            "=== Iteration: 56 ===\n",
            "start time: 821.47\n",
            "ELBO: -580427.6226562597\n",
            "Perplexity: 1873.8869381230372\n",
            "Coherence: -87.14606711025266\n",
            "\n",
            "=== Iteration: 57 ===\n",
            "start time: 836.53\n",
            "ELBO: -580427.5602995557\n",
            "Perplexity: 1873.885421051956\n",
            "Coherence: -87.14599305661099\n",
            "\n",
            "=== Iteration: 58 ===\n",
            "start time: 851.19\n",
            "ELBO: -580427.5008521558\n",
            "Perplexity: 1873.88397476224\n",
            "Coherence: -87.14592076581796\n",
            "\n",
            "=== Iteration: 59 ===\n",
            "start time: 865.77\n",
            "ELBO: -580427.4441166224\n",
            "Perplexity: 1873.882594450285\n",
            "Coherence: -87.14585015689451\n",
            "\n",
            "=== Iteration: 60 ===\n",
            "start time: 880.47\n",
            "ELBO: -580427.3899152426\n",
            "Perplexity: 1873.8812757923947\n",
            "Coherence: -87.14578115427199\n",
            "\n",
            "=== Iteration: 61 ===\n",
            "start time: 895.15\n",
            "ELBO: -580427.3380724431\n",
            "Perplexity: 1873.8800145169525\n",
            "Coherence: -87.14571368732283\n",
            "\n",
            "=== Iteration: 62 ===\n",
            "start time: 909.8\n",
            "ELBO: -580427.2884497505\n",
            "Perplexity: 1873.87880725494\n",
            "Coherence: -87.14564768994113\n",
            "\n",
            "=== Iteration: 63 ===\n",
            "start time: 924.37\n",
            "ELBO: -580427.240894814\n",
            "Perplexity: 1873.8776502997425\n",
            "Coherence: -87.14558310016835\n",
            "\n",
            "=== Iteration: 64 ===\n",
            "start time: 939.16\n",
            "ELBO: -580427.1952944377\n",
            "Perplexity: 1873.8765408973456\n",
            "Coherence: -87.14551985985453\n",
            "\n",
            "=== Iteration: 65 ===\n",
            "start time: 953.75\n",
            "ELBO: -580427.1515195429\n",
            "Perplexity: 1873.8754759073413\n",
            "Coherence: -87.14545791435359\n",
            "\n",
            "=== Iteration: 66 ===\n",
            "start time: 970.27\n",
            "ELBO: -580427.1094633087\n",
            "Perplexity: 1873.8744527308315\n",
            "Coherence: -87.14539721224999\n",
            "\n",
            "=== Iteration: 67 ===\n",
            "start time: 984.71\n",
            "ELBO: -580427.0690333855\n",
            "Perplexity: 1873.8734691209968\n",
            "Coherence: -87.14533770511112\n",
            "\n",
            "=== Iteration: 68 ===\n",
            "start time: 999.12\n",
            "ELBO: -580427.0301307205\n",
            "Perplexity: 1873.8725226679435\n",
            "Coherence: -87.14527934725885\n",
            "\n",
            "=== Iteration: 69 ===\n",
            "start time: 1013.41\n",
            "ELBO: -580426.9926811133\n",
            "Perplexity: 1873.8716115664188\n",
            "Coherence: -87.14522209556972\n",
            "\n",
            "=== Iteration: 70 ===\n",
            "start time: 1027.82\n",
            "ELBO: -580426.9566018776\n",
            "Perplexity: 1873.8707338047138\n",
            "Coherence: -87.14516590928585\n",
            "\n",
            "=== Iteration: 71 ===\n",
            "start time: 1042.14\n",
            "ELBO: -580426.9217984247\n",
            "Perplexity: 1873.869887081565\n",
            "Coherence: -87.14511074984713\n",
            "\n",
            "=== Iteration: 72 ===\n",
            "start time: 1056.52\n",
            "ELBO: -580426.8882336186\n",
            "Perplexity: 1873.8690704934595\n",
            "Coherence: -87.14505658073682\n",
            "\n",
            "=== Iteration: 73 ===\n",
            "start time: 1070.97\n",
            "ELBO: -580426.8558206588\n",
            "Perplexity: 1873.868281928616\n",
            "Coherence: -87.14500336733957\n",
            "\n",
            "=== Iteration: 74 ===\n",
            "start time: 1085.49\n",
            "ELBO: -580426.8245142606\n",
            "Perplexity: 1873.8675202852783\n",
            "Coherence: -87.1449510768135\n",
            "\n",
            "=== Iteration: 75 ===\n",
            "start time: 1100.02\n",
            "ELBO: -580426.7942526353\n",
            "Perplexity: 1873.8667840601822\n",
            "Coherence: -87.13358504142684\n",
            "\n",
            "=== Iteration: 76 ===\n",
            "start time: 1115.97\n",
            "ELBO: -580426.7649844491\n",
            "Perplexity: 1873.8660720044131\n",
            "Coherence: -87.13353398418373\n",
            "\n",
            "=== Iteration: 77 ===\n",
            "start time: 1130.82\n",
            "ELBO: -580426.7366702096\n",
            "Perplexity: 1873.8653831571446\n",
            "Coherence: -87.13348376936185\n",
            "\n",
            "=== Iteration: 78 ===\n",
            "start time: 1145.5\n",
            "ELBO: -580426.7092620024\n",
            "Perplexity: 1873.8647163526634\n",
            "Coherence: -87.1334343698414\n",
            "\n",
            "=== Iteration: 79 ===\n",
            "start time: 1160.48\n",
            "ELBO: -580426.6826998332\n",
            "Perplexity: 1873.864070131366\n",
            "Coherence: -87.1333857597845\n",
            "\n",
            "=== Iteration: 80 ===\n",
            "start time: 1175.24\n",
            "ELBO: -580426.6569662243\n",
            "Perplexity: 1873.8634440680205\n",
            "Coherence: -87.13333791455598\n",
            "\n",
            "=== Iteration: 81 ===\n",
            "start time: 1189.86\n",
            "ELBO: -580426.6320118805\n",
            "Perplexity: 1873.8628369633248\n",
            "Coherence: -87.13329081064909\n",
            "\n",
            "=== Iteration: 82 ===\n",
            "start time: 1204.53\n",
            "ELBO: -580426.6078086407\n",
            "Perplexity: 1873.862248132138\n",
            "Coherence: -87.13324442561994\n",
            "\n",
            "=== Iteration: 83 ===\n",
            "start time: 1219.23\n",
            "ELBO: -580426.5843124196\n",
            "Perplexity: 1873.861676501911\n",
            "Coherence: -87.13319873802217\n",
            "\n",
            "=== Iteration: 84 ===\n",
            "start time: 1233.9\n",
            "ELBO: -580426.5615091274\n",
            "Perplexity: 1873.8611217298412\n",
            "Coherence: -87.13315372735059\n",
            "\n",
            "=== Iteration: 85 ===\n",
            "start time: 1248.65\n",
            "ELBO: -580426.539357532\n",
            "Perplexity: 1873.8605828127995\n",
            "Coherence: -87.13310937398697\n",
            "\n",
            "=== Iteration: 86 ===\n",
            "start time: 1265.13\n",
            "ELBO: -580426.5178305813\n",
            "Perplexity: 1873.8600590926264\n",
            "Coherence: -87.13306565914908\n",
            "\n",
            "=== Iteration: 87 ===\n",
            "start time: 1279.85\n",
            "ELBO: -580426.4969054176\n",
            "Perplexity: 1873.8595500132221\n",
            "Coherence: -87.13302256484471\n",
            "\n",
            "=== Iteration: 88 ===\n",
            "start time: 1294.52\n",
            "ELBO: -580426.4765522275\n",
            "Perplexity: 1873.859054849249\n",
            "Coherence: -87.13298007382784\n",
            "\n",
            "=== Iteration: 89 ===\n",
            "start time: 1309.3\n",
            "ELBO: -580426.4567571395\n",
            "Perplexity: 1873.8585732632284\n",
            "Coherence: -87.13293816955814\n",
            "\n",
            "=== Iteration: 90 ===\n",
            "start time: 1324.15\n",
            "ELBO: -580426.4374847988\n",
            "Perplexity: 1873.8581043950155\n",
            "Coherence: -87.13289683616327\n",
            "\n",
            "=== Iteration: 91 ===\n",
            "start time: 1338.78\n",
            "ELBO: -580426.4187305928\n",
            "Perplexity: 1873.8576481323842\n",
            "Coherence: -87.13285605840277\n",
            "\n",
            "=== Iteration: 92 ===\n",
            "start time: 1353.29\n",
            "ELBO: -580426.4004626906\n",
            "Perplexity: 1873.8572037009255\n",
            "Coherence: -87.13281582163654\n",
            "\n",
            "=== Iteration: 93 ===\n",
            "start time: 1367.68\n",
            "ELBO: -580426.382661369\n",
            "Perplexity: 1873.8567706207964\n",
            "Coherence: -87.13277611179208\n",
            "\n",
            "=== Iteration: 94 ===\n",
            "start time: 1381.92\n",
            "ELBO: -580426.3653195313\n",
            "Perplexity: 1873.8563487193326\n",
            "Coherence: -87.13273691533726\n",
            "\n",
            "=== Iteration: 95 ===\n",
            "start time: 1396.3\n",
            "ELBO: -580426.3484059278\n",
            "Perplexity: 1873.8559372362722\n",
            "Coherence: -87.13269821925212\n",
            "\n",
            "=== Iteration: 96 ===\n",
            "start time: 1413.32\n",
            "ELBO: -580426.3319118173\n",
            "Perplexity: 1873.8555359589454\n",
            "Coherence: -87.13266001100384\n",
            "\n",
            "=== Iteration: 97 ===\n",
            "start time: 1428.12\n",
            "ELBO: -580426.3158152509\n",
            "Perplexity: 1873.8551443533593\n",
            "Coherence: -87.13262227852205\n",
            "\n",
            "=== Iteration: 98 ===\n",
            "start time: 1443.12\n",
            "ELBO: -580426.3001265161\n",
            "Perplexity: 1873.8547626697944\n",
            "Coherence: -87.13258501017721\n",
            "\n",
            "=== Iteration: 99 ===\n",
            "start time: 1457.79\n",
            "ELBO: -580426.2848006671\n",
            "Perplexity: 1873.8543898147718\n",
            "Coherence: -87.13254819475964\n",
            "\n",
            "=== Iteration: 100 ===\n",
            "start time: 1472.41\n",
            "ELBO: -580426.269849963\n",
            "Perplexity: 1873.8540260865384\n",
            "Coherence: -87.13251182145882\n",
            "\n",
            "EM Algorithm 끝!\n"
          ]
        }
      ]
    },
    {
      "cell_type": "markdown",
      "source": [
        "# **4. Results**"
      ],
      "metadata": {
        "id": "0fdKo5ISwdiC"
      }
    },
    {
      "cell_type": "code",
      "source": [
        "import seaborn as sns\n",
        "from matplotlib.colors import to_hex\n",
        "from IPython.core.display import HTML, display"
      ],
      "metadata": {
        "id": "GfFeb8l6PpYH"
      },
      "execution_count": 23,
      "outputs": []
    },
    {
      "cell_type": "code",
      "source": [
        "## 학습 과정 시각화\n",
        "\n",
        "lda_vi.plot_result()"
      ],
      "metadata": {
        "id": "4MY20Yppt6eN",
        "colab": {
          "base_uri": "https://localhost:8080/",
          "height": 405
        },
        "outputId": "af3adcc0-b926-46f7-b999-5ae7274f74af"
      },
      "execution_count": 24,
      "outputs": [
        {
          "output_type": "display_data",
          "data": {
            "text/plain": [
              "<Figure size 1800x600 with 3 Axes>"
            ],
            "image/png": "[encoded data removed]"
          },
          "metadata": {}
        }
      ]
    },
    {
      "cell_type": "markdown",
      "source": [
        "## **4-1. topic별 상위 단어 시각화**"
      ],
      "metadata": {
        "id": "XxsCBbzEPjUj"
      }
    },
    {
      "cell_type": "code",
      "source": [
        "def plot_top_words(lda_model, index_to_vocab, top_n=10):\n",
        "  fig, axes = plt.subplots(2, 5, figsize=(15, 6), sharex=True)\n",
        "  axes = axes.flatten()\n",
        "  sns.set_palette(\"Set2\", top_n)\n",
        "\n",
        "  for topic_idx in range(lda_model.num_topic):\n",
        "    top_word_indices = np.argsort(lda_model.beta[topic_idx])[-top_n:][::-1]\n",
        "    top_words = [index_to_vocab[i] for i in top_word_indices]\n",
        "    weights = lda_model.beta[topic_idx, top_word_indices]\n",
        "\n",
        "    ax = axes[topic_idx]\n",
        "    ax.barh(top_words, weights, color=sns.color_palette(\"husl\", top_n))\n",
        "    ax.set_title(f'Topic {topic_idx + 1}')\n",
        "    ax.invert_yaxis()\n",
        "\n",
        "  plt.tight_layout()\n",
        "  plt.show()"
      ],
      "metadata": {
        "id": "7pJc7kXSPmPA"
      },
      "execution_count": 25,
      "outputs": []
    },
    {
      "cell_type": "code",
      "source": [
        "plot_top_words(lda_vi, i_t_v, top_n=10)"
      ],
      "metadata": {
        "colab": {
          "base_uri": "https://localhost:8080/",
          "height": 483
        },
        "id": "iD0qmfs9P0Bq",
        "outputId": "d636deed-4904-4450-8579-3bb5ca64987c"
      },
      "execution_count": 26,
      "outputs": [
        {
          "output_type": "display_data",
          "data": {
            "text/plain": [
              "<Figure size 1500x600 with 10 Axes>"
            ],
            "image/png": "[encoded data removed]"
          },
          "metadata": {}
        }
      ]
    },
    {
      "cell_type": "markdown",
      "source": [
        "## **4-2. Topic 분포 시각화**"
      ],
      "metadata": {
        "id": "OhUqes42P73J"
      }
    },
    {
      "cell_type": "code",
      "source": [
        "def plot_doc_topics(lda_model, num_docs=15, top_n=10):\n",
        "  num_docs = min(num_docs, lda_model.num_docs)\n",
        "  num_rows = (num_docs + 4) // 5\n",
        "  num_topics = lda_model.num_topic\n",
        "\n",
        "  fig, axes = plt.subplots(num_rows, 5, figsize=(20, 4 * num_rows), sharey=True)\n",
        "  sns.set_palette(\"Set2\", num_topics)\n",
        "\n",
        "  if num_rows == 1:\n",
        "    axes = np.expand_dims(axes, axis=0)\n",
        "\n",
        "  topic_labels = [f'{i + 1}' for i in range(num_topics)]\n",
        "\n",
        "  for idx in range(num_docs):\n",
        "    doc_topic_probs = lda_model.gamma[idx, :]\n",
        "    top_topic_indices = doc_topic_probs.argsort()[-top_n:][::-1]\n",
        "    weights = doc_topic_probs[top_topic_indices]\n",
        "\n",
        "    row_idx = idx // 5\n",
        "    col_idx = idx % 5\n",
        "    ax = axes[row_idx, col_idx]\n",
        "\n",
        "    ax.bar(topic_labels, weights, color=sns.color_palette(\"Set2\", num_topics))\n",
        "    ax.set_title(f'Doc {idx + 1}', fontsize=10)\n",
        "    ax.set_xlabel('Topics', fontsize=8)\n",
        "    ax.set_ylabel('Proportion', fontsize=8)\n",
        "    ax.set_xticks(range(num_topics))\n",
        "    ax.set_xticklabels(topic_labels, fontsize=8)\n",
        "\n",
        "  plt.tight_layout()\n",
        "  plt.show()"
      ],
      "metadata": {
        "id": "eg83s0BzP-L0"
      },
      "execution_count": 27,
      "outputs": []
    },
    {
      "cell_type": "code",
      "source": [
        "plot_doc_topics(lda_vi, num_docs=15, top_n=10)"
      ],
      "metadata": {
        "colab": {
          "base_uri": "https://localhost:8080/",
          "height": 720
        },
        "id": "1izU5us6QEof",
        "outputId": "6db79f83-e4de-4a51-e37d-1303b501c3d5"
      },
      "execution_count": 28,
      "outputs": [
        {
          "output_type": "display_data",
          "data": {
            "text/plain": [
              "<Figure size 2000x1200 with 15 Axes>"
            ],
            "image/png": "[encoded data removed]"
          },
          "metadata": {}
        }
      ]
    },
    {
      "cell_type": "markdown",
      "source": [
        "## **4-3. Topic 할당 시각화**"
      ],
      "metadata": {
        "id": "RyFfLYdRQFsw"
      }
    },
    {
      "cell_type": "code",
      "source": [
        "## Topic 별 색상 지정\n",
        "\n",
        "def generate_topic_colors(num_topics):\n",
        "  cmap = plt.get_cmap(\"Set2\", num_topics)\n",
        "  return [to_hex(cmap(i)) for i in range(num_topics)]"
      ],
      "metadata": {
        "id": "Mecf_S1pQItr"
      },
      "execution_count": 29,
      "outputs": []
    },
    {
      "cell_type": "code",
      "source": [
        "## 단어의 topic 할당 확인\n",
        "\n",
        "def get_topic_for_word(word, lda_model, vocab_to_index):\n",
        "  word_id = vocab_to_index.get(word)\n",
        "  if word_id is not None:\n",
        "    topic_probs = lda_model.beta[:, word_id]\n",
        "    return np.argmax(topic_probs)\n",
        "  return None"
      ],
      "metadata": {
        "id": "F1DjfKBfQLdu"
      },
      "execution_count": 30,
      "outputs": []
    },
    {
      "cell_type": "code",
      "source": [
        "def visualize_document(document, lda_model, vocab_to_index, topic_colors):\n",
        "  html_content = '<html><head><style>'\n",
        "  html_content += 'body {font-family: Arial, sans-serif;} '\n",
        "  html_content += '.word {padding: 2px; margin: 2px; display: inline-block;} '\n",
        "  html_content += '</style></head><body>'\n",
        "\n",
        "  for word in document:\n",
        "    word_id = vocab_to_index.get(word)\n",
        "    if word_id is not None:\n",
        "      topic = get_topic_for_word(word, lda_model, vocab_to_index)\n",
        "      if topic is not None:\n",
        "        color = topic_colors[topic]\n",
        "        html_content += f'<span class=\"word\" style=\"color: {color};\">{word}</span>'\n",
        "      else:\n",
        "        html_content += f'<span class=\"word\">{word}</span>'\n",
        "    else:\n",
        "      html_content += f'<span class=\"word\">{word}</span>'\n",
        "\n",
        "  html_content += '</body></html>'\n",
        "  display(HTML(html_content))"
      ],
      "metadata": {
        "id": "8CGjrp8ZQRCu"
      },
      "execution_count": 31,
      "outputs": []
    },
    {
      "cell_type": "code",
      "source": [
        "topic_colors = generate_topic_colors(num_topics=10)\n",
        "selected_docs = org_train_data[:15]\n",
        "for i, doc in enumerate(selected_docs):\n",
        "  print(f\"Document {i + 1}\")\n",
        "  visualize_document(doc, lda_vi, v_t_i, topic_colors)"
      ],
      "metadata": {
        "colab": {
          "base_uri": "https://localhost:8080/",
          "height": 822
        },
        "id": "U0mPycCPQXYd",
        "outputId": "daff0075-42de-4090-a043-5a89cf80ee22"
      },
      "execution_count": 32,
      "outputs": [
        {
          "output_type": "stream",
          "name": "stdout",
          "text": [
            "Document 1\n"
          ]
        },
        {
          "output_type": "display_data",
          "data": {
            "text/plain": [
              "<IPython.core.display.HTML object>"
            ],
            "text/html": [
              "<html><head><style>body {font-family: Arial, sans-serif;} .word {padding: 2px; margin: 2px; display: inline-block;} </style></head><body><span class=\"word\" style=\"color: #b3b3b3;\">confidence</span><span class=\"word\">in</span><span class=\"word\">the</span><span class=\"word\" style=\"color: #e78ac3;\">pound</span><span class=\"word\">is</span><span class=\"word\" style=\"color: #b3b3b3;\">widely</span><span class=\"word\" style=\"color: #66c2a5;\">expected</span><span class=\"word\">to</span><span class=\"word\" style=\"color: #b3b3b3;\">take</span><span class=\"word\">another</span><span class=\"word\" style=\"color: #b3b3b3;\">sharp</span><span class=\"word\">dive</span><span class=\"word\">if</span><span class=\"word\" style=\"color: #fc8d62;\">trade</span><span class=\"word\" style=\"color: #e78ac3;\">figures</span><span class=\"word\">for</span><span class=\"word\" style=\"color: #ffd92f;\">september</span><span class=\"word\">,</span><span class=\"word\">due</span><span class=\"word\">for</span><span class=\"word\" style=\"color: #b3b3b3;\">release</span><span class=\"word\" style=\"color: #a6d854;\">tomorrow</span><span class=\"word\">,</span><span class=\"word\">fail</span><span class=\"word\">to</span><span class=\"word\" style=\"color: #e78ac3;\">show</span><span class=\"word\">a</span><span class=\"word\" style=\"color: #b3b3b3;\">substantial</span><span class=\"word\" style=\"color: #fc8d62;\">improvement</span><span class=\"word\">from</span><span class=\"word\" style=\"color: #fc8d62;\">july</span><span class=\"word\">and</span><span class=\"word\" style=\"color: #66c2a5;\">august</span><span class=\"word\">'s</span><span class=\"word\">near-record</span><span class=\"word\">deficits</span><span class=\"word\">.</span></body></html>"
            ]
          },
          "metadata": {}
        },
        {
          "output_type": "stream",
          "name": "stdout",
          "text": [
            "Document 2\n"
          ]
        },
        {
          "output_type": "display_data",
          "data": {
            "text/plain": [
              "<IPython.core.display.HTML object>"
            ],
            "text/html": [
              "<html><head><style>body {font-family: Arial, sans-serif;} .word {padding: 2px; margin: 2px; display: inline-block;} </style></head><body><span class=\"word\" style=\"color: #b3b3b3;\">chancellor</span><span class=\"word\">of</span><span class=\"word\">the</span><span class=\"word\">exchequer</span><span class=\"word\">nigel</span><span class=\"word\" style=\"color: #b3b3b3;\">lawson</span><span class=\"word\">'s</span><span class=\"word\">restated</span><span class=\"word\" style=\"color: #e5c494;\">commitment</span><span class=\"word\">to</span><span class=\"word\">a</span><span class=\"word\" style=\"color: #66c2a5;\">firm</span><span class=\"word\" style=\"color: #e78ac3;\">monetary</span><span class=\"word\" style=\"color: #ffd92f;\">policy</span><span class=\"word\">has</span><span class=\"word\" style=\"color: #e78ac3;\">helped</span><span class=\"word\">to</span><span class=\"word\" style=\"color: #b3b3b3;\">prevent</span><span class=\"word\">a</span><span class=\"word\">freefall</span><span class=\"word\">in</span><span class=\"word\" style=\"color: #b3b3b3;\">sterling</span><span class=\"word\">over</span><span class=\"word\">the</span><span class=\"word\" style=\"color: #e5c494;\">past</span><span class=\"word\">week</span><span class=\"word\">.</span></body></html>"
            ]
          },
          "metadata": {}
        },
        {
          "output_type": "stream",
          "name": "stdout",
          "text": [
            "Document 3\n"
          ]
        },
        {
          "output_type": "display_data",
          "data": {
            "text/plain": [
              "<IPython.core.display.HTML object>"
            ],
            "text/html": [
              "<html><head><style>body {font-family: Arial, sans-serif;} .word {padding: 2px; margin: 2px; display: inline-block;} </style></head><body><span class=\"word\">but</span><span class=\"word\" style=\"color: #66c2a5;\">analysts</span><span class=\"word\">reckon</span><span class=\"word\" style=\"color: #66c2a5;\">underlying</span><span class=\"word\" style=\"color: #e5c494;\">support</span><span class=\"word\">for</span><span class=\"word\" style=\"color: #b3b3b3;\">sterling</span><span class=\"word\">has</span><span class=\"word\">been</span><span class=\"word\">eroded</span><span class=\"word\">by</span><span class=\"word\">the</span><span class=\"word\" style=\"color: #b3b3b3;\">chancellor</span><span class=\"word\">'s</span><span class=\"word\" style=\"color: #fc8d62;\">failure</span><span class=\"word\">to</span><span class=\"word\" style=\"color: #b3b3b3;\">announce</span><span class=\"word\">any</span><span class=\"word\" style=\"color: #8da0cb;\">new</span><span class=\"word\" style=\"color: #ffd92f;\">policy</span><span class=\"word\" style=\"color: #8da0cb;\">measures</span><span class=\"word\">in</span><span class=\"word\">his</span><span class=\"word\">mansion</span><span class=\"word\" style=\"color: #e78ac3;\">house</span><span class=\"word\" style=\"color: #66c2a5;\">speech</span><span class=\"word\">last</span><span class=\"word\">thursday</span><span class=\"word\">.</span></body></html>"
            ]
          },
          "metadata": {}
        },
        {
          "output_type": "stream",
          "name": "stdout",
          "text": [
            "Document 4\n"
          ]
        },
        {
          "output_type": "display_data",
          "data": {
            "text/plain": [
              "<IPython.core.display.HTML object>"
            ],
            "text/html": [
              "<html><head><style>body {font-family: Arial, sans-serif;} .word {padding: 2px; margin: 2px; display: inline-block;} </style></head><body><span class=\"word\">this</span><span class=\"word\">has</span><span class=\"word\" style=\"color: #8da0cb;\">increased</span><span class=\"word\">the</span><span class=\"word\" style=\"color: #8da0cb;\">risk</span><span class=\"word\">of</span><span class=\"word\">the</span><span class=\"word\" style=\"color: #b3b3b3;\">government</span><span class=\"word\" style=\"color: #e78ac3;\">being</span><span class=\"word\" style=\"color: #a6d854;\">forced</span><span class=\"word\">to</span><span class=\"word\" style=\"color: #b3b3b3;\">increase</span><span class=\"word\" style=\"color: #ffd92f;\">base</span><span class=\"word\" style=\"color: #a6d854;\">rates</span><span class=\"word\">to</span><span class=\"word\">16</span><span class=\"word\">%</span><span class=\"word\">from</span><span class=\"word\">their</span><span class=\"word\" style=\"color: #8da0cb;\">current</span><span class=\"word\">15</span><span class=\"word\">%</span><span class=\"word\" style=\"color: #8da0cb;\">level</span><span class=\"word\">to</span><span class=\"word\">defend</span><span class=\"word\">the</span><span class=\"word\" style=\"color: #e78ac3;\">pound</span><span class=\"word\">,</span><span class=\"word\" style=\"color: #a6d854;\">economists</span><span class=\"word\">and</span><span class=\"word\" style=\"color: #a6d854;\">foreign</span><span class=\"word\" style=\"color: #a6d854;\">exchange</span><span class=\"word\" style=\"color: #fc8d62;\">market</span><span class=\"word\" style=\"color: #66c2a5;\">analysts</span><span class=\"word\" style=\"color: #b3b3b3;\">say</span><span class=\"word\">.</span></body></html>"
            ]
          },
          "metadata": {}
        },
        {
          "output_type": "stream",
          "name": "stdout",
          "text": [
            "Document 5\n"
          ]
        },
        {
          "output_type": "display_data",
          "data": {
            "text/plain": [
              "<IPython.core.display.HTML object>"
            ],
            "text/html": [
              "<html><head><style>body {font-family: Arial, sans-serif;} .word {padding: 2px; margin: 2px; display: inline-block;} </style></head><body><span class=\"word\">``</span><span class=\"word\">the</span><span class=\"word\" style=\"color: #b3b3b3;\">risks</span><span class=\"word\">for</span><span class=\"word\" style=\"color: #b3b3b3;\">sterling</span><span class=\"word\">of</span><span class=\"word\">a</span><span class=\"word\" style=\"color: #ffd92f;\">bad</span><span class=\"word\" style=\"color: #fc8d62;\">trade</span><span class=\"word\" style=\"color: #e5c494;\">figure</span><span class=\"word\">are</span><span class=\"word\">very</span><span class=\"word\" style=\"color: #b3b3b3;\">heavily</span><span class=\"word\">on</span><span class=\"word\">the</span><span class=\"word\" style=\"color: #66c2a5;\">down</span><span class=\"word\" style=\"color: #66c2a5;\">side</span><span class=\"word\">,</span><span class=\"word\">''</span><span class=\"word\">said</span><span class=\"word\">chris</span><span class=\"word\">dillow</span><span class=\"word\">,</span><span class=\"word\" style=\"color: #a6d854;\">senior</span><span class=\"word\">u.k.</span><span class=\"word\" style=\"color: #b3b3b3;\">economist</span><span class=\"word\">at</span><span class=\"word\">nomura</span><span class=\"word\" style=\"color: #66c2a5;\">research</span><span class=\"word\" style=\"color: #b3b3b3;\">institute</span><span class=\"word\">.</span></body></html>"
            ]
          },
          "metadata": {}
        },
        {
          "output_type": "stream",
          "name": "stdout",
          "text": [
            "Document 6\n"
          ]
        },
        {
          "output_type": "display_data",
          "data": {
            "text/plain": [
              "<IPython.core.display.HTML object>"
            ],
            "text/html": [
              "<html><head><style>body {font-family: Arial, sans-serif;} .word {padding: 2px; margin: 2px; display: inline-block;} </style></head><body><span class=\"word\">``</span><span class=\"word\">if</span><span class=\"word\">there</span><span class=\"word\">is</span><span class=\"word\">another</span><span class=\"word\" style=\"color: #ffd92f;\">bad</span><span class=\"word\" style=\"color: #fc8d62;\">trade</span><span class=\"word\" style=\"color: #66c2a5;\">number</span><span class=\"word\">,</span><span class=\"word\">there</span><span class=\"word\">could</span><span class=\"word\">be</span><span class=\"word\">an</span><span class=\"word\">awful</span><span class=\"word\" style=\"color: #e78ac3;\">lot</span><span class=\"word\">of</span><span class=\"word\" style=\"color: #e78ac3;\">pressure</span><span class=\"word\">,</span><span class=\"word\">''</span><span class=\"word\" style=\"color: #66c2a5;\">noted</span><span class=\"word\">simon</span><span class=\"word\">briscoe</span><span class=\"word\">,</span><span class=\"word\">u.k.</span><span class=\"word\" style=\"color: #b3b3b3;\">economist</span><span class=\"word\">for</span><span class=\"word\">midland</span><span class=\"word\">montagu</span><span class=\"word\">,</span><span class=\"word\">a</span><span class=\"word\" style=\"color: #66c2a5;\">unit</span><span class=\"word\">of</span><span class=\"word\">midland</span><span class=\"word\" style=\"color: #e5c494;\">bank</span><span class=\"word\" style=\"color: #a6d854;\">plc</span><span class=\"word\">.</span></body></html>"
            ]
          },
          "metadata": {}
        },
        {
          "output_type": "stream",
          "name": "stdout",
          "text": [
            "Document 7\n"
          ]
        },
        {
          "output_type": "display_data",
          "data": {
            "text/plain": [
              "<IPython.core.display.HTML object>"
            ],
            "text/html": [
              "<html><head><style>body {font-family: Arial, sans-serif;} .word {padding: 2px; margin: 2px; display: inline-block;} </style></head><body><span class=\"word\" style=\"color: #b3b3b3;\">forecasts</span><span class=\"word\">for</span><span class=\"word\">the</span><span class=\"word\" style=\"color: #fc8d62;\">trade</span><span class=\"word\" style=\"color: #e78ac3;\">figures</span><span class=\"word\" style=\"color: #66c2a5;\">range</span><span class=\"word\" style=\"color: #b3b3b3;\">widely</span><span class=\"word\">,</span><span class=\"word\">but</span><span class=\"word\">few</span><span class=\"word\" style=\"color: #a6d854;\">economists</span><span class=\"word\" style=\"color: #66c2a5;\">expect</span><span class=\"word\">the</span><span class=\"word\" style=\"color: #8da0cb;\">data</span><span class=\"word\">to</span><span class=\"word\" style=\"color: #e78ac3;\">show</span><span class=\"word\">a</span><span class=\"word\">very</span><span class=\"word\">marked</span><span class=\"word\" style=\"color: #fc8d62;\">improvement</span><span class=\"word\">from</span><span class=\"word\">the</span><span class=\"word\">#</span><span class=\"word\">2</span><span class=\"word\" style=\"color: #e78ac3;\">billion</span><span class=\"word\">-lrb-</span><span class=\"word\">$</span><span class=\"word\">3.2</span><span class=\"word\" style=\"color: #e78ac3;\">billion</span><span class=\"word\">-rrb-</span><span class=\"word\" style=\"color: #66c2a5;\">deficit</span><span class=\"word\">in</span><span class=\"word\">the</span><span class=\"word\" style=\"color: #8da0cb;\">current</span><span class=\"word\" style=\"color: #b3b3b3;\">account</span><span class=\"word\" style=\"color: #e78ac3;\">reported</span><span class=\"word\">for</span><span class=\"word\" style=\"color: #66c2a5;\">august</span><span class=\"word\">.</span></body></html>"
            ]
          },
          "metadata": {}
        },
        {
          "output_type": "stream",
          "name": "stdout",
          "text": [
            "Document 8\n"
          ]
        },
        {
          "output_type": "display_data",
          "data": {
            "text/plain": [
              "<IPython.core.display.HTML object>"
            ],
            "text/html": [
              "<html><head><style>body {font-family: Arial, sans-serif;} .word {padding: 2px; margin: 2px; display: inline-block;} </style></head><body><span class=\"word\">the</span><span class=\"word\" style=\"color: #66c2a5;\">august</span><span class=\"word\" style=\"color: #66c2a5;\">deficit</span><span class=\"word\">and</span><span class=\"word\">the</span><span class=\"word\">#</span><span class=\"word\">2.2</span><span class=\"word\" style=\"color: #e78ac3;\">billion</span><span class=\"word\" style=\"color: #fc8d62;\">gap</span><span class=\"word\" style=\"color: #8da0cb;\">registered</span><span class=\"word\">in</span><span class=\"word\" style=\"color: #fc8d62;\">july</span><span class=\"word\">are</span><span class=\"word\">topped</span><span class=\"word\">only</span><span class=\"word\">by</span><span class=\"word\">the</span><span class=\"word\">#</span><span class=\"word\">2.3</span><span class=\"word\" style=\"color: #e78ac3;\">billion</span><span class=\"word\" style=\"color: #66c2a5;\">deficit</span><span class=\"word\">of</span><span class=\"word\" style=\"color: #66c2a5;\">october</span><span class=\"word\">1988</span><span class=\"word\">.</span></body></html>"
            ]
          },
          "metadata": {}
        },
        {
          "output_type": "stream",
          "name": "stdout",
          "text": [
            "Document 9\n"
          ]
        },
        {
          "output_type": "display_data",
          "data": {
            "text/plain": [
              "<IPython.core.display.HTML object>"
            ],
            "text/html": [
              "<html><head><style>body {font-family: Arial, sans-serif;} .word {padding: 2px; margin: 2px; display: inline-block;} </style></head><body><span class=\"word\">sanjay</span><span class=\"word\">joshi</span><span class=\"word\">,</span><span class=\"word\" style=\"color: #fc8d62;\">european</span><span class=\"word\" style=\"color: #b3b3b3;\">economist</span><span class=\"word\">at</span><span class=\"word\">baring</span><span class=\"word\" style=\"color: #ffd92f;\">brothers</span><span class=\"word\">&</span><span class=\"word\">co.</span><span class=\"word\">,</span><span class=\"word\">said</span><span class=\"word\">there</span><span class=\"word\">is</span><span class=\"word\">no</span><span class=\"word\" style=\"color: #66c2a5;\">sign</span><span class=\"word\">that</span><span class=\"word\" style=\"color: #fc8d62;\">britain</span><span class=\"word\">'s</span><span class=\"word\" style=\"color: #a6d854;\">manufacturing</span><span class=\"word\" style=\"color: #66c2a5;\">industry</span><span class=\"word\">is</span><span class=\"word\">transforming</span><span class=\"word\" style=\"color: #b3b3b3;\">itself</span><span class=\"word\">to</span><span class=\"word\" style=\"color: #e78ac3;\">boost</span><span class=\"word\" style=\"color: #b3b3b3;\">exports</span><span class=\"word\">.</span></body></html>"
            ]
          },
          "metadata": {}
        },
        {
          "output_type": "stream",
          "name": "stdout",
          "text": [
            "Document 10\n"
          ]
        },
        {
          "output_type": "display_data",
          "data": {
            "text/plain": [
              "<IPython.core.display.HTML object>"
            ],
            "text/html": [
              "<html><head><style>body {font-family: Arial, sans-serif;} .word {padding: 2px; margin: 2px; display: inline-block;} </style></head><body><span class=\"word\">at</span><span class=\"word\">the</span><span class=\"word\" style=\"color: #fc8d62;\">same</span><span class=\"word\" style=\"color: #e78ac3;\">time</span><span class=\"word\">,</span><span class=\"word\">he</span><span class=\"word\" style=\"color: #a6d854;\">remains</span><span class=\"word\" style=\"color: #b3b3b3;\">fairly</span><span class=\"word\">pessimistic</span><span class=\"word\">about</span><span class=\"word\">the</span><span class=\"word\" style=\"color: #e5c494;\">outlook</span><span class=\"word\">for</span><span class=\"word\" style=\"color: #a6d854;\">imports</span><span class=\"word\">,</span><span class=\"word\" style=\"color: #a6d854;\">given</span><span class=\"word\" style=\"color: #b3b3b3;\">continued</span><span class=\"word\" style=\"color: #b3b3b3;\">high</span><span class=\"word\" style=\"color: #e78ac3;\">consumer</span><span class=\"word\">and</span><span class=\"word\" style=\"color: #e78ac3;\">capital</span><span class=\"word\" style=\"color: #a6d854;\">goods</span><span class=\"word\">inflows</span><span class=\"word\">.</span></body></html>"
            ]
          },
          "metadata": {}
        },
        {
          "output_type": "stream",
          "name": "stdout",
          "text": [
            "Document 11\n"
          ]
        },
        {
          "output_type": "display_data",
          "data": {
            "text/plain": [
              "<IPython.core.display.HTML object>"
            ],
            "text/html": [
              "<html><head><style>body {font-family: Arial, sans-serif;} .word {padding: 2px; margin: 2px; display: inline-block;} </style></head><body><span class=\"word\">he</span><span class=\"word\">reckons</span><span class=\"word\">the</span><span class=\"word\" style=\"color: #8da0cb;\">current</span><span class=\"word\" style=\"color: #b3b3b3;\">account</span><span class=\"word\" style=\"color: #66c2a5;\">deficit</span><span class=\"word\">will</span><span class=\"word\" style=\"color: #a6d854;\">narrow</span><span class=\"word\">to</span><span class=\"word\">only</span><span class=\"word\">#</span><span class=\"word\">1.8</span><span class=\"word\" style=\"color: #e78ac3;\">billion</span><span class=\"word\">in</span><span class=\"word\" style=\"color: #ffd92f;\">september</span><span class=\"word\">.</span></body></html>"
            ]
          },
          "metadata": {}
        },
        {
          "output_type": "stream",
          "name": "stdout",
          "text": [
            "Document 12\n"
          ]
        },
        {
          "output_type": "display_data",
          "data": {
            "text/plain": [
              "<IPython.core.display.HTML object>"
            ],
            "text/html": [
              "<html><head><style>body {font-family: Arial, sans-serif;} .word {padding: 2px; margin: 2px; display: inline-block;} </style></head><body><span class=\"word\">however</span><span class=\"word\">,</span><span class=\"word\">mr.</span><span class=\"word\">dillow</span><span class=\"word\">said</span><span class=\"word\">he</span><span class=\"word\" style=\"color: #fc8d62;\">believes</span><span class=\"word\">that</span><span class=\"word\">a</span><span class=\"word\" style=\"color: #b3b3b3;\">reduction</span><span class=\"word\">in</span><span class=\"word\">raw</span><span class=\"word\" style=\"color: #a6d854;\">material</span><span class=\"word\">stockbuilding</span><span class=\"word\">by</span><span class=\"word\" style=\"color: #66c2a5;\">industry</span><span class=\"word\">could</span><span class=\"word\" style=\"color: #e5c494;\">lead</span><span class=\"word\">to</span><span class=\"word\">a</span><span class=\"word\" style=\"color: #b3b3b3;\">sharp</span><span class=\"word\" style=\"color: #66c2a5;\">drop</span><span class=\"word\">in</span><span class=\"word\" style=\"color: #a6d854;\">imports</span><span class=\"word\">.</span></body></html>"
            ]
          },
          "metadata": {}
        },
        {
          "output_type": "stream",
          "name": "stdout",
          "text": [
            "Document 13\n"
          ]
        },
        {
          "output_type": "display_data",
          "data": {
            "text/plain": [
              "<IPython.core.display.HTML object>"
            ],
            "text/html": [
              "<html><head><style>body {font-family: Arial, sans-serif;} .word {padding: 2px; margin: 2px; display: inline-block;} </style></head><body><span class=\"word\" style=\"color: #ffd92f;\">combined</span><span class=\"word\">with</span><span class=\"word\">at</span><span class=\"word\" style=\"color: #a6d854;\">least</span><span class=\"word\">some</span><span class=\"word\" style=\"color: #e78ac3;\">rebound</span><span class=\"word\">in</span><span class=\"word\" style=\"color: #b3b3b3;\">exports</span><span class=\"word\">after</span><span class=\"word\" style=\"color: #66c2a5;\">august</span><span class=\"word\">'s</span><span class=\"word\">unexpected</span><span class=\"word\" style=\"color: #b3b3b3;\">decline</span><span class=\"word\">,</span><span class=\"word\">the</span><span class=\"word\" style=\"color: #66c2a5;\">deficit</span><span class=\"word\">could</span><span class=\"word\" style=\"color: #a6d854;\">narrow</span><span class=\"word\">to</span><span class=\"word\">as</span><span class=\"word\" style=\"color: #e5c494;\">little</span><span class=\"word\">as</span><span class=\"word\">#</span><span class=\"word\">1.3</span><span class=\"word\" style=\"color: #e78ac3;\">billion</span><span class=\"word\">.</span></body></html>"
            ]
          },
          "metadata": {}
        },
        {
          "output_type": "stream",
          "name": "stdout",
          "text": [
            "Document 14\n"
          ]
        },
        {
          "output_type": "display_data",
          "data": {
            "text/plain": [
              "<IPython.core.display.HTML object>"
            ],
            "text/html": [
              "<html><head><style>body {font-family: Arial, sans-serif;} .word {padding: 2px; margin: 2px; display: inline-block;} </style></head><body><span class=\"word\">mr.</span><span class=\"word\">briscoe</span><span class=\"word\">,</span><span class=\"word\">who</span><span class=\"word\">also</span><span class=\"word\" style=\"color: #b3b3b3;\">forecasts</span><span class=\"word\">a</span><span class=\"word\">#</span><span class=\"word\">1.3</span><span class=\"word\" style=\"color: #e78ac3;\">billion</span><span class=\"word\" style=\"color: #8da0cb;\">current</span><span class=\"word\" style=\"color: #b3b3b3;\">account</span><span class=\"word\" style=\"color: #fc8d62;\">gap</span><span class=\"word\">,</span><span class=\"word\">warns</span><span class=\"word\">that</span><span class=\"word\">even</span><span class=\"word\">if</span><span class=\"word\">the</span><span class=\"word\" style=\"color: #fc8d62;\">trade</span><span class=\"word\" style=\"color: #e78ac3;\">figures</span><span class=\"word\">are</span><span class=\"word\" style=\"color: #ffd92f;\">bullish</span><span class=\"word\">for</span><span class=\"word\" style=\"color: #b3b3b3;\">sterling</span><span class=\"word\">,</span><span class=\"word\">the</span><span class=\"word\" style=\"color: #a6d854;\">currency</span><span class=\"word\" style=\"color: #8da0cb;\">wo</span><span class=\"word\">n't</span><span class=\"word\" style=\"color: #fc8d62;\">advance</span><span class=\"word\">much</span><span class=\"word\">because</span><span class=\"word\" style=\"color: #66c2a5;\">investors</span><span class=\"word\">will</span><span class=\"word\" style=\"color: #b3b3b3;\">want</span><span class=\"word\">to</span><span class=\"word\" style=\"color: #e5c494;\">see</span><span class=\"word\" style=\"color: #66c2a5;\">further</span><span class=\"word\" style=\"color: #b3b3b3;\">evidence</span><span class=\"word\">of</span><span class=\"word\">the</span><span class=\"word\" style=\"color: #b3b3b3;\">turnaround</span><span class=\"word\">before</span><span class=\"word\">adjusting</span><span class=\"word\" style=\"color: #fc8d62;\">positions</span><span class=\"word\">.</span></body></html>"
            ]
          },
          "metadata": {}
        },
        {
          "output_type": "stream",
          "name": "stdout",
          "text": [
            "Document 15\n"
          ]
        },
        {
          "output_type": "display_data",
          "data": {
            "text/plain": [
              "<IPython.core.display.HTML object>"
            ],
            "text/html": [
              "<html><head><style>body {font-family: Arial, sans-serif;} .word {padding: 2px; margin: 2px; display: inline-block;} </style></head><body><span class=\"word\" style=\"color: #66c2a5;\">nevertheless</span><span class=\"word\">,</span><span class=\"word\">he</span><span class=\"word\" style=\"color: #66c2a5;\">noted</span><span class=\"word\">,</span><span class=\"word\">``</span><span class=\"word\">no</span><span class=\"word\">one</span><span class=\"word\">will</span><span class=\"word\" style=\"color: #b3b3b3;\">want</span><span class=\"word\">to</span><span class=\"word\" style=\"color: #66c2a5;\">go</span><span class=\"word\">into</span><span class=\"word\">the</span><span class=\"word\" style=\"color: #fc8d62;\">trade</span><span class=\"word\" style=\"color: #e78ac3;\">figures</span><span class=\"word\" style=\"color: #e78ac3;\">without</span><span class=\"word\">a</span><span class=\"word\" style=\"color: #a6d854;\">flat</span><span class=\"word\" style=\"color: #e78ac3;\">position</span><span class=\"word\">''</span><span class=\"word\">in</span><span class=\"word\">the</span><span class=\"word\" style=\"color: #e78ac3;\">pound</span><span class=\"word\">.</span></body></html>"
            ]
          },
          "metadata": {}
        }
      ]
    },
    {
      "cell_type": "code",
      "source": [],
      "metadata": {
        "id": "Y2rThy2jSlEj"
      },
      "execution_count": null,
      "outputs": []
    }
  ]
}