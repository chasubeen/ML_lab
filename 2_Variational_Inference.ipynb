{
  "nbformat": 4,
  "nbformat_minor": 0,
  "metadata": {
    "colab": {
      "provenance": [],
      "include_colab_link": true
    },
    "kernelspec": {
      "name": "python3",
      "display_name": "Python 3"
    },
    "language_info": {
      "name": "python"
    }
  },
  "cells": [
    {
      "cell_type": "markdown",
      "metadata": {
        "id": "view-in-github",
        "colab_type": "text"
      },
      "source": [
        "<a href=\"https://colab.research.google.com/github/chasubeen/ML_lab/blob/main/2_Variational_Inference.ipynb\" target=\"_parent\"><img src=\"https://colab.research.google.com/assets/colab-badge.svg\" alt=\"Open In Colab\"/></a>"
      ]
    },
    {
      "cell_type": "code",
      "source": [
        "import time\n",
        "import os\n",
        "import re\n",
        "import numpy as np\n",
        "import matplotlib.pyplot as plt\n",
        "import copy\n",
        "from collections import defaultdict\n",
        "from scipy.special import digamma, polygamma, loggamma"
      ],
      "metadata": {
        "id": "SpkcsGAvAsYi"
      },
      "execution_count": null,
      "outputs": []
    },
    {
      "cell_type": "markdown",
      "source": [
        "# **1. Preprocessing**"
      ],
      "metadata": {
        "id": "badhYe8TjrpX"
      }
    },
    {
      "cell_type": "markdown",
      "source": [
        "## **1-1. Load data**"
      ],
      "metadata": {
        "id": "_Gx_9utFkNiN"
      }
    },
    {
      "cell_type": "code",
      "source": [
        "from google.colab import drive\n",
        "drive.mount('/content/drive')"
      ],
      "metadata": {
        "colab": {
          "base_uri": "https://localhost:8080/"
        },
        "id": "cUa6BHK3j0_6",
        "outputId": "434fe2d0-4c10-4481-c2e9-238ef9d51a0c"
      },
      "execution_count": null,
      "outputs": [
        {
          "output_type": "stream",
          "name": "stdout",
          "text": [
            "Mounted at /content/drive\n"
          ]
        }
      ]
    },
    {
      "cell_type": "code",
      "source": [
        "# data path\n",
        "\n",
        "train_path = \"/content/drive/MyDrive/ML_lab/2_LDA/data/pos_tag/train.txt\"\n",
        "test_path = \"/content/drive/MyDrive/ML_lab/2_LDA/data/pos_tag/test.txt\""
      ],
      "metadata": {
        "id": "TfZ8ZwHjjw6t"
      },
      "execution_count": null,
      "outputs": []
    },
    {
      "cell_type": "code",
      "source": [
        "def read_file(path):\n",
        "  raw = open(path, 'r').read().split('\\n') # 파일을 읽어와 줄마다 나누기\n",
        "  data, doc = list(), list()\n",
        "\n",
        "  for i, line in enumerate(raw):\n",
        "    if line.strip(): # 빈 줄이 아니면\n",
        "      word = line.split(' ')[0].lower() # 단어를 얻어온 후 소문자로 변환\n",
        "      doc.append(word)\n",
        "    else:\n",
        "      data.append(doc) # EOD(End Of Document)\n",
        "      doc = list()\n",
        "  data.append(doc) # 맨 마지막 문서 추가\n",
        "\n",
        "  return data"
      ],
      "metadata": {
        "id": "rbh73TnykXzf"
      },
      "execution_count": null,
      "outputs": []
    },
    {
      "cell_type": "code",
      "source": [
        "# 데이터 불러오기\n",
        "org_train_data = read_file(train_path)\n",
        "org_test_data = read_file(test_path)\n",
        "\n",
        "# 맨 마지막 문서는 제거\n",
        "del org_train_data[-1], org_test_data[-1]"
      ],
      "metadata": {
        "id": "PrbMLqzHkn_y"
      },
      "execution_count": null,
      "outputs": []
    },
    {
      "cell_type": "markdown",
      "source": [
        "## **1-2. Preprocess Data**"
      ],
      "metadata": {
        "id": "gPInqBrgmRB5"
      }
    },
    {
      "cell_type": "code",
      "source": [
        "# some words that we do not want to consider\n",
        "stopwords = [\"\", \" \", 'the', 'to', 'of', 'a', 'and', 'in', 'for', \"s\", 'that', 'is', 'said', 'mr', 'on', 'by',\n",
        "             'it', 'as', 'was', 'at', 'with', 'from', 'its', 'an', 'has', 'he', 'be', 'but', 'are', 'will',\n",
        "             'have', 'or', \"nt\", 'his', 'they', 'were', 'this', 'which', 'would', 'about', 'year', 'had', 'been',\n",
        "             'more', 'than', 'who', 'up', 'also', 'other', 'after', 'we', 'says', 'their', 'one', 'two', 'lrb',\n",
        "             'rrb', 'years', 'when', 'some', 'may', 'could', 'quarter', 'yesterday', 'most', 'not', 'if',\n",
        "             'because', 'there', 'first', 'i', 'any', 'last', 'monday', 'tuesday', 'wednesday', 'thursday', 'friday',\n",
        "             'saturday', 'sunday', 'before', 'no', 'week', 'much', 'so', 'such', 'can', 'while', 'into', 'do',\n",
        "             'then', 'many', 'out', 'less', 'against', 'even', 'under', 'only', 'since', 'however', 'over', 'among',\n",
        "             'between', 'them', 'him', 'those', 'did', 'you', 'still', 'these', 'three', 'own', 'second', 'off',\n",
        "             'all', 'what', 'both', 'day', 'now', 'yet', 'during', 'according', 'including', 'she', 'my', 'days',\n",
        "             'due', 'your', 'her', 'another', 'just', 'does', 'our', 'how', 'through', 'where', 'too', 'very', 'each',\n",
        "             'days', 'month', 'months', 'should', 'several', 'few', 'ago']"
      ],
      "metadata": {
        "id": "HG_s50dnmZnF"
      },
      "execution_count": null,
      "outputs": []
    },
    {
      "cell_type": "code",
      "source": [
        "## remove numbers, special characters, etc.\n",
        "# only consider words with alphabet\n",
        "\n",
        "def only_alphabet(corpus,stopword_list=stopwords):\n",
        "  data = list()\n",
        "  for doc in corpus:\n",
        "    temp = list()\n",
        "    for word in doc:\n",
        "      word = re.sub('[^a-z]', '', word)\n",
        "      if word not in stopwords:\n",
        "        temp.append(word)\n",
        "    data.append(temp)\n",
        "\n",
        "  return data"
      ],
      "metadata": {
        "id": "NvEnFdubuMMz"
      },
      "execution_count": null,
      "outputs": []
    },
    {
      "cell_type": "code",
      "source": [
        "train_data = only_alphabet(org_train_data)\n",
        "test_data = only_alphabet(org_test_data)"
      ],
      "metadata": {
        "id": "6Cgy8v8ompb8"
      },
      "execution_count": null,
      "outputs": []
    },
    {
      "cell_type": "code",
      "source": [
        "## count word occurrence in corpus\n",
        "\n",
        "def count_vocab(corpus):\n",
        "  vocab = defaultdict(int) # dictionary 형태로 word occurence를 기록\n",
        "  for doc in corpus:\n",
        "    for word in doc:\n",
        "      vocab[word] += 1\n",
        "\n",
        "  return vocab"
      ],
      "metadata": {
        "id": "vTT8x1YImv8S"
      },
      "execution_count": null,
      "outputs": []
    },
    {
      "cell_type": "code",
      "source": [
        "vocab_count = count_vocab(train_data)"
      ],
      "metadata": {
        "id": "7y76zEHArmov"
      },
      "execution_count": null,
      "outputs": []
    },
    {
      "cell_type": "code",
      "source": [
        "## 특정 빈도수 이상인 단어들만 고려\n",
        "# sparse한 단어는 무시\n",
        "\n",
        "def vocab_top(vocab,cnt):\n",
        "  return {voca: count for voca, count in vocab.items() if count > cnt}"
      ],
      "metadata": {
        "id": "ggNlOiM1rqgE"
      },
      "execution_count": null,
      "outputs": []
    },
    {
      "cell_type": "code",
      "source": [
        "vocab_count = vocab_top(vocab_count,cnt = 5)"
      ],
      "metadata": {
        "id": "Biqdzl-8sbsi"
      },
      "execution_count": null,
      "outputs": []
    },
    {
      "cell_type": "code",
      "source": [
        "## filter out low-occurrence words\n",
        "\n",
        "def filter_vocab(corpus, vocab):\n",
        "    vocab_set = set(vocab)\n",
        "    return [\n",
        "        [word for word in doc if word in vocab_set] for doc in corpus\n",
        "    ]"
      ],
      "metadata": {
        "id": "QKFK8zuwsg9t"
      },
      "execution_count": null,
      "outputs": []
    },
    {
      "cell_type": "code",
      "source": [
        "train_data = filter_vocab(train_data,vocab_count)\n",
        "test_data = filter_vocab(test_data,vocab_count)"
      ],
      "metadata": {
        "id": "d1PgDw-Ds5OL"
      },
      "execution_count": null,
      "outputs": []
    },
    {
      "cell_type": "code",
      "source": [
        "## construct voca-index-matching dictionary\n",
        "\n",
        "def voca_index(vocab):\n",
        "  vocab_to_index = {voca: i for i, voca in enumerate(vocab.keys())}\n",
        "  index_to_vocab = {i: voca for i, voca in enumerate(vocab.keys())}\n",
        "\n",
        "  return vocab_to_index, index_to_vocab"
      ],
      "metadata": {
        "id": "pl9QYCl0s82P"
      },
      "execution_count": null,
      "outputs": []
    },
    {
      "cell_type": "code",
      "source": [
        "v_t_i, i_t_v = voca_index(vocab_count)"
      ],
      "metadata": {
        "id": "4nJ2IzIttOtX"
      },
      "execution_count": null,
      "outputs": []
    },
    {
      "cell_type": "code",
      "source": [
        "## convert corpus-with-words to corpus-with-index\n",
        "\n",
        "def corpus_to_index(corpus,vocab_to_index):\n",
        "  return [[vocab_to_index[word] for word in doc] for doc in corpus]"
      ],
      "metadata": {
        "id": "bbbnUBVQtRba"
      },
      "execution_count": null,
      "outputs": []
    },
    {
      "cell_type": "code",
      "source": [
        "train_data_idx = corpus_to_index(train_data,v_t_i)\n",
        "test_data_idx = corpus_to_index(test_data,v_t_i)"
      ],
      "metadata": {
        "id": "ZlpCKhKvuR9j"
      },
      "execution_count": null,
      "outputs": []
    },
    {
      "cell_type": "markdown",
      "source": [
        "# **2. Modeling**"
      ],
      "metadata": {
        "id": "JLLADECRuh36"
      }
    },
    {
      "cell_type": "code",
      "source": [
        "class LDA_VI:\n",
        "  def __init__(self,docs, num_topic=10, vocab = None, alpha=1.,num_iter=100,lr=1e-3):\n",
        "    self.docs = docs\n",
        "    self.num_topic = num_topic\n",
        "    self.vocab = vocab\n",
        "    self.num_vocab = len(self.vocab)\n",
        "    self.num_docs = len(self.docs)\n",
        "\n",
        "    # Initialize alpha and beta\n",
        "    self.alpha = np.ones(self.num_topic)*(1/self.num_topic)\n",
        "    self.beta = np.ones((self.num_topic, self.num_vocab))*(1/self.num_vocab)\n",
        "    # beta 초기값 업데이트\n",
        "    self.beta += np.random.rand(self.num_topic, self.num_vocab) * 0.01\n",
        "    self.beta /= np.sum(self.beta, axis=1)[:, np.newaxis]\n",
        "\n",
        "    # Initialize gamma and phi\n",
        "    self.gamma = np.ones((self.num_docs,self.num_topic))*(1/self.num_topic)\n",
        "    self.gamma += np.random.rand(self.num_docs, self.num_topic) * 0.01\n",
        "    self.phi = np.ones((self.num_docs, self.num_vocab, self.num_topic))*(1/self.num_topic)\n",
        "    self.phi += np.random.rand(self.num_docs, self.num_vocab, self.num_topic) * 0.01\n",
        "\n",
        "    # Initialize z (topic assignments for words in documents)\n",
        "    self.z = [[np.random.randint(0, self.num_topic) for _ in range(len(doc))] for doc in self.docs]\n",
        "\n",
        "    # Initialize parameters for variational inference\n",
        "    self.num_iter = num_iter\n",
        "    self.lr = lr\n",
        "\n",
        "    self.elbo_list = []  # ELBO 값을 저장할 리스트\n",
        "    self.perp_list = []  # perplexity 값을 저장할 리스트\n",
        "    self.coherence_list = [] # coherence 값을 저장할 리스트\n",
        "\n",
        "  def update_gamma(self):\n",
        "    ## Update gamma (document-topic distributions)\n",
        "    self.gamma = self.alpha + np.sum(self.phi, axis = 1)\n",
        "\n",
        "  def update_phi(self):\n",
        "    ## Update phi (topic-word distributions)\n",
        "    for d in range(self.num_docs):\n",
        "      for n in range(len(self.docs[d])):\n",
        "        word_idx = self.docs[d][n]\n",
        "        self.phi[d, n] = self.beta[:, word_idx] * np.exp(digamma(self.gamma[d]))\n",
        "    # phi 정규화(topic에 대해 정규화)\n",
        "    self.phi /= np.sum(self.phi, axis = 2)[:, :, np.newaxis]\n",
        "\n",
        "  def update_beta(self):\n",
        "    ## Update beta(topic-word prior)\n",
        "    for d in range(self.num_docs):\n",
        "      for n in range(len(self.docs[d])):\n",
        "        word_idx = self.docs[d][n]\n",
        "        self.beta[:, word_idx] += self.phi[d, n]\n",
        "    # beta 정규화(word에 대해 정규화)\n",
        "    self.beta /= np.sum(self.beta, axis = 1)[:, np.newaxis]\n",
        "\n",
        "  def update_alpha(self):\n",
        "    ## Update alpha(document-topic prior)\n",
        "    M = self.num_docs\n",
        "    g = np.zeros(self.num_topic) # gradient\n",
        "    H = np.zeros((self.num_topic, self.num_topic)) # Hessian matrix\n",
        "\n",
        "    for i in range(self.num_topic):\n",
        "      g[i] = M * ( digamma(np.sum(self.alpha)) - digamma(self.alpha[i]) )\n",
        "      for d in range(M):\n",
        "        g[i] += ( digamma(self.gamma[d, i]) - digamma(np.sum(self.gamma[d])) )\n",
        "      for j in range(self.num_topic):\n",
        "        H[i, j] = 0\n",
        "        if i == j:\n",
        "          H[i, j] -= M * polygamma(1, self.alpha[i])\n",
        "        H[i, j] += M * (polygamma(1, np.sum(self.alpha)))\n",
        "\n",
        "    # alpha 업데이트(=> Newton-Raphson)\n",
        "    deltaAlpha = np.dot(np.linalg.inv(H), g)\n",
        "    self.alpha -= deltaAlpha\n",
        "\n",
        "  def e_step(self):\n",
        "    ## Perform E-step of the variational inference\n",
        "    self.update_phi()\n",
        "    self.update_gamma()\n",
        "\n",
        "  def m_step(self):\n",
        "    ## Perform M-step of the variational inference\n",
        "    self.update_beta()\n",
        "    self.update_alpha()\n",
        "\n",
        "  def compute_elbo(self):\n",
        "    ## Compute Evidence Lower Bound (ELBO)\n",
        "\n",
        "    # 필요한 파라미터 정의\n",
        "    elbo = 0\n",
        "    M = self.num_docs\n",
        "    k = self.num_topic\n",
        "\n",
        "    # 1번 수식\n",
        "    for d in range(M): # document\n",
        "      for n in range(len(self.docs[d])):\n",
        "        j = self.docs[d][n] # word idx\n",
        "        for i in range(k): # topic\n",
        "          elbo += self.phi[d, n, i] * np.log(self.beta[i, j])\n",
        "\n",
        "    # 2번 수식\n",
        "    for d in range(M):\n",
        "      for n in range(len(self.docs[d])):\n",
        "        for i in range(k):\n",
        "          elbo += self.phi[d, n, i] * (digamma(self.gamma[d, i]) - digamma(np.sum(self.gamma[d])))\n",
        "\n",
        "    # 3번 수식\n",
        "    for d in range(M):\n",
        "      elbo += loggamma(np.sum(self.alpha))\n",
        "      for i in range(k):\n",
        "        elbo -= loggamma(self.alpha[i])\n",
        "        elbo += (self.alpha[i] - 1) * (digamma(self.gamma[d, i]) - digamma(np.sum(self.gamma[d])))\n",
        "\n",
        "    # 4번, 5번 수식\n",
        "    for d in range(M):\n",
        "      elbo -= loggamma(np.sum(self.gamma[d]))\n",
        "      for i in range(k):\n",
        "        elbo += loggamma(np.sum(self.gamma[d, i]))\n",
        "        elbo -= (self.gamma[d, i] - 1)*( digamma(self.gamma[d, i]) - digamma(np.sum(self.gamma[d])) )\n",
        "        for n in range(len(self.docs[d])):\n",
        "          elbo -= self.phi[d, n, i] * np.log(self.phi[d, n, i])\n",
        "\n",
        "    return elbo\n",
        "\n",
        "  def compute_perplexity(self, elbo):\n",
        "    # 분모\n",
        "    N = sum(len(doc) for doc in self.docs)\n",
        "\n",
        "    perplexity = np.exp(-elbo / N)\n",
        "    return perplexity\n",
        "\n",
        "  def compute_topic_coherence(self, top_n=10):\n",
        "    coherence = 0.0\n",
        "    for k in range(self.num_topic):\n",
        "      top_words = np.argsort(self.beta[k, :])[-top_n:]\n",
        "      for i in range(top_n):\n",
        "        for j in range(i + 1, top_n):\n",
        "          word_i = top_words[i]\n",
        "          word_j = top_words[j]\n",
        "          # self.beta는 주제별 단어 분포를 나타내므로 이를 활용해 coherence 계산\n",
        "          coherence += np.log((self.beta[k, word_j] + 1e-12) /  (self.beta[:, word_j].sum())) # smoothing 추가\n",
        "    return coherence / self.num_topic\n",
        "\n",
        "  def run(self):\n",
        "    start_time = time.time()\n",
        "\n",
        "    ## Run the variational inference algorithm\n",
        "    for iter in range(self.num_iter):\n",
        "      print(f\"=== Iteration: {iter + 1} ===\")\n",
        "      print(f\"start time: {round(time.time() - start_time, 2)}\")\n",
        "      self.e_step()\n",
        "      self.m_step()\n",
        "\n",
        "      elbo = self.compute_elbo()\n",
        "      print(f\"ELBO: {elbo}\")\n",
        "      self.elbo_list.append(elbo)\n",
        "\n",
        "      perplexity = self.compute_perplexity(elbo)\n",
        "      print(f\"Perplexity: {perplexity}\")\n",
        "      self.perp_list.append(perplexity)\n",
        "\n",
        "      coherence = self.compute_topic_coherence()\n",
        "      print(f\"Coherence: {coherence}\")\n",
        "      self.coherence_list.append(coherence)\n",
        "\n",
        "      print()\n",
        "\n",
        "    print(\"EM Algorithm 끝!\")\n",
        "\n",
        "  def plot_result(self):\n",
        "    plt.figure(figsize = (18, 6))\n",
        "\n",
        "    # ELBO 시각화\n",
        "    plt.subplot(1, 3, 1)\n",
        "    plt.plot(self.elbo_list, color = 'blue')\n",
        "    plt.title('ELBO')\n",
        "    plt.xlabel('Iteration')\n",
        "    plt.ylabel('ELBO')\n",
        "    plt.grid(True)\n",
        "\n",
        "    # perplexity 시각화\n",
        "    plt.subplot(1, 3, 2)\n",
        "    plt.plot(self.perp_list, color='orange')\n",
        "    plt.title('Perplexity')\n",
        "    plt.xlabel('Iteration')\n",
        "    plt.ylabel('Perplexity')\n",
        "    plt.grid(True)\n",
        "\n",
        "    # Coherence 시각화\n",
        "    plt.subplot(1, 3, 3)\n",
        "    plt.plot(self.coherence_list, color='green')\n",
        "    plt.title('Topic Coherence')\n",
        "    plt.xlabel('Iteration')\n",
        "    plt.ylabel('Coherence')\n",
        "    plt.grid(True)\n",
        "\n",
        "    plt.tight_layout()\n",
        "    plt.show()"
      ],
      "metadata": {
        "id": "Iu7yyF62usdk"
      },
      "execution_count": null,
      "outputs": []
    },
    {
      "cell_type": "markdown",
      "source": [
        "# **3. Run!!**"
      ],
      "metadata": {
        "id": "2EDzPY7kwXkd"
      }
    },
    {
      "cell_type": "code",
      "source": [
        "lda_vi = LDA_VI(train_data_idx,num_topic = 10, vocab = v_t_i, alpha = 1.,num_iter = 100)\n",
        "lda_vi.run()"
      ],
      "metadata": {
        "id": "zNeY3GcVwdap",
        "colab": {
          "base_uri": "https://localhost:8080/"
        },
        "outputId": "bb2ff1a5-f95b-43da-8007-7efca6dc8f7c"
      },
      "execution_count": null,
      "outputs": [
        {
          "output_type": "stream",
          "name": "stdout",
          "text": [
            "=== Iteration: 1 ===\n",
            "start time: 0.0\n",
            "ELBO: -871578.344503426\n",
            "Perplexity: 82110.33982630228\n",
            "Coherence: -89.05797082438883\n",
            "\n",
            "=== Iteration: 2 ===\n",
            "start time: 21.85\n",
            "ELBO: -833092.5998829065\n",
            "Perplexity: 49819.094585317456\n",
            "Coherence: -89.09058962141361\n",
            "\n",
            "=== Iteration: 3 ===\n",
            "start time: 38.45\n",
            "ELBO: -800747.0949191104\n",
            "Perplexity: 32735.24353137946\n",
            "Coherence: -89.0875234542322\n",
            "\n",
            "=== Iteration: 4 ===\n",
            "start time: 53.3\n",
            "ELBO: -771041.7602160705\n",
            "Perplexity: 22259.834554688634\n",
            "Coherence: -89.08454520105116\n",
            "\n",
            "=== Iteration: 5 ===\n",
            "start time: 70.31\n",
            "ELBO: -742763.8189157543\n",
            "Perplexity: 15419.725811169508\n",
            "Coherence: -89.08157314155143\n",
            "\n",
            "=== Iteration: 6 ===\n",
            "start time: 85.35\n",
            "ELBO: -715230.1508188074\n",
            "Perplexity: 10785.193909045336\n",
            "Coherence: -89.07860649201038\n",
            "\n",
            "=== Iteration: 7 ===\n",
            "start time: 101.41\n",
            "ELBO: -688347.5317037106\n",
            "Perplexity: 7607.644435526539\n",
            "Coherence: -89.07564989046483\n",
            "\n",
            "=== Iteration: 8 ===\n",
            "start time: 116.27\n",
            "ELBO: -662479.6044104323\n",
            "Perplexity: 5437.431500436375\n",
            "Coherence: -89.07271271891997\n",
            "\n",
            "=== Iteration: 9 ===\n",
            "start time: 131.2\n",
            "ELBO: -638422.9324855165\n",
            "Perplexity: 3978.782156656452\n",
            "Coherence: -89.069813035066\n",
            "\n",
            "=== Iteration: 10 ===\n",
            "start time: 145.89\n",
            "ELBO: -617445.9377449071\n",
            "Perplexity: 3030.200015337605\n",
            "Coherence: -89.06698401214075\n",
            "\n",
            "=== Iteration: 11 ===\n",
            "start time: 162.37\n",
            "ELBO: -601072.0877589071\n",
            "Perplexity: 2449.893920042956\n",
            "Coherence: -89.06428173356638\n",
            "\n",
            "=== Iteration: 12 ===\n",
            "start time: 177.3\n",
            "ELBO: -590271.8325454342\n",
            "Perplexity: 2129.364450612216\n",
            "Coherence: -89.02365341772013\n",
            "\n",
            "=== Iteration: 13 ===\n",
            "start time: 192.17\n",
            "ELBO: -584510.5699429208\n",
            "Perplexity: 1975.900622088172\n",
            "Coherence: -89.02143198575878\n",
            "\n",
            "=== Iteration: 14 ===\n",
            "start time: 206.9\n",
            "ELBO: -582004.9937277965\n",
            "Perplexity: 1912.6583325875142\n",
            "Coherence: -89.01957076390235\n",
            "\n",
            "=== Iteration: 15 ===\n",
            "start time: 221.85\n",
            "ELBO: -581049.0320761133\n",
            "Perplexity: 1889.0663125500741\n",
            "Coherence: -89.0180653405525\n",
            "\n",
            "=== Iteration: 16 ===\n",
            "start time: 236.25\n",
            "ELBO: -580695.0772977668\n",
            "Perplexity: 1880.4051328898465\n",
            "Coherence: -89.01686147183601\n",
            "\n",
            "=== Iteration: 17 ===\n",
            "start time: 250.43\n",
            "ELBO: -580557.494238701\n",
            "Perplexity: 1877.0492396539419\n",
            "Coherence: -89.01589103538585\n",
            "\n",
            "=== Iteration: 18 ===\n",
            "start time: 266.87\n",
            "ELBO: -580499.0501521409\n",
            "Perplexity: 1875.6254984551922\n",
            "Coherence: -89.01509495287577\n",
            "\n",
            "=== Iteration: 19 ===\n",
            "start time: 281.28\n",
            "ELBO: -580471.5815560023\n",
            "Perplexity: 1874.9567162274936\n",
            "Coherence: -89.01442880666693\n",
            "\n",
            "=== Iteration: 20 ===\n",
            "start time: 295.84\n",
            "ELBO: -580457.325461896\n",
            "Perplexity: 1874.6097148659094\n",
            "Coherence: -89.01386081991718\n",
            "\n",
            "=== Iteration: 21 ===\n",
            "start time: 310.15\n",
            "ELBO: -580449.2217871503\n",
            "Perplexity: 1874.4124954861181\n",
            "Coherence: -89.01336843387097\n",
            "\n",
            "=== Iteration: 22 ===\n",
            "start time: 324.58\n",
            "ELBO: -580444.2296110308\n",
            "Perplexity: 1874.2910110716052\n",
            "Coherence: -89.01293546560609\n",
            "\n",
            "=== Iteration: 23 ===\n",
            "start time: 338.82\n",
            "ELBO: -580440.9337484806\n",
            "Perplexity: 1874.2108106978762\n",
            "Coherence: -89.01255010084824\n",
            "\n",
            "=== Iteration: 24 ===\n",
            "start time: 356.29\n",
            "ELBO: -580438.6268878758\n",
            "Perplexity: 1874.1546783953256\n",
            "Coherence: -89.01220354460419\n",
            "\n",
            "=== Iteration: 25 ===\n",
            "start time: 371.37\n",
            "ELBO: -580436.9319206522\n",
            "Perplexity: 1874.1134362235107\n",
            "Coherence: -89.01188912208389\n",
            "\n",
            "=== Iteration: 26 ===\n",
            "start time: 386.23\n",
            "ELBO: -580435.6357886384\n",
            "Perplexity: 1874.0818991763426\n",
            "Coherence: -89.0116016750137\n",
            "\n",
            "=== Iteration: 27 ===\n",
            "start time: 401.05\n",
            "ELBO: -580434.6116938693\n",
            "Perplexity: 1874.0569816230047\n",
            "Coherence: -89.0113371502828\n",
            "\n",
            "=== Iteration: 28 ===\n",
            "start time: 415.76\n",
            "ELBO: -580433.7806029987\n",
            "Perplexity: 1874.036760348248\n",
            "Coherence: -89.01109231475408\n",
            "\n",
            "=== Iteration: 29 ===\n",
            "start time: 430.61\n",
            "ELBO: -580433.0911816964\n",
            "Perplexity: 1874.0199862018028\n",
            "Coherence: -89.0108645539712\n",
            "\n",
            "=== Iteration: 30 ===\n",
            "start time: 447.33\n",
            "ELBO: -580432.5088218453\n",
            "Perplexity: 1874.0058170591528\n",
            "Coherence: -89.01065172758453\n",
            "\n",
            "=== Iteration: 31 ===\n",
            "start time: 461.97\n",
            "ELBO: -580432.0094376422\n",
            "Perplexity: 1873.9936668459989\n",
            "Coherence: -89.01045206377586\n",
            "\n",
            "=== Iteration: 32 ===\n",
            "start time: 477.48\n",
            "ELBO: -580431.5757637757\n",
            "Perplexity: 1873.9831154549686\n",
            "Coherence: -89.01026408095692\n",
            "\n",
            "=== Iteration: 33 ===\n",
            "start time: 493.73\n",
            "ELBO: -580431.1951043541\n",
            "Perplexity: 1873.9738539672812\n",
            "Coherence: -89.0100865288497\n",
            "\n",
            "=== Iteration: 34 ===\n",
            "start time: 508.21\n",
            "ELBO: -580430.8579115544\n",
            "Perplexity: 1873.9656500657559\n",
            "Coherence: -89.00991834355743\n",
            "\n",
            "=== Iteration: 35 ===\n",
            "start time: 522.81\n",
            "ELBO: -580430.5568574888\n",
            "Perplexity: 1873.958325450055\n",
            "Coherence: -89.00975861287668\n",
            "\n",
            "=== Iteration: 36 ===\n",
            "start time: 537.68\n",
            "ELBO: -580430.2862201864\n",
            "Perplexity: 1873.9517408956353\n",
            "Coherence: -89.00960654920746\n",
            "\n",
            "=== Iteration: 37 ===\n",
            "start time: 553.15\n",
            "ELBO: -580430.0414567733\n",
            "Perplexity: 1873.9457858679775\n",
            "Coherence: -89.00946146817748\n",
            "\n",
            "=== Iteration: 38 ===\n",
            "start time: 567.72\n",
            "ELBO: -580429.8189128776\n",
            "Perplexity: 1873.9403714515945\n",
            "Coherence: -89.00932277160302\n",
            "\n",
            "=== Iteration: 39 ===\n",
            "start time: 581.88\n",
            "ELBO: -580429.6156033555\n",
            "Perplexity: 1873.9354250145739\n",
            "Coherence: -89.00918993378674\n",
            "\n",
            "=== Iteration: 40 ===\n",
            "start time: 596.36\n",
            "ELBO: -580429.4290815794\n",
            "Perplexity: 1873.9308870279933\n",
            "Coherence: -89.00906249040557\n",
            "\n",
            "=== Iteration: 41 ===\n",
            "start time: 610.49\n",
            "ELBO: -580429.2572960594\n",
            "Perplexity: 1873.9267075772711\n",
            "Coherence: -89.00894002942779\n",
            "\n",
            "=== Iteration: 42 ===\n",
            "start time: 625.23\n",
            "ELBO: -580429.0985333011\n",
            "Perplexity: 1873.9228449717343\n",
            "Coherence: -89.00882218363252\n",
            "\n",
            "=== Iteration: 43 ===\n",
            "start time: 642.7\n",
            "ELBO: -580428.9513430246\n",
            "Perplexity: 1873.9192639250582\n",
            "Coherence: -89.00870862440877\n",
            "\n",
            "=== Iteration: 44 ===\n",
            "start time: 657.44\n",
            "ELBO: -580428.8144772506\n",
            "Perplexity: 1873.9159340731599\n",
            "Coherence: -89.00859905658317\n",
            "\n",
            "=== Iteration: 45 ===\n",
            "start time: 672.36\n",
            "ELBO: -580428.6868726889\n",
            "Perplexity: 1873.91282954564\n",
            "Coherence: -89.0084932140762\n",
            "\n",
            "=== Iteration: 46 ===\n",
            "start time: 687.16\n",
            "ELBO: -580428.5676020666\n",
            "Perplexity: 1873.9099277815385\n",
            "Coherence: -89.0083908562381\n",
            "\n",
            "=== Iteration: 47 ===\n",
            "start time: 701.98\n",
            "ELBO: -580428.4558759768\n",
            "Perplexity: 1873.90720957429\n",
            "Coherence: -89.00829176473579\n",
            "\n",
            "=== Iteration: 48 ===\n",
            "start time: 716.81\n",
            "ELBO: -580428.350991274\n",
            "Perplexity: 1873.9046578161524\n",
            "Coherence: -89.00819574090397\n",
            "\n",
            "=== Iteration: 49 ===\n",
            "start time: 733.26\n",
            "ELBO: -580428.2523191483\n",
            "Perplexity: 1873.9022572080553\n",
            "Coherence: -89.00810260346898\n",
            "\n",
            "=== Iteration: 50 ===\n",
            "start time: 747.96\n",
            "ELBO: -580428.159337892\n",
            "Perplexity: 1873.8999950567377\n",
            "Coherence: -89.00801218659541\n",
            "\n",
            "=== Iteration: 51 ===\n",
            "start time: 762.52\n",
            "ELBO: -580428.0715504356\n",
            "Perplexity: 1873.8978592684634\n",
            "Coherence: -89.00792433819414\n",
            "\n",
            "=== Iteration: 52 ===\n",
            "start time: 777.25\n",
            "ELBO: -580427.9885431832\n",
            "Perplexity: 1873.8958397804033\n",
            "Coherence: -89.00783891845744\n",
            "\n",
            "=== Iteration: 53 ===\n",
            "start time: 791.9\n",
            "ELBO: -580427.9099217087\n",
            "Perplexity: 1873.8939269961877\n",
            "Coherence: -89.00775579857803\n",
            "\n",
            "=== Iteration: 54 ===\n",
            "start time: 806.5\n",
            "ELBO: -580427.8353528111\n",
            "Perplexity: 1873.892112809039\n",
            "Coherence: -89.00767485963706\n",
            "\n",
            "=== Iteration: 55 ===\n",
            "start time: 821.1\n",
            "ELBO: -580427.7645326711\n",
            "Perplexity: 1873.8903898270607\n",
            "Coherence: -89.00759599162157\n",
            "\n",
            "=== Iteration: 56 ===\n",
            "start time: 837.47\n",
            "ELBO: -580427.6971844313\n",
            "Perplexity: 1873.8887513143534\n",
            "Coherence: -89.00751909256442\n",
            "\n",
            "=== Iteration: 57 ===\n",
            "start time: 851.69\n",
            "ELBO: -580427.6330464467\n",
            "Perplexity: 1873.8871909051554\n",
            "Coherence: -89.00744406778276\n",
            "\n",
            "=== Iteration: 58 ===\n",
            "start time: 866.26\n",
            "ELBO: -580427.5719085778\n",
            "Perplexity: 1873.8857034868006\n",
            "Coherence: -89.00737082920571\n",
            "\n",
            "=== Iteration: 59 ===\n",
            "start time: 880.55\n",
            "ELBO: -580427.5135552288\n",
            "Perplexity: 1873.8842838139115\n",
            "Coherence: -89.00729929477629\n",
            "\n",
            "=== Iteration: 60 ===\n",
            "start time: 894.72\n",
            "ELBO: -580427.4578092207\n",
            "Perplexity: 1873.8829275757635\n",
            "Coherence: -89.00722938791897\n",
            "\n",
            "=== Iteration: 61 ===\n",
            "start time: 908.87\n",
            "ELBO: -580427.404493708\n",
            "Perplexity: 1873.881630469779\n",
            "Coherence: -89.00716103706668\n",
            "\n",
            "=== Iteration: 62 ===\n",
            "start time: 925.87\n",
            "ELBO: -580427.3534462061\n",
            "Perplexity: 1873.8803885427628\n",
            "Coherence: -89.00709417523355\n",
            "\n",
            "=== Iteration: 63 ===\n",
            "start time: 941.04\n",
            "ELBO: -580427.304535813\n",
            "Perplexity: 1873.879198609922\n",
            "Coherence: -89.00702873963726\n",
            "\n",
            "=== Iteration: 64 ===\n",
            "start time: 955.7\n",
            "ELBO: -580427.2576284952\n",
            "Perplexity: 1873.8780574102752\n",
            "Coherence: -89.00696467135383\n",
            "\n",
            "=== Iteration: 65 ===\n",
            "start time: 970.56\n",
            "ELBO: -580427.2126048668\n",
            "Perplexity: 1873.8769620392222\n",
            "Coherence: -89.00690191501126\n",
            "\n",
            "=== Iteration: 66 ===\n",
            "start time: 985.28\n",
            "ELBO: -580427.1693525016\n",
            "Perplexity: 1873.8759097614875\n",
            "Coherence: -89.00684041851022\n",
            "\n",
            "=== Iteration: 67 ===\n",
            "start time: 1000.05\n",
            "ELBO: -580427.1277619537\n",
            "Perplexity: 1873.8748979143168\n",
            "Coherence: -89.00678013277357\n",
            "\n",
            "=== Iteration: 68 ===\n",
            "start time: 1014.77\n",
            "ELBO: -580427.0877516628\n",
            "Perplexity: 1873.8739245133802\n",
            "Coherence: -89.00672101151719\n",
            "\n",
            "=== Iteration: 69 ===\n",
            "start time: 1031.14\n",
            "ELBO: -580427.0492212038\n",
            "Perplexity: 1873.8729871154012\n",
            "Coherence: -89.00666301104353\n",
            "\n",
            "=== Iteration: 70 ===\n",
            "start time: 1045.83\n",
            "ELBO: -580427.0121045803\n",
            "Perplexity: 1873.8720841147222\n",
            "Coherence: -89.00660609005402\n",
            "\n",
            "=== Iteration: 71 ===\n",
            "start time: 1060.62\n",
            "ELBO: -580426.9763074149\n",
            "Perplexity: 1873.8712132152077\n",
            "Coherence: -89.00655020947661\n",
            "\n",
            "=== Iteration: 72 ===\n",
            "start time: 1075.46\n",
            "ELBO: -580426.9417789297\n",
            "Perplexity: 1873.8703731814517\n",
            "Coherence: -89.00649533230884\n",
            "\n",
            "=== Iteration: 73 ===\n",
            "start time: 1092.16\n",
            "ELBO: -580426.9084410734\n",
            "Perplexity: 1873.869562114526\n",
            "Coherence: -89.00644142347666\n",
            "\n",
            "=== Iteration: 74 ===\n",
            "start time: 1107.06\n",
            "ELBO: -580426.876232441\n",
            "Perplexity: 1873.8687785204943\n",
            "Coherence: -89.00638844970153\n",
            "\n",
            "=== Iteration: 75 ===\n",
            "start time: 1124.45\n",
            "ELBO: -580426.8451122928\n",
            "Perplexity: 1873.8680214081721\n",
            "Coherence: -89.0063363793818\n",
            "\n",
            "=== Iteration: 76 ===\n",
            "start time: 1139.29\n",
            "ELBO: -580426.8150015121\n",
            "Perplexity: 1873.867288852727\n",
            "Coherence: -89.006285182482\n",
            "\n",
            "=== Iteration: 77 ===\n",
            "start time: 1154.08\n",
            "ELBO: -580426.7858747627\n",
            "Perplexity: 1873.866580237734\n",
            "Coherence: -89.00623483043063\n",
            "\n",
            "=== Iteration: 78 ===\n",
            "start time: 1168.92\n",
            "ELBO: -580426.7576688066\n",
            "Perplexity: 1873.8658940246708\n",
            "Coherence: -89.00618529602824\n",
            "\n",
            "=== Iteration: 79 ===\n",
            "start time: 1183.63\n",
            "ELBO: -580426.7303539165\n",
            "Perplexity: 1873.8652294902874\n",
            "Coherence: -89.00613655336096\n",
            "\n",
            "=== Iteration: 80 ===\n",
            "start time: 1198.31\n",
            "ELBO: -580426.7038785098\n",
            "Perplexity: 1873.8645853796243\n",
            "Coherence: -89.0060885777197\n",
            "\n",
            "=== Iteration: 81 ===\n",
            "start time: 1214.84\n",
            "ELBO: -580426.6782064653\n",
            "Perplexity: 1873.863960813885\n",
            "Coherence: -89.00604134553002\n",
            "\n",
            "=== Iteration: 82 ===\n",
            "start time: 1229.62\n",
            "ELBO: -580426.6533133093\n",
            "Perplexity: 1873.8633551976338\n",
            "Coherence: -89.00599483428127\n",
            "\n",
            "=== Iteration: 83 ===\n",
            "start time: 1244.26\n",
            "ELBO: -580426.6291543477\n",
            "Perplexity: 1873.8627674435133\n",
            "Coherence: -89.00594902246345\n",
            "\n",
            "=== Iteration: 84 ===\n",
            "start time: 1259.13\n",
            "ELBO: -580426.6056882188\n",
            "Perplexity: 1873.8621965452292\n",
            "Coherence: -89.00590388951204\n",
            "\n",
            "=== Iteration: 85 ===\n",
            "start time: 1273.99\n",
            "ELBO: -580426.5829001084\n",
            "Perplexity: 1873.8616421423587\n",
            "Coherence: -89.00585941575056\n",
            "\n",
            "=== Iteration: 86 ===\n",
            "start time: 1288.8\n",
            "ELBO: -580426.5607564953\n",
            "Perplexity: 1873.861103419364\n",
            "Coherence: -89.0058155823414\n",
            "\n",
            "=== Iteration: 87 ===\n",
            "start time: 1303.17\n",
            "ELBO: -580426.5392244987\n",
            "Perplexity: 1873.8605795762865\n",
            "Coherence: -89.00577237124018\n",
            "\n",
            "=== Iteration: 88 ===\n",
            "start time: 1320.14\n",
            "ELBO: -580426.5182977417\n",
            "Perplexity: 1873.860070457974\n",
            "Coherence: -89.00572976515008\n",
            "\n",
            "=== Iteration: 89 ===\n",
            "start time: 1334.57\n",
            "ELBO: -580426.4979296929\n",
            "Perplexity: 1873.8595749323742\n",
            "Coherence: -89.00568774748214\n",
            "\n",
            "=== Iteration: 90 ===\n",
            "start time: 1349.22\n",
            "ELBO: -580426.4781012291\n",
            "Perplexity: 1873.8590925342342\n",
            "Coherence: -89.00564630231706\n",
            "\n",
            "=== Iteration: 91 ===\n",
            "start time: 1363.9\n",
            "ELBO: -580426.4588140883\n",
            "Perplexity: 1873.8586233058256\n",
            "Coherence: -89.00560541437136\n",
            "\n",
            "=== Iteration: 92 ===\n",
            "start time: 1379.11\n",
            "ELBO: -580426.4400149871\n",
            "Perplexity: 1873.8581659508359\n",
            "Coherence: -89.0055650689605\n",
            "\n",
            "=== Iteration: 93 ===\n",
            "start time: 1393.85\n",
            "ELBO: -580426.4216947865\n",
            "Perplexity: 1873.8577202469103\n",
            "Coherence: -89.00552525197158\n",
            "\n",
            "=== Iteration: 94 ===\n",
            "start time: 1410.78\n",
            "ELBO: -580426.4038640241\n",
            "Perplexity: 1873.8572864504085\n",
            "Coherence: -89.00548594983363\n",
            "\n",
            "=== Iteration: 95 ===\n",
            "start time: 1425.41\n",
            "ELBO: -580426.3864570934\n",
            "Perplexity: 1873.8568629652136\n",
            "Coherence: -89.00544714948724\n",
            "\n",
            "=== Iteration: 96 ===\n",
            "start time: 1440.22\n",
            "ELBO: -580426.3694967409\n",
            "Perplexity: 1873.856450344703\n",
            "Coherence: -89.0054088383639\n",
            "\n",
            "=== Iteration: 97 ===\n",
            "start time: 1455.02\n",
            "ELBO: -580426.3529468473\n",
            "Perplexity: 1873.8560477101478\n",
            "Coherence: -89.00537100435784\n",
            "\n",
            "=== Iteration: 98 ===\n",
            "start time: 1469.83\n",
            "ELBO: -580426.3367988284\n",
            "Perplexity: 1873.8556548526929\n",
            "Coherence: -89.00533363580584\n",
            "\n",
            "=== Iteration: 99 ===\n",
            "start time: 1484.51\n",
            "ELBO: -580426.3210337596\n",
            "Perplexity: 1873.8552713119282\n",
            "Coherence: -89.0052967214654\n",
            "\n",
            "=== Iteration: 100 ===\n",
            "start time: 1499.3\n",
            "ELBO: -580426.3056431402\n",
            "Perplexity: 1873.8548968810387\n",
            "Coherence: -89.00526025049479\n",
            "\n",
            "EM Algorithm 끝!\n"
          ]
        }
      ]
    },
    {
      "cell_type": "markdown",
      "source": [
        "# **4. Results**"
      ],
      "metadata": {
        "id": "0fdKo5ISwdiC"
      }
    },
    {
      "cell_type": "code",
      "source": [
        "import seaborn as sns\n",
        "from matplotlib.colors import to_hex\n",
        "from IPython.core.display import HTML, display"
      ],
      "metadata": {
        "id": "GfFeb8l6PpYH"
      },
      "execution_count": null,
      "outputs": []
    },
    {
      "cell_type": "code",
      "source": [
        "## 학습 과정 시각화\n",
        "\n",
        "lda_vi.plot_result()"
      ],
      "metadata": {
        "id": "4MY20Yppt6eN",
        "colab": {
          "base_uri": "https://localhost:8080/",
          "height": 504
        },
        "outputId": "30ce4899-d5c8-4e5a-cf7f-a0ac7302a8c3"
      },
      "execution_count": null,
      "outputs": [
        {
          "output_type": "display_data",
          "data": {
            "text/plain": [
              "<Figure size 1800x600 with 3 Axes>"
            ],
            "image/png": "[encoded data removed]"
          },
          "metadata": {}
        }
      ]
    },
    {
      "cell_type": "markdown",
      "source": [
        "## **4-1. topic별 상위 단어 시각화**"
      ],
      "metadata": {
        "id": "XxsCBbzEPjUj"
      }
    },
    {
      "cell_type": "code",
      "source": [
        "def plot_top_words(lda_model, index_to_vocab, top_n=10):\n",
        "    fig, axes = plt.subplots(2, 5, figsize=(15, 6), sharex=True)\n",
        "    axes = axes.flatten()\n",
        "    sns.set_palette(\"Set2\", top_n)  # 색상 팔레트 설정\n",
        "\n",
        "    for topic_idx in range(lda_model.num_topic):\n",
        "        top_word_indices = lda_model.beta[topic_idx].argsort()[-top_n:][::-1]\n",
        "        top_words = [index_to_vocab[i] for i in top_word_indices]\n",
        "        weights = lda_model.beta[topic_idx, top_word_indices]\n",
        "\n",
        "        ax = axes[topic_idx]\n",
        "        ax.barh(top_words, weights, color=sns.color_palette(\"husl\", top_n))\n",
        "        ax.set_title(f'Topic {topic_idx + 1}')\n",
        "        ax.invert_yaxis()\n",
        "\n",
        "    plt.tight_layout()\n",
        "    plt.show()"
      ],
      "metadata": {
        "id": "7pJc7kXSPmPA"
      },
      "execution_count": null,
      "outputs": []
    },
    {
      "cell_type": "code",
      "source": [
        "plot_top_words(lda_vi, i_t_v, top_n=10)"
      ],
      "metadata": {
        "id": "iD0qmfs9P0Bq",
        "colab": {
          "base_uri": "https://localhost:8080/",
          "height": 602
        },
        "outputId": "e8d66eae-8535-4483-b372-58dac1351624"
      },
      "execution_count": null,
      "outputs": [
        {
          "output_type": "display_data",
          "data": {
            "text/plain": [
              "<Figure size 1500x600 with 10 Axes>"
            ],
            "image/png": "[encoded data removed]"
          },
          "metadata": {}
        }
      ]
    },
    {
      "cell_type": "markdown",
      "source": [
        "## **4-2. Topic 분포 시각화**"
      ],
      "metadata": {
        "id": "OhUqes42P73J"
      }
    },
    {
      "cell_type": "code",
      "source": [
        "def plot_doc_topics(lda_model, num_docs=15, top_n=10):\n",
        "    num_docs = min(num_docs, lda_model.num_docs)  # 지정된 문서 개수가 전체 문서 수를 넘지 않도록 설정\n",
        "    num_rows = (num_docs + 4) // 5  # 문서 개수에 따라 필요한 행 수 계산\n",
        "    num_topics = lda_model.num_topic\n",
        "\n",
        "    fig, axes = plt.subplots(num_rows, 5, figsize=(20, 4 * num_rows), sharey=True)\n",
        "    sns.set_palette(\"Set2\", num_topics)\n",
        "\n",
        "    # axes가 2D 배열이 아니라면, 단일 subplot인 경우를 처리\n",
        "    if num_rows == 1:\n",
        "        axes = np.expand_dims(axes, axis=0)\n",
        "\n",
        "    # 주제 번호를 1부터 num_topics까지 순서대로 설정\n",
        "    topic_labels = [f'{i + 1}' for i in range(num_topics)]\n",
        "\n",
        "    for idx in range(num_docs):\n",
        "        # Sample theta from Dirichlet distribution using gamma\n",
        "        theta = np.random.dirichlet(lda_model.gamma[idx, :])\n",
        "\n",
        "        # Select top N topics based on theta\n",
        "        top_topic_indices = theta.argsort()[-top_n:][::-1]\n",
        "        weights = theta[top_topic_indices]\n",
        "\n",
        "        row_idx = idx // 5\n",
        "        col_idx = idx % 5\n",
        "        ax = axes[row_idx, col_idx]\n",
        "\n",
        "        ax.bar(topic_labels, weights, color=sns.color_palette(\"Set2\", num_topics))\n",
        "        ax.set_title(f'Doc {idx + 1}', fontsize=10)\n",
        "        ax.set_xlabel('Topics', fontsize=8)\n",
        "        ax.set_ylabel('Proportion', fontsize=8)\n",
        "        ax.set_xticks(range(num_topics))\n",
        "        ax.set_xticklabels(topic_labels, fontsize=8)\n",
        "\n",
        "    plt.tight_layout()\n",
        "    plt.show()"
      ],
      "metadata": {
        "id": "eg83s0BzP-L0"
      },
      "execution_count": null,
      "outputs": []
    },
    {
      "cell_type": "code",
      "source": [
        "plot_doc_topics(lda_vi, num_docs=15, top_n=10)"
      ],
      "metadata": {
        "id": "1izU5us6QEof",
        "colab": {
          "base_uri": "https://localhost:8080/",
          "height": 900
        },
        "outputId": "1bfcad70-ddf9-4bc4-94e4-f6bbb811931d"
      },
      "execution_count": null,
      "outputs": [
        {
          "output_type": "display_data",
          "data": {
            "text/plain": [
              "<Figure size 2000x1200 with 15 Axes>"
            ],
            "image/png": "[encoded data removed]"
          },
          "metadata": {}
        }
      ]
    },
    {
      "cell_type": "markdown",
      "source": [
        "## **4-3. Topic 할당 시각화**"
      ],
      "metadata": {
        "id": "RyFfLYdRQFsw"
      }
    },
    {
      "cell_type": "code",
      "source": [
        "## Topic 별 색상 지정\n",
        "\n",
        "def generate_topic_colors(num_topics):\n",
        "  cmap = plt.get_cmap(\"Set2\", num_topics)\n",
        "  return [to_hex(cmap(i)) for i in range(num_topics)]"
      ],
      "metadata": {
        "id": "Mecf_S1pQItr"
      },
      "execution_count": null,
      "outputs": []
    },
    {
      "cell_type": "code",
      "source": [
        "## 단어의 topic 할당 확인\n",
        "\n",
        "def get_topic_for_word(word, lda_model, vocab_to_index):\n",
        "    word_id = vocab_to_index.get(word)\n",
        "    if word_id is not None:\n",
        "        topic_probs = lda_model.beta[:, word_id]\n",
        "        return np.argmax(topic_probs)\n",
        "    return None"
      ],
      "metadata": {
        "id": "F1DjfKBfQLdu"
      },
      "execution_count": null,
      "outputs": []
    },
    {
      "cell_type": "code",
      "source": [
        "def visualize_document(document, lda_model, vocab_to_index, topic_colors):\n",
        "    html_content = '<html><head><style>'\n",
        "    html_content += 'body {font-family: Arial, sans-serif;} '\n",
        "    html_content += '.word {padding: 2px; margin: 2px; display: inline-block;} '\n",
        "    html_content += '</style></head><body>'\n",
        "\n",
        "    for word in document:\n",
        "        word_id = vocab_to_index.get(word)\n",
        "        if word_id is not None:\n",
        "            topic = get_topic_for_word(word, lda_model, vocab_to_index)\n",
        "            if topic is not None:\n",
        "                color = topic_colors[topic]\n",
        "                html_content += f'<span class=\"word\" style=\"color: {color};\">{word}</span>'\n",
        "            else:\n",
        "                html_content += f'<span class=\"word\">{word}</span>'\n",
        "        else:\n",
        "            html_content += f'<span class=\"word\">{word}</span>'\n",
        "\n",
        "    html_content += '</body></html>'\n",
        "\n",
        "    display(HTML(html_content))"
      ],
      "metadata": {
        "id": "8CGjrp8ZQRCu"
      },
      "execution_count": null,
      "outputs": []
    },
    {
      "cell_type": "code",
      "source": [
        "topic_colors = generate_topic_colors(num_topics=10)\n",
        "selected_docs = org_train_data[:15]\n",
        "for i, doc in enumerate(selected_docs):\n",
        "  print(f\"Document {i + 1}\")\n",
        "  visualize_document(doc, lda_vi, v_t_i, topic_colors)"
      ],
      "metadata": {
        "id": "U0mPycCPQXYd",
        "colab": {
          "base_uri": "https://localhost:8080/",
          "height": 695
        },
        "outputId": "28a3f94d-1252-47a2-c4ab-fe8b48c89af7"
      },
      "execution_count": null,
      "outputs": [
        {
          "output_type": "stream",
          "name": "stdout",
          "text": [
            "Document 1\n"
          ]
        },
        {
          "output_type": "display_data",
          "data": {
            "text/plain": [
              "<IPython.core.display.HTML object>"
            ],
            "text/html": [
              "<html><head><style>body {font-family: Arial, sans-serif;} .word {padding: 2px; margin: 2px; display: inline-block;} </style></head><body><span class=\"word\" style=\"color: #b3b3b3;\">confidence</span><span class=\"word\">in</span><span class=\"word\">the</span><span class=\"word\" style=\"color: #ffd92f;\">pound</span><span class=\"word\">is</span><span class=\"word\" style=\"color: #fc8d62;\">widely</span><span class=\"word\" style=\"color: #66c2a5;\">expected</span><span class=\"word\">to</span><span class=\"word\" style=\"color: #b3b3b3;\">take</span><span class=\"word\">another</span><span class=\"word\" style=\"color: #b3b3b3;\">sharp</span><span class=\"word\">dive</span><span class=\"word\">if</span><span class=\"word\" style=\"color: #66c2a5;\">trade</span><span class=\"word\" style=\"color: #b3b3b3;\">figures</span><span class=\"word\">for</span><span class=\"word\" style=\"color: #ffd92f;\">september</span><span class=\"word\">,</span><span class=\"word\">due</span><span class=\"word\">for</span><span class=\"word\" style=\"color: #e5c494;\">release</span><span class=\"word\" style=\"color: #66c2a5;\">tomorrow</span><span class=\"word\">,</span><span class=\"word\">fail</span><span class=\"word\">to</span><span class=\"word\" style=\"color: #b3b3b3;\">show</span><span class=\"word\">a</span><span class=\"word\" style=\"color: #a6d854;\">substantial</span><span class=\"word\" style=\"color: #e5c494;\">improvement</span><span class=\"word\">from</span><span class=\"word\" style=\"color: #ffd92f;\">july</span><span class=\"word\">and</span><span class=\"word\" style=\"color: #b3b3b3;\">august</span><span class=\"word\">'s</span><span class=\"word\">near-record</span><span class=\"word\">deficits</span><span class=\"word\">.</span></body></html>"
            ]
          },
          "metadata": {}
        },
        {
          "output_type": "stream",
          "name": "stdout",
          "text": [
            "Document 2\n"
          ]
        },
        {
          "output_type": "display_data",
          "data": {
            "text/plain": [
              "<IPython.core.display.HTML object>"
            ],
            "text/html": [
              "<html><head><style>body {font-family: Arial, sans-serif;} .word {padding: 2px; margin: 2px; display: inline-block;} </style></head><body><span class=\"word\" style=\"color: #66c2a5;\">chancellor</span><span class=\"word\">of</span><span class=\"word\">the</span><span class=\"word\">exchequer</span><span class=\"word\">nigel</span><span class=\"word\" style=\"color: #e78ac3;\">lawson</span><span class=\"word\">'s</span><span class=\"word\">restated</span><span class=\"word\" style=\"color: #e5c494;\">commitment</span><span class=\"word\">to</span><span class=\"word\">a</span><span class=\"word\" style=\"color: #66c2a5;\">firm</span><span class=\"word\" style=\"color: #e78ac3;\">monetary</span><span class=\"word\" style=\"color: #66c2a5;\">policy</span><span class=\"word\">has</span><span class=\"word\" style=\"color: #66c2a5;\">helped</span><span class=\"word\">to</span><span class=\"word\" style=\"color: #b3b3b3;\">prevent</span><span class=\"word\">a</span><span class=\"word\">freefall</span><span class=\"word\">in</span><span class=\"word\" style=\"color: #e78ac3;\">sterling</span><span class=\"word\">over</span><span class=\"word\">the</span><span class=\"word\" style=\"color: #fc8d62;\">past</span><span class=\"word\">week</span><span class=\"word\">.</span></body></html>"
            ]
          },
          "metadata": {}
        },
        {
          "output_type": "stream",
          "name": "stdout",
          "text": [
            "Document 3\n"
          ]
        },
        {
          "output_type": "display_data",
          "data": {
            "text/plain": [
              "<IPython.core.display.HTML object>"
            ],
            "text/html": [
              "<html><head><style>body {font-family: Arial, sans-serif;} .word {padding: 2px; margin: 2px; display: inline-block;} </style></head><body><span class=\"word\">but</span><span class=\"word\" style=\"color: #8da0cb;\">analysts</span><span class=\"word\">reckon</span><span class=\"word\" style=\"color: #e5c494;\">underlying</span><span class=\"word\" style=\"color: #e5c494;\">support</span><span class=\"word\">for</span><span class=\"word\" style=\"color: #e78ac3;\">sterling</span><span class=\"word\">has</span><span class=\"word\">been</span><span class=\"word\">eroded</span><span class=\"word\">by</span><span class=\"word\">the</span><span class=\"word\" style=\"color: #66c2a5;\">chancellor</span><span class=\"word\">'s</span><span class=\"word\" style=\"color: #b3b3b3;\">failure</span><span class=\"word\">to</span><span class=\"word\" style=\"color: #e78ac3;\">announce</span><span class=\"word\">any</span><span class=\"word\" style=\"color: #ffd92f;\">new</span><span class=\"word\" style=\"color: #66c2a5;\">policy</span><span class=\"word\" style=\"color: #e78ac3;\">measures</span><span class=\"word\">in</span><span class=\"word\">his</span><span class=\"word\">mansion</span><span class=\"word\" style=\"color: #66c2a5;\">house</span><span class=\"word\" style=\"color: #a6d854;\">speech</span><span class=\"word\">last</span><span class=\"word\">thursday</span><span class=\"word\">.</span></body></html>"
            ]
          },
          "metadata": {}
        },
        {
          "output_type": "stream",
          "name": "stdout",
          "text": [
            "Document 4\n"
          ]
        },
        {
          "output_type": "display_data",
          "data": {
            "text/plain": [
              "<IPython.core.display.HTML object>"
            ],
            "text/html": [
              "<html><head><style>body {font-family: Arial, sans-serif;} .word {padding: 2px; margin: 2px; display: inline-block;} </style></head><body><span class=\"word\">this</span><span class=\"word\">has</span><span class=\"word\" style=\"color: #b3b3b3;\">increased</span><span class=\"word\">the</span><span class=\"word\" style=\"color: #8da0cb;\">risk</span><span class=\"word\">of</span><span class=\"word\">the</span><span class=\"word\" style=\"color: #e5c494;\">government</span><span class=\"word\" style=\"color: #e78ac3;\">being</span><span class=\"word\" style=\"color: #e78ac3;\">forced</span><span class=\"word\">to</span><span class=\"word\" style=\"color: #ffd92f;\">increase</span><span class=\"word\" style=\"color: #b3b3b3;\">base</span><span class=\"word\" style=\"color: #e78ac3;\">rates</span><span class=\"word\">to</span><span class=\"word\">16</span><span class=\"word\">%</span><span class=\"word\">from</span><span class=\"word\">their</span><span class=\"word\" style=\"color: #e5c494;\">current</span><span class=\"word\">15</span><span class=\"word\">%</span><span class=\"word\" style=\"color: #e5c494;\">level</span><span class=\"word\">to</span><span class=\"word\">defend</span><span class=\"word\">the</span><span class=\"word\" style=\"color: #ffd92f;\">pound</span><span class=\"word\">,</span><span class=\"word\" style=\"color: #e5c494;\">economists</span><span class=\"word\">and</span><span class=\"word\" style=\"color: #66c2a5;\">foreign</span><span class=\"word\" style=\"color: #66c2a5;\">exchange</span><span class=\"word\" style=\"color: #66c2a5;\">market</span><span class=\"word\" style=\"color: #8da0cb;\">analysts</span><span class=\"word\" style=\"color: #e5c494;\">say</span><span class=\"word\">.</span></body></html>"
            ]
          },
          "metadata": {}
        },
        {
          "output_type": "stream",
          "name": "stdout",
          "text": [
            "Document 5\n"
          ]
        },
        {
          "output_type": "display_data",
          "data": {
            "text/plain": [
              "<IPython.core.display.HTML object>"
            ],
            "text/html": [
              "<html><head><style>body {font-family: Arial, sans-serif;} .word {padding: 2px; margin: 2px; display: inline-block;} </style></head><body><span class=\"word\">``</span><span class=\"word\">the</span><span class=\"word\" style=\"color: #ffd92f;\">risks</span><span class=\"word\">for</span><span class=\"word\" style=\"color: #e78ac3;\">sterling</span><span class=\"word\">of</span><span class=\"word\">a</span><span class=\"word\" style=\"color: #8da0cb;\">bad</span><span class=\"word\" style=\"color: #66c2a5;\">trade</span><span class=\"word\" style=\"color: #b3b3b3;\">figure</span><span class=\"word\">are</span><span class=\"word\">very</span><span class=\"word\" style=\"color: #66c2a5;\">heavily</span><span class=\"word\">on</span><span class=\"word\">the</span><span class=\"word\" style=\"color: #ffd92f;\">down</span><span class=\"word\" style=\"color: #66c2a5;\">side</span><span class=\"word\">,</span><span class=\"word\">''</span><span class=\"word\">said</span><span class=\"word\">chris</span><span class=\"word\">dillow</span><span class=\"word\">,</span><span class=\"word\" style=\"color: #fc8d62;\">senior</span><span class=\"word\">u.k.</span><span class=\"word\" style=\"color: #b3b3b3;\">economist</span><span class=\"word\">at</span><span class=\"word\">nomura</span><span class=\"word\" style=\"color: #b3b3b3;\">research</span><span class=\"word\" style=\"color: #fc8d62;\">institute</span><span class=\"word\">.</span></body></html>"
            ]
          },
          "metadata": {}
        },
        {
          "output_type": "stream",
          "name": "stdout",
          "text": [
            "Document 6\n"
          ]
        },
        {
          "output_type": "display_data",
          "data": {
            "text/plain": [
              "<IPython.core.display.HTML object>"
            ],
            "text/html": [
              "<html><head><style>body {font-family: Arial, sans-serif;} .word {padding: 2px; margin: 2px; display: inline-block;} </style></head><body><span class=\"word\">``</span><span class=\"word\">if</span><span class=\"word\">there</span><span class=\"word\">is</span><span class=\"word\">another</span><span class=\"word\" style=\"color: #8da0cb;\">bad</span><span class=\"word\" style=\"color: #66c2a5;\">trade</span><span class=\"word\" style=\"color: #66c2a5;\">number</span><span class=\"word\">,</span><span class=\"word\">there</span><span class=\"word\">could</span><span class=\"word\">be</span><span class=\"word\">an</span><span class=\"word\">awful</span><span class=\"word\" style=\"color: #b3b3b3;\">lot</span><span class=\"word\">of</span><span class=\"word\" style=\"color: #ffd92f;\">pressure</span><span class=\"word\">,</span><span class=\"word\">''</span><span class=\"word\" style=\"color: #e5c494;\">noted</span><span class=\"word\">simon</span><span class=\"word\">briscoe</span><span class=\"word\">,</span><span class=\"word\">u.k.</span><span class=\"word\" style=\"color: #b3b3b3;\">economist</span><span class=\"word\">for</span><span class=\"word\">midland</span><span class=\"word\">montagu</span><span class=\"word\">,</span><span class=\"word\">a</span><span class=\"word\" style=\"color: #66c2a5;\">unit</span><span class=\"word\">of</span><span class=\"word\">midland</span><span class=\"word\" style=\"color: #fc8d62;\">bank</span><span class=\"word\" style=\"color: #a6d854;\">plc</span><span class=\"word\">.</span></body></html>"
            ]
          },
          "metadata": {}
        },
        {
          "output_type": "stream",
          "name": "stdout",
          "text": [
            "Document 7\n"
          ]
        },
        {
          "output_type": "display_data",
          "data": {
            "text/plain": [
              "<IPython.core.display.HTML object>"
            ],
            "text/html": [
              "<html><head><style>body {font-family: Arial, sans-serif;} .word {padding: 2px; margin: 2px; display: inline-block;} </style></head><body><span class=\"word\" style=\"color: #b3b3b3;\">forecasts</span><span class=\"word\">for</span><span class=\"word\">the</span><span class=\"word\" style=\"color: #66c2a5;\">trade</span><span class=\"word\" style=\"color: #b3b3b3;\">figures</span><span class=\"word\" style=\"color: #b3b3b3;\">range</span><span class=\"word\" style=\"color: #fc8d62;\">widely</span><span class=\"word\">,</span><span class=\"word\">but</span><span class=\"word\">few</span><span class=\"word\" style=\"color: #e5c494;\">economists</span><span class=\"word\" style=\"color: #a6d854;\">expect</span><span class=\"word\">the</span><span class=\"word\" style=\"color: #fc8d62;\">data</span><span class=\"word\">to</span><span class=\"word\" style=\"color: #b3b3b3;\">show</span><span class=\"word\">a</span><span class=\"word\">very</span><span class=\"word\">marked</span><span class=\"word\" style=\"color: #e5c494;\">improvement</span><span class=\"word\">from</span><span class=\"word\">the</span><span class=\"word\">#</span><span class=\"word\">2</span><span class=\"word\" style=\"color: #8da0cb;\">billion</span><span class=\"word\">-lrb-</span><span class=\"word\">$</span><span class=\"word\">3.2</span><span class=\"word\" style=\"color: #8da0cb;\">billion</span><span class=\"word\">-rrb-</span><span class=\"word\" style=\"color: #66c2a5;\">deficit</span><span class=\"word\">in</span><span class=\"word\">the</span><span class=\"word\" style=\"color: #e5c494;\">current</span><span class=\"word\" style=\"color: #e5c494;\">account</span><span class=\"word\" style=\"color: #e5c494;\">reported</span><span class=\"word\">for</span><span class=\"word\" style=\"color: #b3b3b3;\">august</span><span class=\"word\">.</span></body></html>"
            ]
          },
          "metadata": {}
        },
        {
          "output_type": "stream",
          "name": "stdout",
          "text": [
            "Document 8\n"
          ]
        },
        {
          "output_type": "display_data",
          "data": {
            "text/plain": [
              "<IPython.core.display.HTML object>"
            ],
            "text/html": [
              "<html><head><style>body {font-family: Arial, sans-serif;} .word {padding: 2px; margin: 2px; display: inline-block;} </style></head><body><span class=\"word\">the</span><span class=\"word\" style=\"color: #b3b3b3;\">august</span><span class=\"word\" style=\"color: #66c2a5;\">deficit</span><span class=\"word\">and</span><span class=\"word\">the</span><span class=\"word\">#</span><span class=\"word\">2.2</span><span class=\"word\" style=\"color: #8da0cb;\">billion</span><span class=\"word\" style=\"color: #b3b3b3;\">gap</span><span class=\"word\" style=\"color: #66c2a5;\">registered</span><span class=\"word\">in</span><span class=\"word\" style=\"color: #ffd92f;\">july</span><span class=\"word\">are</span><span class=\"word\">topped</span><span class=\"word\">only</span><span class=\"word\">by</span><span class=\"word\">the</span><span class=\"word\">#</span><span class=\"word\">2.3</span><span class=\"word\" style=\"color: #8da0cb;\">billion</span><span class=\"word\" style=\"color: #66c2a5;\">deficit</span><span class=\"word\">of</span><span class=\"word\" style=\"color: #ffd92f;\">october</span><span class=\"word\">1988</span><span class=\"word\">.</span></body></html>"
            ]
          },
          "metadata": {}
        },
        {
          "output_type": "stream",
          "name": "stdout",
          "text": [
            "Document 9\n"
          ]
        },
        {
          "output_type": "display_data",
          "data": {
            "text/plain": [
              "<IPython.core.display.HTML object>"
            ],
            "text/html": [
              "<html><head><style>body {font-family: Arial, sans-serif;} .word {padding: 2px; margin: 2px; display: inline-block;} </style></head><body><span class=\"word\">sanjay</span><span class=\"word\">joshi</span><span class=\"word\">,</span><span class=\"word\" style=\"color: #ffd92f;\">european</span><span class=\"word\" style=\"color: #b3b3b3;\">economist</span><span class=\"word\">at</span><span class=\"word\">baring</span><span class=\"word\" style=\"color: #e5c494;\">brothers</span><span class=\"word\">&</span><span class=\"word\">co.</span><span class=\"word\">,</span><span class=\"word\">said</span><span class=\"word\">there</span><span class=\"word\">is</span><span class=\"word\">no</span><span class=\"word\" style=\"color: #66c2a5;\">sign</span><span class=\"word\">that</span><span class=\"word\" style=\"color: #ffd92f;\">britain</span><span class=\"word\">'s</span><span class=\"word\" style=\"color: #66c2a5;\">manufacturing</span><span class=\"word\" style=\"color: #b3b3b3;\">industry</span><span class=\"word\">is</span><span class=\"word\">transforming</span><span class=\"word\" style=\"color: #fc8d62;\">itself</span><span class=\"word\">to</span><span class=\"word\" style=\"color: #fc8d62;\">boost</span><span class=\"word\" style=\"color: #66c2a5;\">exports</span><span class=\"word\">.</span></body></html>"
            ]
          },
          "metadata": {}
        },
        {
          "output_type": "stream",
          "name": "stdout",
          "text": [
            "Document 10\n"
          ]
        },
        {
          "output_type": "display_data",
          "data": {
            "text/plain": [
              "<IPython.core.display.HTML object>"
            ],
            "text/html": [
              "<html><head><style>body {font-family: Arial, sans-serif;} .word {padding: 2px; margin: 2px; display: inline-block;} </style></head><body><span class=\"word\">at</span><span class=\"word\">the</span><span class=\"word\" style=\"color: #b3b3b3;\">same</span><span class=\"word\" style=\"color: #fc8d62;\">time</span><span class=\"word\">,</span><span class=\"word\">he</span><span class=\"word\" style=\"color: #b3b3b3;\">remains</span><span class=\"word\" style=\"color: #e78ac3;\">fairly</span><span class=\"word\">pessimistic</span><span class=\"word\">about</span><span class=\"word\">the</span><span class=\"word\" style=\"color: #b3b3b3;\">outlook</span><span class=\"word\">for</span><span class=\"word\" style=\"color: #66c2a5;\">imports</span><span class=\"word\">,</span><span class=\"word\" style=\"color: #b3b3b3;\">given</span><span class=\"word\" style=\"color: #a6d854;\">continued</span><span class=\"word\" style=\"color: #ffd92f;\">high</span><span class=\"word\" style=\"color: #a6d854;\">consumer</span><span class=\"word\">and</span><span class=\"word\" style=\"color: #b3b3b3;\">capital</span><span class=\"word\" style=\"color: #66c2a5;\">goods</span><span class=\"word\">inflows</span><span class=\"word\">.</span></body></html>"
            ]
          },
          "metadata": {}
        },
        {
          "output_type": "stream",
          "name": "stdout",
          "text": [
            "Document 11\n"
          ]
        },
        {
          "output_type": "display_data",
          "data": {
            "text/plain": [
              "<IPython.core.display.HTML object>"
            ],
            "text/html": [
              "<html><head><style>body {font-family: Arial, sans-serif;} .word {padding: 2px; margin: 2px; display: inline-block;} </style></head><body><span class=\"word\">he</span><span class=\"word\">reckons</span><span class=\"word\">the</span><span class=\"word\" style=\"color: #e5c494;\">current</span><span class=\"word\" style=\"color: #e5c494;\">account</span><span class=\"word\" style=\"color: #66c2a5;\">deficit</span><span class=\"word\">will</span><span class=\"word\" style=\"color: #b3b3b3;\">narrow</span><span class=\"word\">to</span><span class=\"word\">only</span><span class=\"word\">#</span><span class=\"word\">1.8</span><span class=\"word\" style=\"color: #8da0cb;\">billion</span><span class=\"word\">in</span><span class=\"word\" style=\"color: #ffd92f;\">september</span><span class=\"word\">.</span></body></html>"
            ]
          },
          "metadata": {}
        },
        {
          "output_type": "stream",
          "name": "stdout",
          "text": [
            "Document 12\n"
          ]
        },
        {
          "output_type": "display_data",
          "data": {
            "text/plain": [
              "<IPython.core.display.HTML object>"
            ],
            "text/html": [
              "<html><head><style>body {font-family: Arial, sans-serif;} .word {padding: 2px; margin: 2px; display: inline-block;} </style></head><body><span class=\"word\">however</span><span class=\"word\">,</span><span class=\"word\">mr.</span><span class=\"word\">dillow</span><span class=\"word\">said</span><span class=\"word\">he</span><span class=\"word\" style=\"color: #66c2a5;\">believes</span><span class=\"word\">that</span><span class=\"word\">a</span><span class=\"word\" style=\"color: #8da0cb;\">reduction</span><span class=\"word\">in</span><span class=\"word\">raw</span><span class=\"word\" style=\"color: #a6d854;\">material</span><span class=\"word\">stockbuilding</span><span class=\"word\">by</span><span class=\"word\" style=\"color: #b3b3b3;\">industry</span><span class=\"word\">could</span><span class=\"word\" style=\"color: #e78ac3;\">lead</span><span class=\"word\">to</span><span class=\"word\">a</span><span class=\"word\" style=\"color: #b3b3b3;\">sharp</span><span class=\"word\" style=\"color: #a6d854;\">drop</span><span class=\"word\">in</span><span class=\"word\" style=\"color: #66c2a5;\">imports</span><span class=\"word\">.</span></body></html>"
            ]
          },
          "metadata": {}
        },
        {
          "output_type": "stream",
          "name": "stdout",
          "text": [
            "Document 13\n"
          ]
        },
        {
          "output_type": "display_data",
          "data": {
            "text/plain": [
              "<IPython.core.display.HTML object>"
            ],
            "text/html": [
              "<html><head><style>body {font-family: Arial, sans-serif;} .word {padding: 2px; margin: 2px; display: inline-block;} </style></head><body><span class=\"word\" style=\"color: #e5c494;\">combined</span><span class=\"word\">with</span><span class=\"word\">at</span><span class=\"word\" style=\"color: #66c2a5;\">least</span><span class=\"word\">some</span><span class=\"word\" style=\"color: #66c2a5;\">rebound</span><span class=\"word\">in</span><span class=\"word\" style=\"color: #66c2a5;\">exports</span><span class=\"word\">after</span><span class=\"word\" style=\"color: #b3b3b3;\">august</span><span class=\"word\">'s</span><span class=\"word\">unexpected</span><span class=\"word\" style=\"color: #b3b3b3;\">decline</span><span class=\"word\">,</span><span class=\"word\">the</span><span class=\"word\" style=\"color: #66c2a5;\">deficit</span><span class=\"word\">could</span><span class=\"word\" style=\"color: #b3b3b3;\">narrow</span><span class=\"word\">to</span><span class=\"word\">as</span><span class=\"word\" style=\"color: #fc8d62;\">little</span><span class=\"word\">as</span><span class=\"word\">#</span><span class=\"word\">1.3</span><span class=\"word\" style=\"color: #8da0cb;\">billion</span><span class=\"word\">.</span></body></html>"
            ]
          },
          "metadata": {}
        },
        {
          "output_type": "stream",
          "name": "stdout",
          "text": [
            "Document 14\n"
          ]
        },
        {
          "output_type": "display_data",
          "data": {
            "text/plain": [
              "<IPython.core.display.HTML object>"
            ],
            "text/html": [
              "<html><head><style>body {font-family: Arial, sans-serif;} .word {padding: 2px; margin: 2px; display: inline-block;} </style></head><body><span class=\"word\">mr.</span><span class=\"word\">briscoe</span><span class=\"word\">,</span><span class=\"word\">who</span><span class=\"word\">also</span><span class=\"word\" style=\"color: #b3b3b3;\">forecasts</span><span class=\"word\">a</span><span class=\"word\">#</span><span class=\"word\">1.3</span><span class=\"word\" style=\"color: #8da0cb;\">billion</span><span class=\"word\" style=\"color: #e5c494;\">current</span><span class=\"word\" style=\"color: #e5c494;\">account</span><span class=\"word\" style=\"color: #b3b3b3;\">gap</span><span class=\"word\">,</span><span class=\"word\">warns</span><span class=\"word\">that</span><span class=\"word\">even</span><span class=\"word\">if</span><span class=\"word\">the</span><span class=\"word\" style=\"color: #66c2a5;\">trade</span><span class=\"word\" style=\"color: #b3b3b3;\">figures</span><span class=\"word\">are</span><span class=\"word\" style=\"color: #b3b3b3;\">bullish</span><span class=\"word\">for</span><span class=\"word\" style=\"color: #e78ac3;\">sterling</span><span class=\"word\">,</span><span class=\"word\">the</span><span class=\"word\" style=\"color: #b3b3b3;\">currency</span><span class=\"word\" style=\"color: #ffd92f;\">wo</span><span class=\"word\">n't</span><span class=\"word\" style=\"color: #66c2a5;\">advance</span><span class=\"word\">much</span><span class=\"word\">because</span><span class=\"word\" style=\"color: #66c2a5;\">investors</span><span class=\"word\">will</span><span class=\"word\" style=\"color: #b3b3b3;\">want</span><span class=\"word\">to</span><span class=\"word\" style=\"color: #ffd92f;\">see</span><span class=\"word\" style=\"color: #8da0cb;\">further</span><span class=\"word\" style=\"color: #e5c494;\">evidence</span><span class=\"word\">of</span><span class=\"word\">the</span><span class=\"word\" style=\"color: #b3b3b3;\">turnaround</span><span class=\"word\">before</span><span class=\"word\">adjusting</span><span class=\"word\" style=\"color: #b3b3b3;\">positions</span><span class=\"word\">.</span></body></html>"
            ]
          },
          "metadata": {}
        },
        {
          "output_type": "stream",
          "name": "stdout",
          "text": [
            "Document 15\n"
          ]
        },
        {
          "output_type": "display_data",
          "data": {
            "text/plain": [
              "<IPython.core.display.HTML object>"
            ],
            "text/html": [
              "<html><head><style>body {font-family: Arial, sans-serif;} .word {padding: 2px; margin: 2px; display: inline-block;} </style></head><body><span class=\"word\" style=\"color: #e5c494;\">nevertheless</span><span class=\"word\">,</span><span class=\"word\">he</span><span class=\"word\" style=\"color: #e5c494;\">noted</span><span class=\"word\">,</span><span class=\"word\">``</span><span class=\"word\">no</span><span class=\"word\">one</span><span class=\"word\">will</span><span class=\"word\" style=\"color: #b3b3b3;\">want</span><span class=\"word\">to</span><span class=\"word\" style=\"color: #b3b3b3;\">go</span><span class=\"word\">into</span><span class=\"word\">the</span><span class=\"word\" style=\"color: #66c2a5;\">trade</span><span class=\"word\" style=\"color: #b3b3b3;\">figures</span><span class=\"word\" style=\"color: #b3b3b3;\">without</span><span class=\"word\">a</span><span class=\"word\" style=\"color: #8da0cb;\">flat</span><span class=\"word\" style=\"color: #a6d854;\">position</span><span class=\"word\">''</span><span class=\"word\">in</span><span class=\"word\">the</span><span class=\"word\" style=\"color: #ffd92f;\">pound</span><span class=\"word\">.</span></body></html>"
            ]
          },
          "metadata": {}
        }
      ]
    }
  ]
}