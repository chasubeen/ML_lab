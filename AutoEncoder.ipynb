{
  "nbformat": 4,
  "nbformat_minor": 0,
  "metadata": {
    "colab": {
      "provenance": [],
      "gpuType": "T4",
      "authorship_tag": "ABX9TyMlbejyNNllXPuyF5eAcYnl",
      "include_colab_link": true
    },
    "kernelspec": {
      "name": "python3",
      "display_name": "Python 3"
    },
    "language_info": {
      "name": "python"
    },
    "accelerator": "GPU"
  },
  "cells": [
    {
      "cell_type": "markdown",
      "metadata": {
        "id": "view-in-github",
        "colab_type": "text"
      },
      "source": [
        "<a href=\"https://colab.research.google.com/github/chasubeen/ML_lab/blob/main/AutoEncoder.ipynb\" target=\"_parent\"><img src=\"https://colab.research.google.com/assets/colab-badge.svg\" alt=\"Open In Colab\"/></a>"
      ]
    },
    {
      "cell_type": "markdown",
      "source": [
        "# **0. Import libraries**"
      ],
      "metadata": {
        "id": "xvFaGqScpZrB"
      }
    },
    {
      "cell_type": "code",
      "execution_count": 1,
      "metadata": {
        "id": "0UXWNcIpn2ZX"
      },
      "outputs": [],
      "source": [
        "import torch\n",
        "import torch.nn as nn\n",
        "import torch.optim as optim\n",
        "from torch.utils.data import Dataset, DataLoader\n",
        "import torchvision.datasets as datasets\n",
        "import torchvision.transforms as transforms"
      ]
    },
    {
      "cell_type": "code",
      "source": [
        "device = torch.device(\"cuda\" if torch.cuda.is_available() else \"cpu\")"
      ],
      "metadata": {
        "id": "xagX6loioBC-"
      },
      "execution_count": 2,
      "outputs": []
    },
    {
      "cell_type": "markdown",
      "source": [
        "# **1. Preparing data**"
      ],
      "metadata": {
        "id": "3whDiL3VoDA4"
      }
    },
    {
      "cell_type": "code",
      "source": [
        "### Preprocessing\n",
        "\n",
        "transform = transforms.Compose([\n",
        "    transforms.ToTensor(), # tensor로 변환\n",
        "    transforms.Normalize((0.1307,), (0.3081,)) # 정규화\n",
        "    ])\n",
        "\n",
        "train_dataset = datasets.MNIST(\n",
        "    root = \"../data\", train = True, transform = transform, download = True)\n",
        "\n",
        "test_dataset = datasets.MNIST(\n",
        "    root = \"../data\", train = False, transform = transform, download = True)"
      ],
      "metadata": {
        "id": "XMIVV2YyoHe7"
      },
      "execution_count": 3,
      "outputs": []
    },
    {
      "cell_type": "code",
      "source": [
        "### Define dataloaders\n",
        "\n",
        "train_loader = DataLoader(\n",
        "    train_dataset, batch_size = 128, shuffle = True, num_workers = 4)\n",
        "\n",
        "test_loader = DataLoader(\n",
        "    test_dataset, batch_size = 32, shuffle = False, num_workers = 4)"
      ],
      "metadata": {
        "colab": {
          "base_uri": "https://localhost:8080/"
        },
        "id": "ILtb-OG6ouQl",
        "outputId": "3633fe1a-4a3b-4f65-f3e9-2952a16a2e1a"
      },
      "execution_count": 4,
      "outputs": [
        {
          "output_type": "stream",
          "name": "stderr",
          "text": [
            "/usr/local/lib/python3.10/dist-packages/torch/utils/data/dataloader.py:558: UserWarning: This DataLoader will create 4 worker processes in total. Our suggested max number of worker in current system is 2, which is smaller than what this DataLoader is going to create. Please be aware that excessive worker creation might get DataLoader running slow or even freeze, lower the worker number to avoid potential slowness/freeze if necessary.\n",
            "  warnings.warn(_create_warning_msg(\n"
          ]
        }
      ]
    },
    {
      "cell_type": "markdown",
      "source": [
        "# **2. Network**\n",
        "- Encoder: 데이터셋을 저차원으로 압축하는 네트워크\n",
        "  - 784→256→256→64\n",
        "- Decoder: 압축된 데이터셋을 다시 원래의 차원으로 복원하는 네트워크\n",
        "  - (64) → 256→256→784"
      ],
      "metadata": {
        "id": "XCdyBZEtpqtA"
      }
    },
    {
      "cell_type": "code",
      "source": [
        "class AutoEncoder(nn.Module):\n",
        "  def __init__(self):\n",
        "    super(AutoEncoder, self).__init__()\n",
        "\n",
        "    # Encoder\n",
        "    self.encoder = nn.Sequential(\n",
        "      nn.Linear(784, 256),\n",
        "      nn.ReLU(),\n",
        "\n",
        "      nn.Linear(256, 256),\n",
        "      nn.ReLU(),\n",
        "\n",
        "      nn.Linear(256, 64),\n",
        "      nn.ReLU()\n",
        "    )\n",
        "\n",
        "    # Decoder\n",
        "    self.decoder = nn.Sequential(\n",
        "      nn.Linear(64, 256),\n",
        "      nn.ReLU(),\n",
        "\n",
        "      nn.Linear(256, 256),\n",
        "      nn.ReLU(),\n",
        "\n",
        "      nn.Linear(256, 784),\n",
        "\n",
        "      nn.Sigmoid()  # 출력 값(pixel 화소 값)이 0 ~ 1이 되도록\n",
        "    )\n",
        "\n",
        "  def forward(self, x):\n",
        "      x = self.encoder(x)\n",
        "      x = self.decoder(x)\n",
        "      return x"
      ],
      "metadata": {
        "id": "BBNwSwEtqXz3"
      },
      "execution_count": 5,
      "outputs": []
    },
    {
      "cell_type": "markdown",
      "source": [
        "# **3. Training**"
      ],
      "metadata": {
        "id": "tzlxDtofwtoz"
      }
    },
    {
      "cell_type": "code",
      "source": [
        "model = AutoEncoder()\n",
        "loss_fn = nn.MSELoss() # Entropy 관점으로 본다면 BCELoss도 가능할 것임\n",
        "optimizer = optim.Adam(model.parameters(), lr = 0.001, weight_decay = 1e-05)"
      ],
      "metadata": {
        "id": "rRZ0AF8awvrZ"
      },
      "execution_count": 10,
      "outputs": []
    },
    {
      "cell_type": "code",
      "source": [
        "num_epochs = 30\n",
        "# 손실 값을 저장하기 위한 리스트\n",
        "train_losses = []"
      ],
      "metadata": {
        "id": "Wh7733nf21Ff"
      },
      "execution_count": 11,
      "outputs": []
    },
    {
      "cell_type": "code",
      "source": [
        "### Training loop\n",
        "\n",
        "for epoch in range(num_epochs):\n",
        "  model.train()\n",
        "  epoch_loss = 0\n",
        "\n",
        "  for data in train_loader:\n",
        "    img, _ = data\n",
        "    img = img.view(img.size(0), -1)  # 이미지를 1차원으로 펼치기\n",
        "\n",
        "    # Forward pass\n",
        "    output = model(img)\n",
        "    loss = loss_fn(output, img)\n",
        "\n",
        "    # Backward pass\n",
        "    optimizer.zero_grad()\n",
        "    loss.backward()\n",
        "    optimizer.step()\n",
        "\n",
        "    epoch_loss += loss.item()\n",
        "\n",
        "  epoch_loss /= len(train_loader)\n",
        "  train_losses.append(epoch_loss)\n",
        "\n",
        "  print(f'Epoch [{epoch+1}/{num_epochs}], Loss: {epoch_loss:.4f}')"
      ],
      "metadata": {
        "colab": {
          "base_uri": "https://localhost:8080/"
        },
        "id": "J2r3umAExr_4",
        "outputId": "927af056-61be-4ab7-cfce-a7108744df7a"
      },
      "execution_count": 12,
      "outputs": [
        {
          "output_type": "stream",
          "name": "stdout",
          "text": [
            "Epoch [1/30], Loss: 0.7704\n",
            "Epoch [2/30], Loss: 0.6214\n",
            "Epoch [3/30], Loss: 0.5795\n",
            "Epoch [4/30], Loss: 0.5591\n",
            "Epoch [5/30], Loss: 0.5450\n",
            "Epoch [6/30], Loss: 0.5351\n",
            "Epoch [7/30], Loss: 0.5277\n",
            "Epoch [8/30], Loss: 0.5220\n",
            "Epoch [9/30], Loss: 0.5182\n",
            "Epoch [10/30], Loss: 0.5148\n",
            "Epoch [11/30], Loss: 0.5117\n",
            "Epoch [12/30], Loss: 0.5089\n",
            "Epoch [13/30], Loss: 0.5067\n",
            "Epoch [14/30], Loss: 0.5043\n",
            "Epoch [15/30], Loss: 0.5028\n",
            "Epoch [16/30], Loss: 0.5015\n",
            "Epoch [17/30], Loss: 0.5005\n",
            "Epoch [18/30], Loss: 0.4995\n",
            "Epoch [19/30], Loss: 0.4985\n",
            "Epoch [20/30], Loss: 0.4977\n",
            "Epoch [21/30], Loss: 0.4969\n",
            "Epoch [22/30], Loss: 0.4963\n",
            "Epoch [23/30], Loss: 0.4958\n",
            "Epoch [24/30], Loss: 0.4951\n",
            "Epoch [25/30], Loss: 0.4943\n",
            "Epoch [26/30], Loss: 0.4937\n",
            "Epoch [27/30], Loss: 0.4931\n",
            "Epoch [28/30], Loss: 0.4928\n",
            "Epoch [29/30], Loss: 0.4924\n",
            "Epoch [30/30], Loss: 0.4917\n"
          ]
        }
      ]
    },
    {
      "cell_type": "code",
      "source": [
        "### 시각화\n",
        "\n",
        "import matplotlib.pyplot as plt\n",
        "\n",
        "plt.figure()\n",
        "plt.plot(range(1, num_epochs+1), train_losses, label='Training Loss')\n",
        "plt.xlabel('Epoch')\n",
        "plt.ylabel('Loss')\n",
        "plt.title('Training Loss over Epochs')\n",
        "plt.legend()\n",
        "plt.show()"
      ],
      "metadata": {
        "colab": {
          "base_uri": "https://localhost:8080/",
          "height": 472
        },
        "id": "6lh8ga4j3GMz",
        "outputId": "a76a6afb-3a09-4b1a-d9c9-8977c6fb1714"
      },
      "execution_count": 13,
      "outputs": [
        {
          "output_type": "display_data",
          "data": {
            "text/plain": [
              "<Figure size 640x480 with 1 Axes>"
            ],
            "image/png": "[encoded data removed]"
          },
          "metadata": {}
        }
      ]
    },
    {
      "cell_type": "markdown",
      "source": [
        "# **4. Testing**"
      ],
      "metadata": {
        "id": "p8d7Lt5m3WpK"
      }
    },
    {
      "cell_type": "code",
      "source": [
        "model.eval()\n",
        "\n",
        "with torch.no_grad():\n",
        "  for data in test_loader:\n",
        "    img, _ = data\n",
        "    img = img.view(img.size(0), -1)\n",
        "\n",
        "    # Forward pass\n",
        "    output = model(img)\n",
        "\n",
        "    # 샘플로 5개의 이미지를 시각화합니다\n",
        "    num_samples = 5\n",
        "    fig, axes = plt.subplots(2, num_samples, figsize = (15, 4))\n",
        "\n",
        "    for i in range(num_samples):\n",
        "      original_img = img[i].view(28, 28).cpu().numpy()\n",
        "      reconstructed_img = output[i].view(28, 28).cpu().numpy()\n",
        "\n",
        "      # 원본 이미지를 첫 번째 행에 표시\n",
        "      axes[0, i].imshow(original_img, cmap='gray')\n",
        "      axes[0, i].set_title(f\"Original {i+1}\")\n",
        "      axes[0, i].axis('off')\n",
        "\n",
        "      # 재구성된 이미지를 두 번째 행에 표시\n",
        "      axes[1, i].imshow(reconstructed_img, cmap='gray')\n",
        "      axes[1, i].set_title(f\"Reconstructed {i+1}\")\n",
        "      axes[1, i].axis('off')\n",
        "\n",
        "    plt.show()\n",
        "\n",
        "    # 첫 번째 배치만 시각화 후 break\n",
        "    break"
      ],
      "metadata": {
        "colab": {
          "base_uri": "https://localhost:8080/",
          "height": 234
        },
        "id": "PtwL4yeR3dOx",
        "outputId": "77415205-4652-41ff-eed0-be50a1f2cb16"
      },
      "execution_count": 23,
      "outputs": [
        {
          "output_type": "display_data",
          "data": {
            "text/plain": [
              "<Figure size 1500x400 with 10 Axes>"
            ],
            "image/png": "[encoded data removed]"
          },
          "metadata": {}
        }
      ]
    }
  ]
}