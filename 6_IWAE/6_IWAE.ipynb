{
  "cells": [
    {
      "cell_type": "code",
      "execution_count": null,
      "metadata": {
        "id": "TF_hhM6ChWRq"
      },
      "outputs": [],
      "source": [
        "import torch\n",
        "import torch.nn.functional as F\n",
        "import torch.nn as nn\n",
        "import torch.optim as optim\n",
        "from torch.utils.data import DataLoader\n",
        "import torchvision.datasets as datasets\n",
        "import torchvision.transforms as transforms\n",
        "\n",
        "import matplotlib.pyplot as plt\n",
        "import numpy as np"
      ]
    },
    {
      "cell_type": "code",
      "execution_count": null,
      "metadata": {
        "id": "waLn8abchus2"
      },
      "outputs": [],
      "source": [
        "device = torch.device(\"cuda\" if torch.cuda.is_available() else \"cpu\")"
      ]
    },
    {
      "cell_type": "markdown",
      "metadata": {
        "id": "3whDiL3VoDA4"
      },
      "source": [
        "# **1. Preparing data**"
      ]
    },
    {
      "cell_type": "code",
      "execution_count": null,
      "metadata": {
        "id": "2k_vxs_rgjMX"
      },
      "outputs": [],
      "source": [
        "transform = transforms.Compose([\n",
        "    transforms.ToTensor(),\n",
        "    transforms.Lambda(lambda x: (x > 0.5).float()),  # 이진화\n",
        "])"
      ]
    },
    {
      "cell_type": "code",
      "execution_count": null,
      "metadata": {
        "id": "7wgMbp2jgkf6"
      },
      "outputs": [],
      "source": [
        "train_dataset = datasets.MNIST(root='../data', train = True,\n",
        "                               transform = transform, download = True)\n",
        "test_dataset = datasets.MNIST(root='../data', train = False,\n",
        "                              transform = transform, download = True)"
      ]
    },
    {
      "cell_type": "code",
      "execution_count": null,
      "metadata": {
        "id": "cFg8WEA6gmbz"
      },
      "outputs": [],
      "source": [
        "train_loader = DataLoader(train_dataset, batch_size = 20, shuffle = True)\n",
        "test_loader = DataLoader(test_dataset, batch_size = 20, shuffle = False)"
      ]
    },
    {
      "cell_type": "markdown",
      "metadata": {
        "id": "3MCr1VRWiSCM"
      },
      "source": [
        "# **2. Modeling**"
      ]
    },
    {
      "cell_type": "markdown",
      "metadata": {
        "id": "HkaNtxIxalmN"
      },
      "source": [
        "## **2-1. VAE**"
      ]
    },
    {
      "cell_type": "code",
      "execution_count": null,
      "metadata": {
        "id": "kctjKyOL7vRG"
      },
      "outputs": [],
      "source": [
        "class VAE(nn.Module):\n",
        "    def __init__(self, architecture, latent_dim, k):\n",
        "        super(VAE, self).__init__()\n",
        "        self.architecture = architecture\n",
        "        self.latent_dim = latent_dim\n",
        "        self.k = k  # k 저장\n",
        "\n",
        "        if architecture == 1:\n",
        "            # Encoder\n",
        "            self.encoder = nn.Sequential(\n",
        "                nn.Linear(28*28, 200),\n",
        "                nn.Tanh(),\n",
        "                nn.Linear(200, 200),\n",
        "                nn.Tanh()\n",
        "            )\n",
        "            self.fc_mean = nn.Linear(200, self.latent_dim)\n",
        "            self.fc_logvar = nn.Linear(200, self.latent_dim)\n",
        "\n",
        "            # Decoder\n",
        "            self.decoder = nn.Sequential(\n",
        "                nn.Linear(self.latent_dim, 200),\n",
        "                nn.Tanh(),\n",
        "                nn.Linear(200, 200),\n",
        "                nn.Tanh(),\n",
        "                nn.Linear(200, 28*28),\n",
        "                nn.Sigmoid()\n",
        "            )\n",
        "\n",
        "        elif architecture == 2:\n",
        "            # Encoder\n",
        "            self.encoder = nn.Sequential(\n",
        "                nn.Linear(28*28, 200),\n",
        "                nn.Tanh(),\n",
        "                nn.Linear(200, 100),\n",
        "                nn.Tanh()\n",
        "            )\n",
        "            self.fc_mean1 = nn.Linear(100, 100)\n",
        "            self.fc_logvar1 = nn.Linear(100, 100)\n",
        "            self.fc_mean2 = nn.Linear(100, self.latent_dim)\n",
        "            self.fc_logvar2 = nn.Linear(100, self.latent_dim)\n",
        "\n",
        "            self.middle = nn.Sequential(\n",
        "                nn.Linear(self.latent_dim, 100),\n",
        "                nn.Tanh(),\n",
        "                nn.Linear(100, 100),\n",
        "                nn.Tanh()\n",
        "            )\n",
        "\n",
        "            # Decoder\n",
        "            self.decoder = nn.Sequential(\n",
        "                nn.Linear(100, 200),\n",
        "                nn.Tanh(),\n",
        "                nn.Linear(200, 200),\n",
        "                nn.Tanh(),\n",
        "                nn.Linear(200, 28*28),\n",
        "                nn.Sigmoid()\n",
        "            )\n",
        "\n",
        "    def reparameterize(self, mean, logvar):\n",
        "        std = torch.exp(0.5 * logvar)\n",
        "        epsilon = torch.randn_like(std)\n",
        "        return mean + std * epsilon\n",
        "\n",
        "    def forward(self, x):\n",
        "        batch_size = x.size(0)\n",
        "        x = x.view(batch_size, -1)  # Flatten input\n",
        "\n",
        "        if self.architecture == 1:\n",
        "            # Encoding\n",
        "            h = self.encoder(x)\n",
        "            mu_z = self.fc_mean(h)\n",
        "            log_var_z = self.fc_logvar(h)\n",
        "\n",
        "            # Reparameterizing\n",
        "            z = self.reparameterize(mu_z, log_var_z).unsqueeze(1).repeat(1, self.k, 1)  # (batch_size, k, latent_dim)\n",
        "\n",
        "            # Decoding\n",
        "            x_hat = self.decoder(z)\n",
        "            return x_hat, z, mu_z, log_var_z\n",
        "\n",
        "        elif self.architecture == 2:\n",
        "            h = self.encoder(x)\n",
        "            mu_z1 = self.fc_mean1(h)\n",
        "            log_var_z1 = self.fc_logvar1(h)\n",
        "            z1 = self.reparameterize(mu_z1, log_var_z1)\n",
        "            h = self.middle(z1)\n",
        "            mu_z2 = self.fc_mean2(h)\n",
        "            log_var_z2 = self.fc_logvar2(h)\n",
        "            z2 = self.reparameterize(mu_z2, log_var_z2).unsqueeze(1).repeat(1, self.k, 1)\n",
        "\n",
        "            x_hat = self.decoder(z2)\n",
        "            return x_hat, z2, mu_z2, log_var_z2"
      ]
    },
    {
      "cell_type": "code",
      "execution_count": null,
      "metadata": {
        "id": "bZdwEm9Taexm"
      },
      "outputs": [],
      "source": [
        "class IWAE(VAE):\n",
        "    pass  # IWAE는 VAE를 상속받아 별도 정의 없이 사용 가능"
      ]
    },
    {
      "cell_type": "markdown",
      "metadata": {
        "id": "Wdst62_mpKhN"
      },
      "source": [
        "# **3. Loss 정의**"
      ]
    },
    {
      "cell_type": "markdown",
      "metadata": {
        "id": "aTFtpaDFtdqH"
      },
      "source": [
        "## **3-1. Training**\n",
        "- VAE와 IWAE의 lower bound를 정의하고, 이들을 최적화하는 방향으로 학습"
      ]
    },
    {
      "cell_type": "markdown",
      "metadata": {
        "id": "GCcIheNxpOWm"
      },
      "source": [
        "### **VAE**\n",
        "- VAE는 **Evidence Lower Bound (ELBO)**를 최대화하는 방식으로 학습됨\n",
        "- ELBO는 아래와 같은 형태임:\n",
        "$$\\text{ELBO} = \\mathbb{E}_{q(z|x)}\\left[\\log p(x|h)\\right] - \\text{KL}(q(h|x) \\| p(h))$$\n",
        "---\n",
        "${L}^{\\text{VAE}}{(x)}   =   \\mathbb{E}_{z_1, \\dots, z_k \\sim q_(z|x)} \\left[ \\log \\frac{p_(x, z_k)}{q_(z_i | x)} \\right] =  \\frac{1}{k} \\left[ \\sum_{i=1}^{k}\\frac{p_(x, z_k)}{q_(z_i | x)}  \\right] \\\\ = -D_{KL}(q_(z_| x)||p(z)) + \\frac{1}{k} \\sum_{i=1}^{k} (\\log p(x|z_i)) $"
      ]
    },
    {
      "cell_type": "code",
      "execution_count": null,
      "metadata": {
        "id": "I1oghnwkp5zh"
      },
      "outputs": [],
      "source": [
        "def vae_loss(x, x_hat, mu_z, log_var_z):\n",
        "    batch_size, k, _ = x_hat.shape\n",
        "    x = x.view(batch_size, 1, 28*28).expand(-1, k, -1) # (batch_size, k, 28*28)\n",
        "\n",
        "    # Reconstruction loss: Binary Cross-Entropy\n",
        "    recon_loss = F.binary_cross_entropy(x_hat, x, reduction='sum') / k\n",
        "\n",
        "    # KL divergence\n",
        "    kl_divergence = -0.5 * torch.sum(1 + log_var_z - mu_z.pow(2) - log_var_z.exp())\n",
        "\n",
        "    # ELBO = - (Reconstruction loss + KL divergence)\n",
        "    elbo_vae = recon_loss + kl_divergence\n",
        "\n",
        "    # Return the negative ELBO\n",
        "    return elbo_vae"
      ]
    },
    {
      "cell_type": "markdown",
      "metadata": {
        "id": "SQGfIOsYqMHL"
      },
      "source": [
        "### **IWAE**\n",
        "- IWAE는 **Importance Weighted Autoencoder**로, VAE와 유사한 구조를 가지지만, 더 높은 표현 능력을 갖도록 샘플링된 $k$개의 샘플에 가중치를 부여함\n",
        "- ${L}^{\\text{IWAE}}_{\\text{k}}{(x)}   \\\\ =   \\mathbb{E}_{z_1, \\dots, z_k \\sim q_(z|x)} \\left[ \\log (\\frac{1}{k} \\sum_{i=1}^{k} \\frac{p_(x, z_k)}{q_(z_i | x)}) \\right]   \\\\ =   \\mathbb{E}_{z_1, \\dots, z_k \\sim q_(z|x)} \\left[ \\log (\\frac{1}{k} \\sum_{i=1}^{k} w_i) \\right]$\n"
      ]
    },
    {
      "cell_type": "code",
      "execution_count": null,
      "metadata": {
        "id": "X_ldsKwnrOkh"
      },
      "outputs": [],
      "source": [
        "def iwae_loss(x, x_hat, mu_z, log_var_z):\n",
        "    batch_size, k, _ = x_hat.shape\n",
        "    x = x.view(batch_size, 1, 28*28).expand(-1, k, -1)\n",
        "\n",
        "    # Reshape mu_z and log_var_z\n",
        "    mu_z = mu_z.unsqueeze(1)            # (batch_size, 1, latent_dim)\n",
        "    log_var_z = log_var_z.unsqueeze(1)  # (batch_size, 1, latent_dim)\n",
        "\n",
        "    # log p(x|z)\n",
        "    log_p_x_given_z = -F.binary_cross_entropy(x_hat, x, reduction='none').sum(dim=2)\n",
        "    # log p(z)\n",
        "    log_p_z = -0.5 * torch.sum(mu_z.pow(2), dim=2)\n",
        "    # log q(z|x)\n",
        "    log_q_z_given_x = -0.5 * (log_var_z - torch.pow(mu_z, 2) - torch.exp(log_var_z)).sum(dim=2)\n",
        "\n",
        "    # Importance weights: log p(x|z) + log p(z) - log q(z|x)\n",
        "    log_w = log_p_x_given_z + log_p_z - log_q_z_given_x\n",
        "\n",
        "    # IWAE ELBO\n",
        "    elbo_iwae = (torch.logsumexp(log_w, dim=1) - torch.log(torch.tensor(k))).sum()\n",
        "\n",
        "    return -elbo_iwae"
      ]
    },
    {
      "cell_type": "markdown",
      "metadata": {
        "id": "DnVD161ntbGr"
      },
      "source": [
        "## **3-2. Testing**\n",
        "- Negative Log Likelihood 활용\n",
        "- 이때, true likelihood를 계산할 수는 없음\n",
        "  - 근사치 활용\n",
        "  - IWAE의 $L_{5000}$ 활용\n"
      ]
    },
    {
      "cell_type": "code",
      "execution_count": null,
      "metadata": {
        "id": "-bK0kJtYt5Sa"
      },
      "outputs": [],
      "source": [
        "def calculate_nll(model, test_loader, k=5000):\n",
        "    model.eval()\n",
        "    nll = 0\n",
        "    with torch.no_grad():\n",
        "        for x, _ in test_loader:\n",
        "            x = x.to(device)\n",
        "            model.k = k  # 테스트 시 k 값 설정\n",
        "            x_hat, _, mu_z, log_var_z = model(x)\n",
        "            loss = iwae_loss(x, x_hat, mu_z, log_var_z)\n",
        "            nll += loss.item()\n",
        "    nll /= len(test_loader.dataset)\n",
        "    return nll"
      ]
    },
    {
      "cell_type": "markdown",
      "metadata": {
        "id": "J9VREEpbuXLf"
      },
      "source": [
        "# **4. Training & Testing**"
      ]
    },
    {
      "cell_type": "markdown",
      "metadata": {
        "id": "v669akUYucM8"
      },
      "source": [
        "## **4-1. Training**"
      ]
    },
    {
      "cell_type": "code",
      "execution_count": null,
      "metadata": {
        "id": "b1b4duUdugLY"
      },
      "outputs": [],
      "source": [
        "def train(model, optimizer, data_loader, num_epochs=10, k=1):\n",
        "    model.k = k  # 학습 시 k 값 설정\n",
        "    model.train()\n",
        "    losses = []\n",
        "\n",
        "    for epoch in range(num_epochs):\n",
        "        epoch_loss = 0\n",
        "        for x, _ in data_loader:\n",
        "            x = x.to(device)\n",
        "            optimizer.zero_grad()\n",
        "            x_hat, z, mu_z, log_var_z = model(x)\n",
        "            if isinstance(model, IWAE):\n",
        "                loss = iwae_loss(x, x_hat, mu_z, log_var_z)\n",
        "            else:\n",
        "                loss = vae_loss(x, x_hat, mu_z, log_var_z)\n",
        "\n",
        "            loss.backward()\n",
        "            optimizer.step()\n",
        "\n",
        "            epoch_loss += loss.item()\n",
        "\n",
        "        avg_loss = epoch_loss / len(data_loader.dataset)\n",
        "        losses.append(avg_loss)\n",
        "        print(f\"Epoch [{epoch+1}/{num_epochs}], Loss: {avg_loss:.4f}\")\n",
        "\n",
        "    return losses"
      ]
    },
    {
      "cell_type": "markdown",
      "metadata": {
        "id": "NX44zA3u9eO_"
      },
      "source": [
        "## **4-2. Testing**"
      ]
    },
    {
      "cell_type": "markdown",
      "metadata": {
        "id": "LgiSxE3evNYu"
      },
      "source": [
        "**활성 unit 개수 측정**"
      ]
    },
    {
      "cell_type": "code",
      "execution_count": null,
      "metadata": {
        "id": "HHmYa5PJ8N1t"
      },
      "outputs": [],
      "source": [
        "def compute_active_units(model, data_loader, threshold=1e-2):\n",
        "    model.eval()\n",
        "    active_units = torch.zeros(model.latent_dim).to(device)\n",
        "    with torch.no_grad():\n",
        "        mu_zs = []\n",
        "\n",
        "        for x, _ in data_loader:\n",
        "            x = x.to(device)\n",
        "            _, _, mu_z, _ = model(x)\n",
        "            mu_zs.append(mu_z.cpu().numpy())\n",
        "\n",
        "        mu_zs = np.concatenate(mu_zs, axis=0)\n",
        "        variances = np.var(mu_zs, axis=0)\n",
        "        active_units = np.sum(variances > threshold)\n",
        "\n",
        "    return active_units"
      ]
    },
    {
      "cell_type": "code",
      "execution_count": null,
      "metadata": {
        "id": "JprV_o9D9l6M"
      },
      "outputs": [],
      "source": [
        "def evaluate(model, data_loader, k=5000):\n",
        "    nll = calculate_nll(model, data_loader, k=k)\n",
        "    active_units = compute_active_units(model, data_loader)\n",
        "    return nll, active_units"
      ]
    },
    {
      "cell_type": "markdown",
      "metadata": {
        "id": "n1v9KHHA9pFf"
      },
      "source": [
        "# **5. RUN!!**"
      ]
    },
    {
      "cell_type": "markdown",
      "metadata": {
        "id": "jIgIRfDNBpwL"
      },
      "source": [
        "**시각화**"
      ]
    },
    {
      "cell_type": "code",
      "execution_count": null,
      "metadata": {
        "id": "Rs-8zKETBr3i"
      },
      "outputs": [],
      "source": [
        "def visualize_reconstruction(model, data_loader):\n",
        "    model.eval()\n",
        "    with torch.no_grad():\n",
        "        x, _ = next(iter(data_loader))\n",
        "        x = x.to(device)\n",
        "        x_hat, _, _, _ = model(x)\n",
        "\n",
        "        x_hat = x_hat.mean(dim=1)  # k개의 샘플을 평균내어 하나의 이미지를 얻음\n",
        "\n",
        "        x = x.cpu().numpy()\n",
        "        x_hat = x_hat.cpu().numpy()\n",
        "\n",
        "        fig, axes = plt.subplots(2, 5, figsize=(15, 6))\n",
        "        for i in range(5):\n",
        "            axes[0, i].imshow(x[i].reshape(28, 28), cmap='gray')\n",
        "            axes[0, i].set_title('Original')\n",
        "            axes[0, i].axis('off')\n",
        "\n",
        "            axes[1, i].imshow(x_hat[i].reshape(28, 28), cmap='gray')\n",
        "            axes[1, i].set_title('Reconstruction')\n",
        "            axes[1, i].axis('off')\n",
        "\n",
        "        plt.show()"
      ]
    },
    {
      "cell_type": "code",
      "execution_count": null,
      "metadata": {
        "id": "H9ci9jfnbaE1"
      },
      "outputs": [],
      "source": [
        "def run(architecture=1, k_train=5, k_test=5000):\n",
        "    vae = VAE(architecture=architecture, latent_dim=50, k=k_train).to(device)\n",
        "    iwae = IWAE(architecture=architecture, latent_dim=50, k=k_train).to(device)\n",
        "\n",
        "    vae_optimizer = optim.Adam(vae.parameters(), lr=0.01)\n",
        "    iwae_optimizer = optim.Adam(iwae.parameters(), lr=0.01)\n",
        "\n",
        "    ## === VAE ===\n",
        "    print(f\"Training VAE with architecture {architecture}...\")\n",
        "    elbo_values_vae = train(vae, vae_optimizer, train_loader, num_epochs = 200, k=k_train)\n",
        "    print(f\"Evaluating VAE with architecture {architecture}...\")\n",
        "    nll_vae, active_units_vae = evaluate(vae, test_loader, k=k_test)\n",
        "    print(f\"VAE NLL with architecture {architecture} and k={k_test}: \", nll_vae)\n",
        "    print(f\"VAE Active Units with architecture {architecture} and k={k_test}: \", active_units_vae)\n",
        "\n",
        "    print()\n",
        "\n",
        "    ## === IWAE ===\n",
        "    print(f\"Training IWAE with architecture {architecture} and k={k_train}...\")\n",
        "    elbo_values_iwae = train(iwae, iwae_optimizer, train_loader, num_epochs = 200, k=k_train)\n",
        "    print(f\"Evaluating IWAE with architecture {architecture} and k={k_test}...\")\n",
        "    nll_iwae, active_units_iwae = evaluate(iwae, test_loader, k=k_test)\n",
        "    print(f\"IWAE NLL with architecture {architecture} and k={k_test}: \", nll_iwae)\n",
        "    print(f\"IWAE Active Units with architecture {architecture} and k={k_test}: \", active_units_iwae)\n",
        "\n",
        "    # Plot loss curves\n",
        "    plt.figure(figsize=(12, 6))\n",
        "    plt.plot(elbo_values_vae, label=f'VAE Architecture {architecture} (k={k_train})', color='blue')\n",
        "    plt.plot(elbo_values_iwae, label=f'IWAE Architecture {architecture} (k={k_train})', color='orange')\n",
        "    plt.xlabel('Epochs')\n",
        "    plt.ylabel('Loss')\n",
        "    plt.title(f'Loss Curves for Architecture {architecture} (k={k_train})')\n",
        "    plt.legend()\n",
        "    plt.show()\n",
        "\n",
        "    visualize_reconstruction(vae, test_loader)\n",
        "    print()\n",
        "    visualize_reconstruction(iwae, test_loader)"
      ]
    },
    {
      "cell_type": "markdown",
      "metadata": {
        "id": "JmUyH81E_sBl"
      },
      "source": [
        "## **5-1. Case 1**\n",
        "- model = 1\n",
        "- k = 1"
      ]
    },
    {
      "cell_type": "code",
      "execution_count": null,
      "metadata": {
        "id": "5EXlBnoQ_sBm"
      },
      "outputs": [],
      "source": [
        "run(architecture = 1, k_train = 1, k_test = 5000)"
      ]
    },
    {
      "cell_type": "markdown",
      "metadata": {
        "id": "Ee5Psa8G9tpi"
      },
      "source": [
        "## **5-2. Case 2**\n",
        "- model = 1\n",
        "- k = 5"
      ]
    },
    {
      "cell_type": "code",
      "execution_count": null,
      "metadata": {
        "colab": {
          "base_uri": "https://localhost:8080/",
          "height": 1000
        },
        "id": "4vthNVKi91EO",
        "outputId": "8bbe4e97-4013-41ff-e176-10691590a80d"
      },
      "outputs": [
        {
          "name": "stdout",
          "output_type": "stream",
          "text": [
            "Training VAE with architecture 1...\n",
            "Epoch [1/100], Loss: 163.6307\n",
            "Epoch [2/100], Loss: 117.9100\n",
            "Epoch [3/100], Loss: 108.0817\n",
            "Epoch [4/100], Loss: 103.1357\n",
            "Epoch [5/100], Loss: 99.7011\n",
            "Epoch [6/100], Loss: 97.5416\n",
            "Epoch [7/100], Loss: 95.7293\n",
            "Epoch [8/100], Loss: 94.3811\n",
            "Epoch [9/100], Loss: 93.2869\n",
            "Epoch [10/100], Loss: 92.5338\n",
            "Epoch [11/100], Loss: 91.7909\n",
            "Epoch [12/100], Loss: 91.2919\n",
            "Epoch [13/100], Loss: 90.6841\n",
            "Epoch [14/100], Loss: 90.3053\n",
            "Epoch [15/100], Loss: 90.0257\n",
            "Epoch [16/100], Loss: 89.6031\n",
            "Epoch [17/100], Loss: 89.2974\n",
            "Epoch [18/100], Loss: 88.9737\n",
            "Epoch [19/100], Loss: 88.8326\n",
            "Epoch [20/100], Loss: 88.5877\n",
            "Epoch [21/100], Loss: 88.3224\n",
            "Epoch [22/100], Loss: 88.0939\n",
            "Epoch [23/100], Loss: 87.9673\n",
            "Epoch [24/100], Loss: 87.8438\n",
            "Epoch [25/100], Loss: 87.6395\n",
            "Epoch [26/100], Loss: 87.4958\n",
            "Epoch [27/100], Loss: 87.4089\n",
            "Epoch [28/100], Loss: 87.2959\n",
            "Epoch [29/100], Loss: 87.1518\n",
            "Epoch [30/100], Loss: 87.0357\n",
            "Epoch [31/100], Loss: 87.0074\n",
            "Epoch [32/100], Loss: 86.8286\n",
            "Epoch [33/100], Loss: 86.7171\n",
            "Epoch [34/100], Loss: 86.7245\n",
            "Epoch [35/100], Loss: 86.6294\n",
            "Epoch [36/100], Loss: 86.5481\n",
            "Epoch [37/100], Loss: 86.4019\n",
            "Epoch [38/100], Loss: 86.3769\n",
            "Epoch [39/100], Loss: 86.2862\n",
            "Epoch [40/100], Loss: 86.1958\n",
            "Epoch [41/100], Loss: 86.2046\n",
            "Epoch [42/100], Loss: 86.1306\n",
            "Epoch [43/100], Loss: 86.0763\n",
            "Epoch [44/100], Loss: 86.0141\n",
            "Epoch [45/100], Loss: 85.9655\n",
            "Epoch [46/100], Loss: 85.8645\n",
            "Epoch [47/100], Loss: 85.8199\n",
            "Epoch [48/100], Loss: 85.8168\n",
            "Epoch [49/100], Loss: 85.8373\n",
            "Epoch [50/100], Loss: 85.7224\n",
            "Epoch [51/100], Loss: 85.6738\n",
            "Epoch [52/100], Loss: 85.6789\n",
            "Epoch [53/100], Loss: 85.5693\n",
            "Epoch [54/100], Loss: 85.6409\n",
            "Epoch [55/100], Loss: 85.5481\n",
            "Epoch [56/100], Loss: 85.5531\n",
            "Epoch [57/100], Loss: 85.4267\n",
            "Epoch [58/100], Loss: 85.4741\n",
            "Epoch [59/100], Loss: 85.4296\n",
            "Epoch [60/100], Loss: 85.4156\n",
            "Epoch [61/100], Loss: 85.3459\n",
            "Epoch [62/100], Loss: 85.2350\n",
            "Epoch [63/100], Loss: 85.3553\n",
            "Epoch [64/100], Loss: 85.2596\n",
            "Epoch [65/100], Loss: 85.1759\n",
            "Epoch [66/100], Loss: 85.2506\n",
            "Epoch [67/100], Loss: 85.1700\n",
            "Epoch [68/100], Loss: 85.1338\n",
            "Epoch [69/100], Loss: 85.1412\n",
            "Epoch [70/100], Loss: 85.1142\n",
            "Epoch [71/100], Loss: 85.0645\n",
            "Epoch [72/100], Loss: 85.0747\n",
            "Epoch [73/100], Loss: 85.0514\n",
            "Epoch [74/100], Loss: 84.9894\n",
            "Epoch [75/100], Loss: 84.9443\n",
            "Epoch [76/100], Loss: 84.9698\n",
            "Epoch [77/100], Loss: 84.9587\n",
            "Epoch [78/100], Loss: 84.9322\n",
            "Epoch [79/100], Loss: 84.8357\n",
            "Epoch [80/100], Loss: 84.8218\n",
            "Epoch [81/100], Loss: 84.8636\n",
            "Epoch [82/100], Loss: 84.8536\n",
            "Epoch [83/100], Loss: 84.8144\n",
            "Epoch [84/100], Loss: 84.8042\n",
            "Epoch [85/100], Loss: 84.7596\n",
            "Epoch [86/100], Loss: 84.7652\n",
            "Epoch [87/100], Loss: 84.7086\n",
            "Epoch [88/100], Loss: 84.7183\n",
            "Epoch [89/100], Loss: 84.6894\n",
            "Epoch [90/100], Loss: 84.7249\n",
            "Epoch [91/100], Loss: 84.6715\n",
            "Epoch [92/100], Loss: 84.6273\n",
            "Epoch [93/100], Loss: 84.6706\n",
            "Epoch [94/100], Loss: 84.6133\n",
            "Epoch [95/100], Loss: 84.5973\n",
            "Epoch [96/100], Loss: 84.5515\n",
            "Epoch [97/100], Loss: 84.6406\n",
            "Epoch [98/100], Loss: 84.5839\n",
            "Epoch [99/100], Loss: 84.5524\n",
            "Epoch [100/100], Loss: 84.5582\n",
            "Evaluating VAE with architecture 1...\n",
            "VAE NLL with architecture 1 and k=5000:  121.26534975585938\n",
            "VAE Active Units with architecture 1 and k=5000:  17\n",
            "\n",
            "Training IWAE with architecture 1 and k=5...\n",
            "Epoch [1/100], Loss: 189.9470\n",
            "Epoch [2/100], Loss: 148.6224\n",
            "Epoch [3/100], Loss: 140.3267\n",
            "Epoch [4/100], Loss: 135.6935\n",
            "Epoch [5/100], Loss: 132.6283\n",
            "Epoch [6/100], Loss: 130.4324\n",
            "Epoch [7/100], Loss: 128.4595\n",
            "Epoch [8/100], Loss: 126.9078\n",
            "Epoch [9/100], Loss: 125.7179\n",
            "Epoch [10/100], Loss: 124.8193\n",
            "Epoch [11/100], Loss: 124.1824\n",
            "Epoch [12/100], Loss: 123.4814\n",
            "Epoch [13/100], Loss: 123.0316\n",
            "Epoch [14/100], Loss: 122.4795\n",
            "Epoch [15/100], Loss: 122.1150\n",
            "Epoch [16/100], Loss: 121.6864\n",
            "Epoch [17/100], Loss: 121.4284\n",
            "Epoch [18/100], Loss: 121.1316\n",
            "Epoch [19/100], Loss: 120.8854\n",
            "Epoch [20/100], Loss: 120.6943\n",
            "Epoch [21/100], Loss: 120.4064\n",
            "Epoch [22/100], Loss: 120.2480\n",
            "Epoch [23/100], Loss: 120.0247\n",
            "Epoch [24/100], Loss: 119.8712\n",
            "Epoch [25/100], Loss: 119.6786\n",
            "Epoch [26/100], Loss: 119.6195\n",
            "Epoch [27/100], Loss: 119.4073\n",
            "Epoch [28/100], Loss: 119.3055\n",
            "Epoch [29/100], Loss: 119.2412\n",
            "Epoch [30/100], Loss: 119.0982\n",
            "Epoch [31/100], Loss: 118.9589\n",
            "Epoch [32/100], Loss: 118.8728\n",
            "Epoch [33/100], Loss: 118.7709\n",
            "Epoch [34/100], Loss: 118.6666\n",
            "Epoch [35/100], Loss: 118.5759\n",
            "Epoch [36/100], Loss: 118.5038\n",
            "Epoch [37/100], Loss: 118.4430\n",
            "Epoch [38/100], Loss: 118.4080\n",
            "Epoch [39/100], Loss: 118.3245\n",
            "Epoch [40/100], Loss: 118.2557\n",
            "Epoch [41/100], Loss: 118.1794\n",
            "Epoch [42/100], Loss: 118.1397\n",
            "Epoch [43/100], Loss: 118.0768\n",
            "Epoch [44/100], Loss: 118.0216\n",
            "Epoch [45/100], Loss: 117.9482\n",
            "Epoch [46/100], Loss: 117.9235\n",
            "Epoch [47/100], Loss: 117.8442\n",
            "Epoch [48/100], Loss: 117.8388\n",
            "Epoch [49/100], Loss: 117.7849\n",
            "Epoch [50/100], Loss: 117.6983\n",
            "Epoch [51/100], Loss: 117.6512\n",
            "Epoch [52/100], Loss: 117.6771\n",
            "Epoch [53/100], Loss: 117.5899\n",
            "Epoch [54/100], Loss: 117.6294\n",
            "Epoch [55/100], Loss: 117.5239\n",
            "Epoch [56/100], Loss: 117.4956\n",
            "Epoch [57/100], Loss: 117.4328\n",
            "Epoch [58/100], Loss: 117.4011\n",
            "Epoch [59/100], Loss: 117.4172\n",
            "Epoch [60/100], Loss: 117.3727\n",
            "Epoch [61/100], Loss: 117.3511\n",
            "Epoch [62/100], Loss: 117.2901\n",
            "Epoch [63/100], Loss: 117.2364\n",
            "Epoch [64/100], Loss: 117.1942\n",
            "Epoch [65/100], Loss: 117.1717\n",
            "Epoch [66/100], Loss: 117.1427\n",
            "Epoch [67/100], Loss: 117.1659\n",
            "Epoch [68/100], Loss: 117.0695\n",
            "Epoch [69/100], Loss: 117.1432\n",
            "Epoch [70/100], Loss: 117.0666\n",
            "Epoch [71/100], Loss: 117.0625\n",
            "Epoch [72/100], Loss: 116.9949\n",
            "Epoch [73/100], Loss: 116.9429\n",
            "Epoch [74/100], Loss: 116.9746\n",
            "Epoch [75/100], Loss: 116.9756\n",
            "Epoch [76/100], Loss: 116.9238\n",
            "Epoch [77/100], Loss: 116.8184\n",
            "Epoch [78/100], Loss: 116.9070\n",
            "Epoch [79/100], Loss: 116.9142\n",
            "Epoch [80/100], Loss: 116.7950\n",
            "Epoch [81/100], Loss: 116.8382\n",
            "Epoch [82/100], Loss: 116.7849\n",
            "Epoch [83/100], Loss: 116.7508\n",
            "Epoch [84/100], Loss: 116.7193\n",
            "Epoch [85/100], Loss: 116.7831\n",
            "Epoch [86/100], Loss: 116.6970\n",
            "Epoch [87/100], Loss: 116.6571\n",
            "Epoch [88/100], Loss: 116.6566\n",
            "Epoch [89/100], Loss: 116.6357\n",
            "Epoch [90/100], Loss: 116.5963\n",
            "Epoch [91/100], Loss: 116.5471\n",
            "Epoch [92/100], Loss: 116.5938\n",
            "Epoch [93/100], Loss: 116.6065\n",
            "Epoch [94/100], Loss: 116.5946\n",
            "Epoch [95/100], Loss: 116.5381\n",
            "Epoch [96/100], Loss: 116.5379\n",
            "Epoch [97/100], Loss: 116.5399\n",
            "Epoch [98/100], Loss: 116.5504\n",
            "Epoch [99/100], Loss: 116.4854\n",
            "Epoch [100/100], Loss: 116.4593\n",
            "Evaluating IWAE with architecture 1 and k=5000...\n",
            "IWAE NLL with architecture 1 and k=5000:  120.38049145507813\n",
            "IWAE Active Units with architecture 1 and k=5000:  11\n"
          ]
        },
        {
          "data": {
            "image/png": "[encoded data removed]",
            "text/plain": [
              "<Figure size 1200x600 with 1 Axes>"
            ]
          },
          "metadata": {},
          "output_type": "display_data"
        },
        {
          "data": {
            "image/png": "[encoded data removed]",
            "text/plain": [
              "<Figure size 1500x600 with 10 Axes>"
            ]
          },
          "metadata": {},
          "output_type": "display_data"
        },
        {
          "name": "stdout",
          "output_type": "stream",
          "text": [
            "\n"
          ]
        },
        {
          "data": {
            "image/png": "[encoded data removed]",
            "text/plain": [
              "<Figure size 1500x600 with 10 Axes>"
            ]
          },
          "metadata": {},
          "output_type": "display_data"
        }
      ],
      "source": [
        "run(architecture = 1, k_train = 5, k_test = 5000)"
      ]
    },
    {
      "cell_type": "markdown",
      "source": [
        "- Training 시에는 VAE에 비해 IWAE의 loss가 높게 측정된다.\n",
        "- 그러나, 이후 k = 5000에서의 NLL approximate로 테스트 결과, 논문에서 제시한 바와 같이 IWAE의 loss가 더 낮게 측정된다."
      ],
      "metadata": {
        "id": "5JAmQrBHSH5l"
      }
    },
    {
      "cell_type": "markdown",
      "metadata": {
        "id": "BG_RUCw4_6uF"
      },
      "source": [
        "## **5-3. Case 3**\n",
        "- model = 1\n",
        "- k = 50"
      ]
    },
    {
      "cell_type": "code",
      "execution_count": null,
      "metadata": {
        "id": "RfFxmyDm_6uF"
      },
      "outputs": [],
      "source": [
        "run(architecture = 1, k_train = 50, k_test = 5000)"
      ]
    },
    {
      "cell_type": "markdown",
      "metadata": {
        "id": "yCJwHbCA_-ia"
      },
      "source": [
        "## **5-4. Case 4**\n",
        "- model = 2\n",
        "- k = 1"
      ]
    },
    {
      "cell_type": "code",
      "execution_count": null,
      "metadata": {
        "id": "KeyqzmDk_-ia"
      },
      "outputs": [],
      "source": [
        "run(architecture = 2, k_train = 1, k_test = 5000)"
      ]
    },
    {
      "cell_type": "markdown",
      "metadata": {
        "id": "71RbrMDSABUT"
      },
      "source": [
        "## **5-5. Case 5**\n",
        "- model = 2\n",
        "- k = 5"
      ]
    },
    {
      "cell_type": "code",
      "execution_count": null,
      "metadata": {
        "id": "msbYKgk0ABUU"
      },
      "outputs": [],
      "source": [
        "run(architecture = 2, k_train = 5, k_test = 5000)"
      ]
    },
    {
      "cell_type": "markdown",
      "metadata": {
        "id": "8BYIhr6XAFno"
      },
      "source": [
        "## **5-6. Case 6**\n",
        "- model = 2\n",
        "- k = 50"
      ]
    },
    {
      "cell_type": "code",
      "execution_count": null,
      "metadata": {
        "id": "N89-PHSTAFnp"
      },
      "outputs": [],
      "source": [
        "run(architecture = 2, k_train = 50, k_test = 5000)"
      ]
    }
  ],
  "metadata": {
    "accelerator": "GPU",
    "colab": {
      "collapsed_sections": [
        "JmUyH81E_sBl"
      ],
      "gpuType": "T4",
      "provenance": []
    },
    "kernelspec": {
      "display_name": "Python 3",
      "name": "python3"
    },
    "language_info": {
      "name": "python",
      "version": "3.10.11"
    }
  },
  "nbformat": 4,
  "nbformat_minor": 0
}