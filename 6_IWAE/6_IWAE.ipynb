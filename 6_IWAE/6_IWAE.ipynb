{
  "nbformat": 4,
  "nbformat_minor": 0,
  "metadata": {
    "colab": {
      "provenance": [],
      "gpuType": "T4",
      "include_colab_link": true
    },
    "kernelspec": {
      "name": "python3",
      "display_name": "Python 3"
    },
    "language_info": {
      "name": "python"
    },
    "accelerator": "GPU"
  },
  "cells": [
    {
      "cell_type": "markdown",
      "metadata": {
        "id": "view-in-github",
        "colab_type": "text"
      },
      "source": [
        "<a href=\"https://colab.research.google.com/github/chasubeen/ML_lab/blob/main/6_IWAE.ipynb\" target=\"_parent\"><img src=\"https://colab.research.google.com/assets/colab-badge.svg\" alt=\"Open In Colab\"/></a>"
      ]
    },
    {
      "cell_type": "code",
      "source": [
        "import torch\n",
        "import torch.nn.functional as F\n",
        "import torch.nn as nn\n",
        "import torch.optim as optim\n",
        "from torch.utils.data import DataLoader\n",
        "import torchvision.datasets as datasets\n",
        "import torchvision.transforms as transforms\n",
        "\n",
        "import matplotlib.pyplot as plt\n",
        "import numpy as np"
      ],
      "metadata": {
        "id": "TF_hhM6ChWRq"
      },
      "execution_count": null,
      "outputs": []
    },
    {
      "cell_type": "code",
      "source": [
        "device = torch.device(\"cuda\" if torch.cuda.is_available() else \"cpu\")"
      ],
      "metadata": {
        "id": "waLn8abchus2"
      },
      "execution_count": null,
      "outputs": []
    },
    {
      "cell_type": "markdown",
      "source": [
        "# **1. Preparing data**"
      ],
      "metadata": {
        "id": "3whDiL3VoDA4"
      }
    },
    {
      "cell_type": "code",
      "source": [
        "transform = transforms.Compose([\n",
        "    transforms.ToTensor(),\n",
        "    transforms.Lambda(lambda x: (x > 0.5).float()),  # 이진화\n",
        "])"
      ],
      "metadata": {
        "id": "2k_vxs_rgjMX"
      },
      "execution_count": null,
      "outputs": []
    },
    {
      "cell_type": "code",
      "source": [
        "train_dataset = datasets.MNIST(root='../data', train=True, transform=transform, download=True)\n",
        "test_dataset = datasets.MNIST(root='../data', train=False, transform=transform, download=True)"
      ],
      "metadata": {
        "id": "7wgMbp2jgkf6"
      },
      "execution_count": null,
      "outputs": []
    },
    {
      "cell_type": "code",
      "source": [
        "train_loader = DataLoader(train_dataset, batch_size=20, shuffle=True)\n",
        "test_loader = DataLoader(test_dataset, batch_size=20, shuffle=False)"
      ],
      "metadata": {
        "id": "cFg8WEA6gmbz"
      },
      "execution_count": null,
      "outputs": []
    },
    {
      "cell_type": "markdown",
      "source": [
        "# **2. Modeling**"
      ],
      "metadata": {
        "id": "3MCr1VRWiSCM"
      }
    },
    {
      "cell_type": "markdown",
      "source": [
        "## **2-1. VAE**"
      ],
      "metadata": {
        "id": "HkaNtxIxalmN"
      }
    },
    {
      "cell_type": "code",
      "source": [
        "class VAE(nn.Module):\n",
        "    def __init__(self, architecture, latent_dim=50):\n",
        "        super(VAE, self).__init__()\n",
        "\n",
        "        self.architecture = architecture\n",
        "        self.latent_dim = latent_dim\n",
        "\n",
        "        if architecture == 1:\n",
        "            # Encoder\n",
        "            self.encoder = nn.Sequential(\n",
        "                nn.Linear(28*28, 200),\n",
        "                nn.Tanh(),\n",
        "                nn.Linear(200, 200),\n",
        "                nn.Tanh()\n",
        "            )\n",
        "            self.fc_mean = nn.Linear(200, self.latent_dim)\n",
        "            self.fc_logvar = nn.Linear(200, self.latent_dim)\n",
        "\n",
        "            # Decoder\n",
        "            self.decoder = nn.Sequential(\n",
        "                nn.Linear(self.latent_dim, 200),\n",
        "                nn.Tanh(),\n",
        "                nn.Linear(200, 200),\n",
        "                nn.Tanh(),\n",
        "                nn.Linear(200, 28*28),\n",
        "                nn.Sigmoid()\n",
        "            )\n",
        "\n",
        "        elif architecture == 2:\n",
        "            # Encoder\n",
        "            self.encoder = nn.Sequential(\n",
        "                nn.Linear(28*28, 200),\n",
        "                nn.Tanh(),\n",
        "                nn.Linear(200, 100),\n",
        "                nn.Tanh()\n",
        "            )\n",
        "            self.fc_mean1 = nn.Linear(100, 100)\n",
        "            self.fc_logvar1 = nn.Linear(100, 100)\n",
        "            self.fc_mean2 = nn.Linear(100, self.latent_dim)\n",
        "            self.fc_logvar2 = nn.Linear(100, self.latent_dim)\n",
        "\n",
        "            self.middle = nn.Sequential(\n",
        "                nn.Linear(self.latent_dim, 100),\n",
        "                nn.Tanh(),\n",
        "                nn.Linear(100, 100),\n",
        "                nn.Tanh()\n",
        "            )\n",
        "\n",
        "            # Decoder\n",
        "            self.decoder = nn.Sequential(\n",
        "                nn.Linear(100, 200),\n",
        "                nn.Tanh(),\n",
        "                nn.Linear(200, 200),\n",
        "                nn.Tanh(),\n",
        "                nn.Linear(200, 28*28),\n",
        "                nn.Sigmoid()\n",
        "            )\n",
        "\n",
        "    def reparameterize(self, mean, logvar):\n",
        "        std = torch.exp(0.5 * logvar)\n",
        "        epsilon = torch.randn_like(std)\n",
        "        return mean + std * epsilon\n",
        "\n",
        "    def forward(self, x, k=1):\n",
        "        batch_size = x.size(0)\n",
        "        x = x.view(batch_size, -1)  # (batch_size, 28*28)\n",
        "\n",
        "        if self.architecture == 1:\n",
        "            # Encoding\n",
        "            h = self.encoder(x)  # (batch_size, 200)\n",
        "            mu_z = self.fc_mean(h)  # (batch_size, latent_dim)\n",
        "            log_var_z = self.fc_logvar(h)  # (batch_size, latent_dim)\n",
        "\n",
        "            # Reparameterizing\n",
        "            z = self.reparameterize(mu_z, log_var_z)  # (batch_size, latent_dim)\n",
        "            z = z.unsqueeze(1).repeat(1, k, 1)  # (batch_size, k, latent_dim)\n",
        "\n",
        "            # Decoding\n",
        "            x_hat = self.decoder(z)  # (batch_size, k, 28*28)\n",
        "            return x_hat, mu_z, log_var_z\n",
        "\n",
        "        elif self.architecture == 2:\n",
        "            h = self.encoder(x)  # (batch_size, 100)\n",
        "            mu_z1 = self.fc_mean1(h)  # (batch_size, 100)\n",
        "            log_var_z1 = self.fc_logvar1(h)  # (batch_size, 100)\n",
        "\n",
        "            z1 = self.reparameterize(mu_z1, log_var_z1)  # (batch_size, 100)\n",
        "\n",
        "            h = self.middle(z1)  # (batch_size, 100)\n",
        "            mu_z2 = self.fc_mean2(h)  # (batch_size, latent_dim)\n",
        "            log_var_z2 = self.fc_logvar2(h)  # (batch_size, latent_dim)\n",
        "\n",
        "            z2 = self.reparameterize(mu_z2, log_var_z2)  # (batch_size, latent_dim)\n",
        "            z2 = z2.unsqueeze(1).repeat(1, k, 1)  # (batch_size, k, latent_dim)\n",
        "\n",
        "            x_hat = self.decoder(z2)  # (batch_size, k, 28*28)\n",
        "            return x_hat, mu_z2, log_var_z2"
      ],
      "metadata": {
        "id": "kctjKyOL7vRG"
      },
      "execution_count": null,
      "outputs": []
    },
    {
      "cell_type": "code",
      "source": [
        "class IWAE(VAE):\n",
        "    pass  # IWAE는 VAE를 상속받아 별도 정의 없이 사용 가능"
      ],
      "metadata": {
        "id": "bZdwEm9Taexm"
      },
      "execution_count": null,
      "outputs": []
    },
    {
      "cell_type": "markdown",
      "source": [
        "# **3. Loss 정의**"
      ],
      "metadata": {
        "id": "Wdst62_mpKhN"
      }
    },
    {
      "cell_type": "markdown",
      "source": [
        "## **3-1. Training**\n",
        "- VAE와 IWAE의 lower bound를 정의하고, 이들을 최적화하는 방향으로 학습"
      ],
      "metadata": {
        "id": "aTFtpaDFtdqH"
      }
    },
    {
      "cell_type": "markdown",
      "source": [
        "### **VAE**\n",
        "- VAE는 **Evidence Lower Bound (ELBO)**를 최대화하는 방식으로 학습됨\n",
        "- ELBO는 아래와 같은 형태임:\n",
        "$$\\text{ELBO} = \\mathbb{E}_{q(z|x)}\\left[\\log p(x|h)\\right] - \\text{KL}(q(h|x) \\| p(h))$$\n",
        "---\n",
        "${L}^{\\text{VAE}}{(x)}   =   \\mathbb{E}_{z_1, \\dots, z_k \\sim q_(z|x)} \\left[ \\log \\frac{p_(x, z_k)}{q_(z_i | x)} \\right] =  \\frac{1}{k} \\left[ \\sum_{i=1}^{k}\\frac{p_(x, z_k)}{q_(z_i | x)}  \\right] \\\\ = -D_{KL}(q_(z_| x)||p(z)) + \\frac{1}{k} \\sum_{i=1}^{k} (\\log p(x|z_i)) $"
      ],
      "metadata": {
        "id": "GCcIheNxpOWm"
      }
    },
    {
      "cell_type": "code",
      "source": [
        "def vae_loss(x, x_hat, mu_z, log_var_z):\n",
        "    k = x_hat.shape[1]\n",
        "    x = x.view(-1, 1, 28*28).expand(-1, k, 28*28)  # (batch_size, k, 28*28)\n",
        "\n",
        "    # Reconstruction loss (negative log-likelihood)\n",
        "    recon_loss = F.binary_cross_entropy(x_hat, x, reduction='sum')\n",
        "\n",
        "    # KL divergence\n",
        "    kl_divergence = -0.5 * torch.sum(1 + log_var_z - mu_z.pow(2) - log_var_z.exp())\n",
        "\n",
        "    # ELBO\n",
        "    elbo_vae = recon_loss + kl_divergence\n",
        "\n",
        "    return elbo_vae"
      ],
      "metadata": {
        "id": "I1oghnwkp5zh"
      },
      "execution_count": null,
      "outputs": []
    },
    {
      "cell_type": "markdown",
      "source": [
        "### **IWAE**\n",
        "- IWAE는 **Importance Weighted Autoencoder**로, VAE와 유사한 구조를 가지지만, 더 높은 표현 능력을 갖도록 샘플링된 \\( k \\)개의 샘플에 가중치를 부여함\n",
        "- ${L}^{\\text{IWAE}}_{\\text{k}}{(x)}   \\\\ =   \\mathbb{E}_{z_1, \\dots, z_k \\sim q_(z|x)} \\left[ \\log (\\frac{1}{k} \\sum_{i=1}^{k} \\frac{p_(x, z_k)}{q_(z_i | x)}) \\right]   \\\\ =   \\mathbb{E}_{z_1, \\dots, z_k \\sim q_(z|x)} \\left[ \\log (\\frac{1}{k} \\sum_{i=1}^{k} w_i) \\right] \\\\ = \\mathbb{E}_{z_1, \\dots, z_k \\sim q_(z|x)} \\left[ \\log \\frac{1}{k} + \\log \\sum_{i=1}^{k} w_i \\right]$\n"
      ],
      "metadata": {
        "id": "SQGfIOsYqMHL"
      }
    },
    {
      "cell_type": "code",
      "source": [
        "def iwae_loss(x, x_hat, mu_z, log_var_z):\n",
        "    k = x_hat.shape[1]\n",
        "    batch_size = x.size(0)\n",
        "\n",
        "    # Reshape x for broadcasting\n",
        "    x = x.view(batch_size, 1, 28*28).expand(-1, k, 28*28)  # (batch_size, k, 28*28)\n",
        "\n",
        "    # Reshape mu_z and log_var_z for broadcasting\n",
        "    mu_z = mu_z.unsqueeze(1)            # (batch_size, 1, latent_dim)\n",
        "    log_var_z = log_var_z.unsqueeze(1)  # (batch_size, 1, latent_dim)\n",
        "\n",
        "    # Log likelihood log p(x|z)\n",
        "    log_p_x_given_z = -F.binary_cross_entropy(x_hat, x, reduction='none').sum(dim=-1)  # (batch_size, k)\n",
        "\n",
        "    # KL divergence components\n",
        "    kl_divergence = -0.5 * (1 + log_var_z - mu_z.pow(2) - log_var_z.exp()).sum(dim=-1)  # (batch_size, k)\n",
        "\n",
        "    # Log weights: log w_i = log p(x|z) - KL(q(z|x) || p(z))\n",
        "    log_w = log_p_x_given_z - kl_divergence  # (batch_size, k)\n",
        "\n",
        "    # Numerical stability with Log-sum-exp trick\n",
        "    log_sum_w = torch.logsumexp(log_w, dim=1)  # (batch_size,)\n",
        "\n",
        "    # IWAE loss\n",
        "    elbo_iwae = -(log_sum_w - torch.log(torch.tensor(k, dtype=torch.float32)))  # (batch_size,)\n",
        "\n",
        "    return elbo_iwae.sum()  # Sum across the batch"
      ],
      "metadata": {
        "id": "X_ldsKwnrOkh"
      },
      "execution_count": null,
      "outputs": []
    },
    {
      "cell_type": "markdown",
      "source": [
        "## **3-2. Testing**\n",
        "- Negative Log Likelihood 활용\n",
        "- 이때, true likelihood를 계산할 수는 없음\n",
        "  - 근사치 활용\n",
        "  - IWAE의 $L_{5000}$ 활용\n"
      ],
      "metadata": {
        "id": "DnVD161ntbGr"
      }
    },
    {
      "cell_type": "code",
      "source": [
        "def calculate_nll(model, test_loader, k=5000):\n",
        "    model.eval()\n",
        "    nll = 0\n",
        "    with torch.no_grad():\n",
        "        for x, _ in test_loader:\n",
        "            x = x.to(device)\n",
        "            x_hat, mu_z, log_var_z = model(x, k=k)\n",
        "            loss = iwae_loss(x, x_hat, mu_z, log_var_z)\n",
        "            nll += loss.item()\n",
        "    nll /= len(test_loader.dataset)  # testing 시의 average loss\n",
        "    return nll"
      ],
      "metadata": {
        "id": "-bK0kJtYt5Sa"
      },
      "execution_count": null,
      "outputs": []
    },
    {
      "cell_type": "markdown",
      "source": [
        "# **4. Training & Testing**"
      ],
      "metadata": {
        "id": "J9VREEpbuXLf"
      }
    },
    {
      "cell_type": "markdown",
      "source": [
        "## **4-1. Training**"
      ],
      "metadata": {
        "id": "v669akUYucM8"
      }
    },
    {
      "cell_type": "code",
      "source": [
        "def train(model, optimizer, data_loader, num_epochs=10, k=1):\n",
        "    model.train()\n",
        "    losses = []\n",
        "\n",
        "    for epoch in range(num_epochs):\n",
        "        epoch_loss = 0\n",
        "        for x, _ in data_loader:\n",
        "            x = x.to(device)\n",
        "            optimizer.zero_grad()\n",
        "\n",
        "            x_hat, mu_z, log_var_z = model(x, k=k)\n",
        "            if isinstance(model, IWAE):\n",
        "                loss = iwae_loss(x, x_hat, mu_z, log_var_z)\n",
        "            else:\n",
        "                loss = vae_loss(x, x_hat, mu_z, log_var_z)\n",
        "\n",
        "            loss.backward()\n",
        "            optimizer.step()\n",
        "\n",
        "            epoch_loss += loss.item()\n",
        "\n",
        "        avg_loss = epoch_loss / len(data_loader.dataset)\n",
        "        losses.append(avg_loss)\n",
        "        print(f\"Epoch [{epoch+1}/{num_epochs}], Loss: {avg_loss:.4f}\")\n",
        "\n",
        "    return losses"
      ],
      "metadata": {
        "id": "b1b4duUdugLY"
      },
      "execution_count": null,
      "outputs": []
    },
    {
      "cell_type": "markdown",
      "source": [
        "## **4-2. Testing**"
      ],
      "metadata": {
        "id": "NX44zA3u9eO_"
      }
    },
    {
      "cell_type": "markdown",
      "source": [
        "**활성 unit 개수 측정**"
      ],
      "metadata": {
        "id": "LgiSxE3evNYu"
      }
    },
    {
      "cell_type": "code",
      "source": [
        "def compute_active_units(model, data_loader, threshold=1e-2):\n",
        "    model.eval()\n",
        "    active_units = torch.zeros(model.latent_dim).to(device)\n",
        "    with torch.no_grad():\n",
        "        # 저장된 잠재 벡터들을 추적\n",
        "        mu_zs = []\n",
        "\n",
        "        for x, _ in data_loader:\n",
        "            x = x.to(device)\n",
        "            _, mu_z, _ = model(x)\n",
        "            mu_zs.append(mu_z.cpu().numpy())\n",
        "\n",
        "        mu_zs = np.concatenate(mu_zs, axis=0)  # (전체 데이터 샘플 수, latent_dim)\n",
        "\n",
        "        # 각 차원에 대한 공분산 계산\n",
        "        for i in range(model.latent_dim):\n",
        "            var = np.var(mu_zs[:, i])  # 각 차원 i에 대한 분산\n",
        "            if var > threshold:\n",
        "                active_units[i] = 1\n",
        "\n",
        "    return active_units.sum().item()"
      ],
      "metadata": {
        "id": "HHmYa5PJ8N1t"
      },
      "execution_count": null,
      "outputs": []
    },
    {
      "cell_type": "code",
      "source": [
        "def evaluate(model, data_loader):\n",
        "    nll = calculate_nll(model, data_loader, k=5000)\n",
        "    active_units = compute_active_units(model, data_loader)\n",
        "    return nll, active_units"
      ],
      "metadata": {
        "id": "JprV_o9D9l6M"
      },
      "execution_count": null,
      "outputs": []
    },
    {
      "cell_type": "markdown",
      "source": [
        "# **5. RUN!!**"
      ],
      "metadata": {
        "id": "n1v9KHHA9pFf"
      }
    },
    {
      "cell_type": "markdown",
      "source": [
        "**시각화**"
      ],
      "metadata": {
        "id": "jIgIRfDNBpwL"
      }
    },
    {
      "cell_type": "code",
      "source": [
        "def visualize_reconstruction(model, data_loader):\n",
        "    model.eval()\n",
        "    with torch.no_grad():\n",
        "        x, _ = next(iter(data_loader))\n",
        "        x = x.to(device)\n",
        "        x_hat, _, _ = model(x)\n",
        "\n",
        "        x = x.cpu().numpy()\n",
        "        x_hat = x_hat.squeeze().cpu().numpy()\n",
        "\n",
        "        fig, axes = plt.subplots(2, 5, figsize=(15, 6))\n",
        "        for i in range(5):\n",
        "            axes[0, i].imshow(x[i].squeeze(), cmap='gray')\n",
        "            axes[0, i].set_title('Original')\n",
        "            axes[0, i].axis('off')\n",
        "\n",
        "            # Reshape x_hat[i] if necessary based on its actual shape\n",
        "            axes[1, i].imshow(x_hat[i].reshape(28, 28), cmap='gray')\n",
        "            axes[1, i].set_title('Reconstruction')\n",
        "            axes[1, i].axis('off')\n",
        "\n",
        "        plt.show()"
      ],
      "metadata": {
        "id": "Rs-8zKETBr3i"
      },
      "execution_count": null,
      "outputs": []
    },
    {
      "cell_type": "code",
      "source": [
        "def run(architecture=1, k=5):\n",
        "    vae = VAE(architecture=architecture, latent_dim=50).to(device)\n",
        "    iwae = IWAE(architecture=architecture, latent_dim=50).to(device)\n",
        "\n",
        "    vae_optimizer = optim.Adam(vae.parameters(), lr=0.001)\n",
        "    iwae_optimizer = optim.Adam(iwae.parameters(), lr=0.001)\n",
        "\n",
        "    print(f\"Training VAE with architecture {architecture}...\")\n",
        "    elbo_values_vae = train(vae, vae_optimizer, train_loader, num_epochs=27, k=k)\n",
        "    print(f\"Evaluating VAE with architecture {architecture}...\")\n",
        "    nll_vae, active_units_vae = evaluate(vae, test_loader)\n",
        "    print(f\"VAE NLL with architecture {architecture} and k={k}: \", nll_vae)\n",
        "    print(f\"VAE Active Units with architecture {architecture} and k={k}: \", active_units_vae)\n",
        "\n",
        "    print()\n",
        "\n",
        "    print(f\"Training IWAE with architecture {architecture} and k={k}...\")\n",
        "    elbo_values_iwae = train(iwae, iwae_optimizer, train_loader, num_epochs=27, k=k)\n",
        "    print(f\"Evaluating IWAE with architecture {architecture} and k={k}...\")\n",
        "    nll_iwae, active_units_iwae = evaluate(iwae, test_loader)\n",
        "    print(f\"IWAE NLL with architecture {architecture} and k={k}: \", nll_iwae)\n",
        "    print(f\"IWAE Active Units with architecture {architecture} and k={k}: \", active_units_iwae)\n",
        "\n",
        "    # Plot loss curves\n",
        "    plt.figure(figsize=(12, 6))\n",
        "    plt.plot(elbo_values_vae, label=f'VAE Architecture {architecture} (k={k})', color='blue')\n",
        "    plt.plot(elbo_values_iwae, label=f'IWAE Architecture {architecture} (k={k})', color='orange')\n",
        "    plt.xlabel('Epochs')\n",
        "    plt.ylabel('Loss')\n",
        "    plt.title(f'Loss Curves for Architecture {architecture} (k={k})')\n",
        "    plt.legend()\n",
        "    plt.show()\n",
        "\n",
        "    visualize_reconstruction(vae, test_loader)\n",
        "    visualize_reconstruction(iwae, test_loader)"
      ],
      "metadata": {
        "id": "H9ci9jfnbaE1"
      },
      "execution_count": null,
      "outputs": []
    },
    {
      "cell_type": "markdown",
      "source": [
        "## **5-1. Case 1**\n",
        "- model = 1\n",
        "- k = 5"
      ],
      "metadata": {
        "id": "Ee5Psa8G9tpi"
      }
    },
    {
      "cell_type": "code",
      "source": [
        "run(architecture=1, k=5)"
      ],
      "metadata": {
        "colab": {
          "base_uri": "https://localhost:8080/",
          "height": 1000
        },
        "id": "4vthNVKi91EO",
        "outputId": "6c7a0ec0-0f40-48c9-d206-5adfae03ca67"
      },
      "execution_count": null,
      "outputs": [
        {
          "output_type": "stream",
          "name": "stdout",
          "text": [
            "Training VAE with architecture 1...\n",
            "Epoch [1/27], Loss: 734.4772\n",
            "Epoch [2/27], Loss: 471.0609\n",
            "Epoch [3/27], Loss: 399.4484\n",
            "Epoch [4/27], Loss: 365.5226\n",
            "Epoch [5/27], Loss: 343.4681\n",
            "Epoch [6/27], Loss: 329.1356\n",
            "Epoch [7/27], Loss: 319.0737\n",
            "Epoch [8/27], Loss: 310.3031\n",
            "Epoch [9/27], Loss: 303.9379\n",
            "Epoch [10/27], Loss: 299.0389\n",
            "Epoch [11/27], Loss: 294.9980\n",
            "Epoch [12/27], Loss: 291.9109\n",
            "Epoch [13/27], Loss: 288.6496\n",
            "Epoch [14/27], Loss: 285.8716\n",
            "Epoch [15/27], Loss: 282.7459\n",
            "Epoch [16/27], Loss: 280.5626\n",
            "Epoch [17/27], Loss: 278.0984\n",
            "Epoch [18/27], Loss: 276.1286\n",
            "Epoch [19/27], Loss: 274.4634\n",
            "Epoch [20/27], Loss: 273.0263\n",
            "Epoch [21/27], Loss: 271.2805\n",
            "Epoch [22/27], Loss: 270.1865\n",
            "Epoch [23/27], Loss: 269.1285\n",
            "Epoch [24/27], Loss: 267.8783\n",
            "Epoch [25/27], Loss: 266.9055\n",
            "Epoch [26/27], Loss: 265.9994\n",
            "Epoch [27/27], Loss: 265.2177\n",
            "Evaluating VAE with architecture 1...\n",
            "VAE NLL with architecture 1 and k=5:  98.88918364257813\n",
            "VAE Active Units with architecture 1 and k=5:  29.0\n",
            "\n",
            "Training IWAE with architecture 1 and k=5...\n",
            "Epoch [1/27], Loss: 164.1757\n",
            "Epoch [2/27], Loss: 117.1035\n",
            "Epoch [3/27], Loss: 107.5360\n",
            "Epoch [4/27], Loss: 102.5834\n",
            "Epoch [5/27], Loss: 99.3893\n",
            "Epoch [6/27], Loss: 97.0378\n",
            "Epoch [7/27], Loss: 95.4363\n",
            "Epoch [8/27], Loss: 94.1934\n",
            "Epoch [9/27], Loss: 93.2694\n",
            "Epoch [10/27], Loss: 92.4824\n",
            "Epoch [11/27], Loss: 91.9093\n",
            "Epoch [12/27], Loss: 91.3784\n",
            "Epoch [13/27], Loss: 90.9342\n",
            "Epoch [14/27], Loss: 90.5916\n",
            "Epoch [15/27], Loss: 90.1656\n",
            "Epoch [16/27], Loss: 89.9223\n",
            "Epoch [17/27], Loss: 89.5627\n",
            "Epoch [18/27], Loss: 89.3553\n",
            "Epoch [19/27], Loss: 89.1208\n",
            "Epoch [20/27], Loss: 88.8760\n",
            "Epoch [21/27], Loss: 88.6745\n",
            "Epoch [22/27], Loss: 88.5038\n",
            "Epoch [23/27], Loss: 88.2452\n",
            "Epoch [24/27], Loss: 88.1421\n",
            "Epoch [25/27], Loss: 88.0558\n",
            "Epoch [26/27], Loss: 87.8742\n",
            "Epoch [27/27], Loss: 87.7215\n",
            "Evaluating IWAE with architecture 1 and k=5...\n",
            "IWAE NLL with architecture 1 and k=5:  89.3650298461914\n",
            "IWAE Active Units with architecture 1 and k=5:  17.0\n"
          ]
        },
        {
          "output_type": "display_data",
          "data": {
            "text/plain": [
              "<Figure size 1200x600 with 1 Axes>"
            ],
            "image/png": "[encoded data removed]"
          },
          "metadata": {}
        },
        {
          "output_type": "display_data",
          "data": {
            "text/plain": [
              "<Figure size 1500x600 with 10 Axes>"
            ],
            "image/png": "[encoded data removed]"
          },
          "metadata": {}
        },
        {
          "output_type": "display_data",
          "data": {
            "text/plain": [
              "<Figure size 1500x600 with 10 Axes>"
            ],
            "image/png": "[encoded data removed]"
          },
          "metadata": {}
        }
      ]
    },
    {
      "cell_type": "code",
      "source": [],
      "metadata": {
        "id": "KijbV0EVH45U"
      },
      "execution_count": null,
      "outputs": []
    }
  ]
}
