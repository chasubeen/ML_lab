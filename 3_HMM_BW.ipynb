{
  "cells": [
    {
      "cell_type": "markdown",
      "metadata": {
        "id": "view-in-github",
        "colab_type": "text"
      },
      "source": [
        "<a href=\"https://colab.research.google.com/github/chasubeen/ML_lab/blob/main/3_HMM_BW.ipynb\" target=\"_parent\"><img src=\"https://colab.research.google.com/assets/colab-badge.svg\" alt=\"Open In Colab\"/></a>"
      ]
    },
    {
      "cell_type": "code",
      "execution_count": null,
      "metadata": {
        "id": "0c5QVs-_FwjX"
      },
      "outputs": [],
      "source": [
        "import os\n",
        "import re\n",
        "import numpy as np\n",
        "import matplotlib.pyplot as plt"
      ]
    },
    {
      "cell_type": "markdown",
      "metadata": {
        "id": "90ZRKh3dERdU"
      },
      "source": [
        "# **1. Preprocessing**"
      ]
    },
    {
      "cell_type": "markdown",
      "metadata": {
        "id": "_Gx_9utFkNiN"
      },
      "source": [
        "## **1-1. Load data**\n",
        "- CoNLL-2000 file을 읽어와 word($\\mathbf x$)와 tag($\\mathbf z$) 처리"
      ]
    },
    {
      "cell_type": "code",
      "execution_count": null,
      "metadata": {
        "id": "TfZ8ZwHjjw6t"
      },
      "outputs": [],
      "source": [
        "# data path\n",
        "\n",
        "train_path = \"./data/train.txt\"\n",
        "test_path = \"./data/test.txt\""
      ]
    },
    {
      "cell_type": "code",
      "execution_count": null,
      "metadata": {
        "id": "yLrEXl2J0qSU"
      },
      "outputs": [],
      "source": [
        "### Read file\n",
        "\n",
        "def read_file(path):\n",
        "  with open(path, 'r') as file:\n",
        "    raw = file.read().strip().split('\\n\\n')  # 문장 단위로 분할\n",
        "  words, tags = [], []\n",
        "\n",
        "  for sentence in raw:\n",
        "    lines = sentence.strip().split('\\n')  # 문장 내의 각 라인(단어) 처리\n",
        "    for line in lines:\n",
        "      parts = line.split()  # 열 분할\n",
        "\n",
        "      if len(parts) == 3:\n",
        "        word, pos, chunk = parts\n",
        "        words.append(word.lower())  # 소문자로 변환\n",
        "        tags.append(pos)\n",
        "\n",
        "    # 문장의 끝이라면(단어가 없다면) EOS 태그 추가\n",
        "    if words:\n",
        "      words.append('eos')\n",
        "      tags.append('<EOS>')\n",
        "\n",
        "  return words, tags"
      ]
    },
    {
      "cell_type": "code",
      "execution_count": null,
      "metadata": {
        "id": "gtY4NX2UJ9wP"
      },
      "outputs": [],
      "source": [
        "train_words, train_tags = read_file(train_path)\n",
        "test_words, test_tags = read_file(test_path)"
      ]
    },
    {
      "cell_type": "markdown",
      "metadata": {
        "id": "BkJqEkdx3zsO"
      },
      "source": [
        "## **1-2. Preprocess Data**"
      ]
    },
    {
      "cell_type": "markdown",
      "metadata": {
        "id": "7PYmlGNBfy6X"
      },
      "source": [
        "### **a) 특수 문자 처리**\n",
        "- 숫자 태그를 'NUM'으로 변경\n",
        "- 빈 문자열 제거"
      ]
    },
    {
      "cell_type": "code",
      "execution_count": null,
      "metadata": {
        "id": "2A5prIu3f6G2"
      },
      "outputs": [],
      "source": [
        "def preprocessing(words, tags):\n",
        "  processed_words = []\n",
        "  processed_tags = []\n",
        "\n",
        "  for word, tag in zip(words, tags):\n",
        "\n",
        "    # 모든 숫자의 tag는 'NUM'으로 대체\n",
        "    if re.match(r'^[0-9]*$', word):\n",
        "      tag = 'NUM'\n",
        "\n",
        "    # 빈 문자열이 아닌 경우에만 추가\n",
        "    if word.strip():\n",
        "      processed_words.append(word.lower())  # 소문자 변환\n",
        "      processed_tags.append(tag)\n",
        "\n",
        "  return processed_words, processed_tags"
      ]
    },
    {
      "cell_type": "code",
      "execution_count": null,
      "metadata": {
        "id": "BQD1CU3HgQaS"
      },
      "outputs": [],
      "source": [
        "train_words, train_tags = preprocessing(train_words, train_tags)\n",
        "test_words, test_tags = preprocessing(test_words, test_tags)"
      ]
    },
    {
      "cell_type": "markdown",
      "metadata": {
        "id": "3RLlPdyogbSA"
      },
      "source": [
        "### **b) POS Tag 통합**\n",
        "- 영어의 대표적인 **8품사(+ 접속사, 숫자)**만 남기고, 나머지는 기타로 처리"
      ]
    },
    {
      "cell_type": "code",
      "execution_count": null,
      "metadata": {
        "id": "IKYQMZudgjor"
      },
      "outputs": [],
      "source": [
        "def modify_tags(tags):\n",
        "    tag_map = {\n",
        "        'NN': 'N', 'NNS': 'N', 'NNP': 'N', 'NNPS': 'N',\n",
        "        'VB': 'V', 'VBD': 'V', 'VBG': 'V', 'VBN': 'V', 'VBP': 'V', 'VBZ': 'V',\n",
        "        'PRP': 'PN', 'PRP$': 'PN',\n",
        "        'IN': 'PP',\n",
        "        'RB': 'AD', 'RBR': 'AD', 'RBS': 'AD', 'WRB': 'AD',\n",
        "        'CC': 'CONJ',\n",
        "        'DT': 'ART', 'PDT': 'ART',\n",
        "        'JJ': 'AdJ', 'JJR': 'AdJ', 'JJS': 'AdJ',\n",
        "        'NUM': 'NUM',\n",
        "        '<EOS>': '<EOS>'\n",
        "    }\n",
        "    return [tag_map.get(tag, 'ETC') for tag in tags]"
      ]
    },
    {
      "cell_type": "code",
      "execution_count": null,
      "metadata": {
        "id": "KPe5fAKwg2rM"
      },
      "outputs": [],
      "source": [
        "train_tags = modify_tags(train_tags)\n",
        "test_tags = modify_tags(test_tags)"
      ]
    },
    {
      "cell_type": "code",
      "execution_count": null,
      "metadata": {
        "colab": {
          "base_uri": "https://localhost:8080/"
        },
        "id": "zeSrgZXlaMgY",
        "outputId": "a1a5e023-2172-4b00-ad30-146aecfa84e4"
      },
      "outputs": [
        {
          "name": "stdout",
          "output_type": "stream",
          "text": [
            "11\n",
            "11\n"
          ]
        }
      ],
      "source": [
        "print(len(set(train_tags)))\n",
        "print(len(set(test_tags)))"
      ]
    },
    {
      "cell_type": "code",
      "execution_count": null,
      "metadata": {
        "colab": {
          "base_uri": "https://localhost:8080/"
        },
        "id": "AmwW6a3p-0rq",
        "outputId": "ed63f0f9-bacc-4ad2-e75b-64127e0af682"
      },
      "outputs": [
        {
          "data": {
            "text/plain": [
              "{'<EOS>', 'AD', 'ART', 'AdJ', 'CONJ', 'ETC', 'N', 'NUM', 'PN', 'PP', 'V'}"
            ]
          },
          "execution_count": 10,
          "metadata": {},
          "output_type": "execute_result"
        }
      ],
      "source": [
        "set(train_tags)"
      ]
    },
    {
      "cell_type": "markdown",
      "metadata": {
        "id": "JsGSEZaSbfaa"
      },
      "source": [
        "> **11**개의 tag(품사)로 잘 정리된 것을 확인할 수 있다."
      ]
    },
    {
      "cell_type": "markdown",
      "metadata": {
        "id": "wXFMcgL1qkhb"
      },
      "source": [
        "### **c) 단어 사전 생성**\n",
        "- 태그와 단어들을 인덱스로 매핑하는 사전 생성"
      ]
    },
    {
      "cell_type": "code",
      "execution_count": null,
      "metadata": {
        "id": "6S5GSVY8W2Bk"
      },
      "outputs": [],
      "source": [
        "def make_dict(tags, words):\n",
        "  tag_to_index = {tag: idx for idx, tag in enumerate(set(tags))}\n",
        "  word_to_index = {word: idx for idx, word in enumerate(set(words))}\n",
        "  return tag_to_index, word_to_index"
      ]
    },
    {
      "cell_type": "code",
      "execution_count": null,
      "metadata": {
        "id": "RrtSlN6qXChV"
      },
      "outputs": [],
      "source": [
        "tag_to_index, vocab_to_index = make_dict(train_tags, train_words)"
      ]
    },
    {
      "cell_type": "code",
      "execution_count": null,
      "metadata": {
        "id": "w8mlZByQXEwx"
      },
      "outputs": [],
      "source": [
        "# UNK(Unknown) 추가\n",
        "vocab_to_index['UNK'] = len(vocab_to_index)"
      ]
    },
    {
      "cell_type": "markdown",
      "metadata": {
        "id": "eDANFZv6-umk"
      },
      "source": [
        "### **d) index 변환**"
      ]
    },
    {
      "cell_type": "code",
      "execution_count": null,
      "metadata": {
        "id": "CG12CcIzt8fJ"
      },
      "outputs": [],
      "source": [
        "def to_indices(objs, obj_to_idx):\n",
        "  return [obj_to_idx.get(obj, obj_to_idx['UNK']) for obj in objs]"
      ]
    },
    {
      "cell_type": "code",
      "execution_count": null,
      "metadata": {
        "id": "Hkc5WtCbuDor"
      },
      "outputs": [],
      "source": [
        "train_data_idx = to_indices(train_words, vocab_to_index)\n",
        "train_tag_idx = [tag_to_index[tag] for tag in train_tags]"
      ]
    },
    {
      "cell_type": "code",
      "execution_count": null,
      "metadata": {
        "id": "YdgsgdbVuEpN"
      },
      "outputs": [],
      "source": [
        "test_data_idx = to_indices(test_words, vocab_to_index)\n",
        "test_tag_idx = [tag_to_index[tag] for tag in test_tags]"
      ]
    },
    {
      "cell_type": "markdown",
      "metadata": {
        "id": "QdxBUoO4lUSL"
      },
      "source": [
        "## **1-3. 최종 데이터 확인**"
      ]
    },
    {
      "cell_type": "code",
      "execution_count": null,
      "metadata": {
        "colab": {
          "base_uri": "https://localhost:8080/"
        },
        "id": "NOnADvaClXam",
        "outputId": "00da647b-f8a4-4208-844c-670410eb31f7"
      },
      "outputs": [
        {
          "name": "stdout",
          "output_type": "stream",
          "text": [
            "['N', 'PP', 'ART', 'N', 'V', 'AD', 'V', 'ETC', 'V', 'ART', 'AdJ', 'N', 'PP', 'N', 'N', 'PP', 'N', 'ETC', 'AdJ', 'PP', 'N', 'N', 'ETC', 'V', 'ETC', 'V', 'ART', 'AdJ', 'N', 'PP', 'N', 'CONJ', 'N', 'ETC', 'AdJ', 'N', 'ETC', '<EOS>', 'N', 'PP']\n",
            "\n",
            "['confidence', 'in', 'the', 'pound', 'is', 'widely', 'expected', 'to', 'take', 'another', 'sharp', 'dive', 'if', 'trade', 'figures', 'for', 'september', ',', 'due', 'for', 'release', 'tomorrow', ',', 'fail', 'to', 'show', 'a', 'substantial', 'improvement', 'from', 'july', 'and', 'august', \"'s\", 'near-record', 'deficits', '.', 'eos', 'chancellor', 'of']\n"
          ]
        }
      ],
      "source": [
        "print(train_tags[:40])\n",
        "print()\n",
        "print(train_words[:40])"
      ]
    },
    {
      "cell_type": "markdown",
      "metadata": {
        "id": "cV6sazzpM5zx"
      },
      "source": [
        "# **2. Modeling**"
      ]
    },
    {
      "cell_type": "code",
      "execution_count": null,
      "metadata": {
        "id": "QNimuT7NIMRD"
      },
      "outputs": [],
      "source": [
        "class HMM_BW:\n",
        "  def __init__(self, num_states, vocab_size):\n",
        "    self.n_states = num_states\n",
        "    self.vocab_size = vocab_size\n",
        "\n",
        "    ## Initialization\n",
        "    # 모두 동일한 확률로 초기화\n",
        "    self.pi = np.random.rand(self.n_states)  # initial state probabilities\n",
        "    self.pi /= self.pi.sum()\n",
        "\n",
        "    self.A = np.random.rand(self.n_states, self.n_states)   # transition probabilities\n",
        "    self.A /= self.A.sum(axis = 1, keepdims = True)\n",
        "\n",
        "    self.B = np.random.rand(self.n_states, self.vocab_size)   # emission probabilities\n",
        "    self.B /= self.B.sum(axis = 1, keepdims = True)\n",
        "\n",
        "  def forward(self, X):\n",
        "    T = len(X) # 전체 단어 개수(= time step)\n",
        "    alpha = np.zeros((T, self.n_states))\n",
        "\n",
        "    # Initial condition\n",
        "    alpha[0] = self.pi * self.B[:, X[0]]\n",
        "    alpha[0] /= np.sum(alpha[0]) if np.sum(alpha[0]) != 0 else 1e-10\n",
        "\n",
        "    # Recursion\n",
        "    for t in range(1, T):\n",
        "      alpha[t] = self.B[:, X[t]] * np.dot(alpha[t-1], self.A)\n",
        "      alpha[t] /= np.sum(alpha[t]) if np.sum(alpha[t]) != 0 else 1e-10\n",
        "    return alpha\n",
        "\n",
        "  def backward(self, X):\n",
        "    T = len(X)\n",
        "    beta = np.zeros((T, self.n_states))\n",
        "\n",
        "    # Initial condition\n",
        "    beta[- 1] = 1\n",
        "\n",
        "    # Recursion\n",
        "    for t in range(T-2, -1, -1):\n",
        "      beta[t] = np.dot((beta[t+1] * self.B[:, X[t+1]]), self.A)\n",
        "      beta[t] /= np.sum(beta[t]) if np.sum(beta[t]) != 0 else 1e-10\n",
        "\n",
        "    return beta\n",
        "\n",
        "  def calculate_gamma(self, alpha, beta):\n",
        "    gamma = alpha * beta\n",
        "    gamma /= np.sum(gamma, axis=1, keepdims=True) + 1e-10\n",
        "    return gamma\n",
        "\n",
        "  def calculate_xi(self, X, alpha, beta):\n",
        "    T = len(X)\n",
        "    xi = np.zeros((T - 1, self.n_states, self.n_states))\n",
        "\n",
        "    for t in range(T - 1):\n",
        "      denominator = np.sum(alpha[t] * np.dot(self.A, self.B[:, X[t + 1]] * beta[t + 1]))\n",
        "      denominator = denominator if denominator != 0 else 1e-10\n",
        "\n",
        "      xi[t] = alpha[t][:, None] * self.B[:, X[t + 1]] * self.A * beta[t + 1] / denominator\n",
        "\n",
        "    return xi\n",
        "\n",
        "  def e_step(self, X):\n",
        "    # Forward와 Backward 알고리즘으로 alpha, beta 계산\n",
        "    alpha = self.forward(X)\n",
        "    beta = self.backward(X)\n",
        "\n",
        "    # Gamma와 Xi 계산\n",
        "    gamma = self.calculate_gamma(alpha, beta)\n",
        "    xi = self.calculate_xi(X, alpha, beta)\n",
        "\n",
        "    return gamma, xi\n",
        "\n",
        "  def m_step(self, X, gamma, xi):\n",
        "    # Initial state probabilities\n",
        "    self.pi = gamma[0] / (np.sum(gamma[0]) + 1e-10)\n",
        "\n",
        "    # Transition probabilities\n",
        "    self.A = np.sum(xi, axis=0) / (np.sum(gamma[:-1], axis=0, keepdims=True) + 1e-10)\n",
        "\n",
        "    # Emission probabilities\n",
        "    for k in range(self.vocab_size):\n",
        "      mask = (np.array(X) == k)\n",
        "      if mask.sum() == 0:\n",
        "        self.B[:, k] = 1e-10  # 수치적 안정성을 위해 매우 작은 값 부여\n",
        "      else:\n",
        "        self.B[:, k] = np.sum(gamma[mask], axis=0) / np.sum(gamma, axis=0)\n",
        "\n",
        "  def compute_log_likelihood(self, X, gamma, xi):\n",
        "    Q = 0\n",
        "    T = len(X)\n",
        "\n",
        "    # (1)\n",
        "    Q += np.sum(gamma[0] * np.log(self.pi + 1e-10))\n",
        "    # (2)\n",
        "    for t in range(1, T):\n",
        "      Q += np.sum(xi[t - 1] * np.log(self.A + 1e-10))\n",
        "    # (3)\n",
        "    for t in range(T):\n",
        "      Q += np.sum(gamma[t] * np.log(self.B[:, X[t]] + 1e-10))\n",
        "\n",
        "    return Q\n",
        "\n",
        "  def fit(self, X, max_iter=100, tolerance=1e-6, patience=5):\n",
        "    prev_log_likelihood = -np.inf\n",
        "    patience_counter = 0\n",
        "    log_likelihoods = []\n",
        "\n",
        "    for iteration in range(max_iter):\n",
        "      gamma, xi = self.e_step(X)\n",
        "      self.m_step(X, gamma, xi)\n",
        "\n",
        "      log_likelihood = self.compute_log_likelihood(X, gamma, xi)\n",
        "      log_likelihoods.append(log_likelihood)\n",
        "      print(f\"Iteration {iteration + 1}: Log Likelihood = {log_likelihood:.4f}\")\n",
        "\n",
        "      ## Early Stopping\n",
        "      if (log_likelihood - prev_log_likelihood) < tolerance:\n",
        "        cnt += 1\n",
        "      else:\n",
        "        cnt = 0\n",
        "\n",
        "      if patience_counter >= patience:\n",
        "        print(f\"Early stopping at iteration {iteration + 1}\")\n",
        "        break\n",
        "\n",
        "      prev_log_likelihood = log_likelihood\n",
        "\n",
        "    return log_likelihoods\n",
        "\n",
        "  def predict(self, X):\n",
        "    T = len(X)\n",
        "    V = np.zeros((T, self.n_states))\n",
        "    state_idx = np.zeros((T, self.n_states), dtype=int)\n",
        "\n",
        "    # 1. Initialization\n",
        "    V[0] = self.pi * self.B[:, X[0]]\n",
        "\n",
        "    # 2. Recursion\n",
        "    for t in range(1, T):\n",
        "      for j in range(self.n_states):\n",
        "        prob = V[t-1] * self.A[:, j]\n",
        "        V[t, j] = np.max(prob) * self.B[j, X[t]]\n",
        "        state_idx[t, j] = np.argmax(prob)\n",
        "\n",
        "    # 3. Traceback\n",
        "    z = np.zeros(T, dtype=int)\n",
        "    z[-1] = np.argmax(V[-1])\n",
        "\n",
        "    for t in range(T-2, -1, -1):\n",
        "      z[t] = state_idx[t+1, z[t+1]]\n",
        "\n",
        "    return z\n",
        "\n",
        "  def accuracy(self, predictions, true_states):\n",
        "    return np.mean(predictions == true_states)"
      ]
    },
    {
      "cell_type": "markdown",
      "metadata": {
        "id": "fgXOZbhXJqan"
      },
      "source": [
        "# **3. Training**"
      ]
    },
    {
      "cell_type": "code",
      "execution_count": null,
      "metadata": {
        "id": "qMywM9ofJtkv"
      },
      "outputs": [],
      "source": [
        "num_states = len(tag_to_index)  # 품사 태그 개수\n",
        "vocab_size = len(vocab_to_index)  # 단어 사전 크기"
      ]
    },
    {
      "cell_type": "code",
      "execution_count": null,
      "metadata": {
        "colab": {
          "base_uri": "https://localhost:8080/",
          "height": 443
        },
        "id": "EdjxM1h6JvU_",
        "outputId": "ccae18f5-0f19-478e-8d8c-d4f6c770ba15"
      },
      "outputs": [
        {
          "name": "stdout",
          "output_type": "stream",
          "text": [
            "Iteration 1: Log Likelihood = -1945614.9932\n",
            "Iteration 2: Log Likelihood = -1943444.5569\n",
            "Iteration 3: Log Likelihood = -1938615.9587\n",
            "Iteration 4: Log Likelihood = -1930074.6240\n",
            "Iteration 5: Log Likelihood = -1916222.5070\n",
            "Iteration 6: Log Likelihood = -1895941.0057\n",
            "Iteration 7: Log Likelihood = -1870075.4068\n",
            "Iteration 8: Log Likelihood = -1840352.3119\n",
            "Iteration 9: Log Likelihood = -1807500.7139\n",
            "Iteration 10: Log Likelihood = -1771967.4508\n",
            "Iteration 11: Log Likelihood = -1734548.2489\n",
            "Iteration 12: Log Likelihood = -1696593.7037\n",
            "Iteration 13: Log Likelihood = -1659811.4990\n",
            "Iteration 14: Log Likelihood = -1625699.3295\n",
            "Iteration 15: Log Likelihood = -1595419.7738\n",
            "Iteration 16: Log Likelihood = -1569550.0972\n",
            "Iteration 17: Log Likelihood = -1547918.7996\n",
            "Iteration 18: Log Likelihood = -1529956.1502\n",
            "Iteration 19: Log Likelihood = -1514949.0432\n",
            "Iteration 20: Log Likelihood = -1502293.1505\n",
            "Iteration 21: Log Likelihood = -1491379.3586\n",
            "Iteration 22: Log Likelihood = -1481849.9804\n",
            "Iteration 23: Log Likelihood = -1473570.8909\n",
            "Iteration 24: Log Likelihood = -1466301.0184\n",
            "Iteration 25: Log Likelihood = -1459845.3935\n",
            "Iteration 26: Log Likelihood = -1454151.2145\n",
            "Iteration 27: Log Likelihood = -1449117.2903\n",
            "Iteration 28: Log Likelihood = -1444641.1787\n",
            "Iteration 29: Log Likelihood = -1440556.8329\n",
            "Iteration 30: Log Likelihood = -1436840.0847\n",
            "Iteration 31: Log Likelihood = -1433480.8081\n",
            "Iteration 32: Log Likelihood = -1430428.1818\n",
            "Iteration 33: Log Likelihood = -1427647.6173\n",
            "Iteration 34: Log Likelihood = -1425115.3952\n",
            "Iteration 35: Log Likelihood = -1422809.0365\n",
            "Iteration 36: Log Likelihood = -1420695.4701\n",
            "Iteration 37: Log Likelihood = -1418768.6769\n",
            "Iteration 38: Log Likelihood = -1417012.2089\n",
            "Iteration 39: Log Likelihood = -1415379.2554\n",
            "Iteration 40: Log Likelihood = -1413885.3839\n",
            "Iteration 41: Log Likelihood = -1412471.8253\n",
            "Iteration 42: Log Likelihood = -1411099.8772\n",
            "Iteration 43: Log Likelihood = -1409852.5312\n",
            "Iteration 44: Log Likelihood = -1408712.5953\n",
            "Iteration 45: Log Likelihood = -1407675.1438\n",
            "Iteration 46: Log Likelihood = -1406730.3073\n",
            "Iteration 47: Log Likelihood = -1405834.5935\n",
            "Iteration 48: Log Likelihood = -1404968.9636\n",
            "Iteration 49: Log Likelihood = -1404145.7415\n",
            "Iteration 50: Log Likelihood = -1403381.6249\n"
          ]
        }
      ],
      "source": [
        "# HMM 모델 학습\n",
        "\n",
        "hmm_model = HMM_BW(num_states = num_states, vocab_size = vocab_size)\n",
        "log_likelihoods = hmm_model.fit(train_data_idx, max_iter=50, patience=5, tolerance=1e-10)"
      ]
    },
    {
      "cell_type": "code",
      "execution_count": null,
      "metadata": {
        "id": "9wvpZU5OJzB0",
        "outputId": "66afd9c2-f379-47b2-da98-d0424966ee9c"
      },
      "outputs": [
        {
          "data": {
            "image/png": "[encoded data removed]",
            "text/plain": [
              "<Figure size 1000x600 with 1 Axes>"
            ]
          },
          "metadata": {},
          "output_type": "display_data"
        }
      ],
      "source": [
        "# log-likelihood Plot\n",
        "\n",
        "plt.figure(figsize=(10, 6))\n",
        "plt.plot(log_likelihoods)\n",
        "plt.xlabel('Iteration')\n",
        "plt.ylabel('Q')\n",
        "plt.show()"
      ]
    },
    {
      "cell_type": "code",
      "execution_count": null,
      "metadata": {
        "id": "x-YX1R6TMyxi",
        "outputId": "b5d5d08b-0547-4a35-e904-a7ab731d5442"
      },
      "outputs": [
        {
          "name": "stdout",
          "output_type": "stream",
          "text": [
            "Train Accuracy: 0.040509736566619686\n"
          ]
        }
      ],
      "source": [
        "# Train data에 대한 정확도 측정\n",
        "train_predictions = hmm_model.predict(train_data_idx)\n",
        "train_accuracy = hmm_model.accuracy(train_predictions, train_tag_idx)\n",
        "print(\"Train Accuracy:\", train_accuracy)"
      ]
    },
    {
      "cell_type": "markdown",
      "metadata": {
        "id": "c29XTL05J6qp"
      },
      "source": [
        "# **4. Testing**"
      ]
    },
    {
      "cell_type": "code",
      "execution_count": null,
      "metadata": {
        "id": "AV3uH90Ra4gs",
        "outputId": "af890237-9a92-463b-9de2-05b1ab39020d"
      },
      "outputs": [
        {
          "name": "stdout",
          "output_type": "stream",
          "text": [
            "Test Accuracy: 0.04081880580696107\n"
          ]
        }
      ],
      "source": [
        "# Test data에 대한 정확도 측정\n",
        "test_predictions = hmm_model.predict(test_data_idx)\n",
        "test_accuracy = hmm_model.accuracy(test_predictions, test_tag_idx)\n",
        "print(\"Test Accuracy:\", test_accuracy)"
      ]
    },
    {
      "cell_type": "markdown",
      "metadata": {
        "id": "jN-DPP_Sj5jS"
      },
      "source": [
        "# **5. Results**"
      ]
    },
    {
      "cell_type": "code",
      "execution_count": null,
      "metadata": {
        "id": "zxWxHirIj8_Z"
      },
      "outputs": [],
      "source": [
        "def compare_result(words, true_tags, pred_indices, tag_to_idx):\n",
        "  idx_to_tag = {idx: tag for tag, idx in tag_to_idx.items()}\n",
        "\n",
        "  for word, true_tag, pred_idx in zip(words, true_tags, pred_indices):\n",
        "    true_tag_label = true_tag if isinstance(true_tag, str) else idx_to_tag[true_tag]\n",
        "    pred_tag_label = idx_to_tag[pred_idx]\n",
        "    print(f\"Word: {word:15} True Tag: {true_tag_label:10} Pred Tag: {pred_tag_label:10}\")"
      ]
    },
    {
      "cell_type": "code",
      "execution_count": null,
      "metadata": {
        "id": "vkctNrWnkAfC",
        "outputId": "2e937cf3-a1cf-4003-b121-d833185b2141"
      },
      "outputs": [
        {
          "name": "stdout",
          "output_type": "stream",
          "text": [
            "Word: rockwell        True Tag: N          Pred Tag: CONJ      \n",
            "Word: international   True Tag: N          Pred Tag: <EOS>     \n",
            "Word: corp.           True Tag: N          Pred Tag: AdJ       \n",
            "Word: 's              True Tag: ETC        Pred Tag: <EOS>     \n",
            "Word: tulsa           True Tag: N          Pred Tag: AdJ       \n",
            "Word: unit            True Tag: N          Pred Tag: AD        \n",
            "Word: said            True Tag: V          Pred Tag: ETC       \n",
            "Word: it              True Tag: PN         Pred Tag: CONJ      \n",
            "Word: signed          True Tag: V          Pred Tag: PN        \n",
            "Word: a               True Tag: ART        Pred Tag: N         \n",
            "Word: tentative       True Tag: AdJ        Pred Tag: AdJ       \n",
            "Word: agreement       True Tag: N          Pred Tag: AdJ       \n",
            "Word: extending       True Tag: V          Pred Tag: PN        \n",
            "Word: its             True Tag: PN         Pred Tag: N         \n",
            "Word: contract        True Tag: N          Pred Tag: AD        \n",
            "Word: with            True Tag: PP         Pred Tag: ETC       \n",
            "Word: boeing          True Tag: N          Pred Tag: NUM       \n",
            "Word: co.             True Tag: N          Pred Tag: CONJ      \n",
            "Word: to              True Tag: ETC        Pred Tag: PN        \n",
            "Word: provide         True Tag: V          Pred Tag: N         \n",
            "Word: structural      True Tag: AdJ        Pred Tag: NUM       \n",
            "Word: parts           True Tag: N          Pred Tag: ART       \n",
            "Word: for             True Tag: PP         Pred Tag: ETC       \n",
            "Word: boeing          True Tag: N          Pred Tag: NUM       \n",
            "Word: 's              True Tag: ETC        Pred Tag: NUM       \n",
            "Word: 747             True Tag: NUM        Pred Tag: NUM       \n",
            "Word: jetliners       True Tag: N          Pred Tag: AD        \n",
            "Word: .               True Tag: ETC        Pred Tag: PP        \n",
            "Word: eos             True Tag: <EOS>      Pred Tag: V         \n",
            "Word: rockwell        True Tag: N          Pred Tag: ART       \n",
            "Word: said            True Tag: V          Pred Tag: ETC       \n",
            "Word: the             True Tag: ART        Pred Tag: <EOS>     \n",
            "Word: agreement       True Tag: N          Pred Tag: AdJ       \n",
            "Word: calls           True Tag: V          Pred Tag: AD        \n",
            "Word: for             True Tag: PP         Pred Tag: ETC       \n",
            "Word: it              True Tag: PN         Pred Tag: CONJ      \n",
            "Word: to              True Tag: ETC        Pred Tag: PN        \n",
            "Word: supply          True Tag: V          Pred Tag: <EOS>     \n",
            "Word: 200             True Tag: NUM        Pred Tag: NUM       \n",
            "Word: additional      True Tag: AdJ        Pred Tag: NUM       \n",
            "Word: so-called       True Tag: AdJ        Pred Tag: NUM       \n",
            "Word: shipsets        True Tag: N          Pred Tag: ART       \n",
            "Word: for             True Tag: PP         Pred Tag: ETC       \n",
            "Word: the             True Tag: ART        Pred Tag: <EOS>     \n",
            "Word: planes          True Tag: N          Pred Tag: AD        \n",
            "Word: .               True Tag: ETC        Pred Tag: PP        \n",
            "Word: eos             True Tag: <EOS>      Pred Tag: V         \n",
            "Word: these           True Tag: ART        Pred Tag: <EOS>     \n",
            "Word: include         True Tag: V          Pred Tag: NUM       \n",
            "Word: ,               True Tag: ETC        Pred Tag: ART       \n"
          ]
        }
      ],
      "source": [
        "compare_result(test_words[:50], test_tag_idx[:50], test_predictions[:50], tag_to_index)"
      ]
    }
  ],
  "metadata": {
    "colab": {
      "provenance": [],
      "include_colab_link": true
    },
    "kernelspec": {
      "display_name": "ML_Lab",
      "language": "python",
      "name": "ml_lab"
    },
    "language_info": {
      "codemirror_mode": {
        "name": "ipython",
        "version": 3
      },
      "file_extension": ".py",
      "mimetype": "text/x-python",
      "name": "python",
      "nbconvert_exporter": "python",
      "pygments_lexer": "ipython3",
      "version": "3.10.11"
    }
  },
  "nbformat": 4,
  "nbformat_minor": 0
}