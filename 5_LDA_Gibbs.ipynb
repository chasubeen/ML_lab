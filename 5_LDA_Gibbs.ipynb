{
  "nbformat": 4,
  "nbformat_minor": 0,
  "metadata": {
    "colab": {
      "provenance": [],
      "include_colab_link": true
    },
    "kernelspec": {
      "name": "python3",
      "display_name": "Python 3"
    },
    "language_info": {
      "name": "python"
    }
  },
  "cells": [
    {
      "cell_type": "markdown",
      "metadata": {
        "id": "view-in-github",
        "colab_type": "text"
      },
      "source": [
        "<a href=\"https://colab.research.google.com/github/chasubeen/ML_lab/blob/main/5_LDA_Gibbs.ipynb\" target=\"_parent\"><img src=\"https://colab.research.google.com/assets/colab-badge.svg\" alt=\"Open In Colab\"/></a>"
      ]
    },
    {
      "cell_type": "code",
      "source": [
        "import re\n",
        "import numpy as np\n",
        "from collections import defaultdict"
      ],
      "metadata": {
        "id": "SpkcsGAvAsYi"
      },
      "execution_count": null,
      "outputs": []
    },
    {
      "cell_type": "markdown",
      "source": [
        "# **1. Preprocessing**"
      ],
      "metadata": {
        "id": "badhYe8TjrpX"
      }
    },
    {
      "cell_type": "markdown",
      "source": [
        "## **1-1. Load data**"
      ],
      "metadata": {
        "id": "_Gx_9utFkNiN"
      }
    },
    {
      "cell_type": "code",
      "source": [
        "from google.colab import drive\n",
        "drive.mount('/content/drive')"
      ],
      "metadata": {
        "colab": {
          "base_uri": "https://localhost:8080/"
        },
        "id": "cUa6BHK3j0_6",
        "outputId": "238fde0b-cc1c-419a-b15c-f571e422bc3a"
      },
      "execution_count": null,
      "outputs": [
        {
          "output_type": "stream",
          "name": "stdout",
          "text": [
            "Drive already mounted at /content/drive; to attempt to forcibly remount, call drive.mount(\"/content/drive\", force_remount=True).\n"
          ]
        }
      ]
    },
    {
      "cell_type": "code",
      "source": [
        "# data path\n",
        "\n",
        "train_path = \"/content/drive/MyDrive/ML_lab/2_LDA/data/pos_tag/train.txt\"\n",
        "test_path = \"/content/drive/MyDrive/ML_lab/2_LDA/data/pos_tag/test.txt\""
      ],
      "metadata": {
        "id": "TfZ8ZwHjjw6t"
      },
      "execution_count": null,
      "outputs": []
    },
    {
      "cell_type": "code",
      "source": [
        "def read_file(path):\n",
        "  raw = open(path, 'r').read().split('\\n') # 파일을 읽어와 줄마다 나누기\n",
        "  data, doc = list(), list()\n",
        "\n",
        "  for i, line in enumerate(raw):\n",
        "    if line.strip(): # 빈 줄이 아니면\n",
        "      word = line.split(' ')[0].lower() # 단어를 얻어온 후 소문자로 변환\n",
        "      doc.append(word)\n",
        "    else:\n",
        "      data.append(doc) # EOD(End Of Document)\n",
        "      doc = list()\n",
        "  data.append(doc) # 맨 마지막 문서 추가\n",
        "\n",
        "  return data"
      ],
      "metadata": {
        "id": "rbh73TnykXzf"
      },
      "execution_count": null,
      "outputs": []
    },
    {
      "cell_type": "code",
      "source": [
        "# 데이터 불러오기\n",
        "org_train_data = read_file(train_path)\n",
        "org_test_data = read_file(test_path)\n",
        "\n",
        "# 맨 마지막 문서는 제거\n",
        "del org_train_data[-1], org_test_data[-1]"
      ],
      "metadata": {
        "id": "PrbMLqzHkn_y"
      },
      "execution_count": null,
      "outputs": []
    },
    {
      "cell_type": "markdown",
      "source": [
        "## **1-2. Preprocess Data**"
      ],
      "metadata": {
        "id": "gPInqBrgmRB5"
      }
    },
    {
      "cell_type": "code",
      "source": [
        "# some words that we do not want to consider\n",
        "stopwords = [\"\", \" \", 'the', 'to', 'of', 'a', 'and', 'in', 'for', \"s\", 'that', 'is', 'said', 'mr', 'on', 'by',\n",
        "             'it', 'as', 'was', 'at', 'with', 'from', 'its', 'an', 'has', 'he', 'be', 'but', 'are', 'will',\n",
        "             'have', 'or', \"nt\", 'his', 'they', 'were', 'this', 'which', 'would', 'about', 'year', 'had', 'been',\n",
        "             'more', 'than', 'who', 'up', 'also', 'other', 'after', 'we', 'says', 'their', 'one', 'two', 'lrb',\n",
        "             'rrb', 'years', 'when', 'some', 'may', 'could', 'quarter', 'yesterday', 'most', 'not', 'if',\n",
        "             'because', 'there', 'first', 'i', 'any', 'last', 'monday', 'tuesday', 'wednesday', 'thursday', 'friday',\n",
        "             'saturday', 'sunday', 'before', 'no', 'week', 'much', 'so', 'such', 'can', 'while', 'into', 'do',\n",
        "             'then', 'many', 'out', 'less', 'against', 'even', 'under', 'only', 'since', 'however', 'over', 'among',\n",
        "             'between', 'them', 'him', 'those', 'did', 'you', 'still', 'these', 'three', 'own', 'second', 'off',\n",
        "             'all', 'what', 'both', 'day', 'now', 'yet', 'during', 'according', 'including', 'she', 'my', 'days',\n",
        "             'due', 'your', 'her', 'another', 'just', 'does', 'our', 'how', 'through', 'where', 'too', 'very', 'each',\n",
        "             'days', 'month', 'months', 'should', 'several', 'few', 'ago']"
      ],
      "metadata": {
        "id": "HG_s50dnmZnF"
      },
      "execution_count": null,
      "outputs": []
    },
    {
      "cell_type": "code",
      "source": [
        "## remove numbers, special characters, etc.\n",
        "# only consider words with alphabet\n",
        "\n",
        "def only_alphabet(corpus, stopword_list=stopwords):\n",
        "    pattern = re.compile('[^a-z]')\n",
        "    # non-alphabet 문자 제거(=> 정규표현식 활용)\n",
        "    return [\n",
        "        [pattern.sub('', word) for word in doc if pattern.sub('', word) not in stopword_list] for doc in corpus\n",
        "    ]"
      ],
      "metadata": {
        "id": "NvEnFdubuMMz"
      },
      "execution_count": null,
      "outputs": []
    },
    {
      "cell_type": "code",
      "source": [
        "train_data = only_alphabet(org_train_data)\n",
        "test_data = only_alphabet(org_test_data)"
      ],
      "metadata": {
        "id": "6Cgy8v8ompb8"
      },
      "execution_count": null,
      "outputs": []
    },
    {
      "cell_type": "code",
      "source": [
        "## count word occurrence in corpus\n",
        "\n",
        "def count_vocab(corpus):\n",
        "  vocab = defaultdict(int) # dictionary 형태로 word occurence를 기록\n",
        "  for doc in corpus:\n",
        "    for word in doc:\n",
        "      vocab[word] += 1\n",
        "\n",
        "  return vocab"
      ],
      "metadata": {
        "id": "vTT8x1YImv8S"
      },
      "execution_count": null,
      "outputs": []
    },
    {
      "cell_type": "code",
      "source": [
        "vocab_count = count_vocab(train_data)"
      ],
      "metadata": {
        "id": "7y76zEHArmov"
      },
      "execution_count": null,
      "outputs": []
    },
    {
      "cell_type": "code",
      "source": [
        "## 특정 빈도수 이상인 단어들만 고려\n",
        "# sparse한 단어는 무시\n",
        "\n",
        "def vocab_top(vocab,cnt):\n",
        "  return {voca: count for voca, count in vocab.items() if count > cnt}"
      ],
      "metadata": {
        "id": "ggNlOiM1rqgE"
      },
      "execution_count": null,
      "outputs": []
    },
    {
      "cell_type": "code",
      "source": [
        "vocab_count = vocab_top(vocab_count,cnt = 5)"
      ],
      "metadata": {
        "id": "Biqdzl-8sbsi"
      },
      "execution_count": null,
      "outputs": []
    },
    {
      "cell_type": "code",
      "source": [
        "## filter out low-occurrence words\n",
        "\n",
        "def filter_vocab(corpus, vocab):\n",
        "    vocab_set = set(vocab)\n",
        "    return [\n",
        "        [word for word in doc if word in vocab_set] for doc in corpus\n",
        "    ]"
      ],
      "metadata": {
        "id": "QKFK8zuwsg9t"
      },
      "execution_count": null,
      "outputs": []
    },
    {
      "cell_type": "code",
      "source": [
        "train_data = filter_vocab(train_data,vocab_count)\n",
        "test_data = filter_vocab(test_data,vocab_count)"
      ],
      "metadata": {
        "id": "d1PgDw-Ds5OL"
      },
      "execution_count": null,
      "outputs": []
    },
    {
      "cell_type": "code",
      "source": [
        "## construct voca-index-matching dictionary\n",
        "\n",
        "def voca_index(vocab):\n",
        "  vocab_to_index = {voca: i for i, voca in enumerate(vocab.keys())}\n",
        "  index_to_vocab = {i: voca for i, voca in enumerate(vocab.keys())}\n",
        "\n",
        "  return vocab_to_index, index_to_vocab"
      ],
      "metadata": {
        "id": "pl9QYCl0s82P"
      },
      "execution_count": null,
      "outputs": []
    },
    {
      "cell_type": "code",
      "source": [
        "v_t_i, i_t_v = voca_index(vocab_count)"
      ],
      "metadata": {
        "id": "4nJ2IzIttOtX"
      },
      "execution_count": null,
      "outputs": []
    },
    {
      "cell_type": "code",
      "source": [
        "## convert corpus-with-words to corpus-with-index\n",
        "\n",
        "def corpus_to_index(corpus,vocab_to_index):\n",
        "  return [[vocab_to_index[word] for word in doc] for doc in corpus]"
      ],
      "metadata": {
        "id": "bbbnUBVQtRba"
      },
      "execution_count": null,
      "outputs": []
    },
    {
      "cell_type": "code",
      "source": [
        "train_data_idx = corpus_to_index(train_data,v_t_i)\n",
        "test_data_idx = corpus_to_index(test_data,v_t_i)"
      ],
      "metadata": {
        "id": "ZlpCKhKvuR9j"
      },
      "execution_count": null,
      "outputs": []
    },
    {
      "cell_type": "markdown",
      "source": [
        "# **2. Modeling**"
      ],
      "metadata": {
        "id": "DJcoFD_oXUAU"
      }
    },
    {
      "cell_type": "code",
      "source": [
        "class LDA_CGS:\n",
        "  ### Initialization\n",
        "  def __init__(self, docs, num_topics=10, vocab=None, num_iter=100):\n",
        "    self.docs = docs\n",
        "    self.num_topics = num_topics\n",
        "    self.vocab = vocab\n",
        "    self.num_vocab = len(self.vocab)\n",
        "    self.num_docs = len(self.docs)\n",
        "    self.num_iter = num_iter\n",
        "\n",
        "    ## Initialize alpha and beta\n",
        "    self.alpha = np.ones(num_topics) * (1 / num_topics)\n",
        "    self.beta = np.ones((num_topics, self.num_vocab)) * (1 / self.num_vocab)\n",
        "    # Adding random noise to beta and normalizing\n",
        "    self.beta += np.random.rand(num_topics, self.num_vocab) * 0.01\n",
        "    self.beta /= np.sum(self.beta, axis=1)[:, np.newaxis]\n",
        "\n",
        "    ## Initialize counts\n",
        "    self.topic_word_counts = np.zeros((num_topics, self.num_vocab))  # 주제-단어 쌍\n",
        "    self.topic_counts = np.zeros(num_topics)  # 해당 주제에서의 단어 총합\n",
        "    self.doc_topic_counts = np.zeros((self.num_docs, num_topics))  # 문서-주제 할당\n",
        "    self.topics = []\n",
        "\n",
        "    # Initialize topics(z) for each word in the documents\n",
        "    self.initialize()\n",
        "\n",
        "\n",
        "  ### Initialize z: z^(0)\n",
        "  def initialize(self):\n",
        "    for d, doc in enumerate(self.docs):\n",
        "      current_doc_topics = []\n",
        "      for word_id in doc:\n",
        "        topic = np.random.choice(self.num_topics)\n",
        "        current_doc_topics.append(topic)\n",
        "\n",
        "        self.topic_word_counts[topic, word_id] += 1\n",
        "        self.topic_counts[topic] += 1\n",
        "        self.doc_topic_counts[d, topic] += 1\n",
        "\n",
        "      self.topics.append(current_doc_topics)\n",
        "\n",
        "\n",
        "  ### Sampling\n",
        "  def sample(self, d, word_id, topic):\n",
        "    # Z_(m,n)에 대한 topic 할당 정보 제거\n",
        "    self.topic_word_counts[topic, word_id] -= 1\n",
        "    self.topic_counts[topic] -= 1\n",
        "    self.doc_topic_counts[d, topic] -= 1\n",
        "\n",
        "    topic_probs = np.zeros(self.num_topics)  # 초기화\n",
        "\n",
        "    ## topic proportion 구하기\n",
        "    for topic in range(self.num_topics):\n",
        "      doc_topic_prob = (self.doc_topic_counts[d, topic] + self.alpha[topic]) / \\\n",
        "                        (len(self.topics[d]) - 1 + np.sum(self.alpha))\n",
        "\n",
        "      topic_word_prob = (self.topic_word_counts[topic, word_id] + self.beta[topic, word_id]) / \\\n",
        "                        (self.topic_counts[topic] + np.sum(self.beta[topic, :]))\n",
        "      topic_probs[topic] = doc_topic_prob * topic_word_prob\n",
        "    topic_probs /= np.sum(topic_probs)\n",
        "\n",
        "    # 새로운 topic sampling\n",
        "    new_topic = np.random.choice(self.num_topics, p=topic_probs)\n",
        "\n",
        "    # 주제 할당 정보 저장\n",
        "    self.topic_word_counts[new_topic, word_id] += 1\n",
        "    self.topic_counts[new_topic] += 1\n",
        "    self.doc_topic_counts[d, new_topic] += 1\n",
        "\n",
        "    return new_topic\n",
        "\n",
        "\n",
        "  ### Compute Log Likelihood\n",
        "  def compute_log_likelihood(self):\n",
        "    log_likelihood = 0\n",
        "    for d, doc in enumerate(self.docs):\n",
        "      for n, word_id in enumerate(doc):\n",
        "        word_likelihood = 0\n",
        "        for topic in range(self.num_topics):\n",
        "          word_likelihood += ((self.doc_topic_counts[d, topic] + self.alpha[topic]) /\n",
        "                              (len(doc) + np.sum(self.alpha) - 1)) * \\\n",
        "                              ((self.topic_word_counts[topic, word_id] + self.beta[topic, word_id]) /\n",
        "                              (self.topic_counts[topic] + np.sum(self.beta[topic, :])))\n",
        "        log_likelihood += np.log(word_likelihood)\n",
        "    return log_likelihood\n",
        "\n",
        "\n",
        "  ### Compute Perplexity\n",
        "  def compute_perplexity(self):\n",
        "    total_words = sum(len(doc) for doc in self.docs)\n",
        "    log_likelihood = self.compute_log_likelihood()\n",
        "    perplexity = np.exp(-log_likelihood / total_words)\n",
        "    return perplexity\n",
        "\n",
        "\n",
        "  ### Compute Topic Coherence\n",
        "  def compute_topic_coherence(self, top_n=10):\n",
        "    coherence = 0.0\n",
        "    for k in range(self.num_topics):\n",
        "      top_words = np.argsort(self.topic_word_counts[k, :])[-top_n:]\n",
        "      for i in range(top_n):\n",
        "        for j in range(i + 1, top_n):\n",
        "          word_i = top_words[i]\n",
        "          word_j = top_words[j]\n",
        "          coherence += np.log((self.topic_word_counts[k, word_j] + 1) /\n",
        "                              (self.topic_word_counts[:, word_j].sum()))\n",
        "    return coherence / self.num_topics\n",
        "\n",
        "\n",
        "\n",
        "  ### Run Gibbs Sampling\n",
        "  def run(self, tolerance=5):\n",
        "    self.log_likelihoods = []\n",
        "    self.perplexities = []\n",
        "    self.coherence_scores = []\n",
        "\n",
        "    prev_perplexity = float('inf')\n",
        "    count = 0\n",
        "\n",
        "    start_time = time.time()\n",
        "\n",
        "    for i in range(self.num_iter):\n",
        "      print(f\"=== Iteration: {i + 1} ===\")\n",
        "      for d, doc in enumerate(self.docs):\n",
        "        for n, word_id in enumerate(doc):\n",
        "          topic = self.topics[d][n]\n",
        "          new_topic = self.sample(d, word_id, topic)\n",
        "          self.topics[d][n] = new_topic\n",
        "\n",
        "      # Calculate metrics\n",
        "      log_likelihood = self.compute_log_likelihood()\n",
        "      perplexity = self.compute_perplexity()\n",
        "      coherence = self.compute_topic_coherence()\n",
        "\n",
        "      self.log_likelihoods.append(log_likelihood)\n",
        "      self.perplexities.append(perplexity)\n",
        "      self.coherence_scores.append(coherence)\n",
        "\n",
        "      # Output progress\n",
        "      duration = time.time() - start_time\n",
        "      print(f\"Duration: {duration:.2f} seconds\")\n",
        "      print(f\"Log-likelihood: {log_likelihood}\")\n",
        "      print(f\"Perplexity: {perplexity}\")\n",
        "      print(f\"Coherence: {coherence}\")\n",
        "      print()\n",
        "\n",
        "      # Early Stopping Check\n",
        "      if abs(prev_perplexity - perplexity) < 1e-4:\n",
        "        count += 1\n",
        "      else:\n",
        "        count = 0\n",
        "\n",
        "      if count >= tolerance:\n",
        "        print(f\"Converged after {i + 1} iterations.\")\n",
        "        break\n",
        "\n",
        "      prev_perplexity = perplexity\n",
        "\n",
        "\n",
        "  ### Plot results\n",
        "  def plot_result(self):\n",
        "    plt.figure(figsize=(18, 6))\n",
        "\n",
        "    # Log Likelihood 시각화\n",
        "    plt.subplot(1, 3, 1)\n",
        "    plt.plot(self.log_likelihoods, color='blue')\n",
        "    plt.title('Log Likelihood')\n",
        "    plt.xlabel('Iteration')\n",
        "    plt.ylabel('Log Likelihood')\n",
        "    plt.grid(True)\n",
        "\n",
        "    # Perplexity 시각화\n",
        "    plt.subplot(1, 3, 2)\n",
        "    plt.plot(self.perplexities, color='orange')\n",
        "    plt.title('Perplexity')\n",
        "    plt.xlabel('Iteration')\n",
        "    plt.ylabel('Perplexity')\n",
        "    plt.grid(True)\n",
        "\n",
        "    # Coherence 시각화\n",
        "    plt.subplot(1, 3, 3)\n",
        "    plt.plot(self.coherence_scores, color='green')\n",
        "    plt.title('Topic Coherence')\n",
        "    plt.xlabel('Iteration')\n",
        "    plt.ylabel('Coherence')\n",
        "    plt.grid(True)\n",
        "\n",
        "    plt.tight_layout()\n",
        "    plt.show()"
      ],
      "metadata": {
        "id": "3CSQSHuDySbB"
      },
      "execution_count": null,
      "outputs": []
    },
    {
      "cell_type": "markdown",
      "source": [
        "# **3. Run!!**"
      ],
      "metadata": {
        "id": "orJ0YeMgJhPm"
      }
    },
    {
      "cell_type": "code",
      "source": [
        "import time\n",
        "import numpy as np\n",
        "import seaborn as sns\n",
        "import matplotlib.pyplot as plt"
      ],
      "metadata": {
        "id": "9DB5eo9cXU34"
      },
      "execution_count": null,
      "outputs": []
    },
    {
      "cell_type": "code",
      "source": [
        "# 모델 객체 생성\n",
        "lda_cgs = LDA_CGS(docs=train_data_idx, num_topics=10, vocab = v_t_i, num_iter = 100)\n",
        "# Gibbs Sampling 실행\n",
        "lda_cgs.run()"
      ],
      "metadata": {
        "colab": {
          "base_uri": "https://localhost:8080/"
        },
        "id": "gcCR6g9NiNHF",
        "outputId": "aa42feea-1ac4-4321-f8d4-1705d9412cd0"
      },
      "execution_count": null,
      "outputs": [
        {
          "output_type": "stream",
          "name": "stdout",
          "text": [
            "=== Iteration: 1 ===\n",
            "Duration: 23.28 seconds\n",
            "Log-likelihood: -561804.3021396076\n",
            "Perplexity: 1471.4168313487792\n",
            "Coherence: -94.1097088427937\n",
            "\n",
            "=== Iteration: 2 ===\n",
            "Duration: 46.65 seconds\n",
            "Log-likelihood: -554354.0696760967\n",
            "Perplexity: 1335.7572964605358\n",
            "Coherence: -90.25360326649556\n",
            "\n",
            "=== Iteration: 3 ===\n",
            "Duration: 70.04 seconds\n",
            "Log-likelihood: -549454.211964485\n",
            "Perplexity: 1253.4288558292642\n",
            "Coherence: -85.66445151884753\n",
            "\n",
            "=== Iteration: 4 ===\n",
            "Duration: 92.83 seconds\n",
            "Log-likelihood: -545850.0570863918\n",
            "Perplexity: 1196.127974119316\n",
            "Coherence: -83.69987849133439\n",
            "\n",
            "=== Iteration: 5 ===\n",
            "Duration: 115.98 seconds\n",
            "Log-likelihood: -543042.398842872\n",
            "Perplexity: 1153.311587927521\n",
            "Coherence: -77.91636020938572\n",
            "\n",
            "=== Iteration: 6 ===\n",
            "Duration: 139.03 seconds\n",
            "Log-likelihood: -541005.0616456975\n",
            "Perplexity: 1123.2052429444568\n",
            "Coherence: -75.19692775423758\n",
            "\n",
            "=== Iteration: 7 ===\n",
            "Duration: 161.32 seconds\n",
            "Log-likelihood: -539093.7585094395\n",
            "Perplexity: 1095.676209592962\n",
            "Coherence: -70.44157204210121\n",
            "\n",
            "=== Iteration: 8 ===\n",
            "Duration: 185.94 seconds\n",
            "Log-likelihood: -537531.6883753553\n",
            "Perplexity: 1073.679085526642\n",
            "Coherence: -65.60561421915583\n",
            "\n",
            "=== Iteration: 9 ===\n",
            "Duration: 209.19 seconds\n",
            "Log-likelihood: -536162.2664514259\n",
            "Perplexity: 1054.7584240919584\n",
            "Coherence: -62.906374788453505\n",
            "\n",
            "=== Iteration: 10 ===\n",
            "Duration: 232.21 seconds\n",
            "Log-likelihood: -535099.0631396486\n",
            "Perplexity: 1040.2988699002815\n",
            "Coherence: -59.724496158440786\n",
            "\n",
            "=== Iteration: 11 ===\n",
            "Duration: 255.35 seconds\n",
            "Log-likelihood: -533988.7945187734\n",
            "Perplexity: 1025.4107658510948\n",
            "Coherence: -56.94017765428792\n",
            "\n",
            "=== Iteration: 12 ===\n",
            "Duration: 278.42 seconds\n",
            "Log-likelihood: -533168.8152839879\n",
            "Perplexity: 1014.5522462427627\n",
            "Coherence: -54.88435868551795\n",
            "\n",
            "=== Iteration: 13 ===\n",
            "Duration: 301.50 seconds\n",
            "Log-likelihood: -532309.7073221072\n",
            "Perplexity: 1003.2988932993459\n",
            "Coherence: -53.25423725357662\n",
            "\n",
            "=== Iteration: 14 ===\n",
            "Duration: 324.63 seconds\n",
            "Log-likelihood: -531559.6465710549\n",
            "Perplexity: 993.5760463526719\n",
            "Coherence: -53.67491320307879\n",
            "\n",
            "=== Iteration: 15 ===\n",
            "Duration: 347.86 seconds\n",
            "Log-likelihood: -530957.0162773776\n",
            "Perplexity: 985.8326091046833\n",
            "Coherence: -51.28837105743118\n",
            "\n",
            "=== Iteration: 16 ===\n",
            "Duration: 370.54 seconds\n",
            "Log-likelihood: -530404.2499135021\n",
            "Perplexity: 978.7829697182\n",
            "Coherence: -46.56587266221939\n",
            "\n",
            "=== Iteration: 17 ===\n",
            "Duration: 393.70 seconds\n",
            "Log-likelihood: -529859.1787386719\n",
            "Perplexity: 971.8808354550918\n",
            "Coherence: -45.90535056532051\n",
            "\n",
            "=== Iteration: 18 ===\n",
            "Duration: 416.83 seconds\n",
            "Log-likelihood: -529492.9463725203\n",
            "Perplexity: 967.2706624975771\n",
            "Coherence: -45.89006833111219\n",
            "\n",
            "=== Iteration: 19 ===\n",
            "Duration: 439.89 seconds\n",
            "Log-likelihood: -528955.0706185955\n",
            "Perplexity: 960.5394387222046\n",
            "Coherence: -43.78515406847718\n",
            "\n",
            "=== Iteration: 20 ===\n",
            "Duration: 463.06 seconds\n",
            "Log-likelihood: -528533.0356421662\n",
            "Perplexity: 955.2907123047049\n",
            "Coherence: -42.711470887983914\n",
            "\n",
            "=== Iteration: 21 ===\n",
            "Duration: 486.29 seconds\n",
            "Log-likelihood: -528260.9833214373\n",
            "Perplexity: 951.9224895772844\n",
            "Coherence: -42.84810497101441\n",
            "\n",
            "=== Iteration: 22 ===\n",
            "Duration: 509.27 seconds\n",
            "Log-likelihood: -527970.9233561828\n",
            "Perplexity: 948.3443979944316\n",
            "Coherence: -42.3549074867429\n",
            "\n",
            "=== Iteration: 23 ===\n",
            "Duration: 532.37 seconds\n",
            "Log-likelihood: -527602.3557859655\n",
            "Perplexity: 943.8172561497432\n",
            "Coherence: -38.563097596276535\n",
            "\n",
            "=== Iteration: 24 ===\n",
            "Duration: 554.59 seconds\n",
            "Log-likelihood: -527214.5866499296\n",
            "Perplexity: 939.0775877084108\n",
            "Coherence: -38.298584540573316\n",
            "\n",
            "=== Iteration: 25 ===\n",
            "Duration: 577.68 seconds\n",
            "Log-likelihood: -526890.2673362568\n",
            "Perplexity: 935.1317443487983\n",
            "Coherence: -40.903860766991194\n",
            "\n",
            "=== Iteration: 26 ===\n",
            "Duration: 600.93 seconds\n",
            "Log-likelihood: -526651.131051265\n",
            "Perplexity: 932.2329070744992\n",
            "Coherence: -40.599378643945236\n",
            "\n",
            "=== Iteration: 27 ===\n",
            "Duration: 634.17 seconds\n",
            "Log-likelihood: -526401.1400994208\n",
            "Perplexity: 929.2120951131719\n",
            "Coherence: -38.37928681936947\n",
            "\n",
            "=== Iteration: 28 ===\n",
            "Duration: 659.67 seconds\n",
            "Log-likelihood: -526160.7086448222\n",
            "Perplexity: 926.3160318310938\n",
            "Coherence: -37.04226562803723\n",
            "\n",
            "=== Iteration: 29 ===\n",
            "Duration: 688.74 seconds\n",
            "Log-likelihood: -525881.988278162\n",
            "Perplexity: 922.9700628613202\n",
            "Coherence: -38.5892459856001\n",
            "\n",
            "=== Iteration: 30 ===\n",
            "Duration: 715.13 seconds\n",
            "Log-likelihood: -525667.9942524891\n",
            "Perplexity: 920.4093217734923\n",
            "Coherence: -37.2468987431305\n",
            "\n",
            "=== Iteration: 31 ===\n",
            "Duration: 743.00 seconds\n",
            "Log-likelihood: -525391.7818100239\n",
            "Perplexity: 917.1145499989318\n",
            "Coherence: -37.350470550332965\n",
            "\n",
            "=== Iteration: 32 ===\n",
            "Duration: 765.98 seconds\n",
            "Log-likelihood: -525269.8193567486\n",
            "Perplexity: 915.6634895409761\n",
            "Coherence: -36.32723577220477\n",
            "\n",
            "=== Iteration: 33 ===\n",
            "Duration: 791.60 seconds\n",
            "Log-likelihood: -525150.9213008537\n",
            "Perplexity: 914.2510981531722\n",
            "Coherence: -35.70259942508552\n",
            "\n",
            "=== Iteration: 34 ===\n",
            "Duration: 814.19 seconds\n",
            "Log-likelihood: -524938.8250284474\n",
            "Perplexity: 911.737011278176\n",
            "Coherence: -36.1140321010897\n",
            "\n",
            "=== Iteration: 35 ===\n",
            "Duration: 837.68 seconds\n",
            "Log-likelihood: -524869.0128887787\n",
            "Perplexity: 910.9110050905789\n",
            "Coherence: -35.01665616711845\n",
            "\n",
            "=== Iteration: 36 ===\n",
            "Duration: 860.99 seconds\n",
            "Log-likelihood: -524788.0670384641\n",
            "Perplexity: 909.9542034271407\n",
            "Coherence: -36.02265004329592\n",
            "\n",
            "=== Iteration: 37 ===\n",
            "Duration: 884.15 seconds\n",
            "Log-likelihood: -524710.015821588\n",
            "Perplexity: 909.0325688575365\n",
            "Coherence: -35.508547684972925\n",
            "\n",
            "=== Iteration: 38 ===\n",
            "Duration: 907.13 seconds\n",
            "Log-likelihood: -524626.4907921723\n",
            "Perplexity: 908.0473330358773\n",
            "Coherence: -32.83351734912013\n",
            "\n",
            "=== Iteration: 39 ===\n",
            "Duration: 930.37 seconds\n",
            "Log-likelihood: -524441.5681270426\n",
            "Perplexity: 905.8698390622408\n",
            "Coherence: -35.10914249305805\n",
            "\n",
            "=== Iteration: 40 ===\n",
            "Duration: 953.51 seconds\n",
            "Log-likelihood: -524324.5921988433\n",
            "Perplexity: 904.4951257854333\n",
            "Coherence: -34.90115498235359\n",
            "\n",
            "=== Iteration: 41 ===\n",
            "Duration: 976.51 seconds\n",
            "Log-likelihood: -524231.65177925007\n",
            "Perplexity: 903.4043677188754\n",
            "Coherence: -34.63428523111088\n",
            "\n",
            "=== Iteration: 42 ===\n",
            "Duration: 999.64 seconds\n",
            "Log-likelihood: -524057.3801999571\n",
            "Perplexity: 901.3626434085537\n",
            "Coherence: -35.22263391362846\n",
            "\n",
            "=== Iteration: 43 ===\n",
            "Duration: 1021.87 seconds\n",
            "Log-likelihood: -524012.3239260866\n",
            "Perplexity: 900.835525976272\n",
            "Coherence: -35.07917355813946\n",
            "\n",
            "=== Iteration: 44 ===\n",
            "Duration: 1045.01 seconds\n",
            "Log-likelihood: -523910.2013944817\n",
            "Perplexity: 899.6419260868469\n",
            "Coherence: -36.707767278046745\n",
            "\n",
            "=== Iteration: 45 ===\n",
            "Duration: 1068.00 seconds\n",
            "Log-likelihood: -523833.73777616024\n",
            "Perplexity: 898.7492609996093\n",
            "Coherence: -35.366381960699314\n",
            "\n",
            "=== Iteration: 46 ===\n",
            "Duration: 1091.28 seconds\n",
            "Log-likelihood: -523730.1470415672\n",
            "Perplexity: 897.5413164089846\n",
            "Coherence: -35.7467804602353\n",
            "\n",
            "=== Iteration: 47 ===\n",
            "Duration: 1114.38 seconds\n",
            "Log-likelihood: -523625.5695072112\n",
            "Perplexity: 896.3235117799736\n",
            "Coherence: -35.47668768314561\n",
            "\n",
            "=== Iteration: 48 ===\n",
            "Duration: 1137.47 seconds\n",
            "Log-likelihood: -523515.69961189607\n",
            "Perplexity: 895.0458574968377\n",
            "Coherence: -36.27806115641241\n",
            "\n",
            "=== Iteration: 49 ===\n",
            "Duration: 1160.74 seconds\n",
            "Log-likelihood: -523478.8624148232\n",
            "Perplexity: 894.6178931548858\n",
            "Coherence: -35.32817530624429\n",
            "\n",
            "=== Iteration: 50 ===\n",
            "Duration: 1183.76 seconds\n",
            "Log-likelihood: -523386.4137269354\n",
            "Perplexity: 893.5447509095369\n",
            "Coherence: -34.2705623094611\n",
            "\n",
            "=== Iteration: 51 ===\n",
            "Duration: 1206.91 seconds\n",
            "Log-likelihood: -523373.21040987945\n",
            "Perplexity: 893.3915921969507\n",
            "Coherence: -34.63842759470473\n",
            "\n",
            "=== Iteration: 52 ===\n",
            "Duration: 1229.32 seconds\n",
            "Log-likelihood: -523303.63087453647\n",
            "Perplexity: 892.5849019476403\n",
            "Coherence: -34.0045237377965\n",
            "\n",
            "=== Iteration: 53 ===\n",
            "Duration: 1252.26 seconds\n",
            "Log-likelihood: -523187.5358245606\n",
            "Perplexity: 891.2405420495493\n",
            "Coherence: -34.21295505107807\n",
            "\n",
            "=== Iteration: 54 ===\n",
            "Duration: 1275.62 seconds\n",
            "Log-likelihood: -523118.5113193874\n",
            "Perplexity: 890.4422106280977\n",
            "Coherence: -33.353249147693745\n",
            "\n",
            "=== Iteration: 55 ===\n",
            "Duration: 1298.54 seconds\n",
            "Log-likelihood: -523118.5913836864\n",
            "Perplexity: 890.4431362304301\n",
            "Coherence: -34.56780333117417\n",
            "\n",
            "=== Iteration: 56 ===\n",
            "Duration: 1321.74 seconds\n",
            "Log-likelihood: -522954.13089848234\n",
            "Perplexity: 888.543879147713\n",
            "Coherence: -35.2046555023229\n",
            "\n",
            "=== Iteration: 57 ===\n",
            "Duration: 1344.94 seconds\n",
            "Log-likelihood: -522868.0702175828\n",
            "Perplexity: 887.5516302546578\n",
            "Coherence: -35.06815926972248\n",
            "\n",
            "=== Iteration: 58 ===\n",
            "Duration: 1368.16 seconds\n",
            "Log-likelihood: -522779.09993549576\n",
            "Perplexity: 886.5269995690855\n",
            "Coherence: -34.128943678667454\n",
            "\n",
            "=== Iteration: 59 ===\n",
            "Duration: 1391.38 seconds\n",
            "Log-likelihood: -522726.1728813405\n",
            "Perplexity: 885.9180237433928\n",
            "Coherence: -35.19554593107269\n",
            "\n",
            "=== Iteration: 60 ===\n",
            "Duration: 1414.56 seconds\n",
            "Log-likelihood: -522731.45488460775\n",
            "Perplexity: 885.9787793923526\n",
            "Coherence: -33.278050692960996\n",
            "\n",
            "=== Iteration: 61 ===\n",
            "Duration: 1437.28 seconds\n",
            "Log-likelihood: -522665.54273783177\n",
            "Perplexity: 885.2209306450093\n",
            "Coherence: -32.80272321595891\n",
            "\n",
            "=== Iteration: 62 ===\n",
            "Duration: 1460.28 seconds\n",
            "Log-likelihood: -522581.047528221\n",
            "Perplexity: 884.2503644960073\n",
            "Coherence: -33.90763131622101\n",
            "\n",
            "=== Iteration: 63 ===\n",
            "Duration: 1483.41 seconds\n",
            "Log-likelihood: -522568.6020258964\n",
            "Perplexity: 884.1074974184246\n",
            "Coherence: -35.329254148248715\n",
            "\n",
            "=== Iteration: 64 ===\n",
            "Duration: 1506.47 seconds\n",
            "Log-likelihood: -522518.88025831874\n",
            "Perplexity: 883.5369509364076\n",
            "Coherence: -34.3668700209267\n",
            "\n",
            "=== Iteration: 65 ===\n",
            "Duration: 1529.37 seconds\n",
            "Log-likelihood: -522498.4324969866\n",
            "Perplexity: 883.3024241739964\n",
            "Coherence: -33.087927113321214\n",
            "\n",
            "=== Iteration: 66 ===\n",
            "Duration: 1552.40 seconds\n",
            "Log-likelihood: -522449.06207360426\n",
            "Perplexity: 882.7364238711494\n",
            "Coherence: -30.30307940949395\n",
            "\n",
            "=== Iteration: 67 ===\n",
            "Duration: 1575.57 seconds\n",
            "Log-likelihood: -522457.8100894388\n",
            "Perplexity: 882.8366878281598\n",
            "Coherence: -33.50751507778335\n",
            "\n",
            "=== Iteration: 68 ===\n",
            "Duration: 1598.78 seconds\n",
            "Log-likelihood: -522423.8141561336\n",
            "Perplexity: 882.4471128351197\n",
            "Coherence: -30.567281493131247\n",
            "\n",
            "=== Iteration: 69 ===\n",
            "Duration: 1622.10 seconds\n",
            "Log-likelihood: -522400.1253673007\n",
            "Perplexity: 882.175753772714\n",
            "Coherence: -31.938424891464496\n",
            "\n",
            "=== Iteration: 70 ===\n",
            "Duration: 1644.44 seconds\n",
            "Log-likelihood: -522276.2868406561\n",
            "Perplexity: 880.7585203745665\n",
            "Coherence: -32.54444074851155\n",
            "\n",
            "=== Iteration: 71 ===\n",
            "Duration: 1667.35 seconds\n",
            "Log-likelihood: -522201.62393090245\n",
            "Perplexity: 879.9051631733566\n",
            "Coherence: -32.99524500857055\n",
            "\n",
            "=== Iteration: 72 ===\n",
            "Duration: 1690.42 seconds\n",
            "Log-likelihood: -522190.25101433805\n",
            "Perplexity: 879.7752493912674\n",
            "Coherence: -33.70065202485822\n",
            "\n",
            "=== Iteration: 73 ===\n",
            "Duration: 1713.35 seconds\n",
            "Log-likelihood: -522065.05696897034\n",
            "Perplexity: 878.3464144012034\n",
            "Coherence: -33.35051407148062\n",
            "\n",
            "=== Iteration: 74 ===\n",
            "Duration: 1736.57 seconds\n",
            "Log-likelihood: -522056.1327274187\n",
            "Perplexity: 878.2446510126198\n",
            "Coherence: -32.968100771703135\n",
            "\n",
            "=== Iteration: 75 ===\n",
            "Duration: 1759.68 seconds\n",
            "Log-likelihood: -521964.0322472778\n",
            "Perplexity: 877.1951149906317\n",
            "Coherence: -34.36241131464972\n",
            "\n",
            "=== Iteration: 76 ===\n",
            "Duration: 1782.86 seconds\n",
            "Log-likelihood: -521925.22065091133\n",
            "Perplexity: 876.7532110590928\n",
            "Coherence: -32.222094654351196\n",
            "\n",
            "=== Iteration: 77 ===\n",
            "Duration: 1806.15 seconds\n",
            "Log-likelihood: -521878.5940646014\n",
            "Perplexity: 876.2226209987434\n",
            "Coherence: -32.538428040048174\n",
            "\n",
            "=== Iteration: 78 ===\n",
            "Duration: 1829.36 seconds\n",
            "Log-likelihood: -521764.3732967537\n",
            "Perplexity: 874.9241952213291\n",
            "Coherence: -33.47765410345536\n",
            "\n",
            "=== Iteration: 79 ===\n",
            "Duration: 1851.67 seconds\n",
            "Log-likelihood: -521741.5581419052\n",
            "Perplexity: 874.6650703513325\n",
            "Coherence: -33.85285411144573\n",
            "\n",
            "=== Iteration: 80 ===\n",
            "Duration: 1874.54 seconds\n",
            "Log-likelihood: -521772.24199612834\n",
            "Perplexity: 875.0135823802578\n",
            "Coherence: -33.534133833545255\n",
            "\n",
            "=== Iteration: 81 ===\n",
            "Duration: 1897.54 seconds\n",
            "Log-likelihood: -521715.1949541608\n",
            "Perplexity: 874.3657439989493\n",
            "Coherence: -32.122471885576246\n",
            "\n",
            "=== Iteration: 82 ===\n",
            "Duration: 1920.65 seconds\n",
            "Log-likelihood: -521579.4503925912\n",
            "Perplexity: 872.8261276946455\n",
            "Coherence: -31.79383686460911\n",
            "\n",
            "=== Iteration: 83 ===\n",
            "Duration: 1943.75 seconds\n",
            "Log-likelihood: -521614.6454294064\n",
            "Perplexity: 873.225049668597\n",
            "Coherence: -30.346448316878814\n",
            "\n",
            "=== Iteration: 84 ===\n",
            "Duration: 1966.89 seconds\n",
            "Log-likelihood: -521521.93498817395\n",
            "Perplexity: 872.1746053039113\n",
            "Coherence: -30.28154902032917\n",
            "\n",
            "=== Iteration: 85 ===\n",
            "Duration: 1989.92 seconds\n",
            "Log-likelihood: -521482.87728845497\n",
            "Perplexity: 871.7324451929276\n",
            "Coherence: -30.615329830679336\n",
            "\n",
            "=== Iteration: 86 ===\n",
            "Duration: 2012.81 seconds\n",
            "Log-likelihood: -521504.71607787826\n",
            "Perplexity: 871.9796477230605\n",
            "Coherence: -31.46904013353872\n",
            "\n",
            "=== Iteration: 87 ===\n",
            "Duration: 2035.39 seconds\n",
            "Log-likelihood: -521339.31091872026\n",
            "Perplexity: 870.1091002509523\n",
            "Coherence: -28.814683842119404\n",
            "\n",
            "=== Iteration: 88 ===\n",
            "Duration: 2057.94 seconds\n",
            "Log-likelihood: -521359.4724126155\n",
            "Perplexity: 870.3368892944387\n",
            "Coherence: -28.769754359827953\n",
            "\n",
            "=== Iteration: 89 ===\n",
            "Duration: 2080.87 seconds\n",
            "Log-likelihood: -521341.7354229899\n",
            "Perplexity: 870.1364896856837\n",
            "Coherence: -30.91638648231352\n",
            "\n",
            "=== Iteration: 90 ===\n",
            "Duration: 2103.80 seconds\n",
            "Log-likelihood: -521371.3280886876\n",
            "Perplexity: 870.4708652029362\n",
            "Coherence: -29.285109704044213\n",
            "\n",
            "=== Iteration: 91 ===\n",
            "Duration: 2126.78 seconds\n",
            "Log-likelihood: -521333.3759392738\n",
            "Perplexity: 870.0420568915258\n",
            "Coherence: -31.805383438627935\n",
            "\n",
            "=== Iteration: 92 ===\n",
            "Duration: 2149.64 seconds\n",
            "Log-likelihood: -521325.03368806565\n",
            "Perplexity: 869.9478289809448\n",
            "Coherence: -30.464934122730604\n",
            "\n",
            "=== Iteration: 93 ===\n",
            "Duration: 2172.92 seconds\n",
            "Log-likelihood: -521205.39817663556\n",
            "Perplexity: 868.5976366091579\n",
            "Coherence: -30.86035991227873\n",
            "\n",
            "=== Iteration: 94 ===\n",
            "Duration: 2195.95 seconds\n",
            "Log-likelihood: -521166.9005853062\n",
            "Perplexity: 868.163603118826\n",
            "Coherence: -30.080851689575248\n",
            "\n",
            "=== Iteration: 95 ===\n",
            "Duration: 2218.57 seconds\n",
            "Log-likelihood: -521094.7302234498\n",
            "Perplexity: 867.3505169439961\n",
            "Coherence: -31.91261274849058\n",
            "\n",
            "=== Iteration: 96 ===\n",
            "Duration: 2241.32 seconds\n",
            "Log-likelihood: -521010.74616998824\n",
            "Perplexity: 866.4052939178712\n",
            "Coherence: -30.269116002988653\n",
            "\n",
            "=== Iteration: 97 ===\n",
            "Duration: 2264.38 seconds\n",
            "Log-likelihood: -520958.687069759\n",
            "Perplexity: 865.819896819659\n",
            "Coherence: -31.484360360115478\n",
            "\n",
            "=== Iteration: 98 ===\n",
            "Duration: 2287.17 seconds\n",
            "Log-likelihood: -520999.9204332512\n",
            "Perplexity: 866.2835274779973\n",
            "Coherence: -32.409239266814666\n",
            "\n",
            "=== Iteration: 99 ===\n",
            "Duration: 2310.20 seconds\n",
            "Log-likelihood: -520835.1971691434\n",
            "Perplexity: 864.4328520782751\n",
            "Coherence: -31.813564115624693\n",
            "\n",
            "=== Iteration: 100 ===\n",
            "Duration: 2333.34 seconds\n",
            "Log-likelihood: -520805.09652994626\n",
            "Perplexity: 864.095097151307\n",
            "Coherence: -32.054532926791765\n",
            "\n"
          ]
        }
      ]
    },
    {
      "cell_type": "markdown",
      "source": [
        "# **4. Results**"
      ],
      "metadata": {
        "id": "WBV4xbq7tIcp"
      }
    },
    {
      "cell_type": "code",
      "source": [
        "# 결과 시각화\n",
        "lda_cgs.plot_result()"
      ],
      "metadata": {
        "colab": {
          "base_uri": "https://localhost:8080/",
          "height": 504
        },
        "id": "8K5RlSJ_lzN8",
        "outputId": "6f4c23cd-65dd-4319-e815-b95440012d91"
      },
      "execution_count": null,
      "outputs": [
        {
          "output_type": "display_data",
          "data": {
            "text/plain": [
              "<Figure size 1800x600 with 3 Axes>"
            ],
            "image/png": "[encoded data removed]"
          },
          "metadata": {}
        }
      ]
    },
    {
      "cell_type": "markdown",
      "source": [
        "## **4-1. topic별 상위 단어 시각화**"
      ],
      "metadata": {
        "id": "PprVZRMatlVy"
      }
    },
    {
      "cell_type": "code",
      "source": [
        "def plot_top_words(lda_model, index_to_vocab, top_n=10):\n",
        "  fig, axes = plt.subplots(2, 5, figsize=(15, 6), sharex=True)\n",
        "  axes = axes.flatten()\n",
        "  sns.set_palette(\"Set2\", top_n)  # 색상 팔레트 설정 (Hue-Saturation-Lightness)\n",
        "\n",
        "  for topic_idx, topic in enumerate(lda_model.topic_word_counts):\n",
        "    top_word_indices = topic.argsort()[-top_n:][::-1]\n",
        "    top_words = [index_to_vocab[i] for i in top_word_indices]\n",
        "    weights = topic[top_word_indices]\n",
        "\n",
        "    ax = axes[topic_idx]\n",
        "    ax.barh(top_words, weights, color=sns.color_palette(\"husl\", top_n))\n",
        "    ax.set_title(f'Topic {topic_idx + 1}')\n",
        "    ax.invert_yaxis()\n",
        "\n",
        "  plt.tight_layout()\n",
        "  plt.show()"
      ],
      "metadata": {
        "id": "Htr64HHyGIlX"
      },
      "execution_count": null,
      "outputs": []
    },
    {
      "cell_type": "code",
      "source": [
        "plot_top_words(lda_cgs, i_t_v, top_n=10)"
      ],
      "metadata": {
        "colab": {
          "base_uri": "https://localhost:8080/",
          "height": 602
        },
        "id": "C6IIWzxrGjc1",
        "outputId": "22cd24c6-7dcc-4172-c6c7-cec4f9fb42a4"
      },
      "execution_count": null,
      "outputs": [
        {
          "output_type": "display_data",
          "data": {
            "text/plain": [
              "<Figure size 1500x600 with 10 Axes>"
            ],
            "image/png": "[encoded data removed]"
          },
          "metadata": {}
        }
      ]
    },
    {
      "cell_type": "markdown",
      "source": [
        "## **4-2. Topic 분포 시각화**"
      ],
      "metadata": {
        "id": "rc1edPQCuLTN"
      }
    },
    {
      "cell_type": "code",
      "source": [
        "def plot_doc_topics(lda_model, num_docs=15, top_n=10):\n",
        "  num_docs = min(num_docs, lda_model.num_docs)  # 지정된 문서 개수가 전체 문서 수를 넘지 않도록 설정\n",
        "  num_rows = (num_docs + 4) // 5  # 문서 개수에 따라 필요한 행 수 계산\n",
        "  num_topics = lda_model.num_topics\n",
        "\n",
        "  fig, axes = plt.subplots(num_rows, 5, figsize=(20, 4 * num_rows), sharey=True)\n",
        "  sns.set_palette(\"Set2\", num_topics)\n",
        "\n",
        "  # axes가 2D 배열이 아니라면, 단일 subplot인 경우를 처리\n",
        "  if num_rows == 1:\n",
        "    axes = np.expand_dims(axes, axis=0)\n",
        "\n",
        "  # 주제 번호를 1부터 num_topics까지 순서대로 설정\n",
        "  topic_labels = [f'{i + 1}' for i in range(num_topics)]\n",
        "\n",
        "  for idx in range(num_docs):\n",
        "    doc_topic_probs = lda_model.doc_topic_counts[idx, :]\n",
        "    top_topic_indices = doc_topic_probs.argsort()[-top_n:][::-1]\n",
        "    weights = doc_topic_probs[top_topic_indices]\n",
        "\n",
        "    row_idx = idx // 5\n",
        "    col_idx = idx % 5\n",
        "    ax = axes[row_idx, col_idx]\n",
        "\n",
        "    ax.bar(topic_labels, weights, color=sns.color_palette(\"Set2\", num_topics))\n",
        "    ax.set_title(f'Doc {idx + 1}', fontsize=10)\n",
        "    ax.set_xlabel('Topics', fontsize=8)\n",
        "    ax.set_ylabel('Proportion', fontsize=8)\n",
        "    ax.set_xticks(range(num_topics))\n",
        "    ax.set_xticklabels(topic_labels, fontsize=8)\n",
        "\n",
        "  plt.tight_layout()\n",
        "  plt.show()"
      ],
      "metadata": {
        "id": "FwIh06YORqpL"
      },
      "execution_count": null,
      "outputs": []
    },
    {
      "cell_type": "code",
      "source": [
        "plot_doc_topics(lda_cgs, num_docs=15, top_n = 10)"
      ],
      "metadata": {
        "colab": {
          "base_uri": "https://localhost:8080/",
          "height": 899
        },
        "id": "vBzWKC7kRsvX",
        "outputId": "db1cbfcf-46ae-486f-97ee-2e456cda6dfd"
      },
      "execution_count": null,
      "outputs": [
        {
          "output_type": "display_data",
          "data": {
            "text/plain": [
              "<Figure size 2000x1200 with 15 Axes>"
            ],
            "image/png": "[encoded data removed]"
          },
          "metadata": {}
        }
      ]
    },
    {
      "cell_type": "markdown",
      "source": [
        "## **4-3. Topic 할당 시각화**"
      ],
      "metadata": {
        "id": "ioRJIihPRuvT"
      }
    },
    {
      "cell_type": "code",
      "source": [
        "from matplotlib.colors import to_hex\n",
        "from IPython.core.display import HTML, display"
      ],
      "metadata": {
        "id": "p474_OqZWwXQ"
      },
      "execution_count": null,
      "outputs": []
    },
    {
      "cell_type": "code",
      "source": [
        "## Topic 별 색상 지정\n",
        "\n",
        "def generate_topic_colors(num_topics):\n",
        "  # Generate a color for each topic\n",
        "  cmap = plt.get_cmap(\"Set2\", num_topics)\n",
        "  return [to_hex(cmap(i)) for i in range(num_topics)]"
      ],
      "metadata": {
        "id": "W9byUet3WzPc"
      },
      "execution_count": null,
      "outputs": []
    },
    {
      "cell_type": "code",
      "source": [
        "## 단어의 topic 할당 확인\n",
        "\n",
        "def get_topic_for_word(word, lda_model, vocab_to_index):\n",
        "  word_id = vocab_to_index.get(word)\n",
        "  if word_id is not None:\n",
        "    # Find the topic with the highest probability for the word\n",
        "    topic_probs = lda_model.topic_word_counts[:, word_id]\n",
        "    return np.argmax(topic_probs)\n",
        "  return None"
      ],
      "metadata": {
        "id": "UpNNrL1JW4ZJ"
      },
      "execution_count": null,
      "outputs": []
    },
    {
      "cell_type": "code",
      "source": [
        "def visualize_document(document, lda_model, vocab_to_index, topic_colors):\n",
        "  html_content = '<html><head><style>'\n",
        "  html_content += 'body {font-family: Arial, sans-serif;} '\n",
        "  html_content += '.word {padding: 2px; margin: 2px; display: inline-block;} '\n",
        "  html_content += '</style></head><body>'\n",
        "\n",
        "  # Get the topic for each word in the document\n",
        "  for word in document:\n",
        "    word_id = vocab_to_index.get(word)\n",
        "    if word_id is not None:\n",
        "      topic = get_topic_for_word(word, lda_model, vocab_to_index)\n",
        "      if topic is not None:\n",
        "        color = topic_colors[topic]\n",
        "        html_content += f'<span class=\"word\" style=\"color: {color};\">{word}</span>'\n",
        "      else:\n",
        "        html_content += f'<span class=\"word\">{word}</span>'\n",
        "    else:\n",
        "        html_content += f'<span class=\"word\">{word}</span>'\n",
        "\n",
        "  html_content += '</body></html>'\n",
        "\n",
        "  # Display the HTML content inline\n",
        "  display(HTML(html_content))"
      ],
      "metadata": {
        "id": "zN-sAJ6TYEN7"
      },
      "execution_count": null,
      "outputs": []
    },
    {
      "cell_type": "code",
      "source": [
        "topic_colors = generate_topic_colors(num_topics = 10)\n",
        "\n",
        "selected_docs = org_train_data[:15]\n",
        "for i, doc in enumerate(selected_docs):\n",
        "  print(f\"Document {i + 1}\")\n",
        "  visualize_document(doc, lda_cgs, v_t_i, topic_colors)"
      ],
      "metadata": {
        "colab": {
          "base_uri": "https://localhost:8080/",
          "height": 695
        },
        "id": "X-rdawe0YLuT",
        "outputId": "f70ad78e-07b6-4b59-9077-87c39d4d4077"
      },
      "execution_count": null,
      "outputs": [
        {
          "output_type": "stream",
          "name": "stdout",
          "text": [
            "Document 1\n"
          ]
        },
        {
          "output_type": "display_data",
          "data": {
            "text/plain": [
              "<IPython.core.display.HTML object>"
            ],
            "text/html": [
              "<html><head><style>body {font-family: Arial, sans-serif;} .word {padding: 2px; margin: 2px; display: inline-block;} </style></head><body><span class=\"word\" style=\"color: #e78ac3;\">confidence</span><span class=\"word\">in</span><span class=\"word\">the</span><span class=\"word\" style=\"color: #ffd92f;\">pound</span><span class=\"word\">is</span><span class=\"word\" style=\"color: #66c2a5;\">widely</span><span class=\"word\" style=\"color: #a6d854;\">expected</span><span class=\"word\">to</span><span class=\"word\" style=\"color: #e78ac3;\">take</span><span class=\"word\">another</span><span class=\"word\" style=\"color: #a6d854;\">sharp</span><span class=\"word\">dive</span><span class=\"word\">if</span><span class=\"word\" style=\"color: #8da0cb;\">trade</span><span class=\"word\" style=\"color: #ffd92f;\">figures</span><span class=\"word\">for</span><span class=\"word\" style=\"color: #ffd92f;\">september</span><span class=\"word\">,</span><span class=\"word\">due</span><span class=\"word\">for</span><span class=\"word\" style=\"color: #e78ac3;\">release</span><span class=\"word\" style=\"color: #fc8d62;\">tomorrow</span><span class=\"word\">,</span><span class=\"word\">fail</span><span class=\"word\">to</span><span class=\"word\" style=\"color: #8da0cb;\">show</span><span class=\"word\">a</span><span class=\"word\" style=\"color: #e78ac3;\">substantial</span><span class=\"word\" style=\"color: #fc8d62;\">improvement</span><span class=\"word\">from</span><span class=\"word\" style=\"color: #fc8d62;\">july</span><span class=\"word\">and</span><span class=\"word\" style=\"color: #fc8d62;\">august</span><span class=\"word\">'s</span><span class=\"word\">near-record</span><span class=\"word\">deficits</span><span class=\"word\">.</span></body></html>"
            ]
          },
          "metadata": {}
        },
        {
          "output_type": "stream",
          "name": "stdout",
          "text": [
            "Document 2\n"
          ]
        },
        {
          "output_type": "display_data",
          "data": {
            "text/plain": [
              "<IPython.core.display.HTML object>"
            ],
            "text/html": [
              "<html><head><style>body {font-family: Arial, sans-serif;} .word {padding: 2px; margin: 2px; display: inline-block;} </style></head><body><span class=\"word\" style=\"color: #ffd92f;\">chancellor</span><span class=\"word\">of</span><span class=\"word\">the</span><span class=\"word\">exchequer</span><span class=\"word\">nigel</span><span class=\"word\" style=\"color: #b3b3b3;\">lawson</span><span class=\"word\">'s</span><span class=\"word\">restated</span><span class=\"word\" style=\"color: #66c2a5;\">commitment</span><span class=\"word\">to</span><span class=\"word\">a</span><span class=\"word\" style=\"color: #66c2a5;\">firm</span><span class=\"word\" style=\"color: #b3b3b3;\">monetary</span><span class=\"word\" style=\"color: #ffd92f;\">policy</span><span class=\"word\">has</span><span class=\"word\" style=\"color: #ffd92f;\">helped</span><span class=\"word\">to</span><span class=\"word\" style=\"color: #b3b3b3;\">prevent</span><span class=\"word\">a</span><span class=\"word\">freefall</span><span class=\"word\">in</span><span class=\"word\" style=\"color: #ffd92f;\">sterling</span><span class=\"word\">over</span><span class=\"word\">the</span><span class=\"word\" style=\"color: #b3b3b3;\">past</span><span class=\"word\">week</span><span class=\"word\">.</span></body></html>"
            ]
          },
          "metadata": {}
        },
        {
          "output_type": "stream",
          "name": "stdout",
          "text": [
            "Document 3\n"
          ]
        },
        {
          "output_type": "display_data",
          "data": {
            "text/plain": [
              "<IPython.core.display.HTML object>"
            ],
            "text/html": [
              "<html><head><style>body {font-family: Arial, sans-serif;} .word {padding: 2px; margin: 2px; display: inline-block;} </style></head><body><span class=\"word\">but</span><span class=\"word\" style=\"color: #66c2a5;\">analysts</span><span class=\"word\">reckon</span><span class=\"word\" style=\"color: #b3b3b3;\">underlying</span><span class=\"word\" style=\"color: #66c2a5;\">support</span><span class=\"word\">for</span><span class=\"word\" style=\"color: #ffd92f;\">sterling</span><span class=\"word\">has</span><span class=\"word\">been</span><span class=\"word\">eroded</span><span class=\"word\">by</span><span class=\"word\">the</span><span class=\"word\" style=\"color: #ffd92f;\">chancellor</span><span class=\"word\">'s</span><span class=\"word\" style=\"color: #fc8d62;\">failure</span><span class=\"word\">to</span><span class=\"word\" style=\"color: #a6d854;\">announce</span><span class=\"word\">any</span><span class=\"word\" style=\"color: #fc8d62;\">new</span><span class=\"word\" style=\"color: #ffd92f;\">policy</span><span class=\"word\" style=\"color: #66c2a5;\">measures</span><span class=\"word\">in</span><span class=\"word\">his</span><span class=\"word\">mansion</span><span class=\"word\" style=\"color: #b3b3b3;\">house</span><span class=\"word\" style=\"color: #ffd92f;\">speech</span><span class=\"word\">last</span><span class=\"word\">thursday</span><span class=\"word\">.</span></body></html>"
            ]
          },
          "metadata": {}
        },
        {
          "output_type": "stream",
          "name": "stdout",
          "text": [
            "Document 4\n"
          ]
        },
        {
          "output_type": "display_data",
          "data": {
            "text/plain": [
              "<IPython.core.display.HTML object>"
            ],
            "text/html": [
              "<html><head><style>body {font-family: Arial, sans-serif;} .word {padding: 2px; margin: 2px; display: inline-block;} </style></head><body><span class=\"word\">this</span><span class=\"word\">has</span><span class=\"word\" style=\"color: #e5c494;\">increased</span><span class=\"word\">the</span><span class=\"word\" style=\"color: #a6d854;\">risk</span><span class=\"word\">of</span><span class=\"word\">the</span><span class=\"word\" style=\"color: #b3b3b3;\">government</span><span class=\"word\" style=\"color: #8da0cb;\">being</span><span class=\"word\" style=\"color: #e5c494;\">forced</span><span class=\"word\">to</span><span class=\"word\" style=\"color: #b3b3b3;\">increase</span><span class=\"word\" style=\"color: #ffd92f;\">base</span><span class=\"word\" style=\"color: #ffd92f;\">rates</span><span class=\"word\">to</span><span class=\"word\">16</span><span class=\"word\">%</span><span class=\"word\">from</span><span class=\"word\">their</span><span class=\"word\" style=\"color: #8da0cb;\">current</span><span class=\"word\">15</span><span class=\"word\">%</span><span class=\"word\" style=\"color: #ffd92f;\">level</span><span class=\"word\">to</span><span class=\"word\">defend</span><span class=\"word\">the</span><span class=\"word\" style=\"color: #ffd92f;\">pound</span><span class=\"word\">,</span><span class=\"word\" style=\"color: #e78ac3;\">economists</span><span class=\"word\">and</span><span class=\"word\" style=\"color: #66c2a5;\">foreign</span><span class=\"word\" style=\"color: #fc8d62;\">exchange</span><span class=\"word\" style=\"color: #a6d854;\">market</span><span class=\"word\" style=\"color: #66c2a5;\">analysts</span><span class=\"word\" style=\"color: #e78ac3;\">say</span><span class=\"word\">.</span></body></html>"
            ]
          },
          "metadata": {}
        },
        {
          "output_type": "stream",
          "name": "stdout",
          "text": [
            "Document 5\n"
          ]
        },
        {
          "output_type": "display_data",
          "data": {
            "text/plain": [
              "<IPython.core.display.HTML object>"
            ],
            "text/html": [
              "<html><head><style>body {font-family: Arial, sans-serif;} .word {padding: 2px; margin: 2px; display: inline-block;} </style></head><body><span class=\"word\">``</span><span class=\"word\">the</span><span class=\"word\" style=\"color: #b3b3b3;\">risks</span><span class=\"word\">for</span><span class=\"word\" style=\"color: #ffd92f;\">sterling</span><span class=\"word\">of</span><span class=\"word\">a</span><span class=\"word\" style=\"color: #66c2a5;\">bad</span><span class=\"word\" style=\"color: #8da0cb;\">trade</span><span class=\"word\" style=\"color: #b3b3b3;\">figure</span><span class=\"word\">are</span><span class=\"word\">very</span><span class=\"word\" style=\"color: #8da0cb;\">heavily</span><span class=\"word\">on</span><span class=\"word\">the</span><span class=\"word\" style=\"color: #e78ac3;\">down</span><span class=\"word\" style=\"color: #b3b3b3;\">side</span><span class=\"word\">,</span><span class=\"word\">''</span><span class=\"word\">said</span><span class=\"word\">chris</span><span class=\"word\">dillow</span><span class=\"word\">,</span><span class=\"word\" style=\"color: #66c2a5;\">senior</span><span class=\"word\">u.k.</span><span class=\"word\" style=\"color: #a6d854;\">economist</span><span class=\"word\">at</span><span class=\"word\">nomura</span><span class=\"word\" style=\"color: #b3b3b3;\">research</span><span class=\"word\" style=\"color: #66c2a5;\">institute</span><span class=\"word\">.</span></body></html>"
            ]
          },
          "metadata": {}
        },
        {
          "output_type": "stream",
          "name": "stdout",
          "text": [
            "Document 6\n"
          ]
        },
        {
          "output_type": "display_data",
          "data": {
            "text/plain": [
              "<IPython.core.display.HTML object>"
            ],
            "text/html": [
              "<html><head><style>body {font-family: Arial, sans-serif;} .word {padding: 2px; margin: 2px; display: inline-block;} </style></head><body><span class=\"word\">``</span><span class=\"word\">if</span><span class=\"word\">there</span><span class=\"word\">is</span><span class=\"word\">another</span><span class=\"word\" style=\"color: #66c2a5;\">bad</span><span class=\"word\" style=\"color: #8da0cb;\">trade</span><span class=\"word\" style=\"color: #66c2a5;\">number</span><span class=\"word\">,</span><span class=\"word\">there</span><span class=\"word\">could</span><span class=\"word\">be</span><span class=\"word\">an</span><span class=\"word\">awful</span><span class=\"word\" style=\"color: #e78ac3;\">lot</span><span class=\"word\">of</span><span class=\"word\" style=\"color: #66c2a5;\">pressure</span><span class=\"word\">,</span><span class=\"word\">''</span><span class=\"word\" style=\"color: #66c2a5;\">noted</span><span class=\"word\">simon</span><span class=\"word\">briscoe</span><span class=\"word\">,</span><span class=\"word\">u.k.</span><span class=\"word\" style=\"color: #a6d854;\">economist</span><span class=\"word\">for</span><span class=\"word\">midland</span><span class=\"word\">montagu</span><span class=\"word\">,</span><span class=\"word\">a</span><span class=\"word\" style=\"color: #66c2a5;\">unit</span><span class=\"word\">of</span><span class=\"word\">midland</span><span class=\"word\" style=\"color: #ffd92f;\">bank</span><span class=\"word\" style=\"color: #e5c494;\">plc</span><span class=\"word\">.</span></body></html>"
            ]
          },
          "metadata": {}
        },
        {
          "output_type": "stream",
          "name": "stdout",
          "text": [
            "Document 7\n"
          ]
        },
        {
          "output_type": "display_data",
          "data": {
            "text/plain": [
              "<IPython.core.display.HTML object>"
            ],
            "text/html": [
              "<html><head><style>body {font-family: Arial, sans-serif;} .word {padding: 2px; margin: 2px; display: inline-block;} </style></head><body><span class=\"word\" style=\"color: #66c2a5;\">forecasts</span><span class=\"word\">for</span><span class=\"word\">the</span><span class=\"word\" style=\"color: #8da0cb;\">trade</span><span class=\"word\" style=\"color: #ffd92f;\">figures</span><span class=\"word\" style=\"color: #8da0cb;\">range</span><span class=\"word\" style=\"color: #66c2a5;\">widely</span><span class=\"word\">,</span><span class=\"word\">but</span><span class=\"word\">few</span><span class=\"word\" style=\"color: #e78ac3;\">economists</span><span class=\"word\" style=\"color: #ffd92f;\">expect</span><span class=\"word\">the</span><span class=\"word\" style=\"color: #66c2a5;\">data</span><span class=\"word\">to</span><span class=\"word\" style=\"color: #8da0cb;\">show</span><span class=\"word\">a</span><span class=\"word\">very</span><span class=\"word\">marked</span><span class=\"word\" style=\"color: #fc8d62;\">improvement</span><span class=\"word\">from</span><span class=\"word\">the</span><span class=\"word\">#</span><span class=\"word\">2</span><span class=\"word\" style=\"color: #e5c494;\">billion</span><span class=\"word\">-lrb-</span><span class=\"word\">$</span><span class=\"word\">3.2</span><span class=\"word\" style=\"color: #e5c494;\">billion</span><span class=\"word\">-rrb-</span><span class=\"word\" style=\"color: #8da0cb;\">deficit</span><span class=\"word\">in</span><span class=\"word\">the</span><span class=\"word\" style=\"color: #8da0cb;\">current</span><span class=\"word\" style=\"color: #fc8d62;\">account</span><span class=\"word\" style=\"color: #e5c494;\">reported</span><span class=\"word\">for</span><span class=\"word\" style=\"color: #fc8d62;\">august</span><span class=\"word\">.</span></body></html>"
            ]
          },
          "metadata": {}
        },
        {
          "output_type": "stream",
          "name": "stdout",
          "text": [
            "Document 8\n"
          ]
        },
        {
          "output_type": "display_data",
          "data": {
            "text/plain": [
              "<IPython.core.display.HTML object>"
            ],
            "text/html": [
              "<html><head><style>body {font-family: Arial, sans-serif;} .word {padding: 2px; margin: 2px; display: inline-block;} </style></head><body><span class=\"word\">the</span><span class=\"word\" style=\"color: #fc8d62;\">august</span><span class=\"word\" style=\"color: #8da0cb;\">deficit</span><span class=\"word\">and</span><span class=\"word\">the</span><span class=\"word\">#</span><span class=\"word\">2.2</span><span class=\"word\" style=\"color: #e5c494;\">billion</span><span class=\"word\" style=\"color: #66c2a5;\">gap</span><span class=\"word\" style=\"color: #66c2a5;\">registered</span><span class=\"word\">in</span><span class=\"word\" style=\"color: #fc8d62;\">july</span><span class=\"word\">are</span><span class=\"word\">topped</span><span class=\"word\">only</span><span class=\"word\">by</span><span class=\"word\">the</span><span class=\"word\">#</span><span class=\"word\">2.3</span><span class=\"word\" style=\"color: #e5c494;\">billion</span><span class=\"word\" style=\"color: #8da0cb;\">deficit</span><span class=\"word\">of</span><span class=\"word\" style=\"color: #a6d854;\">october</span><span class=\"word\">1988</span><span class=\"word\">.</span></body></html>"
            ]
          },
          "metadata": {}
        },
        {
          "output_type": "stream",
          "name": "stdout",
          "text": [
            "Document 9\n"
          ]
        },
        {
          "output_type": "display_data",
          "data": {
            "text/plain": [
              "<IPython.core.display.HTML object>"
            ],
            "text/html": [
              "<html><head><style>body {font-family: Arial, sans-serif;} .word {padding: 2px; margin: 2px; display: inline-block;} </style></head><body><span class=\"word\">sanjay</span><span class=\"word\">joshi</span><span class=\"word\">,</span><span class=\"word\" style=\"color: #e5c494;\">european</span><span class=\"word\" style=\"color: #a6d854;\">economist</span><span class=\"word\">at</span><span class=\"word\">baring</span><span class=\"word\" style=\"color: #a6d854;\">brothers</span><span class=\"word\">&</span><span class=\"word\">co.</span><span class=\"word\">,</span><span class=\"word\">said</span><span class=\"word\">there</span><span class=\"word\">is</span><span class=\"word\">no</span><span class=\"word\" style=\"color: #e78ac3;\">sign</span><span class=\"word\">that</span><span class=\"word\" style=\"color: #66c2a5;\">britain</span><span class=\"word\">'s</span><span class=\"word\" style=\"color: #e78ac3;\">manufacturing</span><span class=\"word\" style=\"color: #a6d854;\">industry</span><span class=\"word\">is</span><span class=\"word\">transforming</span><span class=\"word\" style=\"color: #ffd92f;\">itself</span><span class=\"word\">to</span><span class=\"word\" style=\"color: #e78ac3;\">boost</span><span class=\"word\" style=\"color: #e5c494;\">exports</span><span class=\"word\">.</span></body></html>"
            ]
          },
          "metadata": {}
        },
        {
          "output_type": "stream",
          "name": "stdout",
          "text": [
            "Document 10\n"
          ]
        },
        {
          "output_type": "display_data",
          "data": {
            "text/plain": [
              "<IPython.core.display.HTML object>"
            ],
            "text/html": [
              "<html><head><style>body {font-family: Arial, sans-serif;} .word {padding: 2px; margin: 2px; display: inline-block;} </style></head><body><span class=\"word\">at</span><span class=\"word\">the</span><span class=\"word\" style=\"color: #8da0cb;\">same</span><span class=\"word\" style=\"color: #e78ac3;\">time</span><span class=\"word\">,</span><span class=\"word\">he</span><span class=\"word\" style=\"color: #66c2a5;\">remains</span><span class=\"word\" style=\"color: #e78ac3;\">fairly</span><span class=\"word\">pessimistic</span><span class=\"word\">about</span><span class=\"word\">the</span><span class=\"word\" style=\"color: #a6d854;\">outlook</span><span class=\"word\">for</span><span class=\"word\" style=\"color: #8da0cb;\">imports</span><span class=\"word\">,</span><span class=\"word\" style=\"color: #b3b3b3;\">given</span><span class=\"word\" style=\"color: #a6d854;\">continued</span><span class=\"word\" style=\"color: #b3b3b3;\">high</span><span class=\"word\" style=\"color: #a6d854;\">consumer</span><span class=\"word\">and</span><span class=\"word\" style=\"color: #a6d854;\">capital</span><span class=\"word\" style=\"color: #b3b3b3;\">goods</span><span class=\"word\">inflows</span><span class=\"word\">.</span></body></html>"
            ]
          },
          "metadata": {}
        },
        {
          "output_type": "stream",
          "name": "stdout",
          "text": [
            "Document 11\n"
          ]
        },
        {
          "output_type": "display_data",
          "data": {
            "text/plain": [
              "<IPython.core.display.HTML object>"
            ],
            "text/html": [
              "<html><head><style>body {font-family: Arial, sans-serif;} .word {padding: 2px; margin: 2px; display: inline-block;} </style></head><body><span class=\"word\">he</span><span class=\"word\">reckons</span><span class=\"word\">the</span><span class=\"word\" style=\"color: #8da0cb;\">current</span><span class=\"word\" style=\"color: #fc8d62;\">account</span><span class=\"word\" style=\"color: #8da0cb;\">deficit</span><span class=\"word\">will</span><span class=\"word\" style=\"color: #66c2a5;\">narrow</span><span class=\"word\">to</span><span class=\"word\">only</span><span class=\"word\">#</span><span class=\"word\">1.8</span><span class=\"word\" style=\"color: #e5c494;\">billion</span><span class=\"word\">in</span><span class=\"word\" style=\"color: #ffd92f;\">september</span><span class=\"word\">.</span></body></html>"
            ]
          },
          "metadata": {}
        },
        {
          "output_type": "stream",
          "name": "stdout",
          "text": [
            "Document 12\n"
          ]
        },
        {
          "output_type": "display_data",
          "data": {
            "text/plain": [
              "<IPython.core.display.HTML object>"
            ],
            "text/html": [
              "<html><head><style>body {font-family: Arial, sans-serif;} .word {padding: 2px; margin: 2px; display: inline-block;} </style></head><body><span class=\"word\">however</span><span class=\"word\">,</span><span class=\"word\">mr.</span><span class=\"word\">dillow</span><span class=\"word\">said</span><span class=\"word\">he</span><span class=\"word\" style=\"color: #8da0cb;\">believes</span><span class=\"word\">that</span><span class=\"word\">a</span><span class=\"word\" style=\"color: #b3b3b3;\">reduction</span><span class=\"word\">in</span><span class=\"word\">raw</span><span class=\"word\" style=\"color: #8da0cb;\">material</span><span class=\"word\">stockbuilding</span><span class=\"word\">by</span><span class=\"word\" style=\"color: #a6d854;\">industry</span><span class=\"word\">could</span><span class=\"word\" style=\"color: #e78ac3;\">lead</span><span class=\"word\">to</span><span class=\"word\">a</span><span class=\"word\" style=\"color: #a6d854;\">sharp</span><span class=\"word\" style=\"color: #a6d854;\">drop</span><span class=\"word\">in</span><span class=\"word\" style=\"color: #8da0cb;\">imports</span><span class=\"word\">.</span></body></html>"
            ]
          },
          "metadata": {}
        },
        {
          "output_type": "stream",
          "name": "stdout",
          "text": [
            "Document 13\n"
          ]
        },
        {
          "output_type": "display_data",
          "data": {
            "text/plain": [
              "<IPython.core.display.HTML object>"
            ],
            "text/html": [
              "<html><head><style>body {font-family: Arial, sans-serif;} .word {padding: 2px; margin: 2px; display: inline-block;} </style></head><body><span class=\"word\" style=\"color: #e5c494;\">combined</span><span class=\"word\">with</span><span class=\"word\">at</span><span class=\"word\" style=\"color: #b3b3b3;\">least</span><span class=\"word\">some</span><span class=\"word\" style=\"color: #fc8d62;\">rebound</span><span class=\"word\">in</span><span class=\"word\" style=\"color: #e5c494;\">exports</span><span class=\"word\">after</span><span class=\"word\" style=\"color: #fc8d62;\">august</span><span class=\"word\">'s</span><span class=\"word\">unexpected</span><span class=\"word\" style=\"color: #66c2a5;\">decline</span><span class=\"word\">,</span><span class=\"word\">the</span><span class=\"word\" style=\"color: #8da0cb;\">deficit</span><span class=\"word\">could</span><span class=\"word\" style=\"color: #66c2a5;\">narrow</span><span class=\"word\">to</span><span class=\"word\">as</span><span class=\"word\" style=\"color: #66c2a5;\">little</span><span class=\"word\">as</span><span class=\"word\">#</span><span class=\"word\">1.3</span><span class=\"word\" style=\"color: #e5c494;\">billion</span><span class=\"word\">.</span></body></html>"
            ]
          },
          "metadata": {}
        },
        {
          "output_type": "stream",
          "name": "stdout",
          "text": [
            "Document 14\n"
          ]
        },
        {
          "output_type": "display_data",
          "data": {
            "text/plain": [
              "<IPython.core.display.HTML object>"
            ],
            "text/html": [
              "<html><head><style>body {font-family: Arial, sans-serif;} .word {padding: 2px; margin: 2px; display: inline-block;} </style></head><body><span class=\"word\">mr.</span><span class=\"word\">briscoe</span><span class=\"word\">,</span><span class=\"word\">who</span><span class=\"word\">also</span><span class=\"word\" style=\"color: #66c2a5;\">forecasts</span><span class=\"word\">a</span><span class=\"word\">#</span><span class=\"word\">1.3</span><span class=\"word\" style=\"color: #e5c494;\">billion</span><span class=\"word\" style=\"color: #8da0cb;\">current</span><span class=\"word\" style=\"color: #fc8d62;\">account</span><span class=\"word\" style=\"color: #66c2a5;\">gap</span><span class=\"word\">,</span><span class=\"word\">warns</span><span class=\"word\">that</span><span class=\"word\">even</span><span class=\"word\">if</span><span class=\"word\">the</span><span class=\"word\" style=\"color: #8da0cb;\">trade</span><span class=\"word\" style=\"color: #ffd92f;\">figures</span><span class=\"word\">are</span><span class=\"word\" style=\"color: #e78ac3;\">bullish</span><span class=\"word\">for</span><span class=\"word\" style=\"color: #ffd92f;\">sterling</span><span class=\"word\">,</span><span class=\"word\">the</span><span class=\"word\" style=\"color: #66c2a5;\">currency</span><span class=\"word\" style=\"color: #b3b3b3;\">wo</span><span class=\"word\">n't</span><span class=\"word\" style=\"color: #b3b3b3;\">advance</span><span class=\"word\">much</span><span class=\"word\">because</span><span class=\"word\" style=\"color: #a6d854;\">investors</span><span class=\"word\">will</span><span class=\"word\" style=\"color: #b3b3b3;\">want</span><span class=\"word\">to</span><span class=\"word\" style=\"color: #8da0cb;\">see</span><span class=\"word\" style=\"color: #b3b3b3;\">further</span><span class=\"word\" style=\"color: #66c2a5;\">evidence</span><span class=\"word\">of</span><span class=\"word\">the</span><span class=\"word\" style=\"color: #e5c494;\">turnaround</span><span class=\"word\">before</span><span class=\"word\">adjusting</span><span class=\"word\" style=\"color: #8da0cb;\">positions</span><span class=\"word\">.</span></body></html>"
            ]
          },
          "metadata": {}
        },
        {
          "output_type": "stream",
          "name": "stdout",
          "text": [
            "Document 15\n"
          ]
        },
        {
          "output_type": "display_data",
          "data": {
            "text/plain": [
              "<IPython.core.display.HTML object>"
            ],
            "text/html": [
              "<html><head><style>body {font-family: Arial, sans-serif;} .word {padding: 2px; margin: 2px; display: inline-block;} </style></head><body><span class=\"word\" style=\"color: #66c2a5;\">nevertheless</span><span class=\"word\">,</span><span class=\"word\">he</span><span class=\"word\" style=\"color: #66c2a5;\">noted</span><span class=\"word\">,</span><span class=\"word\">``</span><span class=\"word\">no</span><span class=\"word\">one</span><span class=\"word\">will</span><span class=\"word\" style=\"color: #b3b3b3;\">want</span><span class=\"word\">to</span><span class=\"word\" style=\"color: #b3b3b3;\">go</span><span class=\"word\">into</span><span class=\"word\">the</span><span class=\"word\" style=\"color: #8da0cb;\">trade</span><span class=\"word\" style=\"color: #ffd92f;\">figures</span><span class=\"word\" style=\"color: #b3b3b3;\">without</span><span class=\"word\">a</span><span class=\"word\" style=\"color: #e5c494;\">flat</span><span class=\"word\" style=\"color: #e78ac3;\">position</span><span class=\"word\">''</span><span class=\"word\">in</span><span class=\"word\">the</span><span class=\"word\" style=\"color: #ffd92f;\">pound</span><span class=\"word\">.</span></body></html>"
            ]
          },
          "metadata": {}
        }
      ]
    }
  ]
}