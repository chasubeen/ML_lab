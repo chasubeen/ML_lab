{
  "nbformat": 4,
  "nbformat_minor": 0,
  "metadata": {
    "colab": {
      "provenance": [],
      "authorship_tag": "ABX9TyOpNa6HGbd6M66rBaRBfFS2",
      "include_colab_link": true
    },
    "kernelspec": {
      "name": "python3",
      "display_name": "Python 3"
    },
    "language_info": {
      "name": "python"
    }
  },
  "cells": [
    {
      "cell_type": "markdown",
      "metadata": {
        "id": "view-in-github",
        "colab_type": "text"
      },
      "source": [
        "<a href=\"https://colab.research.google.com/github/chasubeen/ML_lab/blob/main/3_HMM/3_HMM_BW.ipynb\" target=\"_parent\"><img src=\"https://colab.research.google.com/assets/colab-badge.svg\" alt=\"Open In Colab\"/></a>"
      ]
    },
    {
      "cell_type": "code",
      "source": [
        "import os\n",
        "import re\n",
        "import numpy as np\n",
        "import matplotlib.pyplot as plt"
      ],
      "metadata": {
        "id": "0c5QVs-_FwjX"
      },
      "execution_count": null,
      "outputs": []
    },
    {
      "cell_type": "markdown",
      "source": [
        "# **1. Preprocessing**"
      ],
      "metadata": {
        "id": "90ZRKh3dERdU"
      }
    },
    {
      "cell_type": "markdown",
      "source": [
        "## **1-1. Load data**\n",
        "- CoNLL-2000 file을 읽어와 word($\\mathbf x$)와 tag($\\mathbf z$) 처리"
      ],
      "metadata": {
        "id": "_Gx_9utFkNiN"
      }
    },
    {
      "cell_type": "code",
      "source": [
        "from google.colab import drive\n",
        "drive.mount('/content/drive')"
      ],
      "metadata": {
        "id": "cUa6BHK3j0_6",
        "colab": {
          "base_uri": "https://localhost:8080/"
        },
        "outputId": "a2ab1a43-9f87-4290-dc47-c8d6aec0a469"
      },
      "execution_count": null,
      "outputs": [
        {
          "output_type": "stream",
          "name": "stdout",
          "text": [
            "Drive already mounted at /content/drive; to attempt to forcibly remount, call drive.mount(\"/content/drive\", force_remount=True).\n"
          ]
        }
      ]
    },
    {
      "cell_type": "code",
      "source": [
        "# data path\n",
        "\n",
        "train_path = \"/content/drive/MyDrive/ML_lab/3_HMM/data/train.txt\"\n",
        "test_path = \"/content/drive/MyDrive/ML_lab/3_HMM/data/test.txt\""
      ],
      "metadata": {
        "id": "TfZ8ZwHjjw6t"
      },
      "execution_count": null,
      "outputs": []
    },
    {
      "cell_type": "code",
      "source": [
        "### Read file\n",
        "\n",
        "def read_file(path):\n",
        "  raw = open(path, 'r').read().strip().split('\\n\\n')  # 빈 줄로 구분된 각 문장 처리\n",
        "  words, tags = [], []\n",
        "\n",
        "  for sentence in raw:\n",
        "    lines = sentence.strip().split('\\n')  # 문장 내의 각 라인(단어) 처리\n",
        "    for line in lines:\n",
        "      parts = line.split()  # 열 분할\n",
        "\n",
        "      if len(parts) == 3:\n",
        "        word, pos, chunk = parts\n",
        "        words.append(word.lower())  # 소문자로 변환\n",
        "        tags.append(pos)\n",
        "\n",
        "    # 문장의 끝이라면(단어가 없다면) EOS 태그 추가\n",
        "    if words:\n",
        "      words.append('eos')\n",
        "      tags.append('<EOS>')\n",
        "\n",
        "  return words, tags"
      ],
      "metadata": {
        "id": "yLrEXl2J0qSU"
      },
      "execution_count": null,
      "outputs": []
    },
    {
      "cell_type": "code",
      "source": [
        "train_words, train_tags = read_file(train_path)\n",
        "test_words, test_tags = read_file(test_path)"
      ],
      "metadata": {
        "id": "gtY4NX2UJ9wP"
      },
      "execution_count": null,
      "outputs": []
    },
    {
      "cell_type": "markdown",
      "source": [
        "## **1-2. Preprocess Data**"
      ],
      "metadata": {
        "id": "BkJqEkdx3zsO"
      }
    },
    {
      "cell_type": "markdown",
      "source": [
        "### **a) 특수 문자 처리**\n",
        "- 숫자 태그를 'NUM'으로 변경\n",
        "- 빈 문자열 제거"
      ],
      "metadata": {
        "id": "7PYmlGNBfy6X"
      }
    },
    {
      "cell_type": "code",
      "source": [
        "def preprocessing(words, tags):\n",
        "  processed_words = []\n",
        "  processed_tags = []\n",
        "\n",
        "  for word, tag in zip(words, tags):\n",
        "\n",
        "    # 모든 숫자의 tag는 'NUM'으로 대체\n",
        "    if re.match(r'^[0-9]*$', word):\n",
        "      tag = 'NUM'\n",
        "\n",
        "    # 빈 문자열이 아닌 경우에만 추가\n",
        "    if word.strip():\n",
        "      processed_words.append(word.lower())  # 소문자 변환\n",
        "      processed_tags.append(tag)\n",
        "\n",
        "  return processed_words, processed_tags"
      ],
      "metadata": {
        "id": "2A5prIu3f6G2"
      },
      "execution_count": null,
      "outputs": []
    },
    {
      "cell_type": "code",
      "source": [
        "train_words, train_tags = preprocessing(train_words, train_tags)\n",
        "test_words, test_tags = preprocessing(test_words, test_tags)"
      ],
      "metadata": {
        "id": "BQD1CU3HgQaS"
      },
      "execution_count": null,
      "outputs": []
    },
    {
      "cell_type": "markdown",
      "source": [
        "### **b) POS Tag 통합**\n",
        "- 영어의 대표적인 **8품사(+ 접속사, 숫자)**만 남기고, 나머지는 기타로 처리"
      ],
      "metadata": {
        "id": "3RLlPdyogbSA"
      }
    },
    {
      "cell_type": "code",
      "source": [
        "def modify_tags(tags):\n",
        "  modified_tags = []\n",
        "\n",
        "  for tag in tags:\n",
        "    if tag in ['NN', 'NNS', 'NNP', 'NNPS']:\n",
        "      modified_tags.append('N')\n",
        "\n",
        "    elif tag in ['VB', 'VBD', 'VBG', 'VBN', 'VBP', 'VBZ']:\n",
        "      modified_tags.append('V')\n",
        "\n",
        "    elif tag in ['PRP', 'PRP$']:\n",
        "      modified_tags.append('PN')\n",
        "\n",
        "    elif tag in ['IN']:\n",
        "      modified_tags.append('PP')\n",
        "\n",
        "    elif tag in ['RB', 'RBR', 'RBS', 'WRB']:\n",
        "      modified_tags.append('AD')\n",
        "\n",
        "    elif tag in ['CC']:\n",
        "      modified_tags.append('CONJ')\n",
        "\n",
        "    elif tag in ['DT', 'PDT']:\n",
        "      modified_tags.append('ART')\n",
        "\n",
        "    elif tag in ['JJ', 'JJR', 'JJS']:\n",
        "      modified_tags.append('AdJ')\n",
        "\n",
        "    elif tag in ['NUM']:\n",
        "      modified_tags.append('NUM')\n",
        "    elif tag in ['<EOS>']:\n",
        "      modified_tags.append('<EOS>')\n",
        "    else:\n",
        "      modified_tags.append('ETC')\n",
        "\n",
        "  return modified_tags"
      ],
      "metadata": {
        "id": "IKYQMZudgjor"
      },
      "execution_count": null,
      "outputs": []
    },
    {
      "cell_type": "code",
      "source": [
        "train_tags = modify_tags(train_tags)\n",
        "test_tags = modify_tags(test_tags)"
      ],
      "metadata": {
        "id": "KPe5fAKwg2rM"
      },
      "execution_count": null,
      "outputs": []
    },
    {
      "cell_type": "code",
      "source": [
        "print(len(set(train_tags)))\n",
        "print(len(set(test_tags)))"
      ],
      "metadata": {
        "colab": {
          "base_uri": "https://localhost:8080/"
        },
        "id": "zeSrgZXlaMgY",
        "outputId": "a2b5dfe0-ef12-4f3a-cc58-82e5203bb97a"
      },
      "execution_count": null,
      "outputs": [
        {
          "output_type": "stream",
          "name": "stdout",
          "text": [
            "11\n",
            "11\n"
          ]
        }
      ]
    },
    {
      "cell_type": "code",
      "source": [
        "set(train_tags)"
      ],
      "metadata": {
        "colab": {
          "base_uri": "https://localhost:8080/"
        },
        "id": "AmwW6a3p-0rq",
        "outputId": "7808d430-8fb2-45ee-d1af-1283aa337866"
      },
      "execution_count": null,
      "outputs": [
        {
          "output_type": "execute_result",
          "data": {
            "text/plain": [
              "{'<EOS>', 'AD', 'ART', 'AdJ', 'CONJ', 'ETC', 'N', 'NUM', 'PN', 'PP', 'V'}"
            ]
          },
          "metadata": {},
          "execution_count": 11
        }
      ]
    },
    {
      "cell_type": "markdown",
      "source": [
        "> **11**개의 tag(품사)로 잘 정리된 것을 확인할 수 있다."
      ],
      "metadata": {
        "id": "JsGSEZaSbfaa"
      }
    },
    {
      "cell_type": "markdown",
      "source": [
        "### **c) 단어 사전 생성**\n",
        "- 태그와 단어들을 인덱스로 매핑하는 사전 생성"
      ],
      "metadata": {
        "id": "wXFMcgL1qkhb"
      }
    },
    {
      "cell_type": "code",
      "source": [
        "def make_dict(tags, words):\n",
        "  tag_to_index = {tag: idx for idx, tag in enumerate(set(tags))}\n",
        "  word_to_index = {word: idx for idx, word in enumerate(set(words))}\n",
        "  return tag_to_index, word_to_index"
      ],
      "metadata": {
        "id": "6S5GSVY8W2Bk"
      },
      "execution_count": null,
      "outputs": []
    },
    {
      "cell_type": "code",
      "source": [
        "tag_to_index, vocab_to_index = make_dict(train_tags, train_words)"
      ],
      "metadata": {
        "id": "RrtSlN6qXChV"
      },
      "execution_count": null,
      "outputs": []
    },
    {
      "cell_type": "code",
      "source": [
        "tag_to_index"
      ],
      "metadata": {
        "colab": {
          "base_uri": "https://localhost:8080/"
        },
        "id": "KjQnL0Zn-2VP",
        "outputId": "15db56ed-dadc-41b3-b4ba-139080a5e0fe"
      },
      "execution_count": null,
      "outputs": [
        {
          "output_type": "execute_result",
          "data": {
            "text/plain": [
              "{'AD': 0,\n",
              " 'CONJ': 1,\n",
              " 'PP': 2,\n",
              " 'V': 3,\n",
              " 'AdJ': 4,\n",
              " '<EOS>': 5,\n",
              " 'PN': 6,\n",
              " 'NUM': 7,\n",
              " 'ART': 8,\n",
              " 'N': 9,\n",
              " 'ETC': 10}"
            ]
          },
          "metadata": {},
          "execution_count": 14
        }
      ]
    },
    {
      "cell_type": "code",
      "source": [
        "# UNK(Unknown) 추가\n",
        "vocab_to_index['UNK'] = len(vocab_to_index)"
      ],
      "metadata": {
        "id": "w8mlZByQXEwx"
      },
      "execution_count": null,
      "outputs": []
    },
    {
      "cell_type": "markdown",
      "source": [
        "### **d) index 변환**"
      ],
      "metadata": {
        "id": "eDANFZv6-umk"
      }
    },
    {
      "cell_type": "code",
      "source": [
        "def to_indices(objs, obj_to_idx):\n",
        "  return [obj_to_idx.get(obj, obj_to_idx['UNK']) for obj in objs]"
      ],
      "metadata": {
        "id": "CG12CcIzt8fJ"
      },
      "execution_count": null,
      "outputs": []
    },
    {
      "cell_type": "code",
      "source": [
        "train_data_idx = to_indices(train_words, vocab_to_index)\n",
        "train_tag_idx = [tag_to_index[tag] for tag in train_tags]"
      ],
      "metadata": {
        "id": "Hkc5WtCbuDor"
      },
      "execution_count": null,
      "outputs": []
    },
    {
      "cell_type": "code",
      "source": [
        "test_data_idx = to_indices(test_words, vocab_to_index)\n",
        "test_tag_idx = [tag_to_index[tag] for tag in test_tags]"
      ],
      "metadata": {
        "id": "YdgsgdbVuEpN"
      },
      "execution_count": null,
      "outputs": []
    },
    {
      "cell_type": "markdown",
      "source": [
        "## **1-3. 최종 데이터 확인**"
      ],
      "metadata": {
        "id": "QdxBUoO4lUSL"
      }
    },
    {
      "cell_type": "code",
      "source": [
        "print(train_tags[:40])\n",
        "print()\n",
        "print(train_words[:40])"
      ],
      "metadata": {
        "id": "NOnADvaClXam",
        "colab": {
          "base_uri": "https://localhost:8080/"
        },
        "outputId": "6381136c-0a85-46a9-b0d0-4cf424ae234c"
      },
      "execution_count": null,
      "outputs": [
        {
          "output_type": "stream",
          "name": "stdout",
          "text": [
            "['N', 'PP', 'ART', 'N', 'V', 'AD', 'V', 'ETC', 'V', 'ART', 'AdJ', 'N', 'PP', 'N', 'N', 'PP', 'N', 'ETC', 'AdJ', 'PP', 'N', 'N', 'ETC', 'V', 'ETC', 'V', 'ART', 'AdJ', 'N', 'PP', 'N', 'CONJ', 'N', 'ETC', 'AdJ', 'N', 'ETC', '<EOS>', 'N', 'PP']\n",
            "\n",
            "['confidence', 'in', 'the', 'pound', 'is', 'widely', 'expected', 'to', 'take', 'another', 'sharp', 'dive', 'if', 'trade', 'figures', 'for', 'september', ',', 'due', 'for', 'release', 'tomorrow', ',', 'fail', 'to', 'show', 'a', 'substantial', 'improvement', 'from', 'july', 'and', 'august', \"'s\", 'near-record', 'deficits', '.', 'eos', 'chancellor', 'of']\n"
          ]
        }
      ]
    },
    {
      "cell_type": "markdown",
      "source": [
        "# **2. Modeling**"
      ],
      "metadata": {
        "id": "cV6sazzpM5zx"
      }
    },
    {
      "cell_type": "code",
      "source": [
        "class HMM_BaumWelch:\n",
        "  def __init__(self, n_states, n_observations):\n",
        "    self.n_states = n_states\n",
        "    self.n_observations = n_observations\n",
        "\n",
        "    self.A = np.random.rand(n_states, n_states)\n",
        "    self.A /= self.A.sum(axis=1, keepdims=True)\n",
        "\n",
        "    self.B = np.random.rand(n_states, n_observations)\n",
        "    self.B /= self.B.sum(axis=1, keepdims=True)\n",
        "\n",
        "    self.pi = np.random.rand(n_states)\n",
        "    self.pi /= self.pi.sum()\n",
        "\n",
        "  def forward(self, observations):\n",
        "    T = len(observations)\n",
        "    alpha = np.zeros((T, self.n_states))\n",
        "\n",
        "    alpha[0] = self.pi * self.B[:, observations[0]]\n",
        "    alpha[0] /= alpha[0].sum()\n",
        "\n",
        "    for t in range(1, T):\n",
        "      for j in range(self.n_states):\n",
        "        alpha[t, j] = np.sum(alpha[t-1] * self.A[:, j]) * self.B[j, observations[t]]\n",
        "      alpha[t] /= alpha[t].sum()\n",
        "\n",
        "    return alpha\n",
        "\n",
        "  def backward(self, observations):\n",
        "    T = len(observations)\n",
        "    beta = np.zeros((T, self.n_states))\n",
        "\n",
        "    beta[T-1] = 1\n",
        "\n",
        "    for t in range(T-2, -1, -1):\n",
        "      for i in range(self.n_states):\n",
        "        beta[t, i] = np.sum(self.A[i] * self.B[:, observations[t+1]] * beta[t+1])\n",
        "      beta[t] /= beta[t].sum()\n",
        "\n",
        "    return beta\n",
        "\n",
        "  def calculate_gamma(self, alpha, beta):\n",
        "    gamma = alpha * beta\n",
        "    gamma /= gamma.sum(axis=1, keepdims=True)\n",
        "    return gamma\n",
        "\n",
        "  def calculate_xi(self, observations, alpha, beta):\n",
        "    T = len(observations)\n",
        "    xi = np.zeros((T-1, self.n_states, self.n_states))\n",
        "\n",
        "    for t in range(T-1):\n",
        "      denominator = np.sum(alpha[t] * self.A * self.B[:, observations[t+1]] * beta[t+1])\n",
        "      if denominator == 0:\n",
        "        denominator = 1e-10  # 수치적 안정성을 위해 작은 값 사용\n",
        "      for i in range(self.n_states):\n",
        "        numerator = alpha[t, i] * self.A[i] * self.B[:, observations[t+1]] * beta[t+1]\n",
        "        xi[t, i] = numerator / denominator\n",
        "\n",
        "    return xi\n",
        "\n",
        "  def e_step(self, observations):\n",
        "    alpha = self.forward(observations)\n",
        "    beta = self.backward(observations)\n",
        "    gamma = self.calculate_gamma(alpha, beta)\n",
        "    xi = self.calculate_xi(observations, alpha, beta)\n",
        "    return gamma, xi\n",
        "\n",
        "  def m_step(self, observations, gamma, xi):\n",
        "    self.pi = gamma[0]\n",
        "    self.A = np.sum(xi, axis=0) / np.sum(gamma[:-1], axis=0, keepdims=True)\n",
        "\n",
        "    for k in range(self.n_observations):\n",
        "      mask = (np.array(observations) == k)\n",
        "      if mask.sum() == 0:\n",
        "        self.B[:, k] = 1e-10  # 수치적 안정성을 위해 매우 작은 값을 부여\n",
        "      else:\n",
        "        self.B[:, k] = np.sum(gamma[mask], axis=0) / np.sum(gamma, axis=0)\n",
        "\n",
        "  def fit(self, X, max_iter=100, patience=5, tol=1e-10):\n",
        "    prev_log_likelihood = -np.inf\n",
        "    cnt = 0\n",
        "    log_likelihoods = []  # log-likelihood 저장\n",
        "\n",
        "    for iteration in range(max_iter):\n",
        "      gamma, xi = self.e_step(X)  # E-step\n",
        "      self.m_step(X, gamma, xi)  # M-step\n",
        "\n",
        "      # log-likelihood 계산\n",
        "      alpha = self.forward(X)\n",
        "      log_likelihood = np.sum(np.log(np.sum(alpha[-1])))\n",
        "      log_likelihoods.append(log_likelihood)\n",
        "      print(f\"Iteration {iteration + 1}: Log Likelihood = {log_likelihood:.4f}\")\n",
        "\n",
        "      if (log_likelihood - prev_log_likelihood) < tol:\n",
        "        cnt += 1\n",
        "      else:\n",
        "        cnt = 0\n",
        "\n",
        "      if cnt >= patience:\n",
        "        print(f\"Early stopping -- Iteration {iteration + 1}\")\n",
        "        break\n",
        "\n",
        "      prev_log_likelihood = log_likelihood\n",
        "\n",
        "    return log_likelihoods\n",
        "\n",
        "  def predict(self, observations):\n",
        "    alpha = self.forward(observations)\n",
        "    return alpha.argmax(axis=1)\n",
        "\n",
        "  def accuracy(self, predictions, true_states):\n",
        "    return np.mean(predictions == true_states)"
      ],
      "metadata": {
        "id": "X1Dx8Ck0M6VY"
      },
      "execution_count": null,
      "outputs": []
    },
    {
      "cell_type": "markdown",
      "source": [
        "# **3. Training**"
      ],
      "metadata": {
        "id": "kAdxJvxLkav6"
      }
    },
    {
      "cell_type": "code",
      "source": [
        "num_states = len(tag_to_index)\n",
        "vocab_size = len(vocab_to_index) # 가능한 전체 단어의 경우의 수"
      ],
      "metadata": {
        "id": "fEqaXqPquzpE"
      },
      "execution_count": null,
      "outputs": []
    },
    {
      "cell_type": "code",
      "source": [
        "model = HMM_BaumWelch(n_states=num_states, n_observations=vocab_size)\n",
        "log_likelihoods = model.fit(train_data_idx, max_iter=100, patience=5, tol=1e-10)"
      ],
      "metadata": {
        "id": "zA8skjDuXrVr",
        "colab": {
          "base_uri": "https://localhost:8080/"
        },
        "outputId": "37c824a9-7f0b-4ad9-a3a3-9fefb4780ad3"
      },
      "execution_count": null,
      "outputs": [
        {
          "output_type": "stream",
          "name": "stdout",
          "text": [
            "Iteration 1: Log Likelihood = -0.0000\n",
            "Iteration 2: Log Likelihood = 0.0000\n",
            "Iteration 3: Log Likelihood = -0.0000\n",
            "Iteration 4: Log Likelihood = 0.0000\n",
            "Iteration 5: Log Likelihood = -0.0000\n",
            "Iteration 6: Log Likelihood = -0.0000\n",
            "Early stopping -- Iteration 6\n"
          ]
        }
      ]
    },
    {
      "cell_type": "code",
      "source": [
        "# log-likelihood 변화 시각화\n",
        "\n",
        "plt.plot(log_likelihoods)\n",
        "plt.xlabel('Iteration')\n",
        "plt.ylabel('Log-Likelihood')\n",
        "plt.show()"
      ],
      "metadata": {
        "id": "YY_NS7Op90bH",
        "colab": {
          "base_uri": "https://localhost:8080/",
          "height": 465
        },
        "outputId": "01485d81-a80b-4352-96ef-2c4b98499ed6"
      },
      "execution_count": null,
      "outputs": [
        {
          "output_type": "display_data",
          "data": {
            "text/plain": [
              "<Figure size 640x480 with 1 Axes>"
            ],
            "image/png": "[encoded data removed]"
          },
          "metadata": {}
        }
      ]
    },
    {
      "cell_type": "code",
      "source": [
        "train_pred_idx = model.predict(train_data_idx)\n",
        "train_accuracy = model.accuracy(train_pred_idx, train_tag_idx)\n",
        "print(f\"Train Accuracy: {train_accuracy:.4f}\")"
      ],
      "metadata": {
        "id": "t3ueMRalvUoy",
        "colab": {
          "base_uri": "https://localhost:8080/"
        },
        "outputId": "9b0440e0-37ed-445f-f79d-52a416b6c596"
      },
      "execution_count": null,
      "outputs": [
        {
          "output_type": "stream",
          "name": "stdout",
          "text": [
            "Train Accuracy: 0.1046\n"
          ]
        }
      ]
    },
    {
      "cell_type": "markdown",
      "source": [
        "# **4. Testing**"
      ],
      "metadata": {
        "id": "7Stw8cxCBKAP"
      }
    },
    {
      "cell_type": "code",
      "source": [
        "test_pred_idx = model.predict(test_data_idx)\n",
        "test_accuracy = model.accuracy(test_pred_idx, test_tag_idx)\n",
        "print(f\"Test Accuracy: {test_accuracy:.4f}\")"
      ],
      "metadata": {
        "id": "-07gHlNhvYnf",
        "colab": {
          "base_uri": "https://localhost:8080/"
        },
        "outputId": "a4768d69-9d52-407d-92f4-afd94a63ed2f"
      },
      "execution_count": null,
      "outputs": [
        {
          "output_type": "stream",
          "name": "stdout",
          "text": [
            "Test Accuracy: 0.1034\n"
          ]
        }
      ]
    },
    {
      "cell_type": "markdown",
      "source": [
        "# **5. Results**"
      ],
      "metadata": {
        "id": "Z097XxNtCAd7"
      }
    },
    {
      "cell_type": "code",
      "source": [
        "def compare_result(words, true_tags, pred_indices, tag_to_idx):\n",
        "  # 1. 인덱스를 태그 이름으로 변환\n",
        "  idx_to_tag = {idx: tag for tag, idx in tag_to_idx.items()}\n",
        "\n",
        "  # 2. 예측 결과 출력\n",
        "  for word, true_tag, pred_idx in zip(words, true_tags, pred_indices):\n",
        "    true_tag_label = true_tag if isinstance(true_tag, str) else idx_to_tag[true_tag]\n",
        "    pred_tag_label = idx_to_tag[pred_idx]\n",
        "    print(f\"Word: {word:15} True Tag: {true_tag_label:10} Pred Tag: {pred_tag_label:10}\")"
      ],
      "metadata": {
        "id": "kFOUd39PlEQQ"
      },
      "execution_count": null,
      "outputs": []
    },
    {
      "cell_type": "code",
      "source": [
        "compare_result(train_words[:20], train_tags[:20], train_pred_idx[:20], tag_to_index)"
      ],
      "metadata": {
        "id": "kPKjwoM0le7y",
        "colab": {
          "base_uri": "https://localhost:8080/"
        },
        "outputId": "8ed9a69f-4eaf-4bee-af62-06219a91528c"
      },
      "execution_count": null,
      "outputs": [
        {
          "output_type": "stream",
          "name": "stdout",
          "text": [
            "Word: confidence      True Tag: N          Pred Tag: AdJ       \n",
            "Word: in              True Tag: PP         Pred Tag: PN        \n",
            "Word: the             True Tag: ART        Pred Tag: N         \n",
            "Word: pound           True Tag: N          Pred Tag: PN        \n",
            "Word: is              True Tag: V          Pred Tag: N         \n",
            "Word: widely          True Tag: AD         Pred Tag: AD        \n",
            "Word: expected        True Tag: V          Pred Tag: CONJ      \n",
            "Word: to              True Tag: ETC        Pred Tag: N         \n",
            "Word: take            True Tag: V          Pred Tag: CONJ      \n",
            "Word: another         True Tag: ART        Pred Tag: NUM       \n",
            "Word: sharp           True Tag: AdJ        Pred Tag: ETC       \n",
            "Word: dive            True Tag: N          Pred Tag: PN        \n",
            "Word: if              True Tag: PP         Pred Tag: PP        \n",
            "Word: trade           True Tag: N          Pred Tag: PN        \n",
            "Word: figures         True Tag: N          Pred Tag: <EOS>     \n",
            "Word: for             True Tag: PP         Pred Tag: N         \n",
            "Word: september       True Tag: N          Pred Tag: ETC       \n",
            "Word: ,               True Tag: ETC        Pred Tag: N         \n",
            "Word: due             True Tag: AdJ        Pred Tag: PN        \n",
            "Word: for             True Tag: PP         Pred Tag: V         \n"
          ]
        }
      ]
    },
    {
      "cell_type": "code",
      "source": [
        "compare_result(test_words[:20], test_tags[:20], test_pred_idx[:20], tag_to_index)"
      ],
      "metadata": {
        "id": "r3TqdZmXBh_j",
        "colab": {
          "base_uri": "https://localhost:8080/"
        },
        "outputId": "d8df566c-3590-417b-f576-8bf4a6259115"
      },
      "execution_count": null,
      "outputs": [
        {
          "output_type": "stream",
          "name": "stdout",
          "text": [
            "Word: rockwell        True Tag: N          Pred Tag: AdJ       \n",
            "Word: international   True Tag: N          Pred Tag: PN        \n",
            "Word: corp.           True Tag: N          Pred Tag: PP        \n",
            "Word: 's              True Tag: ETC        Pred Tag: AD        \n",
            "Word: tulsa           True Tag: N          Pred Tag: CONJ      \n",
            "Word: unit            True Tag: N          Pred Tag: CONJ      \n",
            "Word: said            True Tag: V          Pred Tag: CONJ      \n",
            "Word: it              True Tag: PN         Pred Tag: AdJ       \n",
            "Word: signed          True Tag: V          Pred Tag: ETC       \n",
            "Word: a               True Tag: ART        Pred Tag: V         \n",
            "Word: tentative       True Tag: AdJ        Pred Tag: <EOS>     \n",
            "Word: agreement       True Tag: N          Pred Tag: AD        \n",
            "Word: extending       True Tag: V          Pred Tag: PN        \n",
            "Word: its             True Tag: PN         Pred Tag: N         \n",
            "Word: contract        True Tag: N          Pred Tag: <EOS>     \n",
            "Word: with            True Tag: PP         Pred Tag: NUM       \n",
            "Word: boeing          True Tag: N          Pred Tag: <EOS>     \n",
            "Word: co.             True Tag: N          Pred Tag: CONJ      \n",
            "Word: to              True Tag: ETC        Pred Tag: N         \n",
            "Word: provide         True Tag: V          Pred Tag: CONJ      \n"
          ]
        }
      ]
    },
    {
      "cell_type": "code",
      "source": [],
      "metadata": {
        "id": "KCNWqRLfOqf9"
      },
      "execution_count": null,
      "outputs": []
    }
  ]
}